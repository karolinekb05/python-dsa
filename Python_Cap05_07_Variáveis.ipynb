{
  "nbformat": 4,
  "nbformat_minor": 0,
  "metadata": {
    "colab": {
      "provenance": [],
      "authorship_tag": "ABX9TyMsQf7FzXxIWpQdFJMuf3XO"
    },
    "kernelspec": {
      "name": "python3",
      "display_name": "Python 3"
    },
    "language_info": {
      "name": "python"
    }
  },
  "cells": [
    {
      "cell_type": "markdown",
      "source": [
        "##Escopo de Variável - Local e Global\n",
        "\n",
        "Ao utilizar funções, é importante ter atenção ao escopo das variáveis. Diferencie os nomes de variáveis, principalmente entre as globais e locais, para evitar confusão.\n",
        "\n",
        "Global: variável que é definida no bloco principal do código\n",
        "\n",
        "Local: variável que é definida dentro de um sub-bloco que fica dentro do bloco principal"
      ],
      "metadata": {
        "id": "X-jw37s6sFQm"
      }
    },
    {
      "cell_type": "code",
      "source": [
        "# São variáveis diferentes, por mais que tenham o mesmo nome\n",
        "\n",
        "var_global = 5 # Esta é uma variável global\n",
        "\n",
        "# Função com variável local\n",
        "def mult_num(n1, n2):\n",
        "  var_global = n1 * n2 # Esta é uma variável local\n",
        "  print(var_global)"
      ],
      "metadata": {
        "id": "81iCIWFLsLXu"
      },
      "execution_count": 5,
      "outputs": []
    },
    {
      "cell_type": "code",
      "source": [
        "# Imprime a variável local (var_global)\n",
        "mult_num(2,7)"
      ],
      "metadata": {
        "colab": {
          "base_uri": "https://localhost:8080/"
        },
        "id": "6gj7bhMEted3",
        "outputId": "ce409641-cc63-4bef-e111-c19c498a92ef"
      },
      "execution_count": 3,
      "outputs": [
        {
          "output_type": "stream",
          "name": "stdout",
          "text": [
            "14\n"
          ]
        }
      ]
    },
    {
      "cell_type": "code",
      "source": [
        "# Imprimiu a variável global (var_global)\n",
        "print(var_global)"
      ],
      "metadata": {
        "colab": {
          "base_uri": "https://localhost:8080/"
        },
        "id": "LfI5-GMbteTq",
        "outputId": "b11a4394-6fd3-4e85-8301-fb7dc7eeb7ec"
      },
      "execution_count": 6,
      "outputs": [
        {
          "output_type": "stream",
          "name": "stdout",
          "text": [
            "5\n"
          ]
        }
      ]
    },
    {
      "cell_type": "code",
      "source": [
        "# Forma ideal de uso das variáveis\n",
        "# Variável global\n",
        "var_global = 3.2\n",
        "\n",
        "# Função com variável local\n",
        "def mult_num(n1, n2):\n",
        "  var_local = n1 * n2 # Esta é uma variável local\n",
        "  print(var_local)"
      ],
      "metadata": {
        "id": "hjx27w9zt6Wg"
      },
      "execution_count": 7,
      "outputs": []
    },
    {
      "cell_type": "code",
      "source": [
        "# Imprime a variável 'var_local'\n",
        "mult_num(10,4)"
      ],
      "metadata": {
        "colab": {
          "base_uri": "https://localhost:8080/"
        },
        "id": "q_pBUYlCuID-",
        "outputId": "2e7c302b-a4f7-4abb-983e-e935dc966064"
      },
      "execution_count": 8,
      "outputs": [
        {
          "output_type": "stream",
          "name": "stdout",
          "text": [
            "40\n"
          ]
        }
      ]
    },
    {
      "cell_type": "code",
      "source": [
        "# Erro porque a variável 'var_local' está definida dentro de um sub-bloco de código\n",
        "print(var_local)"
      ],
      "metadata": {
        "colab": {
          "base_uri": "https://localhost:8080/",
          "height": 141
        },
        "id": "nbNCDephuMXe",
        "outputId": "67661ce8-f371-48d1-a74e-1be13b6582d6"
      },
      "execution_count": 9,
      "outputs": [
        {
          "output_type": "error",
          "ename": "NameError",
          "evalue": "name 'var_local' is not defined",
          "traceback": [
            "\u001b[0;31m---------------------------------------------------------------------------\u001b[0m",
            "\u001b[0;31mNameError\u001b[0m                                 Traceback (most recent call last)",
            "\u001b[0;32m<ipython-input-9-0a9f1c3cecf1>\u001b[0m in \u001b[0;36m<cell line: 1>\u001b[0;34m()\u001b[0m\n\u001b[0;32m----> 1\u001b[0;31m \u001b[0mprint\u001b[0m\u001b[0;34m(\u001b[0m\u001b[0mvar_local\u001b[0m\u001b[0;34m)\u001b[0m\u001b[0;34m\u001b[0m\u001b[0;34m\u001b[0m\u001b[0m\n\u001b[0m",
            "\u001b[0;31mNameError\u001b[0m: name 'var_local' is not defined"
          ]
        }
      ]
    },
    {
      "cell_type": "markdown",
      "source": [
        "##Funções Built-In"
      ],
      "metadata": {
        "id": "7iGTqmeOv0XU"
      }
    }
  ]
}