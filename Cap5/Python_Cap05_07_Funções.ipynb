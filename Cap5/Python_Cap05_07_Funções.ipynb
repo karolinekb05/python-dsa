{
  "nbformat": 4,
  "nbformat_minor": 0,
  "metadata": {
    "colab": {
      "provenance": [],
      "name": "Python-Cap05-07-Funções.ipynb",
      "authorship_tag": "ABX9TyPRx/ojokH8+C6fQrEM29Bk"
    },
    "kernelspec": {
      "name": "python3",
      "display_name": "Python 3"
    },
    "language_info": {
      "name": "python"
    }
  },
  "cells": [
    {
      "cell_type": "markdown",
      "source": [
        "##Escopo de Variável - Local e Global\n",
        "\n",
        "Ao utilizar funções, é importante ter atenção ao escopo das variáveis. Diferencie os nomes de variáveis, principalmente entre as globais e locais, para evitar confusão.\n",
        "\n",
        "Global: variável que é definida no bloco principal do código\n",
        "\n",
        "Local: variável que é definida dentro de um sub-bloco que fica dentro do bloco principal"
      ],
      "metadata": {
        "id": "X-jw37s6sFQm"
      }
    },
    {
      "cell_type": "code",
      "source": [
        "# São variáveis diferentes, por mais que tenham o mesmo nome\n",
        "\n",
        "var_global = 5 # Esta é uma variável global\n",
        "\n",
        "# Função com variável local\n",
        "def mult_num(n1, n2):\n",
        "  var_global = n1 * n2 # Esta é uma variável local\n",
        "  print(var_global)"
      ],
      "metadata": {
        "id": "81iCIWFLsLXu"
      },
      "execution_count": null,
      "outputs": []
    },
    {
      "cell_type": "code",
      "source": [
        "# Imprime a variável local (var_global)\n",
        "mult_num(2,7)"
      ],
      "metadata": {
        "colab": {
          "base_uri": "https://localhost:8080/"
        },
        "id": "6gj7bhMEted3",
        "outputId": "ce409641-cc63-4bef-e111-c19c498a92ef"
      },
      "execution_count": null,
      "outputs": [
        {
          "output_type": "stream",
          "name": "stdout",
          "text": [
            "14\n"
          ]
        }
      ]
    },
    {
      "cell_type": "code",
      "source": [
        "# Imprimiu a variável global (var_global)\n",
        "print(var_global)"
      ],
      "metadata": {
        "colab": {
          "base_uri": "https://localhost:8080/"
        },
        "id": "LfI5-GMbteTq",
        "outputId": "b11a4394-6fd3-4e85-8301-fb7dc7eeb7ec"
      },
      "execution_count": null,
      "outputs": [
        {
          "output_type": "stream",
          "name": "stdout",
          "text": [
            "5\n"
          ]
        }
      ]
    },
    {
      "cell_type": "code",
      "source": [
        "# Forma ideal de uso das variáveis\n",
        "# Variável global\n",
        "var_global = 3.2\n",
        "\n",
        "# Função com variável local\n",
        "def mult_num(n1, n2):\n",
        "  var_local = n1 * n2 # Esta é uma variável local\n",
        "  print(var_local)"
      ],
      "metadata": {
        "id": "hjx27w9zt6Wg"
      },
      "execution_count": null,
      "outputs": []
    },
    {
      "cell_type": "code",
      "source": [
        "# Imprime a variável 'var_local'\n",
        "mult_num(10,4)"
      ],
      "metadata": {
        "colab": {
          "base_uri": "https://localhost:8080/"
        },
        "id": "q_pBUYlCuID-",
        "outputId": "2e7c302b-a4f7-4abb-983e-e935dc966064"
      },
      "execution_count": null,
      "outputs": [
        {
          "output_type": "stream",
          "name": "stdout",
          "text": [
            "40\n"
          ]
        }
      ]
    },
    {
      "cell_type": "code",
      "source": [
        "# Erro porque a variável 'var_local' está definida dentro de um sub-bloco de código\n",
        "print(var_local)"
      ],
      "metadata": {
        "colab": {
          "base_uri": "https://localhost:8080/",
          "height": 141
        },
        "id": "nbNCDephuMXe",
        "outputId": "67661ce8-f371-48d1-a74e-1be13b6582d6"
      },
      "execution_count": null,
      "outputs": [
        {
          "output_type": "error",
          "ename": "NameError",
          "evalue": "name 'var_local' is not defined",
          "traceback": [
            "\u001b[0;31m---------------------------------------------------------------------------\u001b[0m",
            "\u001b[0;31mNameError\u001b[0m                                 Traceback (most recent call last)",
            "\u001b[0;32m<ipython-input-9-0a9f1c3cecf1>\u001b[0m in \u001b[0;36m<cell line: 1>\u001b[0;34m()\u001b[0m\n\u001b[0;32m----> 1\u001b[0;31m \u001b[0mprint\u001b[0m\u001b[0;34m(\u001b[0m\u001b[0mvar_local\u001b[0m\u001b[0;34m)\u001b[0m\u001b[0;34m\u001b[0m\u001b[0;34m\u001b[0m\u001b[0m\n\u001b[0m",
            "\u001b[0;31mNameError\u001b[0m: name 'var_local' is not defined"
          ]
        }
      ]
    },
    {
      "cell_type": "markdown",
      "source": [
        "##Funções Built-In\n",
        "\n",
        "Antes de criar uma nova função, verifique se a solução não existe em alguma Built-In ou em algum pacote (documentação), busque em Inglês.\n",
        "\n",
        "Só crie uma função que já existe se precisar de algo específico, como uma validação, etc"
      ],
      "metadata": {
        "id": "7iGTqmeOv0XU"
      }
    },
    {
      "cell_type": "code",
      "source": [
        "# Valor absoluto\n",
        "abs(-20)"
      ],
      "metadata": {
        "colab": {
          "base_uri": "https://localhost:8080/"
        },
        "id": "w0_Hf6OCxA4-",
        "outputId": "e1268894-e901-426d-d8ae-3eea58c21948"
      },
      "execution_count": null,
      "outputs": [
        {
          "output_type": "execute_result",
          "data": {
            "text/plain": [
              "20"
            ]
          },
          "metadata": {},
          "execution_count": 10
        }
      ]
    },
    {
      "cell_type": "code",
      "source": [
        "abs(8)"
      ],
      "metadata": {
        "colab": {
          "base_uri": "https://localhost:8080/"
        },
        "id": "CLJNx4JZxZqi",
        "outputId": "39324bf3-df91-4716-e5c1-75b9b6f96a6c"
      },
      "execution_count": null,
      "outputs": [
        {
          "output_type": "execute_result",
          "data": {
            "text/plain": [
              "8"
            ]
          },
          "metadata": {},
          "execution_count": 11
        }
      ]
    },
    {
      "cell_type": "code",
      "source": [
        "bool(0)"
      ],
      "metadata": {
        "colab": {
          "base_uri": "https://localhost:8080/"
        },
        "id": "7-Tukv0RxcC-",
        "outputId": "a6ed79ae-3262-4d61-d532-9bc06367d315"
      },
      "execution_count": null,
      "outputs": [
        {
          "output_type": "execute_result",
          "data": {
            "text/plain": [
              "False"
            ]
          },
          "metadata": {},
          "execution_count": 12
        }
      ]
    },
    {
      "cell_type": "code",
      "source": [
        "bool(1)"
      ],
      "metadata": {
        "colab": {
          "base_uri": "https://localhost:8080/"
        },
        "id": "3crQboiPxh5G",
        "outputId": "30002a2e-d912-4bba-ef0e-190bed2a29fe"
      },
      "execution_count": null,
      "outputs": [
        {
          "output_type": "execute_result",
          "data": {
            "text/plain": [
              "True"
            ]
          },
          "metadata": {},
          "execution_count": 14
        }
      ]
    },
    {
      "cell_type": "code",
      "source": [
        "int(9.6)"
      ],
      "metadata": {
        "colab": {
          "base_uri": "https://localhost:8080/"
        },
        "id": "U_-9Mw8YxkRX",
        "outputId": "8c0b579c-7363-4954-9602-197fde15d6a2"
      },
      "execution_count": null,
      "outputs": [
        {
          "output_type": "execute_result",
          "data": {
            "text/plain": [
              "9"
            ]
          },
          "metadata": {},
          "execution_count": 13
        }
      ]
    },
    {
      "cell_type": "code",
      "source": [
        "str(12)"
      ],
      "metadata": {
        "colab": {
          "base_uri": "https://localhost:8080/",
          "height": 35
        },
        "id": "UYla0cEixnPv",
        "outputId": "e1f8be60-b5fe-4658-e482-285ac4954694"
      },
      "execution_count": null,
      "outputs": [
        {
          "output_type": "execute_result",
          "data": {
            "text/plain": [
              "'12'"
            ],
            "application/vnd.google.colaboratory.intrinsic+json": {
              "type": "string"
            }
          },
          "metadata": {},
          "execution_count": 15
        }
      ]
    },
    {
      "cell_type": "code",
      "source": [
        "float(1)"
      ],
      "metadata": {
        "colab": {
          "base_uri": "https://localhost:8080/"
        },
        "id": "_Wnj9twSxphT",
        "outputId": "22ecc85f-16e8-4d8e-f113-a3e560bcd502"
      },
      "execution_count": null,
      "outputs": [
        {
          "output_type": "execute_result",
          "data": {
            "text/plain": [
              "1.0"
            ]
          },
          "metadata": {},
          "execution_count": 16
        }
      ]
    },
    {
      "cell_type": "code",
      "source": [
        "# Converte para int se tiver número\n",
        "int('14')"
      ],
      "metadata": {
        "colab": {
          "base_uri": "https://localhost:8080/"
        },
        "id": "uBmkLYc6xsew",
        "outputId": "99fc3f03-4286-43c6-afae-560b3fabcc20"
      },
      "execution_count": null,
      "outputs": [
        {
          "output_type": "execute_result",
          "data": {
            "text/plain": [
              "14"
            ]
          },
          "metadata": {},
          "execution_count": 17
        }
      ]
    },
    {
      "cell_type": "code",
      "source": [
        "# Erro porque o input converte o valor recebido para string\n",
        "idade = input('Digite sua idade:')\n",
        "if idade > 18:\n",
        "  print('Você pode dirigir')\n",
        "else:\n",
        "  print('Você não pode dirigir')"
      ],
      "metadata": {
        "colab": {
          "base_uri": "https://localhost:8080/",
          "height": 228
        },
        "id": "7Z5ysPhWyQnq",
        "outputId": "9dbd4fbf-3a22-4c0c-c6ba-0158c729e71a"
      },
      "execution_count": null,
      "outputs": [
        {
          "name": "stdout",
          "output_type": "stream",
          "text": [
            "Digite sua idade:12\n"
          ]
        },
        {
          "output_type": "error",
          "ename": "TypeError",
          "evalue": "'>' not supported between instances of 'str' and 'int'",
          "traceback": [
            "\u001b[0;31m---------------------------------------------------------------------------\u001b[0m",
            "\u001b[0;31mTypeError\u001b[0m                                 Traceback (most recent call last)",
            "\u001b[0;32m<ipython-input-18-fb57dc93906b>\u001b[0m in \u001b[0;36m<cell line: 3>\u001b[0;34m()\u001b[0m\n\u001b[1;32m      1\u001b[0m \u001b[0;31m# Erro porque o input é uma string, não foi convertido para int, por mais que receba um número\u001b[0m\u001b[0;34m\u001b[0m\u001b[0;34m\u001b[0m\u001b[0m\n\u001b[1;32m      2\u001b[0m \u001b[0midade\u001b[0m \u001b[0;34m=\u001b[0m \u001b[0minput\u001b[0m\u001b[0;34m(\u001b[0m\u001b[0;34m'Digite sua idade:'\u001b[0m\u001b[0;34m)\u001b[0m\u001b[0;34m\u001b[0m\u001b[0;34m\u001b[0m\u001b[0m\n\u001b[0;32m----> 3\u001b[0;31m \u001b[0;32mif\u001b[0m \u001b[0midade\u001b[0m \u001b[0;34m>\u001b[0m \u001b[0;36m18\u001b[0m\u001b[0;34m:\u001b[0m\u001b[0;34m\u001b[0m\u001b[0;34m\u001b[0m\u001b[0m\n\u001b[0m\u001b[1;32m      4\u001b[0m   \u001b[0mprint\u001b[0m\u001b[0;34m(\u001b[0m\u001b[0;34m'Você pode dirigir'\u001b[0m\u001b[0;34m)\u001b[0m\u001b[0;34m\u001b[0m\u001b[0;34m\u001b[0m\u001b[0m\n\u001b[1;32m      5\u001b[0m \u001b[0;32melse\u001b[0m\u001b[0;34m:\u001b[0m\u001b[0;34m\u001b[0m\u001b[0;34m\u001b[0m\u001b[0m\n",
            "\u001b[0;31mTypeError\u001b[0m: '>' not supported between instances of 'str' and 'int'"
          ]
        }
      ]
    },
    {
      "cell_type": "code",
      "source": [
        "# Converte o valor recebido no input para int e armazena na variável 'idade'\n",
        "idade = int(input('Digite sua idade:'))\n",
        "if idade > 18:\n",
        "  print('Você pode dirigir')\n",
        "else:\n",
        "  print('Você não pode dirigir')"
      ],
      "metadata": {
        "colab": {
          "base_uri": "https://localhost:8080/"
        },
        "id": "j4JCTBWHzuBL",
        "outputId": "2791f939-0d48-4356-d69d-f39d1d3f7358"
      },
      "execution_count": null,
      "outputs": [
        {
          "output_type": "stream",
          "name": "stdout",
          "text": [
            "Digite sua idade:15\n",
            "Você não pode dirigir\n"
          ]
        }
      ]
    },
    {
      "cell_type": "code",
      "source": [
        "# Não é possível converter pois é uma string de números e letras\n",
        "float('123.4A29')"
      ],
      "metadata": {
        "colab": {
          "base_uri": "https://localhost:8080/",
          "height": 141
        },
        "id": "nOm2-cSL0Nva",
        "outputId": "60ee4c0b-37c0-4256-addc-54cb4f9bfe3e"
      },
      "execution_count": null,
      "outputs": [
        {
          "output_type": "error",
          "ename": "ValueError",
          "evalue": "could not convert string to float: '123.4A29'",
          "traceback": [
            "\u001b[0;31m---------------------------------------------------------------------------\u001b[0m",
            "\u001b[0;31mValueError\u001b[0m                                Traceback (most recent call last)",
            "\u001b[0;32m<ipython-input-19-cef1da8fcedf>\u001b[0m in \u001b[0;36m<cell line: 1>\u001b[0;34m()\u001b[0m\n\u001b[0;32m----> 1\u001b[0;31m \u001b[0mfloat\u001b[0m\u001b[0;34m(\u001b[0m\u001b[0;34m'123.4A29'\u001b[0m\u001b[0;34m)\u001b[0m\u001b[0;34m\u001b[0m\u001b[0;34m\u001b[0m\u001b[0m\n\u001b[0m",
            "\u001b[0;31mValueError\u001b[0m: could not convert string to float: '123.4A29'"
          ]
        }
      ]
    },
    {
      "cell_type": "code",
      "source": [
        "len([2,4,6,8]) # comprimento da lista"
      ],
      "metadata": {
        "colab": {
          "base_uri": "https://localhost:8080/"
        },
        "id": "nLh4S6S300wG",
        "outputId": "275f0eb0-b3f8-4747-ec09-aef4030c3fe3"
      },
      "execution_count": null,
      "outputs": [
        {
          "output_type": "execute_result",
          "data": {
            "text/plain": [
              "4"
            ]
          },
          "metadata": {},
          "execution_count": 20
        }
      ]
    },
    {
      "cell_type": "code",
      "source": [
        "arr = [1,20,3]"
      ],
      "metadata": {
        "id": "PE3c4HHt09bx"
      },
      "execution_count": null,
      "outputs": []
    },
    {
      "cell_type": "code",
      "source": [
        "max(arr)"
      ],
      "metadata": {
        "colab": {
          "base_uri": "https://localhost:8080/"
        },
        "id": "RjNNXrzn2L6j",
        "outputId": "9b06c0bf-938b-46b2-f9ac-13489f05f7ce"
      },
      "execution_count": null,
      "outputs": [
        {
          "output_type": "execute_result",
          "data": {
            "text/plain": [
              "20"
            ]
          },
          "metadata": {},
          "execution_count": 28
        }
      ]
    },
    {
      "cell_type": "code",
      "source": [
        "min(arr)"
      ],
      "metadata": {
        "colab": {
          "base_uri": "https://localhost:8080/"
        },
        "id": "VmL_Yw3y2Nsd",
        "outputId": "9fb75852-aa27-4ab6-fd86-6edf706618b6"
      },
      "execution_count": null,
      "outputs": [
        {
          "output_type": "execute_result",
          "data": {
            "text/plain": [
              "1"
            ]
          },
          "metadata": {},
          "execution_count": 25
        }
      ]
    },
    {
      "cell_type": "code",
      "source": [
        "sum(arr)"
      ],
      "metadata": {
        "colab": {
          "base_uri": "https://localhost:8080/"
        },
        "id": "Q0zGrphD2O2W",
        "outputId": "5fced2c9-e87d-4b62-d00c-fd213d1d54a1"
      },
      "execution_count": null,
      "outputs": [
        {
          "output_type": "execute_result",
          "data": {
            "text/plain": [
              "24"
            ]
          },
          "metadata": {},
          "execution_count": 27
        }
      ]
    },
    {
      "cell_type": "markdown",
      "source": [
        "##Criando funções usando outras funções\n",
        "\n",
        "https://pypi.org/\n",
        "\n",
        "Cuidado com pacotes de fontes desconhecidas!\n",
        "\n",
        "Pacotes são um conjunto de funções em Python para executar ações\n",
        "\n",
        "Recomenda-se seguir a seguinte ordem de opções:\n",
        "1. Usar função Built-In do Python\n",
        "2. Buscar uma função em pacotes Python\n",
        "3. Criar uma função que pode ser combinada com as opções acima"
      ],
      "metadata": {
        "id": "_vx_fUep26W7"
      }
    },
    {
      "cell_type": "code",
      "source": [
        "import math # importando o pacote\n",
        "\n",
        "# Verificando se um número é primo\n",
        "def numPrimo(n):\n",
        "  if (n % 2) == 0 and (n > 2):\n",
        "    return 'Este número não é primo'\n",
        "  # math.sqrt é uma função do pacote math que calcula a raiz quadrada\n",
        "  for i in range(3, int(math.sqrt(n)) + 1, 2):\n",
        "    if (n % i) == 0:\n",
        "      return 'Este número não é primo'\n",
        "  return 'Este número é primo'"
      ],
      "metadata": {
        "id": "3FkMHTZk3Ces"
      },
      "execution_count": null,
      "outputs": []
    },
    {
      "cell_type": "code",
      "source": [
        "numPrimo(541)"
      ],
      "metadata": {
        "colab": {
          "base_uri": "https://localhost:8080/",
          "height": 35
        },
        "id": "ORaLNY0Q3ok3",
        "outputId": "a5436940-9cb2-4226-fd45-baa5864a1c04"
      },
      "execution_count": null,
      "outputs": [
        {
          "output_type": "execute_result",
          "data": {
            "text/plain": [
              "'Este número é primo'"
            ],
            "application/vnd.google.colaboratory.intrinsic+json": {
              "type": "string"
            }
          },
          "metadata": {},
          "execution_count": 6
        }
      ]
    },
    {
      "cell_type": "code",
      "source": [
        "numPrimo(2)"
      ],
      "metadata": {
        "colab": {
          "base_uri": "https://localhost:8080/",
          "height": 35
        },
        "id": "LrFK_W113sPC",
        "outputId": "d41ee365-be43-4101-b129-975e10c8fdbc"
      },
      "execution_count": null,
      "outputs": [
        {
          "output_type": "execute_result",
          "data": {
            "text/plain": [
              "'Este número é primo'"
            ],
            "application/vnd.google.colaboratory.intrinsic+json": {
              "type": "string"
            }
          },
          "metadata": {},
          "execution_count": 8
        }
      ]
    },
    {
      "cell_type": "code",
      "source": [
        "numPrimo(4)"
      ],
      "metadata": {
        "colab": {
          "base_uri": "https://localhost:8080/",
          "height": 35
        },
        "id": "u_JOYP5VP7sb",
        "outputId": "5363d540-8b8f-4cb8-9557-fa69cdeeca07"
      },
      "execution_count": null,
      "outputs": [
        {
          "output_type": "execute_result",
          "data": {
            "text/plain": [
              "'Este número não é primo'"
            ],
            "application/vnd.google.colaboratory.intrinsic+json": {
              "type": "string"
            }
          },
          "metadata": {},
          "execution_count": 9
        }
      ]
    },
    {
      "cell_type": "code",
      "source": [
        "cb = 'Este Texto Deveria Estar Todo Em LowerCase'"
      ],
      "metadata": {
        "id": "j8ev8TeQ3t-X"
      },
      "execution_count": null,
      "outputs": []
    },
    {
      "cell_type": "code",
      "source": [
        "# Criando uma função\n",
        "def lowC(text):\n",
        "  # text é um objeto string, usando o método lower()\n",
        "  return text.lower()"
      ],
      "metadata": {
        "id": "_YqwvmSw319N"
      },
      "execution_count": null,
      "outputs": []
    },
    {
      "cell_type": "code",
      "source": [
        "lowC(cb)"
      ],
      "metadata": {
        "colab": {
          "base_uri": "https://localhost:8080/",
          "height": 35
        },
        "id": "AhiJjYRf4Bf9",
        "outputId": "f3899ca4-2a32-4b8b-c108-054c3628f63a"
      },
      "execution_count": null,
      "outputs": [
        {
          "output_type": "execute_result",
          "data": {
            "text/plain": [
              "'este texto deveria estar todo em lowercase'"
            ],
            "application/vnd.google.colaboratory.intrinsic+json": {
              "type": "string"
            }
          },
          "metadata": {},
          "execution_count": 3
        }
      ]
    },
    {
      "cell_type": "code",
      "source": [
        "nova_string = lowC(cb)\n",
        "nova_string"
      ],
      "metadata": {
        "colab": {
          "base_uri": "https://localhost:8080/",
          "height": 35
        },
        "id": "pqUmq3sBQ2St",
        "outputId": "c601a645-5e4b-4e77-bf19-1f3439c6008f"
      },
      "execution_count": null,
      "outputs": [
        {
          "output_type": "execute_result",
          "data": {
            "text/plain": [
              "'este texto deveria estar todo em lowercase'"
            ],
            "application/vnd.google.colaboratory.intrinsic+json": {
              "type": "string"
            }
          },
          "metadata": {},
          "execution_count": 11
        }
      ]
    },
    {
      "cell_type": "markdown",
      "source": [
        "#Split de dados"
      ],
      "metadata": {
        "id": "__gE5l9_RRnh"
      }
    },
    {
      "cell_type": "code",
      "source": [
        "def split_dados(text):\n",
        "  # Executa a ação e retorna pra chamada da função\n",
        "  return text.split(' ') # separa a frase toda vez que encontra o espaço na frase"
      ],
      "metadata": {
        "id": "zN33GK3hRWxZ"
      },
      "execution_count": null,
      "outputs": []
    },
    {
      "cell_type": "code",
      "source": [
        "var = 'Função pode ajudar a separar um grande volume de dados'"
      ],
      "metadata": {
        "id": "R2ZFIO4eRgB0"
      },
      "execution_count": null,
      "outputs": []
    },
    {
      "cell_type": "code",
      "source": [
        "# Divide a string em uma lista de palavras (string)\n",
        "# Divisão do texto em palavras chama-se token\n",
        "# token é a menor estrutura possível dentro de um texto\n",
        "print(split_dados(var))"
      ],
      "metadata": {
        "colab": {
          "base_uri": "https://localhost:8080/"
        },
        "id": "1lWwrZnSRoXP",
        "outputId": "667ccf86-8c4f-44ae-9c3e-b10499d4c40a"
      },
      "execution_count": null,
      "outputs": [
        {
          "output_type": "stream",
          "name": "stdout",
          "text": [
            "['Função', 'pode', 'ajudar', 'a', 'separar', 'um', 'grande', 'volume', 'de', 'dados']\n"
          ]
        }
      ]
    },
    {
      "cell_type": "code",
      "source": [
        "# atribuindo o output (saída) para uma variável\n",
        "var2 = split_dados(var)\n",
        "var2"
      ],
      "metadata": {
        "colab": {
          "base_uri": "https://localhost:8080/"
        },
        "id": "ZfIj-c7sRxSE",
        "outputId": "02fdeb53-79e0-4f04-ff48-46b473d8bc17"
      },
      "execution_count": null,
      "outputs": [
        {
          "output_type": "execute_result",
          "data": {
            "text/plain": [
              "['Função',\n",
              " 'pode',\n",
              " 'ajudar',\n",
              " 'a',\n",
              " 'separar',\n",
              " 'um',\n",
              " 'grande',\n",
              " 'volume',\n",
              " 'de',\n",
              " 'dados']"
            ]
          },
          "metadata": {},
          "execution_count": 18
        }
      ]
    },
    {
      "cell_type": "code",
      "source": [
        "# Fazendo split dos dados\n",
        "# Letras não são consideradas token\n",
        "def split_data(text):\n",
        "  texto = text.upper()\n",
        "  # Para cada letra do texto\n",
        "  for letra in texto:\n",
        "    print(letra)"
      ],
      "metadata": {
        "id": "o-EYMN4rR9Sn"
      },
      "execution_count": null,
      "outputs": []
    },
    {
      "cell_type": "code",
      "source": [
        "split_data(var)"
      ],
      "metadata": {
        "colab": {
          "base_uri": "https://localhost:8080/"
        },
        "id": "rJfwyMPjSLDa",
        "outputId": "24739261-03e2-4cbc-eee6-321b08a21b2d"
      },
      "execution_count": null,
      "outputs": [
        {
          "output_type": "stream",
          "name": "stdout",
          "text": [
            "F\n",
            "U\n",
            "N\n",
            "Ç\n",
            "Ã\n",
            "O\n",
            " \n",
            "P\n",
            "O\n",
            "D\n",
            "E\n",
            " \n",
            "A\n",
            "J\n",
            "U\n",
            "D\n",
            "A\n",
            "R\n",
            " \n",
            "A\n",
            " \n",
            "S\n",
            "E\n",
            "P\n",
            "A\n",
            "R\n",
            "A\n",
            "R\n",
            " \n",
            "U\n",
            "M\n",
            " \n",
            "G\n",
            "R\n",
            "A\n",
            "N\n",
            "D\n",
            "E\n",
            " \n",
            "V\n",
            "O\n",
            "L\n",
            "U\n",
            "M\n",
            "E\n",
            " \n",
            "D\n",
            "E\n",
            " \n",
            "D\n",
            "A\n",
            "D\n",
            "O\n",
            "S\n"
          ]
        }
      ]
    }
  ]
}