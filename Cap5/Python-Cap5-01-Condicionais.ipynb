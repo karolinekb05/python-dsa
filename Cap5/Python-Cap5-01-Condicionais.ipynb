{
  "cells": [
    {
      "cell_type": "markdown",
      "id": "291b9b18",
      "metadata": {
        "id": "291b9b18"
      },
      "source": [
        "## Condicional if\n",
        "\n",
        "Validação de regras\n",
        "\n",
        "Condicional permite mudar a direção do programa, tomada de decisões"
      ]
    },
    {
      "cell_type": "code",
      "execution_count": null,
      "id": "b4a0e426",
      "metadata": {
        "id": "b4a0e426",
        "outputId": "0c49d668-0daf-4192-8019-d1355731d0f9"
      },
      "outputs": [
        {
          "name": "stdout",
          "output_type": "stream",
          "text": [
            "A sentença é verdadeira\n"
          ]
        }
      ],
      "source": [
        "# Condicional if (se)\n",
        "# Se for verdadeiro, ele entra no bloco de comando e executa\n",
        "if 8 > 4:\n",
        "    print('A sentença é verdadeira')"
      ]
    },
    {
      "cell_type": "code",
      "execution_count": null,
      "id": "d1ebfd13",
      "metadata": {
        "id": "d1ebfd13",
        "outputId": "c2d4196a-77cd-4dff-acd7-139fe7d37678"
      },
      "outputs": [
        {
          "name": "stdout",
          "output_type": "stream",
          "text": [
            "A sentença é falsa\n"
          ]
        }
      ],
      "source": [
        "# Condicional if...else (se...se não)\n",
        "# Se verdadeira ... (if)\n",
        "# Se não verdadeira ... (else)\n",
        "if 3 > 7:\n",
        "    print('A sentença é verdadeira')\n",
        "else:\n",
        "    print('A sentença é falsa')"
      ]
    },
    {
      "cell_type": "code",
      "execution_count": null,
      "id": "daeefbdf",
      "metadata": {
        "id": "daeefbdf",
        "outputId": "da633455-26b5-49dd-bc03-c2d6068efa39"
      },
      "outputs": [
        {
          "name": "stdout",
          "output_type": "stream",
          "text": [
            "Você errou a cor\n"
          ]
        }
      ],
      "source": [
        "# Condicional if...else com variável\n",
        "# = atribuição\n",
        "# == comparação\n",
        "cor = 'azul'\n",
        "if cor == 'amarelo':\n",
        "    print('Você acertou a cor')\n",
        "else:\n",
        "    print('Você errou a cor')"
      ]
    },
    {
      "cell_type": "code",
      "execution_count": null,
      "id": "e5791c9d",
      "metadata": {
        "id": "e5791c9d",
        "outputId": "23e7bd11-abf3-471a-f2b7-92f80565c26a"
      },
      "outputs": [
        {
          "name": "stdout",
          "output_type": "stream",
          "text": [
            "Você acertou!\n"
          ]
        }
      ],
      "source": [
        "# Condicional if...else com elif que serve para validar mais de uma opção verdadeira\n",
        "# se não se verdadeira ... (elif) valida a outra condição verdadeira\n",
        "if cor == 'branco':\n",
        "    print('Você acertou a cor')\n",
        "elif cor == 'azul':\n",
        "    print('Você acertou!')\n",
        "else:\n",
        "    print('Tente novamente')"
      ]
    },
    {
      "cell_type": "markdown",
      "id": "7de64c7c",
      "metadata": {
        "id": "7de64c7c"
      },
      "source": [
        "## Operadores relacionais\n",
        "Retorna um valor booleano"
      ]
    },
    {
      "cell_type": "code",
      "execution_count": null,
      "id": "b2b8364a",
      "metadata": {
        "id": "b2b8364a",
        "outputId": "6f12495f-10ed-4916-b405-43395ac87274"
      },
      "outputs": [
        {
          "data": {
            "text/plain": [
              "False"
            ]
          },
          "execution_count": 5,
          "metadata": {},
          "output_type": "execute_result"
        }
      ],
      "source": [
        "6 > 9"
      ]
    },
    {
      "cell_type": "code",
      "execution_count": null,
      "id": "626e8659",
      "metadata": {
        "id": "626e8659",
        "outputId": "beb8b039-b686-40c1-abad-5aa79060047b"
      },
      "outputs": [
        {
          "data": {
            "text/plain": [
              "True"
            ]
          },
          "execution_count": 6,
          "metadata": {},
          "output_type": "execute_result"
        }
      ],
      "source": [
        "3 < 8"
      ]
    },
    {
      "cell_type": "code",
      "execution_count": null,
      "id": "367b4026",
      "metadata": {
        "id": "367b4026",
        "outputId": "ed93f164-de87-4f00-d3b3-0c9b69d69b96"
      },
      "outputs": [
        {
          "data": {
            "text/plain": [
              "True"
            ]
          },
          "execution_count": 7,
          "metadata": {},
          "output_type": "execute_result"
        }
      ],
      "source": [
        "6 >= 2"
      ]
    },
    {
      "cell_type": "code",
      "execution_count": null,
      "id": "af4a7b18",
      "metadata": {
        "id": "af4a7b18",
        "outputId": "96763099-ff5a-4a77-cbb4-72a339c96005"
      },
      "outputs": [
        {
          "data": {
            "text/plain": [
              "True"
            ]
          },
          "execution_count": 8,
          "metadata": {},
          "output_type": "execute_result"
        }
      ],
      "source": [
        "1 <= 4"
      ]
    },
    {
      "cell_type": "code",
      "execution_count": null,
      "id": "99d2223a",
      "metadata": {
        "id": "99d2223a",
        "outputId": "8eee3b9f-777f-4249-fd49-e7edc3a975d5"
      },
      "outputs": [
        {
          "data": {
            "text/plain": [
              "False"
            ]
          },
          "execution_count": 9,
          "metadata": {},
          "output_type": "execute_result"
        }
      ],
      "source": [
        "2 >= 9"
      ]
    },
    {
      "cell_type": "code",
      "execution_count": null,
      "id": "8050dfbc",
      "metadata": {
        "id": "8050dfbc",
        "outputId": "7b97b387-5222-4dad-9024-8a0d0a330f33"
      },
      "outputs": [
        {
          "data": {
            "text/plain": [
              "True"
            ]
          },
          "execution_count": 10,
          "metadata": {},
          "output_type": "execute_result"
        }
      ],
      "source": [
        "5 >= 5"
      ]
    },
    {
      "cell_type": "code",
      "execution_count": null,
      "id": "b0a94d71",
      "metadata": {
        "id": "b0a94d71",
        "outputId": "a31a1a24-8622-4de7-9e6f-c734b70f56c2"
      },
      "outputs": [
        {
          "name": "stdout",
          "output_type": "stream",
          "text": [
            "Está correto!\n"
          ]
        }
      ],
      "source": [
        "if 7 == 7:\n",
        "    print('Está correto!')"
      ]
    },
    {
      "cell_type": "code",
      "execution_count": null,
      "id": "e5481f6c",
      "metadata": {
        "id": "e5481f6c"
      },
      "outputs": [],
      "source": [
        "if True:\n",
        "    print('É verdadeiro')"
      ]
    },
    {
      "cell_type": "code",
      "execution_count": null,
      "id": "22ad87e5",
      "metadata": {
        "id": "22ad87e5",
        "outputId": "6dccd61e-80d2-4a56-b32e-212e611826ab"
      },
      "outputs": [
        {
          "ename": "SyntaxError",
          "evalue": "invalid syntax (391783281.py, line 2)",
          "output_type": "error",
          "traceback": [
            "\u001b[0;36m  File \u001b[0;32m\"/tmp/ipykernel_85081/391783281.py\"\u001b[0;36m, line \u001b[0;32m2\u001b[0m\n\u001b[0;31m    if 8 < 4\u001b[0m\n\u001b[0m            ^\u001b[0m\n\u001b[0;31mSyntaxError\u001b[0m\u001b[0;31m:\u001b[0m invalid syntax\n"
          ]
        }
      ],
      "source": [
        "# Atenção com a sintaxe (ex: faltam os :)\n",
        "if 8 < 4\n",
        "    print('Correto')"
      ]
    },
    {
      "cell_type": "code",
      "execution_count": null,
      "id": "27d1d0f3",
      "metadata": {
        "id": "27d1d0f3",
        "outputId": "0177a8be-2fb9-4c83-de10-b6374bc4d4b8"
      },
      "outputs": [
        {
          "ename": "IndentationError",
          "evalue": "expected an indented block (27650249.py, line 3)",
          "output_type": "error",
          "traceback": [
            "\u001b[0;36m  File \u001b[0;32m\"/tmp/ipykernel_85081/27650249.py\"\u001b[0;36m, line \u001b[0;32m3\u001b[0m\n\u001b[0;31m    print('Correto')\u001b[0m\n\u001b[0m    ^\u001b[0m\n\u001b[0;31mIndentationError\u001b[0m\u001b[0;31m:\u001b[0m expected an indented block\n"
          ]
        }
      ],
      "source": [
        "# Atenção com a identação, também faz parte da sintaxe\n",
        "if 8 < 4:\n",
        "print('Correto')"
      ]
    },
    {
      "cell_type": "markdown",
      "id": "0e97718a",
      "metadata": {
        "id": "0e97718a"
      },
      "source": [
        "## Condicionais aninhados\n",
        "Cuidado com a lógica nesse tipo de estrutura\n",
        "Sempre opte por usar um único condicional que pode ter mais de uma validação"
      ]
    },
    {
      "cell_type": "code",
      "execution_count": null,
      "id": "3bfabcca",
      "metadata": {
        "id": "3bfabcca",
        "outputId": "64c49aef-6979-4e42-95f2-843e337a65d4"
      },
      "outputs": [
        {
          "name": "stdout",
          "output_type": "stream",
          "text": [
            "Você pode dirigir!\n"
          ]
        }
      ],
      "source": [
        "idade = 20\n",
        "if idade >= 18:\n",
        "    print('Você pode dirigir!')"
      ]
    },
    {
      "cell_type": "code",
      "execution_count": null,
      "id": "1eeb4a59",
      "metadata": {
        "id": "1eeb4a59",
        "outputId": "d911f58d-9d27-44e9-a990-2428c6daaa9f"
      },
      "outputs": [
        {
          "name": "stdout",
          "output_type": "stream",
          "text": [
            "Ok, você está autorizado(a)\n"
          ]
        }
      ],
      "source": [
        "nome = 'Lola'\n",
        "if idade >= 18:\n",
        "    if nome == 'Lola':\n",
        "        print('Ok, você está autorizado(a)')\n",
        "    else:\n",
        "        print('Desculpe, você não tem permissão')"
      ]
    },
    {
      "cell_type": "code",
      "execution_count": null,
      "id": "6a1868b9",
      "metadata": {
        "id": "6a1868b9",
        "outputId": "279265b4-de64-4b09-c128-228d2ba5e00b"
      },
      "outputs": [
        {
          "name": "stdout",
          "output_type": "stream",
          "text": [
            "Algo deu errado. Tente novamente!\n"
          ]
        }
      ],
      "source": [
        "idade = 22\n",
        "nome = 'Mel'\n",
        "if idade >= 18 and nome == 'Xuxa':\n",
        "    print('Verificada com sucesso!')\n",
        "else:\n",
        "    print('Algo deu errado. Tente novamente!')"
      ]
    },
    {
      "cell_type": "code",
      "execution_count": null,
      "id": "574e17e5",
      "metadata": {
        "id": "574e17e5",
        "outputId": "93706677-f00e-4c4d-d8a2-088f68f5c66d"
      },
      "outputs": [
        {
          "name": "stdout",
          "output_type": "stream",
          "text": [
            "Verificada com sucesso!\n"
          ]
        }
      ],
      "source": [
        "# Não é obrigatório o uso de () nas validações em Python, mas isso torna o código mais legível\n",
        "idade = 18\n",
        "nome = 'Ana'\n",
        "if (idade >= 18) or (nome == 'Lola'):\n",
        "    print('Verificada com sucesso!')\n",
        "else:\n",
        "    print('Algo deu errado. Tente novamente!')"
      ]
    },
    {
      "cell_type": "markdown",
      "id": "ee9f6c6e",
      "metadata": {
        "id": "ee9f6c6e"
      },
      "source": [
        "## Operadores lógicos\n",
        "- Operador **and**: retorna True se ambas forem verdadeiras.\n",
        "- Operador **or**: retorna True se uma das condições for verdadeira.\n",
        "- Operador **not**: inverte a lógica, retorna False se o resultado for True."
      ]
    },
    {
      "cell_type": "code",
      "execution_count": null,
      "id": "47a8ea4e",
      "metadata": {
        "id": "47a8ea4e",
        "outputId": "6c9b5b2c-9c14-441a-bf7e-af23eda66143"
      },
      "outputs": [
        {
          "name": "stdout",
          "output_type": "stream",
          "text": [
            "As duas validações são verdadeiras\n"
          ]
        }
      ],
      "source": [
        "# Operador and\n",
        "numero = 2\n",
        "if numero >= 2 and numero % 2 == 0:\n",
        "    print('As duas validações são verdadeiras')"
      ]
    },
    {
      "cell_type": "code",
      "execution_count": null,
      "id": "b6e9431a",
      "metadata": {
        "id": "b6e9431a",
        "outputId": "2c1fe92e-2cca-48c5-ce29-d27c52e8a193"
      },
      "outputs": [
        {
          "name": "stdout",
          "output_type": "stream",
          "text": [
            "Uma das duas validações é falsa\n"
          ]
        }
      ],
      "source": [
        "# Operador and\n",
        "numero = 2\n",
        "if numero > 2 and numero % 2 == 0:\n",
        "    print('As duas validações são verdadeiras')\n",
        "else:\n",
        "    print('Uma das duas validações é falsa')"
      ]
    },
    {
      "cell_type": "code",
      "execution_count": null,
      "id": "d9dbdb3b",
      "metadata": {
        "id": "d9dbdb3b",
        "outputId": "580b1093-1da4-4a2b-d751-f20877bac1b4"
      },
      "outputs": [
        {
          "name": "stdout",
          "output_type": "stream",
          "text": [
            "Uma das validações é verdadeira\n"
          ]
        }
      ],
      "source": [
        "# Operador or\n",
        "numero = 5\n",
        "if numero <= 4 or numero > 4:\n",
        "    print('Uma das validações é verdadeira')"
      ]
    },
    {
      "cell_type": "code",
      "execution_count": null,
      "id": "2a12acf0",
      "metadata": {
        "id": "2a12acf0",
        "outputId": "649cec60-61bd-4812-a6f5-9c6419dc116a"
      },
      "outputs": [
        {
          "name": "stdout",
          "output_type": "stream",
          "text": [
            "As condições são falsas\n"
          ]
        }
      ],
      "source": [
        "# Operador not\n",
        "num = 5\n",
        "if not num == 5 and num >= 5:\n",
        "    print('As condições são verdadeiras')\n",
        "else:\n",
        "    print('As condições são falsas')\n",
        "# as duas condições que retornam \"true\" o not inverteu e retornou \"false\""
      ]
    },
    {
      "cell_type": "code",
      "execution_count": null,
      "id": "1c6346b4",
      "metadata": {
        "id": "1c6346b4",
        "outputId": "2b747c53-271f-42cb-f5e0-3e332105b53f"
      },
      "outputs": [
        {
          "name": "stdout",
          "output_type": "stream",
          "text": [
            "Uma das condições é verdadeira\n"
          ]
        }
      ],
      "source": [
        "# Operadores and, or e not\n",
        "num = 10\n",
        "if (not(num < 6) and (num < 4)) or (num >= 10):\n",
        "    print('As duas primeiras condições são verdadeiras ou a terceira condição é verdadeira')"
      ]
    },
    {
      "cell_type": "code",
      "execution_count": null,
      "id": "b7b8d6b6",
      "metadata": {
        "id": "b7b8d6b6",
        "outputId": "65deff9a-220b-4982-8a14-7b2ce8c6d44a"
      },
      "outputs": [
        {
          "name": "stdout",
          "output_type": "stream",
          "text": [
            "Está aprovado\n"
          ]
        }
      ],
      "source": [
        "# Exemplo com o uso de variáveis\n",
        "disciplina = 'Python'\n",
        "nota_final = 75\n",
        "if (disciplina == 'Python') and (nota_final >= 70):\n",
        "    print('Está aprovado')\n",
        "else:\n",
        "    print('Está reprovado')"
      ]
    },
    {
      "cell_type": "code",
      "execution_count": null,
      "id": "d7fea91d",
      "metadata": {
        "id": "d7fea91d",
        "outputId": "72c34a8c-7a5c-4271-b19f-c8b566fb5d1f"
      },
      "outputs": [
        {
          "name": "stdout",
          "output_type": "stream",
          "text": [
            "Na disciplina Python você foi aprovado(a) com nota 80\n"
          ]
        }
      ],
      "source": [
        "# Usando mais de uma condição na clausula if e introduzindo placeholders\n",
        "# %s é pra string e %r é pra número\n",
        "disciplina = 'Python'\n",
        "nota_final = 80\n",
        "semestre = 2\n",
        "if disciplina == 'Python' and nota_final >= 70 and semestre != 1:\n",
        "    print('Na disciplina %s você foi aprovado(a) com nota %r' %(disciplina, nota_final))\n",
        "else:\n",
        "    print('Na disciplina %s você foi reprovado(a)' %(disciplina))"
      ]
    }
  ],
  "metadata": {
    "kernelspec": {
      "display_name": "Python 3 (ipykernel)",
      "language": "python",
      "name": "python3"
    },
    "language_info": {
      "codemirror_mode": {
        "name": "ipython",
        "version": 3
      },
      "file_extension": ".py",
      "mimetype": "text/x-python",
      "name": "python",
      "nbconvert_exporter": "python",
      "pygments_lexer": "ipython3",
      "version": "3.9.13"
    },
    "colab": {
      "provenance": []
    }
  },
  "nbformat": 4,
  "nbformat_minor": 5
}