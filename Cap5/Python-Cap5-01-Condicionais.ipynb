{
 "cells": [
  {
   "cell_type": "markdown",
   "id": "291b9b18",
   "metadata": {},
   "source": [
    "## Condicional if"
   ]
  },
  {
   "cell_type": "code",
   "execution_count": 1,
   "id": "b4a0e426",
   "metadata": {},
   "outputs": [
    {
     "name": "stdout",
     "output_type": "stream",
     "text": [
      "A sentença é verdadeira\n"
     ]
    }
   ],
   "source": [
    "# Condicional if (se)\n",
    "if 8 > 4:\n",
    "    print('A sentença é verdadeira')"
   ]
  },
  {
   "cell_type": "code",
   "execution_count": 2,
   "id": "d1ebfd13",
   "metadata": {},
   "outputs": [
    {
     "name": "stdout",
     "output_type": "stream",
     "text": [
      "A sentença é falsa\n"
     ]
    }
   ],
   "source": [
    "# Condicional if...else (se...senão)\n",
    "if 3 > 7:\n",
    "    print('A sentença é verdadeira')\n",
    "else:\n",
    "    print('A sentença é falsa')"
   ]
  },
  {
   "cell_type": "code",
   "execution_count": 3,
   "id": "daeefbdf",
   "metadata": {},
   "outputs": [
    {
     "name": "stdout",
     "output_type": "stream",
     "text": [
      "Você errou a cor\n"
     ]
    }
   ],
   "source": [
    "# Condicional if...else com variável\n",
    "cor = 'azul'\n",
    "if cor == 'amarelo':\n",
    "    print('Você acertou a cor')\n",
    "else: \n",
    "    print('Você errou a cor')"
   ]
  },
  {
   "cell_type": "code",
   "execution_count": 4,
   "id": "e5791c9d",
   "metadata": {},
   "outputs": [
    {
     "name": "stdout",
     "output_type": "stream",
     "text": [
      "Você acertou!\n"
     ]
    }
   ],
   "source": [
    "# Condicional if...else com elif que serve para validar mais de uma opção verdadeira\n",
    "if cor == 'branco':\n",
    "    print('Você acertou a cor')\n",
    "elif cor == 'azul':\n",
    "    print('Você acertou!')\n",
    "else:\n",
    "    print('Tente novamente')"
   ]
  },
  {
   "cell_type": "markdown",
   "id": "7de64c7c",
   "metadata": {},
   "source": [
    "## Operadores relacionais\n",
    "Retorna um valor booleano"
   ]
  },
  {
   "cell_type": "code",
   "execution_count": 5,
   "id": "b2b8364a",
   "metadata": {},
   "outputs": [
    {
     "data": {
      "text/plain": [
       "False"
      ]
     },
     "execution_count": 5,
     "metadata": {},
     "output_type": "execute_result"
    }
   ],
   "source": [
    "6 > 9"
   ]
  },
  {
   "cell_type": "code",
   "execution_count": 6,
   "id": "626e8659",
   "metadata": {},
   "outputs": [
    {
     "data": {
      "text/plain": [
       "True"
      ]
     },
     "execution_count": 6,
     "metadata": {},
     "output_type": "execute_result"
    }
   ],
   "source": [
    "3 < 8"
   ]
  },
  {
   "cell_type": "code",
   "execution_count": 7,
   "id": "367b4026",
   "metadata": {},
   "outputs": [
    {
     "data": {
      "text/plain": [
       "True"
      ]
     },
     "execution_count": 7,
     "metadata": {},
     "output_type": "execute_result"
    }
   ],
   "source": [
    "6 >= 2"
   ]
  },
  {
   "cell_type": "code",
   "execution_count": 8,
   "id": "af4a7b18",
   "metadata": {},
   "outputs": [
    {
     "data": {
      "text/plain": [
       "True"
      ]
     },
     "execution_count": 8,
     "metadata": {},
     "output_type": "execute_result"
    }
   ],
   "source": [
    "1 <= 4"
   ]
  },
  {
   "cell_type": "code",
   "execution_count": 9,
   "id": "99d2223a",
   "metadata": {},
   "outputs": [
    {
     "data": {
      "text/plain": [
       "False"
      ]
     },
     "execution_count": 9,
     "metadata": {},
     "output_type": "execute_result"
    }
   ],
   "source": [
    "2 >= 9"
   ]
  },
  {
   "cell_type": "code",
   "execution_count": 10,
   "id": "8050dfbc",
   "metadata": {},
   "outputs": [
    {
     "data": {
      "text/plain": [
       "True"
      ]
     },
     "execution_count": 10,
     "metadata": {},
     "output_type": "execute_result"
    }
   ],
   "source": [
    "5 >= 5"
   ]
  },
  {
   "cell_type": "code",
   "execution_count": 11,
   "id": "b0a94d71",
   "metadata": {},
   "outputs": [
    {
     "name": "stdout",
     "output_type": "stream",
     "text": [
      "Está correto!\n"
     ]
    }
   ],
   "source": [
    "if 7 == 7:\n",
    "    print('Está correto!')"
   ]
  },
  {
   "cell_type": "code",
   "execution_count": null,
   "id": "e5481f6c",
   "metadata": {},
   "outputs": [],
   "source": [
    "if True:\n",
    "    print('É verdadeiro')"
   ]
  },
  {
   "cell_type": "code",
   "execution_count": 12,
   "id": "22ad87e5",
   "metadata": {},
   "outputs": [
    {
     "ename": "SyntaxError",
     "evalue": "invalid syntax (391783281.py, line 2)",
     "output_type": "error",
     "traceback": [
      "\u001b[0;36m  File \u001b[0;32m\"/tmp/ipykernel_85081/391783281.py\"\u001b[0;36m, line \u001b[0;32m2\u001b[0m\n\u001b[0;31m    if 8 < 4\u001b[0m\n\u001b[0m            ^\u001b[0m\n\u001b[0;31mSyntaxError\u001b[0m\u001b[0;31m:\u001b[0m invalid syntax\n"
     ]
    }
   ],
   "source": [
    "# Atenção com a sintaxe (ex: faltam os :)\n",
    "if 8 < 4\n",
    "    print('Correto')"
   ]
  },
  {
   "cell_type": "code",
   "execution_count": 13,
   "id": "27d1d0f3",
   "metadata": {},
   "outputs": [
    {
     "ename": "IndentationError",
     "evalue": "expected an indented block (27650249.py, line 3)",
     "output_type": "error",
     "traceback": [
      "\u001b[0;36m  File \u001b[0;32m\"/tmp/ipykernel_85081/27650249.py\"\u001b[0;36m, line \u001b[0;32m3\u001b[0m\n\u001b[0;31m    print('Correto')\u001b[0m\n\u001b[0m    ^\u001b[0m\n\u001b[0;31mIndentationError\u001b[0m\u001b[0;31m:\u001b[0m expected an indented block\n"
     ]
    }
   ],
   "source": [
    "# Atenção com a identação, também faz parte da sintaxe\n",
    "if 8 < 4:\n",
    "print('Correto')"
   ]
  },
  {
   "cell_type": "markdown",
   "id": "0e97718a",
   "metadata": {},
   "source": [
    "## Condicionais aninhados\n",
    "Cuidado com a lógica nesse tipo de estrutura\n",
    "Sempre opte por usar um único condicional que pode ter mais de uma validação"
   ]
  },
  {
   "cell_type": "code",
   "execution_count": 17,
   "id": "3bfabcca",
   "metadata": {},
   "outputs": [
    {
     "name": "stdout",
     "output_type": "stream",
     "text": [
      "Você pode dirigir!\n"
     ]
    }
   ],
   "source": [
    "idade = 20\n",
    "if idade >= 18:\n",
    "    print('Você pode dirigir!')"
   ]
  },
  {
   "cell_type": "code",
   "execution_count": 18,
   "id": "1eeb4a59",
   "metadata": {},
   "outputs": [
    {
     "name": "stdout",
     "output_type": "stream",
     "text": [
      "Ok, você está autorizado(a)\n"
     ]
    }
   ],
   "source": [
    "nome = 'Lola'\n",
    "if idade >= 18:\n",
    "    if nome == 'Lola':\n",
    "        print('Ok, você está autorizado(a)')\n",
    "    else:\n",
    "        print('Desculpe, você não tem permissão')"
   ]
  },
  {
   "cell_type": "code",
   "execution_count": 24,
   "id": "6a1868b9",
   "metadata": {},
   "outputs": [
    {
     "name": "stdout",
     "output_type": "stream",
     "text": [
      "Algo deu errado. Tente novamente!\n"
     ]
    }
   ],
   "source": [
    "idade = 22\n",
    "nome = 'Mel'\n",
    "if idade >= 18 and nome == 'Xuxa':\n",
    "    print('Verificada com sucesso!')\n",
    "else:\n",
    "    print('Algo deu errado. Tente novamente!')"
   ]
  },
  {
   "cell_type": "code",
   "execution_count": 23,
   "id": "574e17e5",
   "metadata": {},
   "outputs": [
    {
     "name": "stdout",
     "output_type": "stream",
     "text": [
      "Verificada com sucesso!\n"
     ]
    }
   ],
   "source": [
    "# Não é obrigatório o uso de () nas validações em Python, mas isso torna o código mais legível\n",
    "idade = 18\n",
    "nome = 'Ana'\n",
    "if (idade >= 18) or (nome == 'Lola'):\n",
    "    print('Verificada com sucesso!')\n",
    "else:\n",
    "    print('Algo deu errado. Tente novamente!')"
   ]
  },
  {
   "cell_type": "markdown",
   "id": "ee9f6c6e",
   "metadata": {},
   "source": [
    "## Operadores lógicos\n",
    "- Operador **and**: retorna True se ambas forem verdadeiras.\n",
    "- Operador **or**: retorna True se uma das condições for verdadeira.\n",
    "- Operador **not**: inverte a lógica, retorna False se o resultado for True."
   ]
  },
  {
   "cell_type": "code",
   "execution_count": 1,
   "id": "47a8ea4e",
   "metadata": {},
   "outputs": [
    {
     "name": "stdout",
     "output_type": "stream",
     "text": [
      "As duas validações são verdadeiras\n"
     ]
    }
   ],
   "source": [
    "# Operador and\n",
    "numero = 2\n",
    "if numero >= 2 and numero % 2 == 0:\n",
    "    print('As duas validações são verdadeiras')"
   ]
  },
  {
   "cell_type": "code",
   "execution_count": 2,
   "id": "b6e9431a",
   "metadata": {},
   "outputs": [
    {
     "name": "stdout",
     "output_type": "stream",
     "text": [
      "Uma das duas validações é falsa\n"
     ]
    }
   ],
   "source": [
    "# Operador and\n",
    "numero = 2\n",
    "if numero > 2 and numero % 2 == 0:\n",
    "    print('As duas validações são verdadeiras')\n",
    "else:\n",
    "    print('Uma das duas validações é falsa')"
   ]
  },
  {
   "cell_type": "code",
   "execution_count": 3,
   "id": "d9dbdb3b",
   "metadata": {},
   "outputs": [
    {
     "name": "stdout",
     "output_type": "stream",
     "text": [
      "Uma das validações é verdadeira\n"
     ]
    }
   ],
   "source": [
    "# Operador or\n",
    "numero = 5\n",
    "if numero <= 4 or numero > 4:\n",
    "    print('Uma das validações é verdadeira')"
   ]
  },
  {
   "cell_type": "code",
   "execution_count": 10,
   "id": "2a12acf0",
   "metadata": {},
   "outputs": [
    {
     "name": "stdout",
     "output_type": "stream",
     "text": [
      "As condições são falsas\n"
     ]
    }
   ],
   "source": [
    "# Operador not\n",
    "num = 5\n",
    "if not num == 5 and num >= 5:\n",
    "    print('As condições são verdadeiras')\n",
    "else:\n",
    "    print('As condições são falsas')\n",
    "# as duas condições que retornam \"true\" o not inverteu e retornou \"false\""
   ]
  },
  {
   "cell_type": "code",
   "execution_count": 13,
   "id": "1c6346b4",
   "metadata": {},
   "outputs": [
    {
     "name": "stdout",
     "output_type": "stream",
     "text": [
      "Uma das condições é verdadeira\n"
     ]
    }
   ],
   "source": [
    "# Operadores and, or e not\n",
    "num = 10\n",
    "if (not(num < 6) and (num < 4)) or (num >= 10):\n",
    "    print('As duas primeiras condições são verdadeiras ou a terceira condição é verdadeira')"
   ]
  },
  {
   "cell_type": "code",
   "execution_count": 14,
   "id": "b7b8d6b6",
   "metadata": {},
   "outputs": [
    {
     "name": "stdout",
     "output_type": "stream",
     "text": [
      "Está aprovado\n"
     ]
    }
   ],
   "source": [
    "# Exemplo com o uso de variáveis\n",
    "disciplina = 'Python'\n",
    "nota_final = 75\n",
    "if (disciplina == 'Python') and (nota_final >= 70):\n",
    "    print('Está aprovado')\n",
    "else:\n",
    "    print('Está reprovado')"
   ]
  },
  {
   "cell_type": "code",
   "execution_count": 18,
   "id": "d7fea91d",
   "metadata": {},
   "outputs": [
    {
     "name": "stdout",
     "output_type": "stream",
     "text": [
      "Na disciplina Python você foi aprovado(a) com nota 80\n"
     ]
    }
   ],
   "source": [
    "# Usando mais de uma condição na clausula if e introduzindo placeholders\n",
    "# %s é pra string e %r é pra número\n",
    "disciplina = 'Python'\n",
    "nota_final = 80\n",
    "semestre = 2\n",
    "if disciplina == 'Python' and nota_final >= 70 and semestre != 1:\n",
    "    print('Na disciplina %s você foi aprovado(a) com nota %r' %(disciplina, nota_final))\n",
    "else:\n",
    "    print('Na disciplina %s você foi reprovado(a)' %(disciplina))"
   ]
  }
 ],
 "metadata": {
  "kernelspec": {
   "display_name": "Python 3 (ipykernel)",
   "language": "python",
   "name": "python3"
  },
  "language_info": {
   "codemirror_mode": {
    "name": "ipython",
    "version": 3
   },
   "file_extension": ".py",
   "mimetype": "text/x-python",
   "name": "python",
   "nbconvert_exporter": "python",
   "pygments_lexer": "ipython3",
   "version": "3.9.13"
  }
 },
 "nbformat": 4,
 "nbformat_minor": 5
}
