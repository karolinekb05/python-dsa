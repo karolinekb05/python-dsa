{
  "cells": [
    {
      "cell_type": "markdown",
      "id": "1ffb8c66",
      "metadata": {
        "id": "1ffb8c66"
      },
      "source": [
        "##Função Range\n",
        "\n",
        "Com ela é possível criar coleção(ões) de elementos de tipos variados\n",
        "\n",
        "O valor final é o valor exclusivo, ou seja, não conta na execução\n",
        "\n",
        "É possível definir o salto dos números, 2 em 2, 4 em 4, etc..."
      ]
    },
    {
      "cell_type": "code",
      "execution_count": null,
      "id": "27c48fcb",
      "metadata": {
        "id": "27c48fcb",
        "outputId": "ad33de8a-e6ce-451e-ba06-e11dee7025ea"
      },
      "outputs": [
        {
          "name": "stdout",
          "output_type": "stream",
          "text": [
            "1\n",
            "2\n",
            "3\n",
            "4\n",
            "5\n",
            "6\n",
            "7\n",
            "8\n",
            "9\n",
            "10\n"
          ]
        }
      ],
      "source": [
        "# Imprimindo números de 1 a 10\n",
        "for i in range(1, 11):\n",
        "    print(i)"
      ]
    },
    {
      "cell_type": "code",
      "execution_count": null,
      "id": "cf3cb0ff",
      "metadata": {
        "id": "cf3cb0ff",
        "outputId": "5270f403-4c14-467e-947f-adf4e73baf4c"
      },
      "outputs": [
        {
          "name": "stdout",
          "output_type": "stream",
          "text": [
            "50\n",
            "52\n",
            "54\n",
            "56\n",
            "58\n",
            "60\n",
            "62\n",
            "64\n",
            "66\n",
            "68\n",
            "70\n",
            "72\n",
            "74\n",
            "76\n",
            "78\n",
            "80\n",
            "82\n",
            "84\n",
            "86\n",
            "88\n",
            "90\n",
            "92\n",
            "94\n",
            "96\n",
            "98\n",
            "100\n"
          ]
        }
      ],
      "source": [
        "# Imprimindo números pares entre 50 e 100\n",
        "# intervalo de 50 até 100 saltando de 2 em 2 números\n",
        "for i in range(50, 101, 2):\n",
        "    print(i)"
      ]
    },
    {
      "cell_type": "code",
      "execution_count": null,
      "id": "9422a803",
      "metadata": {
        "id": "9422a803",
        "outputId": "56e46029-da02-4419-fe61-0f9f9c6c0b9b"
      },
      "outputs": [
        {
          "name": "stdout",
          "output_type": "stream",
          "text": [
            "0\n",
            "-2\n",
            "-4\n",
            "-6\n",
            "-8\n",
            "-10\n",
            "-12\n",
            "-14\n",
            "-16\n",
            "-18\n",
            "-20\n"
          ]
        }
      ],
      "source": [
        "# Imprimindo os números pares negativos entre 0 e -20\n",
        "# intervalo de 0 até -20 e salta de -2 em -2\n",
        "for i in range(0, -21, -2):\n",
        "    print(i)"
      ]
    },
    {
      "cell_type": "code",
      "execution_count": null,
      "id": "d10da3c8",
      "metadata": {
        "id": "d10da3c8",
        "outputId": "cd4fd908-e033-4094-845c-897e1881faeb"
      },
      "outputs": [
        {
          "name": "stdout",
          "output_type": "stream",
          "text": [
            "Abacate\n",
            "Abacaxi\n",
            "Acerola\n"
          ]
        }
      ],
      "source": [
        "# Usando o tamanho de uma lista na função range\n",
        "lista = ['Abacate', 'Abacaxi', 'Acerola']\n",
        "lista_tamanho = len(lista) # tamanho da lista acima\n",
        "# intervalo de 0 até o tamanho da lista definido na variável 'lista_tamanho'\n",
        "for i in range(0, lista_tamanho):\n",
        "    # imprime o elemento da lista\n",
        "    print(lista[i])"
      ]
    }
  ],
  "metadata": {
    "kernelspec": {
      "display_name": "Python 3 (ipykernel)",
      "language": "python",
      "name": "python3"
    },
    "language_info": {
      "codemirror_mode": {
        "name": "ipython",
        "version": 3
      },
      "file_extension": ".py",
      "mimetype": "text/x-python",
      "name": "python",
      "nbconvert_exporter": "python",
      "pygments_lexer": "ipython3",
      "version": "3.9.13"
    },
    "colab": {
      "provenance": []
    }
  },
  "nbformat": 4,
  "nbformat_minor": 5
}