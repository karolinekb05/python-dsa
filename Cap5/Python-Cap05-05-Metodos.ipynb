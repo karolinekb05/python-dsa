{
  "cells": [
    {
      "cell_type": "markdown",
      "id": "b5614174",
      "metadata": {
        "id": "b5614174"
      },
      "source": [
        "# Métodos\n",
        "\n",
        "**Tudo** em Python é um **objeto**. E cada objeto tem **métodos** e **atributos**.\n",
        "\n",
        "**Atributos** são propriedades, características do objeto.\n",
        "\n",
        "**Métodos** são funções com ações que podem ser executadas nos objetos.\n",
        "\n",
        "Temos classes para diferentes objetos.\n",
        "\n",
        "Todos os objetos que criamos são derivados da classe, e com isso, o objeto é uma instância da classe.\n",
        "\n",
        "Os objetos herdam os métodos e atributos da classe.\n",
        "\n",
        "Toda ação com o objeto é um método, e pode manipular atributos daquele objeto."
      ]
    },
    {
      "cell_type": "code",
      "execution_count": 1,
      "id": "8ac8c90c",
      "metadata": {
        "id": "8ac8c90c"
      },
      "outputs": [],
      "source": [
        "# Criando uma lista\n",
        "# Internamente, o interpretador buscou a classe list, verificou o bloco de comando que deve executar para criar uma lista\n",
        "# O objeto lista é uma instância da classe list\n",
        "# O objeto lista herda diversos métodos e atributos da classe list\n",
        "lista = [100, -2, 6.3, 29]"
      ]
    },
    {
      "cell_type": "code",
      "execution_count": null,
      "id": "3f38c5c8",
      "metadata": {
        "id": "3f38c5c8",
        "outputId": "9d266245-02ec-475e-d847-1681fcea95d8"
      },
      "outputs": [
        {
          "data": {
            "text/plain": [
              "list"
            ]
          },
          "execution_count": 2,
          "metadata": {},
          "output_type": "execute_result"
        }
      ],
      "source": [
        "type(lista)"
      ]
    },
    {
      "cell_type": "code",
      "execution_count": null,
      "id": "8e041f2b",
      "metadata": {
        "id": "8e041f2b",
        "outputId": "175c31c0-2269-49ba-c65a-360b59f02f9a"
      },
      "outputs": [
        {
          "data": {
            "text/plain": [
              "[100, -2, 6.3, 29]"
            ]
          },
          "execution_count": 3,
          "metadata": {},
          "output_type": "execute_result"
        }
      ],
      "source": [
        "# Verificando métodos e atributos\n",
        "lista"
      ]
    },
    {
      "cell_type": "code",
      "execution_count": null,
      "id": "09ef9b9e",
      "metadata": {
        "id": "09ef9b9e"
      },
      "outputs": [],
      "source": [
        "# Usando um método herdado da classe list no objeto lista\n",
        "# O método append acrescenta o item no objeto lista\n",
        "lista.append(100)"
      ]
    },
    {
      "cell_type": "code",
      "execution_count": null,
      "id": "b2604b34",
      "metadata": {
        "id": "b2604b34",
        "outputId": "a2122093-68a9-42ef-8050-7b1c0fde3873"
      },
      "outputs": [
        {
          "name": "stdout",
          "output_type": "stream",
          "text": [
            "[100, -2, 6.3, 29, 100]\n"
          ]
        }
      ],
      "source": [
        "# Imprimindo a lista\n",
        "print(lista)"
      ]
    },
    {
      "cell_type": "code",
      "execution_count": null,
      "id": "362c8502",
      "metadata": {
        "id": "362c8502",
        "outputId": "8ca357e7-e9a5-408d-b861-63088b6a1761"
      },
      "outputs": [
        {
          "data": {
            "text/plain": [
              "2"
            ]
          },
          "execution_count": 6,
          "metadata": {},
          "output_type": "execute_result"
        }
      ],
      "source": [
        "# Usando um método herdado da classe list no objeto lista\n",
        "# o método count conta quantos (no caso, 100) tem na lista\n",
        "lista.count(100)"
      ]
    },
    {
      "cell_type": "code",
      "execution_count": 3,
      "id": "779e194c",
      "metadata": {
        "id": "779e194c",
        "outputId": "ad247d4e-ba7b-4f4d-9c1b-df55faec0119",
        "colab": {
          "base_uri": "https://localhost:8080/"
        }
      },
      "outputs": [
        {
          "output_type": "stream",
          "name": "stdout",
          "text": [
            "Help on built-in function count:\n",
            "\n",
            "count(value, /) method of builtins.list instance\n",
            "    Return number of occurrences of value.\n",
            "\n",
            "-----\n",
            "Help on built-in function append:\n",
            "\n",
            "append(object, /) method of builtins.list instance\n",
            "    Append object to the end of the list.\n",
            "\n"
          ]
        }
      ],
      "source": [
        "# A função help() explica como utilizar cada método de um objeto\n",
        "help(lista.count)\n",
        "print('-----')\n",
        "help(lista.append)"
      ]
    },
    {
      "cell_type": "code",
      "execution_count": null,
      "id": "db9a359d",
      "metadata": {
        "id": "db9a359d",
        "outputId": "a6d19930-7fd0-45ff-b429-836e5eb4f20c"
      },
      "outputs": [
        {
          "data": {
            "text/plain": [
              "['__add__',\n",
              " '__class__',\n",
              " '__class_getitem__',\n",
              " '__contains__',\n",
              " '__delattr__',\n",
              " '__delitem__',\n",
              " '__dir__',\n",
              " '__doc__',\n",
              " '__eq__',\n",
              " '__format__',\n",
              " '__ge__',\n",
              " '__getattribute__',\n",
              " '__getitem__',\n",
              " '__gt__',\n",
              " '__hash__',\n",
              " '__iadd__',\n",
              " '__imul__',\n",
              " '__init__',\n",
              " '__init_subclass__',\n",
              " '__iter__',\n",
              " '__le__',\n",
              " '__len__',\n",
              " '__lt__',\n",
              " '__mul__',\n",
              " '__ne__',\n",
              " '__new__',\n",
              " '__reduce__',\n",
              " '__reduce_ex__',\n",
              " '__repr__',\n",
              " '__reversed__',\n",
              " '__rmul__',\n",
              " '__setattr__',\n",
              " '__setitem__',\n",
              " '__sizeof__',\n",
              " '__str__',\n",
              " '__subclasshook__',\n",
              " 'append',\n",
              " 'clear',\n",
              " 'copy',\n",
              " 'count',\n",
              " 'extend',\n",
              " 'index',\n",
              " 'insert',\n",
              " 'pop',\n",
              " 'remove',\n",
              " 'reverse',\n",
              " 'sort']"
            ]
          },
          "execution_count": 7,
          "metadata": {},
          "output_type": "execute_result"
        }
      ],
      "source": [
        "# A função dir() mostra todos os métodos e atributos de um objeto\n",
        "# Por default, os atributos tem underline no início e fim do nome\n",
        "dir(lista)"
      ]
    },
    {
      "cell_type": "code",
      "execution_count": 5,
      "id": "eeef63f4",
      "metadata": {
        "id": "eeef63f4"
      },
      "outputs": [],
      "source": [
        "# Criando o objeto frase, instância da classe str\n",
        "frase = 'Python é legal'"
      ]
    },
    {
      "cell_type": "code",
      "execution_count": null,
      "id": "2fcd764c",
      "metadata": {
        "id": "2fcd764c",
        "outputId": "63648961-067e-4b31-ffe6-7c49f603f10e"
      },
      "outputs": [
        {
          "data": {
            "text/plain": [
              "str"
            ]
          },
          "execution_count": 9,
          "metadata": {},
          "output_type": "execute_result"
        }
      ],
      "source": [
        "type(frase)"
      ]
    },
    {
      "cell_type": "code",
      "execution_count": 7,
      "id": "34671ba9",
      "metadata": {
        "id": "34671ba9",
        "outputId": "93deca55-a94a-4599-e101-184084a580e4",
        "colab": {
          "base_uri": "https://localhost:8080/",
          "height": 35
        }
      },
      "outputs": [
        {
          "output_type": "execute_result",
          "data": {
            "text/plain": [
              "'Python é legal'"
            ],
            "application/vnd.google.colaboratory.intrinsic+json": {
              "type": "string"
            }
          },
          "metadata": {},
          "execution_count": 7
        }
      ],
      "source": [
        "# Verificando métodos e atributos\n",
        "frase"
      ]
    },
    {
      "cell_type": "code",
      "execution_count": 9,
      "id": "f4b65f0a",
      "metadata": {
        "id": "f4b65f0a",
        "outputId": "5ab9b06c-0460-43af-b401-81875bc56299",
        "colab": {
          "base_uri": "https://localhost:8080/"
        }
      },
      "outputs": [
        {
          "output_type": "stream",
          "name": "stdout",
          "text": [
            "['Python', 'é', 'legal']\n",
            "--------\n",
            "O que é o método split:\n",
            "Help on method_descriptor:\n",
            "\n",
            "split(self, /, sep=None, maxsplit=-1)\n",
            "    Return a list of the substrings in the string, using sep as the separator string.\n",
            "    \n",
            "      sep\n",
            "        The separator used to split the string.\n",
            "    \n",
            "        When set to None (the default value), will split on any whitespace\n",
            "        character (including \\\\n \\\\r \\\\t \\\\f and spaces) and will discard\n",
            "        empty strings from the result.\n",
            "      maxsplit\n",
            "        Maximum number of splits (starting from the left).\n",
            "        -1 (the default value) means no limit.\n",
            "    \n",
            "    Note, str.split() is mainly useful for data that has been intentionally\n",
            "    delimited.  With natural text that includes punctuation, consider using\n",
            "    the regular expression module.\n",
            "\n"
          ]
        }
      ],
      "source": [
        "# O método de um objeto pode ser chamado dentro de uma função, como print()\n",
        "print(frase.split())\n",
        "print('--------')\n",
        "print('O que é o método split:')\n",
        "help(str.split)"
      ]
    }
  ],
  "metadata": {
    "kernelspec": {
      "display_name": "Python 3 (ipykernel)",
      "language": "python",
      "name": "python3"
    },
    "language_info": {
      "codemirror_mode": {
        "name": "ipython",
        "version": 3
      },
      "file_extension": ".py",
      "mimetype": "text/x-python",
      "name": "python",
      "nbconvert_exporter": "python",
      "pygments_lexer": "ipython3",
      "version": "3.9.13"
    },
    "colab": {
      "provenance": []
    }
  },
  "nbformat": 4,
  "nbformat_minor": 5
}