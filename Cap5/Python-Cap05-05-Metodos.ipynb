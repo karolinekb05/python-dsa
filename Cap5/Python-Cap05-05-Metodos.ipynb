{
 "cells": [
  {
   "cell_type": "markdown",
   "id": "8956afc2",
   "metadata": {},
   "source": [
    "# Métodos\n",
    "\n",
    "Tudo em Python é um objeto. E todo objeto tem métodos e atributos.\n",
    "\n",
    "Atributos são propriedades, características do objeto.\n",
    "Métodos são funções com ações que podem ser executadas nos objetos."
   ]
  },
  {
   "cell_type": "code",
   "execution_count": 1,
   "id": "02823456",
   "metadata": {},
   "outputs": [],
   "source": [
    "# Criando uma lista\n",
    "\n",
    "lista = [100, -2, 6.3, 29]"
   ]
  },
  {
   "cell_type": "code",
   "execution_count": 2,
   "id": "f38aa940",
   "metadata": {},
   "outputs": [
    {
     "data": {
      "text/plain": [
       "list"
      ]
     },
     "execution_count": 2,
     "metadata": {},
     "output_type": "execute_result"
    }
   ],
   "source": [
    "type(lista)"
   ]
  },
  {
   "cell_type": "code",
   "execution_count": 3,
   "id": "3f361134",
   "metadata": {},
   "outputs": [
    {
     "data": {
      "text/plain": [
       "[100, -2, 6.3, 29]"
      ]
     },
     "execution_count": 3,
     "metadata": {},
     "output_type": "execute_result"
    }
   ],
   "source": [
    "# Verificando métodos e atributos\n",
    "lista"
   ]
  },
  {
   "cell_type": "code",
   "execution_count": 4,
   "id": "13090928",
   "metadata": {},
   "outputs": [],
   "source": [
    "# Usando um método do objeto lista\n",
    "lista.append(100)"
   ]
  },
  {
   "cell_type": "code",
   "execution_count": 5,
   "id": "32b177bf",
   "metadata": {},
   "outputs": [
    {
     "name": "stdout",
     "output_type": "stream",
     "text": [
      "[100, -2, 6.3, 29, 100]\n"
     ]
    }
   ],
   "source": [
    "# Imprimindo a lista\n",
    "print(lista)"
   ]
  },
  {
   "cell_type": "code",
   "execution_count": 6,
   "id": "f4e04f1b",
   "metadata": {},
   "outputs": [
    {
     "data": {
      "text/plain": [
       "2"
      ]
     },
     "execution_count": 6,
     "metadata": {},
     "output_type": "execute_result"
    }
   ],
   "source": [
    "# Usando um método dp objeto lista\n",
    "lista.count(100)"
   ]
  },
  {
   "cell_type": "code",
   "execution_count": null,
   "id": "d10a5357",
   "metadata": {},
   "outputs": [],
   "source": []
  }
 ],
 "metadata": {
  "kernelspec": {
   "display_name": "Python 3 (ipykernel)",
   "language": "python",
   "name": "python3"
  },
  "language_info": {
   "codemirror_mode": {
    "name": "ipython",
    "version": 3
   },
   "file_extension": ".py",
   "mimetype": "text/x-python",
   "name": "python",
   "nbconvert_exporter": "python",
   "pygments_lexer": "ipython3",
   "version": "3.9.13"
  }
 },
 "nbformat": 4,
 "nbformat_minor": 5
}
