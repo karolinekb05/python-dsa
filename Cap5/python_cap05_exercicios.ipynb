{
  "nbformat": 4,
  "nbformat_minor": 0,
  "metadata": {
    "colab": {
      "provenance": [],
      "authorship_tag": "ABX9TyMFQngGiLZgHE0cu7RPQL3f"
    },
    "kernelspec": {
      "name": "python3",
      "display_name": "Python 3"
    },
    "language_info": {
      "name": "python"
    }
  },
  "cells": [
    {
      "cell_type": "code",
      "execution_count": null,
      "metadata": {
        "colab": {
          "base_uri": "https://localhost:8080/"
        },
        "id": "DpUMZ8bY7PHo",
        "outputId": "1de1cce1-b8ec-4650-c912-5e2d25e638de"
      },
      "outputs": [
        {
          "output_type": "stream",
          "name": "stdout",
          "text": [
            "0\n",
            "2\n",
            "4\n",
            "6\n",
            "8\n",
            "10\n",
            "12\n",
            "14\n",
            "16\n",
            "18\n",
            "20\n"
          ]
        }
      ],
      "source": [
        "# Exercício 1 - Crie uma função que imprima a sequência de números pares entre 1 e 20 (a função não recebe parâmetro)\n",
        "# e depois faça uma chamada à função para listar os números\n",
        "\n",
        "def conj_dados():\n",
        "  for i in range(0,21,2):\n",
        "    print(i)\n",
        "conj_dados()"
      ]
    },
    {
      "cell_type": "code",
      "source": [
        "# Exercício 2 - Crie uma função que receba uma string como argumento e retorne a mesma string em letras maiúsculas.\n",
        "# Faça uma chamada à função, passando como parâmetro uma string\n",
        "\n",
        "def upCase(nome):\n",
        "  return nome.upper()\n",
        "upCase('Python')"
      ],
      "metadata": {
        "colab": {
          "base_uri": "https://localhost:8080/",
          "height": 35
        },
        "id": "Kkl4z1JS8qPg",
        "outputId": "25b3382d-5fa1-4967-b900-773963621ff1"
      },
      "execution_count": null,
      "outputs": [
        {
          "output_type": "execute_result",
          "data": {
            "text/plain": [
              "'PYTHON'"
            ],
            "application/vnd.google.colaboratory.intrinsic+json": {
              "type": "string"
            }
          },
          "metadata": {},
          "execution_count": 9
        }
      ]
    },
    {
      "cell_type": "code",
      "source": [
        "# Exercício 3 - Crie uma função que receba como parâmetro uma lista de 4 elementos, adicione 2 elementos a lista e\n",
        "# imprima a lista\n",
        "lista2 = [2,4,6,7]\n",
        "\n",
        "def dados(n1, n2):\n",
        "  lista2.append(n1)\n",
        "  lista2.append(n2)\n",
        "\n",
        "dados(3,6)\n",
        "print(lista2)"
      ],
      "metadata": {
        "colab": {
          "base_uri": "https://localhost:8080/"
        },
        "id": "ufFKrMFi93fF",
        "outputId": "22b78f35-e2c9-4998-8d24-9d4bd848c895"
      },
      "execution_count": null,
      "outputs": [
        {
          "output_type": "stream",
          "name": "stdout",
          "text": [
            "[2, 4, 6, 7, 3, 6]\n"
          ]
        }
      ]
    },
    {
      "cell_type": "code",
      "source": [
        "# Exercício 4 - Crie uma função que receba um argumento formal e uma possível lista de elementos. Faça duas chamadas\n",
        "# à função, com apenas 1 elemento e na segunda chamada com 4 elementos\n",
        "\n",
        "def nova(arg, *args):\n",
        "  elm = arg\n",
        "  print(elm)\n",
        "  for i in args:\n",
        "    print(i)\n",
        "    return;\n",
        "\n",
        "nova('Python')"
      ],
      "metadata": {
        "colab": {
          "base_uri": "https://localhost:8080/"
        },
        "id": "qalZZaiy-eRH",
        "outputId": "fee11877-1ca0-4d4f-bc26-b6b59eab551e"
      },
      "execution_count": null,
      "outputs": [
        {
          "output_type": "stream",
          "name": "stdout",
          "text": [
            "Python\n"
          ]
        }
      ]
    },
    {
      "cell_type": "code",
      "source": [
        "nova(1, [3,6,9,12])"
      ],
      "metadata": {
        "colab": {
          "base_uri": "https://localhost:8080/"
        },
        "id": "AoaHsrI6OOrw",
        "outputId": "43bf3658-67c3-4052-f6a5-ce62af39e981"
      },
      "execution_count": null,
      "outputs": [
        {
          "output_type": "stream",
          "name": "stdout",
          "text": [
            "1\n",
            "[3, 6, 9, 12]\n"
          ]
        }
      ]
    },
    {
      "cell_type": "code",
      "source": [
        "# Exercício 5 - Crie uma função anônima e atribua seu retorno a uma variável chamada soma. A expressão vai receber 2\n",
        "# números como parâmetro e retornar a soma deles\n",
        "\n",
        "soma = lambda x,y: x+y\n",
        "soma(2,2)"
      ],
      "metadata": {
        "colab": {
          "base_uri": "https://localhost:8080/"
        },
        "id": "Kdn30LGxOg_0",
        "outputId": "5d487e09-d41b-4019-bd70-c551a63dd657"
      },
      "execution_count": null,
      "outputs": [
        {
          "output_type": "execute_result",
          "data": {
            "text/plain": [
              "4"
            ]
          },
          "metadata": {},
          "execution_count": 30
        }
      ]
    },
    {
      "cell_type": "code",
      "source": [
        "# Exercício 6 - Execute o código abaixo e certifique-se que compreende a diferença entre variável global e local\n",
        "total = 0\n",
        "def soma( arg1, arg2 ):\n",
        "    total = arg1 + arg2;\n",
        "    print (\"Dentro da função o total é: \", total)\n",
        "    return total;\n",
        "\n",
        "\n",
        "soma( 10, 20 );\n",
        "print (\"Fora da função o total é: \", total)"
      ],
      "metadata": {
        "colab": {
          "base_uri": "https://localhost:8080/"
        },
        "id": "Sx-VPfZ2SfaR",
        "outputId": "536ddedc-224e-4b37-b3eb-72c832dfa448"
      },
      "execution_count": null,
      "outputs": [
        {
          "output_type": "stream",
          "name": "stdout",
          "text": [
            "Dentro da função o total é:  30\n",
            "Fora da função o total é:  0\n"
          ]
        }
      ]
    },
    {
      "cell_type": "code",
      "source": [
        "# Exercício 7 - Abaixo você encontra uma lista com temperaturas em graus Celsius\n",
        "# Crie uma função anônima que converta cada temperatura para Fahrenheit\n",
        "# Dica: para conseguir realizar este exercício, você deve criar sua função lambda, dentro de uma função\n",
        "# (que será estudada no próximo capítulo). Isso permite aplicar sua função a cada elemento da lista\n",
        "# Como descobrir a fórmula matemática que converte de Celsius para Fahrenheit? Pesquise!!!\n",
        "Celsius = [39.2, 36.5, 37.3, 37.8]\n",
        "Fahrenheit = map(lambda t: (t * 1.8) + 32, Celsius)\n",
        "print(list(Fahrenheit))"
      ],
      "metadata": {
        "colab": {
          "base_uri": "https://localhost:8080/"
        },
        "id": "A0wm8CUMSqHh",
        "outputId": "7b17038a-08ac-4ed5-d5b1-5ee2a0e9af07"
      },
      "execution_count": null,
      "outputs": [
        {
          "output_type": "stream",
          "name": "stdout",
          "text": [
            "[102.56, 97.7, 99.14, 100.03999999999999]\n"
          ]
        }
      ]
    },
    {
      "cell_type": "code",
      "source": [
        "# Exercício 8 - Crie uma list comprehension que imprima o quadrado dos números de 1 a 10\n",
        "[x**2 for x in range(1,11)]"
      ],
      "metadata": {
        "colab": {
          "base_uri": "https://localhost:8080/"
        },
        "id": "t1PjMQs5VbM-",
        "outputId": "111dd910-a30b-4281-c0f4-b4ce80f18945"
      },
      "execution_count": null,
      "outputs": [
        {
          "output_type": "execute_result",
          "data": {
            "text/plain": [
              "[1, 4, 9, 16, 25, 36, 49, 64, 81, 100]"
            ]
          },
          "metadata": {},
          "execution_count": 41
        }
      ]
    },
    {
      "cell_type": "code",
      "source": [
        "# Exercício 9 - Crie uma list comprehension que imprima as palavras com a letra a no nome\n",
        "palavras = [\"maça\", \"coiote\", \"banana\", \"terreno\", \"Python\"]\n",
        "[i for i in palavras if 'a' in i]"
      ],
      "metadata": {
        "colab": {
          "base_uri": "https://localhost:8080/"
        },
        "id": "pWCIKU0SVi1W",
        "outputId": "72eb5b8f-c70e-4c9a-9dbe-9c811ba0813d"
      },
      "execution_count": null,
      "outputs": [
        {
          "output_type": "execute_result",
          "data": {
            "text/plain": [
              "['maça', 'banana']"
            ]
          },
          "metadata": {},
          "execution_count": 42
        }
      ]
    },
    {
      "cell_type": "code",
      "source": [
        "# Exercício 10 - Crie uma list comprehension que imprima os números menores que 5 em um intervalo de 1 a 10\n",
        "[i for i in range(11) if i < 5]"
      ],
      "metadata": {
        "colab": {
          "base_uri": "https://localhost:8080/"
        },
        "id": "FJV83kOjV5oZ",
        "outputId": "2a76b54e-1c7c-445b-e8ac-cd861f9761bf"
      },
      "execution_count": null,
      "outputs": [
        {
          "output_type": "execute_result",
          "data": {
            "text/plain": [
              "[0, 1, 2, 3, 4]"
            ]
          },
          "metadata": {},
          "execution_count": 14
        }
      ]
    }
  ]
}