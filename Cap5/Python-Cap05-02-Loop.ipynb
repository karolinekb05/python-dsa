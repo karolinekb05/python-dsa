{
  "cells": [
    {
      "cell_type": "markdown",
      "id": "39cbcf9a",
      "metadata": {
        "id": "39cbcf9a"
      },
      "source": [
        "## Loop For\n",
        "\n",
        "Executa uma ação diversas vezes\n",
        "\n",
        "Percorre uma coleção de elementos (números, caracteres, pares de chave e valor, etc) e executa uma ação (imprimir na tela, validar um condicional, outro loop, etc)\n",
        "\n",
        "Pode ser usado com qualquer estrutura de dados"
      ]
    },
    {
      "cell_type": "code",
      "execution_count": null,
      "id": "a0852e3d",
      "metadata": {
        "id": "a0852e3d",
        "outputId": "f68c493f-2bac-432b-867b-dbfe720d13f0"
      },
      "outputs": [
        {
          "name": "stdout",
          "output_type": "stream",
          "text": [
            "2\n",
            "4\n",
            "6\n"
          ]
        }
      ],
      "source": [
        "# Criando uma tupla e imprimindo cada valor\n",
        "# Por convenção é usado o i, mas pode ser usada qualquer letra\n",
        "# i representa cada elemento dentro tupla\n",
        "tup = (2,4,6)\n",
        "# para cada elemento (i) dentro da tup\n",
        "for i in tup:\n",
        "    # imprima o elemento\n",
        "    print(i)"
      ]
    },
    {
      "cell_type": "code",
      "execution_count": null,
      "id": "4dddb1ee",
      "metadata": {
        "id": "4dddb1ee",
        "outputId": "ae48c868-47e0-4a77-d1d8-42217a626380"
      },
      "outputs": [
        {
          "name": "stdout",
          "output_type": "stream",
          "text": [
            "2\n",
            "4\n",
            "6\n",
            "8\n"
          ]
        }
      ],
      "source": [
        "# Criando uma lista e imprimindo os valores\n",
        "lst = [2,4,6,8]\n",
        "# Para cada elemento (i) dentro da lst\n",
        "for i in lst:\n",
        "    # imprima o elemento\n",
        "    print(i)"
      ]
    },
    {
      "cell_type": "code",
      "execution_count": null,
      "id": "1cf548cc",
      "metadata": {
        "id": "1cf548cc",
        "outputId": "0a37fa68-359a-4f21-b5b7-eb28c672068d"
      },
      "outputs": [
        {
          "name": "stdout",
          "output_type": "stream",
          "text": [
            "0\n",
            "1\n",
            "2\n",
            "3\n",
            "4\n"
          ]
        }
      ],
      "source": [
        "# função range cria um intervalo de valores, nesse caso entre 0 e 5, sendo 5 exclusivo\n",
        "\n",
        "# Para cada elemento dentro do intervalo de 0 até 5\n",
        "for cont in range(0,5):\n",
        "    # imprima o elemento\n",
        "    print(cont)"
      ]
    },
    {
      "cell_type": "code",
      "execution_count": null,
      "id": "a3d1dbab",
      "metadata": {
        "id": "a3d1dbab",
        "outputId": "3d4453e5-dbf8-4f7d-893e-7b4402dd4b83"
      },
      "outputs": [
        {
          "name": "stdout",
          "output_type": "stream",
          "text": [
            "2\n",
            "4\n",
            "6\n",
            "8\n",
            "10\n"
          ]
        }
      ],
      "source": [
        "# Imprima somente os números pares da lista\n",
        "# Percorre cada um dos números da lista, em cada número divide por 2, se o resto da divisão resultar em 0, quer dizer que o número é par, então será imprimido\n",
        "lst_pares = [1,2,3,4,5,6,7,8,9,10]\n",
        "\n",
        "# Para cada número dentro da lst_pares\n",
        "for p in lst_pares:\n",
        "    # Se o elemento / 2 resultar em 0\n",
        "    if p % 2 == 0:\n",
        "        # imprima o elemento\n",
        "        print(p)"
      ]
    },
    {
      "cell_type": "code",
      "execution_count": null,
      "id": "d1017aa3",
      "metadata": {
        "id": "d1017aa3",
        "outputId": "ca840296-5367-4c8f-f405-563dccaaed6e",
        "colab": {
          "base_uri": "https://localhost:8080/"
        }
      },
      "outputs": [
        {
          "output_type": "stream",
          "name": "stdout",
          "text": [
            "0\n",
            "2\n",
            "4\n",
            "6\n",
            "8\n",
            "10\n",
            "12\n",
            "14\n",
            "16\n",
            "18\n",
            "20\n",
            "22\n",
            "24\n",
            "26\n",
            "28\n",
            "30\n",
            "32\n",
            "34\n",
            "36\n",
            "38\n",
            "40\n",
            "42\n",
            "44\n",
            "46\n",
            "48\n"
          ]
        }
      ],
      "source": [
        "# Listando os números no intervalo entre 0 e 50 com incremento (saltando) de 2 em 2\n",
        "# 50 é exclusive\n",
        "# A função range permite a definição de incremento (salto)\n",
        "# Consequentemente, o resultado será somente de números pares\n",
        "# Para cada elemento dentro do intervalo de 0 até 50, saltando de 2 em 2\n",
        "for elemento in range(0,50,2):\n",
        "    # imprima o elemento\n",
        "    print(elemento)"
      ]
    },
    {
      "cell_type": "code",
      "execution_count": null,
      "id": "9fc70896",
      "metadata": {
        "id": "9fc70896",
        "outputId": "a4cb8aec-dc83-43fb-f2ab-a455fa1166f4"
      },
      "outputs": [
        {
          "name": "stdout",
          "output_type": "stream",
          "text": [
            "P\n",
            "y\n",
            "t\n",
            "h\n",
            "o\n",
            "n\n",
            " \n",
            "é\n",
            " \n",
            "l\n",
            "e\n",
            "g\n",
            "a\n",
            "l\n"
          ]
        }
      ],
      "source": [
        "# Strings também são sequências\n",
        "# String também é uma coleção de caracteres\n",
        "for i in 'Python é legal':\n",
        "    print(i)"
      ]
    },
    {
      "cell_type": "markdown",
      "id": "8ca3cd13",
      "metadata": {
        "id": "8ca3cd13"
      },
      "source": [
        "## Loop For aninhado"
      ]
    },
    {
      "cell_type": "code",
      "execution_count": null,
      "id": "d99ddcc5",
      "metadata": {
        "id": "d99ddcc5",
        "outputId": "0f6e3e40-d2d7-4dbe-daa4-4107901428b0"
      },
      "outputs": [
        {
          "name": "stdout",
          "output_type": "stream",
          "text": [
            "\n",
            " 2\n",
            "\n",
            " 4\n",
            "\n",
            " 6\n",
            "----\n",
            "\n",
            " 4\n",
            "\n",
            " 8\n",
            "\n",
            " 12\n",
            "----\n",
            "\n",
            " 6\n",
            "\n",
            " 12\n",
            "\n",
            " 18\n",
            "----\n",
            "\n",
            " 8\n",
            "\n",
            " 16\n",
            "\n",
            " 24\n",
            "----\n"
          ]
        }
      ],
      "source": [
        "# Loops aninhados\n",
        "# Ex: número 2 da lista1 multiplica por todos os elementos da lista2, assim segue para cada elemento da lista1\n",
        "lista1 = [2,4,6,8]\n",
        "lista2 = [1,2,3]\n",
        "\n",
        "# Loop externo\n",
        "# Para cada elemento dentro da lista1\n",
        "for el_lista1 in lista1:\n",
        "    # Loop interno\n",
        "    # Para cada elemento dentro da lista2\n",
        "    for el_lista2 in lista2:\n",
        "        # Imprime a multiplicação do elemento da lista1 com o elemento da lista2\n",
        "        print('\\n', el_lista1 * el_lista2)\n",
        "    # Este print faz parte do primeiro loop for\n",
        "    print('----')"
      ]
    },
    {
      "cell_type": "code",
      "execution_count": null,
      "id": "55e5b668",
      "metadata": {
        "id": "55e5b668",
        "outputId": "52cd836c-bea3-417b-ba87-38dc1bee90ac"
      },
      "outputs": [
        {
          "name": "stdout",
          "output_type": "stream",
          "text": [
            "O número 47 está nas duas listas!\n"
          ]
        }
      ],
      "source": [
        "# Verificando se o número 47 está nas duas listas\n",
        "\n",
        "l1 = [2,20,35,47]\n",
        "l2 = [3,17,36,47]\n",
        "\n",
        "# Loop externo\n",
        "# Para cada elemento dentro da l1\n",
        "for el_l1 in l1:\n",
        "    # Loop interno\n",
        "    # Para cada elemento dentro da l2\n",
        "    for el_l2 in l2:\n",
        "        # Condicional\n",
        "        # Se o elemento da l1 for 47 E o elemento da l2 for 47\n",
        "        if el_l1 == 47 and el_l2 == 47:\n",
        "            print('O número 47 está nas duas listas!')"
      ]
    },
    {
      "cell_type": "code",
      "execution_count": null,
      "id": "979a77c9",
      "metadata": {
        "id": "979a77c9",
        "outputId": "7d8c0926-7aa4-4aa3-c98a-bd5ea5c5df83"
      },
      "outputs": [
        {
          "name": "stdout",
          "output_type": "stream",
          "text": [
            "O valor total da soma é 30\n"
          ]
        }
      ],
      "source": [
        "# Soma os números pares da primeira lista com os números pares da segunda lista\n",
        "lis1 = [1,2,3,4,5,6]\n",
        "lis2 = [7,8,9,10]\n",
        "soma = 0\n",
        "\n",
        "# Loop externo, duas listas dentro de uma lista virou 1 lista\n",
        "# Para cada lista dentro da lista de listas\n",
        "for lista in [lis1, lis2]:\n",
        "    # Loop interno\n",
        "    # Para cada elemento dentro da lista\n",
        "    for n in lista:\n",
        "        # Condicional\n",
        "        # Se o elemento / 2 resta 0\n",
        "        if n % 2 == 0:\n",
        "            # Adiciona o valor à variável soma\n",
        "            # += (atribuição) pega o valor que já existe na variável 'soma' e adiciona com o elemento\n",
        "            soma += n #simplifica\n",
        "            # Outra opção igual\n",
        "            # temp = soma + num\n",
        "            # soma = temp\n",
        "\n",
        "# Atenção na identação\n",
        "print('O valor total da soma é:', soma)"
      ]
    },
    {
      "cell_type": "markdown",
      "source": [
        "+= soma e guarda\n",
        "\n",
        "*= multiplica e guarda\n",
        "\n",
        "-= subtrai e guarda\n",
        "\n",
        "/= divide e guarda"
      ],
      "metadata": {
        "id": "lcNncLBEVov1"
      },
      "id": "lcNncLBEVov1"
    },
    {
      "cell_type": "code",
      "execution_count": null,
      "id": "007f815d",
      "metadata": {
        "id": "007f815d",
        "outputId": "6327ef8e-d9ad-4be5-9c98-3b0a36a8b20d"
      },
      "outputs": [
        {
          "data": {
            "text/plain": [
              "[1, 2, 3, 4, 5, 6, 7, 8, 9, 10]"
            ]
          },
          "execution_count": 18,
          "metadata": {},
          "output_type": "execute_result"
        }
      ],
      "source": [
        "# É possível concatenar duas listas em Python\n",
        "lis1 + lis2"
      ]
    },
    {
      "cell_type": "code",
      "execution_count": null,
      "id": "96d9b6f9",
      "metadata": {
        "id": "96d9b6f9",
        "outputId": "794f6d62-663a-4cf0-9f62-f960c6193a24"
      },
      "outputs": [
        {
          "name": "stdout",
          "output_type": "stream",
          "text": [
            "O valor total da soma é: 30\n"
          ]
        }
      ],
      "source": [
        "# Soma os números pares da primeira lista com os números pares da segunda lista\n",
        "lis1 = [1,2,3,4,5,6]\n",
        "lis2 = [7,8,9,10]\n",
        "soma = 0\n",
        "\n",
        "# Loop externo, concatenando as duas listas\n",
        "# Ao invés de criar 2 loops for, concatena as duas listas para se tornarem 1 lista\n",
        "for n in lis1 + lis2:\n",
        "        # Condicional\n",
        "        if n % 2 == 0:\n",
        "            # Soma o valor que já existe com o novo e atribui à variável 'soma'\n",
        "            soma += n\n",
        "# Atenção na identação\n",
        "print('O valor total da soma é:', soma)"
      ]
    },
    {
      "cell_type": "code",
      "execution_count": null,
      "id": "3c866fd4",
      "metadata": {
        "id": "3c866fd4",
        "outputId": "b691ebd4-0d7d-49fa-83d2-d4b73ac60ed2",
        "colab": {
          "base_uri": "https://localhost:8080/"
        }
      },
      "outputs": [
        {
          "output_type": "stream",
          "name": "stdout",
          "text": [
            "[[20, 2, 40], [102, 204, 2.9], [10.7, 11.6, 80.9]]\n",
            "O maior número da matriz é: 204\n"
          ]
        }
      ],
      "source": [
        "# Loop em lista de listas (matrizes) para encontrar o maior número\n",
        "# Estrutura de matriz: [[], [], []]\n",
        "\n",
        "# Uma lista com 3 listas dentro, cada lista é um elemento\n",
        "matriz = [[20,2,40], [102,204,2.9], [10.7,11.6,80.9]]\n",
        "print(matriz)\n",
        "maior_num = 0\n",
        "\n",
        "# Percorre toda a matriz\n",
        "# Para cada elemento dentro da matriz\n",
        "for linha in matriz:\n",
        "    # Percorre cada linha; Para cada número dentro do elemento\n",
        "    for n in linha:\n",
        "        # Se o número dentro da elemento for maior que a variável 'maior_num'\n",
        "        if n > maior_num:\n",
        "            # Substitui o valor da variável 'maior_num' pelo valor de 'n'\n",
        "            maior_num = n\n",
        "print('O maior número da matriz é:', maior_num)"
      ]
    },
    {
      "cell_type": "code",
      "execution_count": null,
      "id": "0cefd7fe",
      "metadata": {
        "id": "0cefd7fe",
        "outputId": "75818663-ffb1-4c50-e870-5ba3c8d7336b"
      },
      "outputs": [
        {
          "name": "stdout",
          "output_type": "stream",
          "text": [
            "k1\n",
            "k2\n",
            "k3\n"
          ]
        }
      ],
      "source": [
        "# Listando as chaves do dicionário\n",
        "# Cada item do dicionário, por default é a chave\n",
        "dict = {'k1':'Python', 'k2':'R', 'k3':'Scala'}\n",
        "for item in dict:\n",
        "    print(item)"
      ]
    },
    {
      "cell_type": "code",
      "execution_count": null,
      "id": "2bdb4a5c",
      "metadata": {
        "id": "2bdb4a5c",
        "outputId": "723d5edc-b9ab-4e1c-ec02-860db316056e"
      },
      "outputs": [
        {
          "name": "stdout",
          "output_type": "stream",
          "text": [
            "k1 Python\n",
            "k2 R\n",
            "k3 Scala\n"
          ]
        }
      ],
      "source": [
        "# Como por default só imprime a chave, para imprimir também o valor é preciso usar o método items(), ele que imprime os valores das chaves\n",
        "# Para cada elemento dentro do dicionário\n",
        "# k é a chave\n",
        "# v é o valor\n",
        "for k,v in dict.items():\n",
        "    print(k,v)"
      ]
    }
  ],
  "metadata": {
    "kernelspec": {
      "display_name": "Python 3 (ipykernel)",
      "language": "python",
      "name": "python3"
    },
    "language_info": {
      "codemirror_mode": {
        "name": "ipython",
        "version": 3
      },
      "file_extension": ".py",
      "mimetype": "text/x-python",
      "name": "python",
      "nbconvert_exporter": "python",
      "pygments_lexer": "ipython3",
      "version": "3.9.13"
    },
    "colab": {
      "provenance": []
    }
  },
  "nbformat": 4,
  "nbformat_minor": 5
}