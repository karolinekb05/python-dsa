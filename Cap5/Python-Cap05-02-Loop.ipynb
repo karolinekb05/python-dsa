{
 "cells": [
  {
   "cell_type": "markdown",
   "id": "39cbcf9a",
   "metadata": {},
   "source": [
    "## Loop For"
   ]
  },
  {
   "cell_type": "code",
   "execution_count": 1,
   "id": "a0852e3d",
   "metadata": {},
   "outputs": [
    {
     "name": "stdout",
     "output_type": "stream",
     "text": [
      "2\n",
      "4\n",
      "6\n"
     ]
    }
   ],
   "source": [
    "# Criando uma tupla e imprimindo cada valor\n",
    "# Normalmente é usado o i, mas pode ser usada qualquer letra\n",
    "tup = (2,4,6)\n",
    "for i in tup:\n",
    "    print(i)"
   ]
  },
  {
   "cell_type": "code",
   "execution_count": 2,
   "id": "4dddb1ee",
   "metadata": {},
   "outputs": [
    {
     "name": "stdout",
     "output_type": "stream",
     "text": [
      "2\n",
      "4\n",
      "6\n",
      "8\n"
     ]
    }
   ],
   "source": [
    "# Criando uma lista e imprimindo os valores\n",
    "lst = [2,4,6,8]\n",
    "for i in lst:\n",
    "    print(i)"
   ]
  },
  {
   "cell_type": "code",
   "execution_count": 3,
   "id": "1cf548cc",
   "metadata": {},
   "outputs": [
    {
     "name": "stdout",
     "output_type": "stream",
     "text": [
      "0\n",
      "1\n",
      "2\n",
      "3\n",
      "4\n"
     ]
    }
   ],
   "source": [
    "# Imprimindo cada elemento no intervalo entre 0 e 5 (exclusive)\n",
    "for cont in range(0,5):\n",
    "    print(cont)"
   ]
  },
  {
   "cell_type": "code",
   "execution_count": 4,
   "id": "a3d1dbab",
   "metadata": {},
   "outputs": [
    {
     "name": "stdout",
     "output_type": "stream",
     "text": [
      "2\n",
      "4\n",
      "6\n",
      "8\n",
      "10\n"
     ]
    }
   ],
   "source": [
    "# Imprimindo os números pares da lista de números\n",
    "lst_pares = [1,2,3,4,5,6,7,8,9,10]\n",
    "for p in lst_pares:\n",
    "    if p % 2 == 0:\n",
    "        print(p)"
   ]
  },
  {
   "cell_type": "code",
   "execution_count": 5,
   "id": "d1017aa3",
   "metadata": {},
   "outputs": [
    {
     "name": "stdout",
     "output_type": "stream",
     "text": [
      "0\n",
      "2\n",
      "4\n",
      "6\n",
      "8\n",
      "10\n",
      "12\n",
      "14\n",
      "16\n",
      "18\n",
      "20\n",
      "22\n",
      "24\n",
      "26\n",
      "28\n",
      "30\n",
      "32\n",
      "34\n",
      "36\n",
      "38\n",
      "40\n",
      "42\n",
      "44\n",
      "46\n",
      "48\n",
      "50\n",
      "52\n",
      "54\n",
      "56\n",
      "58\n",
      "60\n",
      "62\n",
      "64\n",
      "66\n",
      "68\n",
      "70\n",
      "72\n",
      "74\n",
      "76\n",
      "78\n",
      "80\n",
      "82\n",
      "84\n",
      "86\n",
      "88\n",
      "90\n",
      "92\n",
      "94\n",
      "96\n",
      "98\n",
      "100\n"
     ]
    }
   ],
   "source": [
    "# Listando os números no intervalo entre 0 e 101 com incremento em 2\n",
    "for elemento in range(0,101,2):\n",
    "    print(elemento)"
   ]
  },
  {
   "cell_type": "code",
   "execution_count": 6,
   "id": "9fc70896",
   "metadata": {},
   "outputs": [
    {
     "name": "stdout",
     "output_type": "stream",
     "text": [
      "P\n",
      "y\n",
      "t\n",
      "h\n",
      "o\n",
      "n\n",
      " \n",
      "é\n",
      " \n",
      "l\n",
      "e\n",
      "g\n",
      "a\n",
      "l\n"
     ]
    }
   ],
   "source": [
    "# Strings também são sequências\n",
    "for i in 'Python é legal':\n",
    "    print(i)"
   ]
  },
  {
   "cell_type": "markdown",
   "id": "8ca3cd13",
   "metadata": {},
   "source": [
    "## Loop For aninhado"
   ]
  },
  {
   "cell_type": "code",
   "execution_count": 8,
   "id": "d99ddcc5",
   "metadata": {},
   "outputs": [
    {
     "name": "stdout",
     "output_type": "stream",
     "text": [
      "\n",
      " 2\n",
      "\n",
      " 4\n",
      "\n",
      " 6\n",
      "----\n",
      "\n",
      " 4\n",
      "\n",
      " 8\n",
      "\n",
      " 12\n",
      "----\n",
      "\n",
      " 6\n",
      "\n",
      " 12\n",
      "\n",
      " 18\n",
      "----\n",
      "\n",
      " 8\n",
      "\n",
      " 16\n",
      "\n",
      " 24\n",
      "----\n"
     ]
    }
   ],
   "source": [
    "# Loops aninhados\n",
    "lista1 = [2,4,6,8]\n",
    "lista2 = [1,2,3]\n",
    "\n",
    "# Loop externo\n",
    "for el_lista1 in lista1:\n",
    "    # Loop interno\n",
    "    for el_lista2 in lista2:\n",
    "        print('\\n', el_lista1 * el_lista2)\n",
    "    print('----')"
   ]
  },
  {
   "cell_type": "code",
   "execution_count": 11,
   "id": "55e5b668",
   "metadata": {},
   "outputs": [
    {
     "name": "stdout",
     "output_type": "stream",
     "text": [
      "O número 47 está nas duas listas!\n"
     ]
    }
   ],
   "source": [
    "# Verificando se o número 47 está nas duas listas\n",
    "\n",
    "l1 = [2,20,35,47]\n",
    "l2 = [3,17,36,47]\n",
    "\n",
    "# Loop externo\n",
    "for el_l1 in l1:\n",
    "    # Loop interno\n",
    "    for el_l2 in l2:\n",
    "        # Condicional\n",
    "        if el_l1 == 47 and el_l2 == 47:\n",
    "            print('O número 47 está nas duas listas!')"
   ]
  },
  {
   "cell_type": "code",
   "execution_count": 16,
   "id": "979a77c9",
   "metadata": {},
   "outputs": [
    {
     "name": "stdout",
     "output_type": "stream",
     "text": [
      "O valor total da soma é 30\n"
     ]
    }
   ],
   "source": [
    "# Soma os números pares da primeira lista com os números pares da segunda lista\n",
    "lis1 = [1,2,3,4,5,6]\n",
    "lis2 = [7,8,9,10]\n",
    "soma = 0\n",
    "\n",
    "# Loop externo, duas listas dentro de uma lista virou 1 lista\n",
    "for lista in [lis1, lis2]:\n",
    "    # Loop interno\n",
    "    for n in lista:\n",
    "        # Condicional\n",
    "        if n % 2 == 0:\n",
    "            # Acumula os valores das somas\n",
    "            soma += n\n",
    "# Atenção na identação\n",
    "print('O valor total da soma é:', soma)"
   ]
  },
  {
   "cell_type": "code",
   "execution_count": 18,
   "id": "007f815d",
   "metadata": {},
   "outputs": [
    {
     "data": {
      "text/plain": [
       "[1, 2, 3, 4, 5, 6, 7, 8, 9, 10]"
      ]
     },
     "execution_count": 18,
     "metadata": {},
     "output_type": "execute_result"
    }
   ],
   "source": [
    "# É possível concatenar duas listas em Python\n",
    "lis1 + lis2"
   ]
  },
  {
   "cell_type": "code",
   "execution_count": 19,
   "id": "96d9b6f9",
   "metadata": {},
   "outputs": [
    {
     "name": "stdout",
     "output_type": "stream",
     "text": [
      "O valor total da soma é: 30\n"
     ]
    }
   ],
   "source": [
    "# Soma os números pares da primeira lista com os números pares da segunda lista\n",
    "lis1 = [1,2,3,4,5,6]\n",
    "lis2 = [7,8,9,10]\n",
    "soma = 0\n",
    "\n",
    "# Loop externo, concatenando as duas listas\n",
    "for n in lis1 + lis2:\n",
    "        # Condicional\n",
    "        if n % 2 == 0:\n",
    "            # Acumula os valores das somas\n",
    "            soma += n\n",
    "# Atenção na identação\n",
    "print('O valor total da soma é:', soma)"
   ]
  },
  {
   "cell_type": "code",
   "execution_count": 23,
   "id": "3c866fd4",
   "metadata": {},
   "outputs": [
    {
     "name": "stdout",
     "output_type": "stream",
     "text": [
      "O maior número da matriz é: 204\n"
     ]
    }
   ],
   "source": [
    "# Loop em lista de listas (matrizes) para encontrar o maior número\n",
    "# Estrutura de matriz: [[], [], []]\n",
    "\n",
    "matriz = [[2,20,40], [102,204,2.9], [10.7,11.6,80.9]]\n",
    "maior_num = 0\n",
    "\n",
    "for linha in matriz:\n",
    "    for n in linha:\n",
    "        if n > maior_num:\n",
    "            maior_num = n\n",
    "print('O maior número da matriz é:', maior_num)"
   ]
  },
  {
   "cell_type": "code",
   "execution_count": 24,
   "id": "0cefd7fe",
   "metadata": {},
   "outputs": [
    {
     "name": "stdout",
     "output_type": "stream",
     "text": [
      "k1\n",
      "k2\n",
      "k3\n"
     ]
    }
   ],
   "source": [
    "# Listando as chaves do dicionário\n",
    "dict = {'k1':'Python', 'k2':'R', 'k3':'Scala'}\n",
    "for item in dict:\n",
    "    print(item)"
   ]
  },
  {
   "cell_type": "code",
   "execution_count": 26,
   "id": "2bdb4a5c",
   "metadata": {},
   "outputs": [
    {
     "name": "stdout",
     "output_type": "stream",
     "text": [
      "k1 Python\n",
      "k2 R\n",
      "k3 Scala\n"
     ]
    }
   ],
   "source": [
    "# Imprimindo chave e valor do dicionário. Utilizando o método items() para retornar os valores do dict\n",
    "for k,v in dict.items():\n",
    "    print(k,v)"
   ]
  }
 ],
 "metadata": {
  "kernelspec": {
   "display_name": "Python 3 (ipykernel)",
   "language": "python",
   "name": "python3"
  },
  "language_info": {
   "codemirror_mode": {
    "name": "ipython",
    "version": 3
   },
   "file_extension": ".py",
   "mimetype": "text/x-python",
   "name": "python",
   "nbconvert_exporter": "python",
   "pygments_lexer": "ipython3",
   "version": "3.9.13"
  }
 },
 "nbformat": 4,
 "nbformat_minor": 5
}
