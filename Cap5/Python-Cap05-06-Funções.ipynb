{
  "cells": [
    {
      "cell_type": "markdown",
      "id": "dee25f26",
      "metadata": {
        "id": "dee25f26"
      },
      "source": [
        "# Funções\n",
        "É um bloco de código que pode ser executado incontáveis vezes através da chamada da função\n",
        "\n",
        "Quando uma função faz parte de uma classe, ela é chamada de método."
      ]
    },
    {
      "cell_type": "code",
      "execution_count": null,
      "id": "df7ef33e",
      "metadata": {
        "id": "df7ef33e",
        "outputId": "87a1f74a-f90b-4a23-acbe-fc4ac3696849"
      },
      "outputs": [
        {
          "name": "stdout",
          "output_type": "stream",
          "text": [
            "Hello World\n"
          ]
        }
      ],
      "source": [
        "# Função built-in (interna do Python)\n",
        "print('Hello World')"
      ]
    },
    {
      "cell_type": "code",
      "execution_count": null,
      "id": "992510bb",
      "metadata": {
        "id": "992510bb"
      },
      "outputs": [],
      "source": [
        "# Criando uma função/objeto\n",
        "def primeiraFuncao():\n",
        "    print('Esta é minha primeira função em Python')"
      ]
    },
    {
      "cell_type": "code",
      "execution_count": null,
      "id": "752c8416",
      "metadata": {
        "id": "752c8416",
        "outputId": "02329505-4118-49f6-c70b-802f4cd5e5c5"
      },
      "outputs": [
        {
          "name": "stdout",
          "output_type": "stream",
          "text": [
            "Esta é minha primeira função em Python\n"
          ]
        }
      ],
      "source": [
        "# Para usar a função, ela precisa ser chamada\n",
        "primeiraFuncao()"
      ]
    },
    {
      "cell_type": "markdown",
      "source": [
        "Cuidado com o nome da função, é possível criar com o mesmo nome, porém irá sobrescrever a função criada anteriormente"
      ],
      "metadata": {
        "id": "WUI_fZ_TmQhY"
      },
      "id": "WUI_fZ_TmQhY"
    },
    {
      "cell_type": "code",
      "execution_count": null,
      "id": "3fb20474",
      "metadata": {
        "id": "3fb20474"
      },
      "outputs": [],
      "source": [
        "# Definindo uma função\n",
        "def segundaFuncao():\n",
        "    nome = 'Joana'\n",
        "    print('Hello %s'%(nome))"
      ]
    },
    {
      "cell_type": "code",
      "execution_count": null,
      "id": "594e269a",
      "metadata": {
        "id": "594e269a",
        "outputId": "e1446eb7-8670-4f83-bbf4-09816fd56689"
      },
      "outputs": [
        {
          "name": "stdout",
          "output_type": "stream",
          "text": [
            "Hello Joana\n"
          ]
        }
      ],
      "source": [
        "segundaFuncao()"
      ]
    },
    {
      "cell_type": "code",
      "execution_count": null,
      "id": "142c5ea4",
      "metadata": {
        "id": "142c5ea4"
      },
      "outputs": [],
      "source": [
        "# Definindo uma função com parâmetro\n",
        "def terceiraFuncao(nome):\n",
        "    print('Hello %s' %(nome))"
      ]
    },
    {
      "cell_type": "code",
      "execution_count": null,
      "id": "c9fbf0b6",
      "metadata": {
        "id": "c9fbf0b6",
        "outputId": "baf2376d-cfa0-4792-d9ee-e2c339174d70"
      },
      "outputs": [
        {
          "name": "stdout",
          "output_type": "stream",
          "text": [
            "Hello Olga\n"
          ]
        }
      ],
      "source": [
        "# Função com parâmetro nome\n",
        "terceiraFuncao('Olga')"
      ]
    },
    {
      "cell_type": "code",
      "execution_count": null,
      "id": "e2f21e49",
      "metadata": {
        "id": "e2f21e49",
        "outputId": "2d076505-66b0-4073-ecd0-dc34cff28fd3"
      },
      "outputs": [
        {
          "ename": "TypeError",
          "evalue": "terceiraFuncao() missing 1 required positional argument: 'nome'",
          "output_type": "error",
          "traceback": [
            "\u001b[1;31m---------------------------------------------------------------------------\u001b[0m",
            "\u001b[1;31mTypeError\u001b[0m                                 Traceback (most recent call last)",
            "\u001b[1;32m~\\AppData\\Local\\Temp\\ipykernel_17208\\3208796205.py\u001b[0m in \u001b[0;36m<module>\u001b[1;34m\u001b[0m\n\u001b[1;32m----> 1\u001b[1;33m \u001b[0mterceiraFuncao\u001b[0m\u001b[1;33m(\u001b[0m\u001b[1;33m)\u001b[0m\u001b[1;33m\u001b[0m\u001b[1;33m\u001b[0m\u001b[0m\n\u001b[0m",
            "\u001b[1;31mTypeError\u001b[0m: terceiraFuncao() missing 1 required positional argument: 'nome'"
          ]
        }
      ],
      "source": [
        "# Erro porque é obrigatório passar o argumento na chamada\n",
        "terceiraFuncao()"
      ]
    },
    {
      "cell_type": "code",
      "execution_count": null,
      "id": "b6d8081c",
      "metadata": {
        "id": "b6d8081c"
      },
      "outputs": [],
      "source": [
        "# Função para imprimir números\n",
        "def imprimeNum():\n",
        "    #Loop\n",
        "    for i in range(0, 5):\n",
        "        print(\"Número \" + str(i))"
      ]
    },
    {
      "cell_type": "code",
      "execution_count": null,
      "id": "a7e3e629",
      "metadata": {
        "id": "a7e3e629",
        "outputId": "6506f002-cf41-458d-dcb7-291cb9f13fa5"
      },
      "outputs": [
        {
          "name": "stdout",
          "output_type": "stream",
          "text": [
            "Número 0\n",
            "Número 1\n",
            "Número 2\n",
            "Número 3\n",
            "Número 4\n"
          ]
        }
      ],
      "source": [
        "imprimeNum()"
      ]
    },
    {
      "cell_type": "code",
      "execution_count": null,
      "id": "0d5bc32c",
      "metadata": {
        "id": "0d5bc32c"
      },
      "outputs": [],
      "source": [
        "# Função para somar números\n",
        "def somaNum(pnum, snum):\n",
        "    print('Primeiro número: ' + str(pnum))\n",
        "    print('Segundo número: ' + str(snum))\n",
        "    print('Soma dos números: ', pnum + snum)"
      ]
    },
    {
      "cell_type": "markdown",
      "source": [
        "Cria a função com o bloco de comandos 1 vez e usa essa função incontáveis vezes"
      ],
      "metadata": {
        "id": "ya9VNkkpm12D"
      },
      "id": "ya9VNkkpm12D"
    },
    {
      "cell_type": "code",
      "execution_count": null,
      "id": "bd36ffd0",
      "metadata": {
        "id": "bd36ffd0",
        "outputId": "2acfc013-ad02-419f-e6be-718cb93621d3"
      },
      "outputs": [
        {
          "name": "stdout",
          "output_type": "stream",
          "text": [
            "Primeiro número: 4\n",
            "Segundo número: 2\n",
            "Soma dos números:  6\n"
          ]
        }
      ],
      "source": [
        "# Chamando a função e passando parâmetros\n",
        "somaNum(4, 2)"
      ]
    },
    {
      "cell_type": "code",
      "execution_count": null,
      "id": "78e5afc5",
      "metadata": {
        "id": "78e5afc5",
        "outputId": "282ca6f8-ec32-4b67-ddad-b0baa7016ec1"
      },
      "outputs": [
        {
          "name": "stdout",
          "output_type": "stream",
          "text": [
            "Primeiro número: 140\n",
            "Segundo número: 261\n",
            "Soma dos números:  401\n"
          ]
        }
      ],
      "source": [
        "# Chamando a função e passando parâmetros\n",
        "somaNum(140, 261)"
      ]
    },
    {
      "cell_type": "code",
      "execution_count": null,
      "id": "03f8d47f",
      "metadata": {
        "id": "03f8d47f"
      },
      "outputs": [],
      "source": [
        "# Função com número de parâmetros variável (quando não se sabe o número exato de argumentos)\n",
        "# *vartuple é um parâmetro tipo tupla que recebe quantos elementos forem necessários, sem limite\n",
        "# *vartuple não é obrigatório passar argumentos\n",
        "def printVarInfos(arg1, *vartuple):\n",
        "    # Imprime o valor do primeiro argumento\n",
        "    print('O parâmetro passado foi: ', arg1)\n",
        "\n",
        "    # Imprime o valor do segundo argumento variável\n",
        "    # Para cada elemento dentro da tupla 'vartuple'\n",
        "    for item in vartuple:\n",
        "        print('O parâmetro passado foi: ', item)\n",
        "    return;"
      ]
    },
    {
      "cell_type": "code",
      "execution_count": null,
      "id": "102d6df9",
      "metadata": {
        "id": "102d6df9",
        "outputId": "d8a72929-24af-49e7-c8f6-d78b2757ecd6"
      },
      "outputs": [
        {
          "name": "stdout",
          "output_type": "stream",
          "text": [
            "O parâmetro passado foi:  15\n"
          ]
        }
      ],
      "source": [
        "# Fazendo a chamada da função usando apenas 1 argumento, nesse caso, foi salvo no arg1\n",
        "printVarInfos(15)"
      ]
    },
    {
      "cell_type": "code",
      "execution_count": null,
      "id": "7c60690e",
      "metadata": {
        "id": "7c60690e",
        "outputId": "fad13861-1cc6-4ae0-cbea-30b733dd1163"
      },
      "outputs": [
        {
          "name": "stdout",
          "output_type": "stream",
          "text": [
            "O parâmetro passado foi:  Chocolate\n",
            "O parâmetro passado foi:  Morango\n",
            "O parâmetro passado foi:  Caramelo\n"
          ]
        }
      ],
      "source": [
        "# Fazendo a chamada da função usando 3 argumentos, com isso ignorando o arg1 e salvando tudo no *vartuple\n",
        "printVarInfos('Chocolate', 'Morango', 'Caramelo')"
      ]
    }
  ],
  "metadata": {
    "kernelspec": {
      "display_name": "Python 3 (ipykernel)",
      "language": "python",
      "name": "python3"
    },
    "language_info": {
      "codemirror_mode": {
        "name": "ipython",
        "version": 3
      },
      "file_extension": ".py",
      "mimetype": "text/x-python",
      "name": "python",
      "nbconvert_exporter": "python",
      "pygments_lexer": "ipython3",
      "version": "3.9.13"
    },
    "colab": {
      "provenance": []
    }
  },
  "nbformat": 4,
  "nbformat_minor": 5
}