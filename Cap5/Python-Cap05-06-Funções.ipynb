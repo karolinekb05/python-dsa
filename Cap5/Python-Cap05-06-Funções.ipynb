{
 "cells": [
  {
   "cell_type": "markdown",
   "id": "dee25f26",
   "metadata": {},
   "source": [
    "# Funções\n",
    "É um bloco de código que pode ser executado incontáveis vezes através da chamada da função\n",
    "Quando uma função faz parte de uma classe, ela é chamada de método"
   ]
  },
  {
   "cell_type": "code",
   "execution_count": 1,
   "id": "df7ef33e",
   "metadata": {},
   "outputs": [
    {
     "name": "stdout",
     "output_type": "stream",
     "text": [
      "Hello World\n"
     ]
    }
   ],
   "source": [
    "# Função built-in (interna do Python)\n",
    "print('Hello World')"
   ]
  },
  {
   "cell_type": "code",
   "execution_count": 2,
   "id": "992510bb",
   "metadata": {},
   "outputs": [],
   "source": [
    "# Definindo uma função\n",
    "def primeiraFuncao():\n",
    "    print('Esta é minha primeira função em Python')"
   ]
  },
  {
   "cell_type": "code",
   "execution_count": 3,
   "id": "752c8416",
   "metadata": {},
   "outputs": [
    {
     "name": "stdout",
     "output_type": "stream",
     "text": [
      "Esta é minha primeira função em Python\n"
     ]
    }
   ],
   "source": [
    "# Chamando a função\n",
    "primeiraFuncao()"
   ]
  },
  {
   "cell_type": "code",
   "execution_count": 4,
   "id": "3fb20474",
   "metadata": {},
   "outputs": [],
   "source": [
    "# Definindo uma função\n",
    "def segundaFuncao():\n",
    "    nome = 'Joana'\n",
    "    print('Hello %s'%(nome))"
   ]
  },
  {
   "cell_type": "code",
   "execution_count": 5,
   "id": "594e269a",
   "metadata": {},
   "outputs": [
    {
     "name": "stdout",
     "output_type": "stream",
     "text": [
      "Hello Joana\n"
     ]
    }
   ],
   "source": [
    "segundaFuncao()"
   ]
  },
  {
   "cell_type": "code",
   "execution_count": 7,
   "id": "142c5ea4",
   "metadata": {},
   "outputs": [],
   "source": [
    "# Definindo uma função com parâmetro\n",
    "def terceiraFuncao(nome):\n",
    "    print('Hello %s' %(nome))"
   ]
  },
  {
   "cell_type": "code",
   "execution_count": 8,
   "id": "c9fbf0b6",
   "metadata": {},
   "outputs": [
    {
     "name": "stdout",
     "output_type": "stream",
     "text": [
      "Hello Olga\n"
     ]
    }
   ],
   "source": [
    "terceiraFuncao('Olga')"
   ]
  },
  {
   "cell_type": "code",
   "execution_count": 9,
   "id": "e2f21e49",
   "metadata": {},
   "outputs": [
    {
     "ename": "TypeError",
     "evalue": "terceiraFuncao() missing 1 required positional argument: 'nome'",
     "output_type": "error",
     "traceback": [
      "\u001b[1;31m---------------------------------------------------------------------------\u001b[0m",
      "\u001b[1;31mTypeError\u001b[0m                                 Traceback (most recent call last)",
      "\u001b[1;32m~\\AppData\\Local\\Temp\\ipykernel_17208\\3208796205.py\u001b[0m in \u001b[0;36m<module>\u001b[1;34m\u001b[0m\n\u001b[1;32m----> 1\u001b[1;33m \u001b[0mterceiraFuncao\u001b[0m\u001b[1;33m(\u001b[0m\u001b[1;33m)\u001b[0m\u001b[1;33m\u001b[0m\u001b[1;33m\u001b[0m\u001b[0m\n\u001b[0m",
      "\u001b[1;31mTypeError\u001b[0m: terceiraFuncao() missing 1 required positional argument: 'nome'"
     ]
    }
   ],
   "source": [
    "terceiraFuncao()"
   ]
  },
  {
   "cell_type": "code",
   "execution_count": 10,
   "id": "b6d8081c",
   "metadata": {},
   "outputs": [],
   "source": [
    "# Função para imprimir números\n",
    "def imprimeNum():\n",
    "    #Loop\n",
    "    for i in range(0, 5):\n",
    "        print(\"Número \" + str(i))"
   ]
  },
  {
   "cell_type": "code",
   "execution_count": 11,
   "id": "a7e3e629",
   "metadata": {},
   "outputs": [
    {
     "name": "stdout",
     "output_type": "stream",
     "text": [
      "Número 0\n",
      "Número 1\n",
      "Número 2\n",
      "Número 3\n",
      "Número 4\n"
     ]
    }
   ],
   "source": [
    "imprimeNum()"
   ]
  },
  {
   "cell_type": "code",
   "execution_count": 17,
   "id": "0d5bc32c",
   "metadata": {},
   "outputs": [],
   "source": [
    "# Função para somar números\n",
    "def somaNum(pnum, snum):\n",
    "    print('Primeiro número: ' + str(pnum))\n",
    "    print('Segundo número: ' + str(snum))\n",
    "    print('Soma dos números: ', pnum + snum)"
   ]
  },
  {
   "cell_type": "code",
   "execution_count": 18,
   "id": "bd36ffd0",
   "metadata": {},
   "outputs": [
    {
     "name": "stdout",
     "output_type": "stream",
     "text": [
      "Primeiro número: 4\n",
      "Segundo número: 2\n",
      "Soma dos números:  6\n"
     ]
    }
   ],
   "source": [
    "# Chamando a função e passando parâmetros\n",
    "somaNum(4, 2)"
   ]
  },
  {
   "cell_type": "code",
   "execution_count": 19,
   "id": "78e5afc5",
   "metadata": {},
   "outputs": [
    {
     "name": "stdout",
     "output_type": "stream",
     "text": [
      "Primeiro número: 140\n",
      "Segundo número: 261\n",
      "Soma dos números:  401\n"
     ]
    }
   ],
   "source": [
    "# Chamando a função e passando parâmetros\n",
    "somaNum(140, 261)"
   ]
  },
  {
   "cell_type": "code",
   "execution_count": 23,
   "id": "03f8d47f",
   "metadata": {},
   "outputs": [],
   "source": [
    "# Função com número de parâmetros variável (quando não se sabe o número exato de argumentos)\n",
    "def printVarInfos(arg1, *vartuple):\n",
    "    # Imprime o valor do primeiro argumento\n",
    "    print('O parâmetro passado foi: ', arg1)\n",
    "    \n",
    "    # Imprime o valor do segundo argumento variável\n",
    "    for item in vartuple:\n",
    "        print('O parâmetro passado foi: ', item)\n",
    "    return;"
   ]
  },
  {
   "cell_type": "code",
   "execution_count": 24,
   "id": "102d6df9",
   "metadata": {},
   "outputs": [
    {
     "name": "stdout",
     "output_type": "stream",
     "text": [
      "O parâmetro passado foi:  15\n"
     ]
    }
   ],
   "source": [
    "# Fazendo a chamada da função usando apenas 1 argumento\n",
    "printVarInfos(15)"
   ]
  },
  {
   "cell_type": "code",
   "execution_count": 25,
   "id": "7c60690e",
   "metadata": {},
   "outputs": [
    {
     "name": "stdout",
     "output_type": "stream",
     "text": [
      "O parâmetro passado foi:  Chocolate\n",
      "O parâmetro passado foi:  Morango\n",
      "O parâmetro passado foi:  Caramelo\n"
     ]
    }
   ],
   "source": [
    "# Fazendo a chamada da função usando 3 argumentos\n",
    "printVarInfos('Chocolate', 'Morango', 'Caramelo')"
   ]
  },
  {
   "cell_type": "code",
   "execution_count": null,
   "id": "7fb0c283",
   "metadata": {},
   "outputs": [],
   "source": []
  }
 ],
 "metadata": {
  "kernelspec": {
   "display_name": "Python 3 (ipykernel)",
   "language": "python",
   "name": "python3"
  },
  "language_info": {
   "codemirror_mode": {
    "name": "ipython",
    "version": 3
   },
   "file_extension": ".py",
   "mimetype": "text/x-python",
   "name": "python",
   "nbconvert_exporter": "python",
   "pygments_lexer": "ipython3",
   "version": "3.9.13"
  }
 },
 "nbformat": 4,
 "nbformat_minor": 5
}
