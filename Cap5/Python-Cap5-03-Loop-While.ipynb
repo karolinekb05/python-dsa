{
  "cells": [
    {
      "cell_type": "markdown",
      "id": "ad3018b7",
      "metadata": {
        "id": "ad3018b7"
      },
      "source": [
        "## Loop While (Enquanto)\n",
        "\n",
        "Enquanto aquela validação for verdadeira, o loop segue executando a ação\n",
        "\n",
        "Porém, é necessário garantir que a condição deixará de ser verdadeira em algum momento"
      ]
    },
    {
      "cell_type": "code",
      "execution_count": 3,
      "id": "3b0c8722",
      "metadata": {
        "id": "3b0c8722",
        "outputId": "df96336b-1540-4476-9234-181a6f9bdf04",
        "colab": {
          "base_uri": "https://localhost:8080/"
        }
      },
      "outputs": [
        {
          "output_type": "stream",
          "name": "stdout",
          "text": [
            "0\n",
            "1\n",
            "2\n",
            "3\n",
            "4\n",
            "5\n",
            "6\n",
            "7\n",
            "8\n",
            "9\n"
          ]
        }
      ],
      "source": [
        "# Usando o loop while para imprimir valores de 0 a 9\n",
        "# A condição tem que deixar de ser verdadeira dentro do loop, senão pode travar o navegador ou até mesmo o computador\n",
        "valor = 0\n",
        "# Enquanto a varável 'valor' for menor que 10\n",
        "while valor < 10:\n",
        "    # imprime a variável 'valor'\n",
        "    print(valor)\n",
        "    # incrementa 1 na variável 'valor'\n",
        "    #valor = valor + 1\n",
        "    # ou\n",
        "    valor += 1"
      ]
    },
    {
      "cell_type": "code",
      "execution_count": 2,
      "id": "9aca5d01",
      "metadata": {
        "id": "9aca5d01"
      },
      "outputs": [],
      "source": [
        "# Entra no loop somente se a condição for verdadeira pelo menos 1 vez\n",
        "# Como 11 é maior que 10, o loop não executa a ação\n",
        "valor = 11\n",
        "while valor < 10:\n",
        "    print(valor)\n",
        "    valor = valor + 1"
      ]
    },
    {
      "cell_type": "code",
      "execution_count": null,
      "id": "c489eb27",
      "metadata": {
        "id": "c489eb27",
        "outputId": "51894716-a057-4027-a5f4-d73b952b0dfb"
      },
      "outputs": [
        {
          "name": "stdout",
          "output_type": "stream",
          "text": [
            "O valor de x é: 0\n",
            "x ainda é menor que 10, mesmo somado a 1\n",
            "O valor de x é: 1\n",
            "x ainda é menor que 10, mesmo somado a 1\n",
            "O valor de x é: 2\n",
            "x ainda é menor que 10, mesmo somado a 1\n",
            "O valor de x é: 3\n",
            "x ainda é menor que 10, mesmo somado a 1\n",
            "O valor de x é: 4\n",
            "x ainda é menor que 10, mesmo somado a 1\n",
            "O valor de x é: 5\n",
            "x ainda é menor que 10, mesmo somado a 1\n",
            "O valor de x é: 6\n",
            "x ainda é menor que 10, mesmo somado a 1\n",
            "O valor de x é: 7\n",
            "x ainda é menor que 10, mesmo somado a 1\n",
            "O valor de x é: 8\n",
            "x ainda é menor que 10, mesmo somado a 1\n",
            "O valor de x é: 9\n",
            "x ainda é menor que 10, mesmo somado a 1\n",
            "Loop concluído!\n",
            "10\n"
          ]
        }
      ],
      "source": [
        "# Também é possível usar a cláusula else para encerrar o loop while\n",
        "x = 0\n",
        "while x < 10:\n",
        "    print('O valor de x é:', x)\n",
        "    print('x ainda é menor que 10, mesmo somado a 1')\n",
        "    x += 1\n",
        "else:\n",
        "    print('Loop concluído!')\n",
        "print(x)"
      ]
    },
    {
      "cell_type": "markdown",
      "id": "5c92aaee",
      "metadata": {
        "id": "5c92aaee"
      },
      "source": [
        "## Pass, Break, Continue\n",
        "\n",
        "pass: passa a vez, continua a execução\n",
        "\n",
        "break: quebra a continuação da execução\n",
        "\n",
        "continue: continua a execução"
      ]
    },
    {
      "cell_type": "code",
      "execution_count": null,
      "id": "53c9e568",
      "metadata": {
        "id": "53c9e568",
        "outputId": "0b050eb9-c9b0-4f7f-dbc5-4066483c6b1c"
      },
      "outputs": [
        {
          "name": "stdout",
          "output_type": "stream",
          "text": [
            "0\n",
            "1\n",
            "2\n",
            "3\n"
          ]
        }
      ],
      "source": [
        "# Se o valor for 4 o loop encerra\n",
        "v = 0\n",
        "while v < 10:\n",
        "    # Se a variável v for igual à 4\n",
        "    if v == 4:\n",
        "        # encerra o programa\n",
        "        break\n",
        "    # Se não, passa para continuar a execução\n",
        "    else:\n",
        "        pass\n",
        "    print(v)\n",
        "    v = v + 1"
      ]
    },
    {
      "cell_type": "code",
      "execution_count": null,
      "id": "80761df5",
      "metadata": {
        "id": "80761df5",
        "outputId": "f2715f77-c0b4-45ef-ac31-2789f86b4699"
      },
      "outputs": [
        {
          "name": "stdout",
          "output_type": "stream",
          "text": [
            "P\n",
            "y\n",
            "t\n",
            "h\n",
            "o\n",
            "n\n",
            " \n",
            "é\n",
            " \n",
            " \n",
            "l\n",
            "e\n",
            "g\n",
            "a\n",
            "l\n"
          ]
        }
      ],
      "source": [
        "# Desconsideramos a letra z ao imprimir os caracteres\n",
        "# Para cada letra na minha coleção de letras (string)\n",
        "for letra in 'Python é zzz legal':\n",
        "    # Se a letra for z, continue a execução\n",
        "    if letra == 'z':\n",
        "        continue\n",
        "    print(letra)"
      ]
    },
    {
      "cell_type": "markdown",
      "id": "ecb4a26a",
      "metadata": {
        "id": "ecb4a26a"
      },
      "source": [
        "## Loop While e For"
      ]
    },
    {
      "cell_type": "markdown",
      "id": "4766d3f5",
      "metadata": {
        "id": "4766d3f5"
      },
      "source": [
        "Vamos encontrar números primos em uma coleção de números usando loop While e For juntos.\n",
        "\n",
        "Um número primo é um número natural maior do que 1 que é divisível apenas por 1 e por ele mesmo. Isso significa que não há nenhum outro número inteiro que possa dividir o número primo sem deixar resto. Por exemplo, o número 2 é primo, pois é divisível apenas por 1 e 2. O número 4 não é primo, pois é divisível por 1, por 2 e por ele mesmo.\n",
        "\n",
        "Aqui está o pseudocódigo:"
      ]
    },
    {
      "cell_type": "markdown",
      "id": "ec704fa4",
      "metadata": {
        "id": "ec704fa4"
      },
      "source": [
        "```\n",
        "Inicialize uma variável vazia para armazenar os números primos\n",
        "Para cada número N entre 2 e 30:\n",
        "    Inicialize uma variável eh_primo como verdadeira\n",
        "    Para cada número i entre 2 e N/2:\n",
        "        Se N é divisível por i, então:\n",
        "            Altere a variável eh_primo para falso\n",
        "            Pare de verificar os outros números\n",
        "    Se a variável eh_primo ainda é verdadeira, adicione N à lista de números primos\n",
        "Imprima a lista de números primos\n",
        "```"
      ]
    },
    {
      "cell_type": "code",
      "execution_count": 6,
      "id": "088b7518",
      "metadata": {
        "id": "088b7518",
        "outputId": "ac578f92-dc82-41cf-94c8-58eabf8953ed",
        "colab": {
          "base_uri": "https://localhost:8080/"
        }
      },
      "outputs": [
        {
          "output_type": "stream",
          "name": "stdout",
          "text": [
            "[2, 3, 5, 7, 11, 13, 17, 19, 23, 29]\n",
            "CPU times: user 1.29 ms, sys: 0 ns, total: 1.29 ms\n",
            "Wall time: 1.3 ms\n"
          ]
        }
      ],
      "source": [
        "# mede o tempo de execução\n",
        "%%time\n",
        "\n",
        "# Inicialize uma variável vazia para armazenar os números primos\n",
        "n_primos = []\n",
        "\n",
        "# Para cada número N entre 2 e 30\n",
        "for n in range(2, 31):\n",
        "\n",
        "    # Inicialize uma variável eh_primo como verdadeira\n",
        "    eh_primo = True\n",
        "\n",
        "    # Inicializar variável i com valor 2\n",
        "    i = 2\n",
        "\n",
        "    # Enquanto o n dividido por 2 for <= ao valor de i\n",
        "    while i <= n // 2:\n",
        "\n",
        "        # Se N é divisível por i e o resultado for 0\n",
        "        if n % i == 0:\n",
        "\n",
        "            # Altere a variável eh_primo para falso\n",
        "            eh_primo = False\n",
        "\n",
        "            # Pare de verificar os outros números\n",
        "            break\n",
        "\n",
        "        # Acrescenta o valor de i\n",
        "        i += 1\n",
        "\n",
        "    # Se a variável eh_primo ainda é verdadeira, adicione N à lista de números primos\n",
        "    if eh_primo:\n",
        "        n_primos.append(n)\n",
        "\n",
        "# Imprima a lista de números primos\n",
        "print(n_primos)"
      ]
    },
    {
      "cell_type": "code",
      "source": [
        "%%time\n",
        "\n",
        "# Lista vazia para adicionar os números primos\n",
        "primos = []\n",
        "\n",
        "# Para cada número no intervalo de 2 até 30\n",
        "for n in range(2,31):\n",
        "  print('Lista de números:', n)\n",
        "\n",
        "  # Variável de controle\n",
        "  eh_primo=True\n",
        "\n",
        "  # Loop while para verificar se n é primo\n",
        "  i=2\n",
        "  # Enquanto 2 (i) for menor ou igual à n dividido por 2\n",
        "  while i <= n // 2:\n",
        "    # Se o resto da divisão de n / 2 for 0\n",
        "    if n % i == 0:\n",
        "      # A variável 'eh_primo' muda pra False\n",
        "      eh_primo=False\n",
        "      # Pausa a execução para executar o condicional if abaixo\n",
        "      break\n",
        "    i += 1\n",
        "\n",
        "  # Se a variável 'eh_primo' for True\n",
        "  if eh_primo:\n",
        "    # Adiciona n na variável 'primos'\n",
        "    primos.append(n)\n",
        "\n",
        "# Imprime os números primos salvos na variável 'primos'\n",
        "print('Os números primos são:', primos)"
      ],
      "metadata": {
        "id": "YUXvtjgA4D1K",
        "outputId": "03373ccd-7c27-46c0-99c5-e3eda628d27a",
        "colab": {
          "base_uri": "https://localhost:8080/"
        }
      },
      "id": "YUXvtjgA4D1K",
      "execution_count": 9,
      "outputs": [
        {
          "output_type": "stream",
          "name": "stdout",
          "text": [
            "Lista de números: 2\n",
            "Lista de números: 3\n",
            "Lista de números: 4\n",
            "Lista de números: 5\n",
            "Lista de números: 6\n",
            "Lista de números: 7\n",
            "Lista de números: 8\n",
            "Lista de números: 9\n",
            "Lista de números: 10\n",
            "Lista de números: 11\n",
            "Lista de números: 12\n",
            "Lista de números: 13\n",
            "Lista de números: 14\n",
            "Lista de números: 15\n",
            "Lista de números: 16\n",
            "Lista de números: 17\n",
            "Lista de números: 18\n",
            "Lista de números: 19\n",
            "Lista de números: 20\n",
            "Lista de números: 21\n",
            "Lista de números: 22\n",
            "Lista de números: 23\n",
            "Lista de números: 24\n",
            "Lista de números: 25\n",
            "Lista de números: 26\n",
            "Lista de números: 27\n",
            "Lista de números: 28\n",
            "Lista de números: 29\n",
            "Lista de números: 30\n",
            "Os números primos são: [2, 3, 5, 7, 11, 13, 17, 19, 23, 29]\n",
            "CPU times: user 8.69 ms, sys: 899 µs, total: 9.59 ms\n",
            "Wall time: 9.07 ms\n"
          ]
        }
      ]
    },
    {
      "cell_type": "code",
      "source": [
        "%%time\n",
        "\n",
        "# Outro exemplo\n",
        "\n",
        "for i in range(2,31):\n",
        "  j=2\n",
        "  valor=0\n",
        "  while j < i:\n",
        "    if i % j == 0:\n",
        "      valor = 1\n",
        "      j += 1\n",
        "    else:\n",
        "      j += 1\n",
        "  if valor == 0:\n",
        "    print(str(i) + ' é um número primo')\n",
        "    valor=0\n",
        "  else:\n",
        "    valor=0"
      ],
      "metadata": {
        "id": "gFP_jtIX7H6U",
        "outputId": "8062988d-bc2b-4c09-cbcb-a932a39dec23",
        "colab": {
          "base_uri": "https://localhost:8080/"
        }
      },
      "id": "gFP_jtIX7H6U",
      "execution_count": 10,
      "outputs": [
        {
          "output_type": "stream",
          "name": "stdout",
          "text": [
            "2 é um número primo\n",
            "3 é um número primo\n",
            "5 é um número primo\n",
            "7 é um número primo\n",
            "11 é um número primo\n",
            "13 é um número primo\n",
            "17 é um número primo\n",
            "19 é um número primo\n",
            "23 é um número primo\n",
            "29 é um número primo\n",
            "CPU times: user 2.58 ms, sys: 894 µs, total: 3.48 ms\n",
            "Wall time: 3.49 ms\n"
          ]
        }
      ]
    }
  ],
  "metadata": {
    "kernelspec": {
      "display_name": "Python 3 (ipykernel)",
      "language": "python",
      "name": "python3"
    },
    "language_info": {
      "codemirror_mode": {
        "name": "ipython",
        "version": 3
      },
      "file_extension": ".py",
      "mimetype": "text/x-python",
      "name": "python",
      "nbconvert_exporter": "python",
      "pygments_lexer": "ipython3",
      "version": "3.9.13"
    },
    "colab": {
      "provenance": []
    }
  },
  "nbformat": 4,
  "nbformat_minor": 5
}