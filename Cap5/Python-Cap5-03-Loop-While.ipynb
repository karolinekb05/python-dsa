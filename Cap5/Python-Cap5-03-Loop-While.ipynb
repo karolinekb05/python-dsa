{
 "cells": [
  {
   "cell_type": "markdown",
   "id": "ad3018b7",
   "metadata": {},
   "source": [
    "## Loop While (Enquanto)"
   ]
  },
  {
   "cell_type": "code",
   "execution_count": 7,
   "id": "3b0c8722",
   "metadata": {},
   "outputs": [
    {
     "name": "stdout",
     "output_type": "stream",
     "text": [
      "0\n",
      "1\n",
      "2\n",
      "3\n",
      "4\n",
      "5\n",
      "6\n",
      "7\n",
      "8\n",
      "9\n"
     ]
    }
   ],
   "source": [
    "# Usando o loop while para imprimir valores de 0 a 9\n",
    "# A condição tem que deixar de ser verdadeira dentro do loop, senão pode travar o navegador ou até mesmo o computador\n",
    "valor = 0\n",
    "# Enquanto valor for menor que 10\n",
    "while valor < 10:\n",
    "    print(valor)\n",
    "    # valor incrementa 1\n",
    "    valor = valor + 1"
   ]
  },
  {
   "cell_type": "code",
   "execution_count": 8,
   "id": "9aca5d01",
   "metadata": {},
   "outputs": [],
   "source": [
    "# Entra no loop somente se a condição for verdadeira pelo menos 1 vez\n",
    "valor = 11\n",
    "while valor < 10:\n",
    "    print(v)\n",
    "    valor = valor + 1"
   ]
  },
  {
   "cell_type": "code",
   "execution_count": 9,
   "id": "c489eb27",
   "metadata": {},
   "outputs": [
    {
     "name": "stdout",
     "output_type": "stream",
     "text": [
      "O valor de x é: 0\n",
      "x ainda é menor que 10, mesmo somado a 1\n",
      "O valor de x é: 1\n",
      "x ainda é menor que 10, mesmo somado a 1\n",
      "O valor de x é: 2\n",
      "x ainda é menor que 10, mesmo somado a 1\n",
      "O valor de x é: 3\n",
      "x ainda é menor que 10, mesmo somado a 1\n",
      "O valor de x é: 4\n",
      "x ainda é menor que 10, mesmo somado a 1\n",
      "O valor de x é: 5\n",
      "x ainda é menor que 10, mesmo somado a 1\n",
      "O valor de x é: 6\n",
      "x ainda é menor que 10, mesmo somado a 1\n",
      "O valor de x é: 7\n",
      "x ainda é menor que 10, mesmo somado a 1\n",
      "O valor de x é: 8\n",
      "x ainda é menor que 10, mesmo somado a 1\n",
      "O valor de x é: 9\n",
      "x ainda é menor que 10, mesmo somado a 1\n",
      "Loop concluído!\n",
      "10\n"
     ]
    }
   ],
   "source": [
    "# Também é possível usar a cláusula else para encerrar o loop while\n",
    "x = 0\n",
    "while x < 10:\n",
    "    print('O valor de x é:', x)\n",
    "    print('x ainda é menor que 10, mesmo somado a 1')\n",
    "    x += 1\n",
    "else:\n",
    "    print('Loop concluído!')\n",
    "print(x)"
   ]
  },
  {
   "cell_type": "markdown",
   "id": "5c92aaee",
   "metadata": {},
   "source": [
    "## Pass, Break, Continue"
   ]
  },
  {
   "cell_type": "code",
   "execution_count": 13,
   "id": "53c9e568",
   "metadata": {},
   "outputs": [
    {
     "name": "stdout",
     "output_type": "stream",
     "text": [
      "0\n",
      "1\n",
      "2\n",
      "3\n"
     ]
    }
   ],
   "source": [
    "# Se o valor for 4 o loop encerra\n",
    "v = 0\n",
    "while v < 10:\n",
    "    if v == 4:\n",
    "        break\n",
    "    else:\n",
    "        pass\n",
    "    print(v)\n",
    "    v = v + 1"
   ]
  },
  {
   "cell_type": "code",
   "execution_count": 14,
   "id": "80761df5",
   "metadata": {},
   "outputs": [
    {
     "name": "stdout",
     "output_type": "stream",
     "text": [
      "P\n",
      "y\n",
      "t\n",
      "h\n",
      "o\n",
      "n\n",
      " \n",
      "é\n",
      " \n",
      " \n",
      "l\n",
      "e\n",
      "g\n",
      "a\n",
      "l\n"
     ]
    }
   ],
   "source": [
    "# Desconsideramos a letra z ao imprimir os caracteres\n",
    "for letra in 'Python é zzz legal':\n",
    "    if letra == 'z':\n",
    "        continue\n",
    "    print(letra)"
   ]
  },
  {
   "cell_type": "markdown",
   "id": "ecb4a26a",
   "metadata": {},
   "source": [
    "## Loop While e For"
   ]
  },
  {
   "cell_type": "markdown",
   "id": "4766d3f5",
   "metadata": {},
   "source": [
    "Vamos encontrar números primos em uma coleção de números usando loop While e For juntos.\n",
    "\n",
    "Um número primo é um número natural maior do que 1 que é divisível apenas por 1 e por ele mesmo. Isso significa que não há nenhum outro número inteiro que possa dividir o número primo sem deixar resto. Por exemplo, o número 2 é primo, pois é divisível apenas por 1 e 2. O número 4 não é primo, pois é divisível por 2.\n",
    "\n",
    "Aqui está o pseudocódigo:"
   ]
  },
  {
   "cell_type": "markdown",
   "id": "ec704fa4",
   "metadata": {},
   "source": [
    "Inicialize uma variável vazia para armazenar os números primos\n",
    "Para cada número N entre 2 e 30:\n",
    "    Inicialize uma variável eh_primo como verdadeira\n",
    "    Para cada número i entre 2 e N/2:\n",
    "        Se N é divisível por i, então:\n",
    "            Altere a variável eh_primo para falso\n",
    "            Pare de verificar os outros números\n",
    "    Se a variável eh_primo ainda é verdadeira, adicione N à lista de números primos\n",
    "Imprima a lista de números primos"
   ]
  },
  {
   "cell_type": "code",
   "execution_count": 21,
   "id": "088b7518",
   "metadata": {},
   "outputs": [
    {
     "name": "stdout",
     "output_type": "stream",
     "text": [
      "[2, 3, 5, 7, 11, 13, 17, 19, 23, 29]\n"
     ]
    }
   ],
   "source": [
    "# Inicialize uma variável vazia para armazenar os números primos\n",
    "n_primos = []\n",
    "\n",
    "# Para cada número N entre 2 e 30\n",
    "for n in range(2, 31):\n",
    "    \n",
    "    # Inicialize uma variável eh_primo como verdadeira\n",
    "    eh_primo = True\n",
    "    \n",
    "    # Inicializar variável i com valor 2\n",
    "    i = 2\n",
    "    \n",
    "    # Enquanto o n dividido por 2 for <= ao valor de i\n",
    "    while i <= n // 2:\n",
    "        \n",
    "        # Se N é divisível por i e o resultado for 0\n",
    "        if n % i == 0:\n",
    "            \n",
    "            # Altere a variável eh_primo para falso\n",
    "            eh_primo = False\n",
    "            \n",
    "            # Pare de verificar os outros números\n",
    "            break\n",
    "            \n",
    "        # Acrescenta o valor de i\n",
    "        i += 1\n",
    "        \n",
    "    # Se a variável eh_primo ainda é verdadeira, adicione N à lista de números primos\n",
    "    if eh_primo:\n",
    "        n_primos.append(n)\n",
    "\n",
    "# Imprima a lista de números primos\n",
    "print(n_primos)"
   ]
  }
 ],
 "metadata": {
  "kernelspec": {
   "display_name": "Python 3 (ipykernel)",
   "language": "python",
   "name": "python3"
  },
  "language_info": {
   "codemirror_mode": {
    "name": "ipython",
    "version": 3
   },
   "file_extension": ".py",
   "mimetype": "text/x-python",
   "name": "python",
   "nbconvert_exporter": "python",
   "pygments_lexer": "ipython3",
   "version": "3.9.13"
  }
 },
 "nbformat": 4,
 "nbformat_minor": 5
}
