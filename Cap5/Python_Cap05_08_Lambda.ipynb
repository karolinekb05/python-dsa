{
  "nbformat": 4,
  "nbformat_minor": 0,
  "metadata": {
    "colab": {
      "provenance": [],
      "name": "Python-Cap05-08-Lambda.ipynb",
      "authorship_tag": "ABX9TyNxdbU+FvoGOh8+egxC/Sa1"
    },
    "kernelspec": {
      "name": "python3",
      "display_name": "Python 3"
    },
    "language_info": {
      "name": "python"
    }
  },
  "cells": [
    {
      "cell_type": "markdown",
      "source": [
        "#Expressão Lambda"
      ],
      "metadata": {
        "id": "pQR2NiJ2Vsba"
      }
    },
    {
      "cell_type": "code",
      "source": [
        "# Definindo uma função com 3 linhas de código\n",
        "def potenciacao(num):\n",
        "  resultado = num ** 2\n",
        "  return resultado"
      ],
      "metadata": {
        "id": "g2oNo9KBVxRQ"
      },
      "execution_count": 1,
      "outputs": []
    },
    {
      "cell_type": "code",
      "source": [
        "potenciacao(5)"
      ],
      "metadata": {
        "id": "MvaJ1l1aV-3A",
        "outputId": "7eaea115-9a84-47bb-c29e-b6677e713b0d",
        "colab": {
          "base_uri": "https://localhost:8080/"
        }
      },
      "execution_count": 2,
      "outputs": [
        {
          "output_type": "execute_result",
          "data": {
            "text/plain": [
              "25"
            ]
          },
          "metadata": {},
          "execution_count": 2
        }
      ]
    }
  ]
}