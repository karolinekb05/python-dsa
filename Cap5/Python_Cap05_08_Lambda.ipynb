{
  "nbformat": 4,
  "nbformat_minor": 0,
  "metadata": {
    "colab": {
      "provenance": [],
      "name": "Python-Cap05-08-Lambda.ipynb",
      "authorship_tag": "ABX9TyOlJ8B1jpXcbHINiuxcba6a"
    },
    "kernelspec": {
      "name": "python3",
      "display_name": "Python 3"
    },
    "language_info": {
      "name": "python"
    }
  },
  "cells": [
    {
      "cell_type": "markdown",
      "source": [
        "#Expressão Lambda\n",
        "\n",
        "Cria uma função anônima (sem nome) em tempo de execução\n",
        "\n",
        "Facilita a criação de funções simples com parâmetro, para funções complexas é melhor o def"
      ],
      "metadata": {
        "id": "pQR2NiJ2Vsba"
      }
    },
    {
      "cell_type": "code",
      "source": [
        "# Definindo uma função com 3 linhas de código\n",
        "def potenciacao(num):\n",
        "  resultado = num ** 2\n",
        "  return resultado"
      ],
      "metadata": {
        "id": "g2oNo9KBVxRQ"
      },
      "execution_count": 1,
      "outputs": []
    },
    {
      "cell_type": "code",
      "source": [
        "potenciacao(5)"
      ],
      "metadata": {
        "colab": {
          "base_uri": "https://localhost:8080/"
        },
        "id": "MvaJ1l1aV-3A",
        "outputId": "7eaea115-9a84-47bb-c29e-b6677e713b0d"
      },
      "execution_count": 2,
      "outputs": [
        {
          "output_type": "execute_result",
          "data": {
            "text/plain": [
              "25"
            ]
          },
          "metadata": {},
          "execution_count": 2
        }
      ]
    },
    {
      "cell_type": "code",
      "source": [
        "# Definindo uma função com 2 linhas de código\n",
        "def potenciacao(num):\n",
        "  return num ** 2"
      ],
      "metadata": {
        "id": "rjhPHQKuXQFs"
      },
      "execution_count": 3,
      "outputs": []
    },
    {
      "cell_type": "code",
      "source": [
        "potenciacao(5)"
      ],
      "metadata": {
        "colab": {
          "base_uri": "https://localhost:8080/"
        },
        "id": "_8HSN7IbXYdj",
        "outputId": "04576a21-557b-427b-96c0-21d5813a5c60"
      },
      "execution_count": 4,
      "outputs": [
        {
          "output_type": "execute_result",
          "data": {
            "text/plain": [
              "25"
            ]
          },
          "metadata": {},
          "execution_count": 4
        }
      ]
    },
    {
      "cell_type": "code",
      "source": [
        "# Definindo uma função com 1 linha de código\n",
        "def potenciacao(num): return num ** 2"
      ],
      "metadata": {
        "id": "7q8fx4ubXYVk"
      },
      "execution_count": 5,
      "outputs": []
    },
    {
      "cell_type": "code",
      "source": [
        "potenciacao(5)"
      ],
      "metadata": {
        "colab": {
          "base_uri": "https://localhost:8080/"
        },
        "id": "2ejWjN0ZXYMf",
        "outputId": "e058938a-1ddc-48c5-f476-bbab19fa16ff"
      },
      "execution_count": 6,
      "outputs": [
        {
          "output_type": "execute_result",
          "data": {
            "text/plain": [
              "25"
            ]
          },
          "metadata": {},
          "execution_count": 6
        }
      ]
    },
    {
      "cell_type": "code",
      "source": [
        "# Definindo uma expressão lambda (função anônima)\n",
        "# Não é necessário gravar a lambda em uma variável, apenas fica mais fácil acesso\n",
        "potencia = lambda num: num ** 2"
      ],
      "metadata": {
        "id": "2pNIDm6EXg9T"
      },
      "execution_count": 7,
      "outputs": []
    },
    {
      "cell_type": "code",
      "source": [
        "potencia(5)"
      ],
      "metadata": {
        "colab": {
          "base_uri": "https://localhost:8080/"
        },
        "id": "y8CpWdC3Xp9w",
        "outputId": "a84c26e1-2c75-4b51-add8-cb7bd832d8c5"
      },
      "execution_count": 9,
      "outputs": [
        {
          "output_type": "execute_result",
          "data": {
            "text/plain": [
              "25"
            ]
          },
          "metadata": {},
          "execution_count": 9
        }
      ]
    },
    {
      "cell_type": "code",
      "source": [
        "# Lembrando que operadores de comparação retornam boolean: True ou False\n",
        "par = lambda x: x % 2 == 0"
      ],
      "metadata": {
        "id": "pDAde8CHXxEv"
      },
      "execution_count": 10,
      "outputs": []
    },
    {
      "cell_type": "code",
      "source": [
        "par(3)"
      ],
      "metadata": {
        "colab": {
          "base_uri": "https://localhost:8080/"
        },
        "id": "oJDG6hE0X7tS",
        "outputId": "d8b310ea-4da3-46b0-b98f-d1d434795f30"
      },
      "execution_count": 11,
      "outputs": [
        {
          "output_type": "execute_result",
          "data": {
            "text/plain": [
              "False"
            ]
          },
          "metadata": {},
          "execution_count": 11
        }
      ]
    },
    {
      "cell_type": "code",
      "source": [
        "par(4)"
      ],
      "metadata": {
        "colab": {
          "base_uri": "https://localhost:8080/"
        },
        "id": "McmVxwIqX9yu",
        "outputId": "05b0373e-c88c-4083-c3f8-7bd89c4c2344"
      },
      "execution_count": 12,
      "outputs": [
        {
          "output_type": "execute_result",
          "data": {
            "text/plain": [
              "True"
            ]
          },
          "metadata": {},
          "execution_count": 12
        }
      ]
    },
    {
      "cell_type": "code",
      "source": [
        "first = lambda s: s[0]"
      ],
      "metadata": {
        "id": "BIPFObttYBeW"
      },
      "execution_count": 13,
      "outputs": []
    },
    {
      "cell_type": "code",
      "source": [
        "first('Python')"
      ],
      "metadata": {
        "colab": {
          "base_uri": "https://localhost:8080/",
          "height": 35
        },
        "id": "g5xEboi5YFHo",
        "outputId": "b920b49f-20b6-44f1-a874-b07198cb1a1a"
      },
      "execution_count": 14,
      "outputs": [
        {
          "output_type": "execute_result",
          "data": {
            "text/plain": [
              "'P'"
            ],
            "application/vnd.google.colaboratory.intrinsic+json": {
              "type": "string"
            }
          },
          "metadata": {},
          "execution_count": 14
        }
      ]
    },
    {
      "cell_type": "code",
      "source": [
        "reverse_1 = lambda s: s[::-1]"
      ],
      "metadata": {
        "id": "Vk2OHSrOZgke"
      },
      "execution_count": 19,
      "outputs": []
    },
    {
      "cell_type": "code",
      "source": [
        "reverse_1('Python')"
      ],
      "metadata": {
        "colab": {
          "base_uri": "https://localhost:8080/",
          "height": 35
        },
        "id": "slZIqg62Zk_f",
        "outputId": "0d1621f7-0341-47bc-ebeb-db6fd992cab9"
      },
      "execution_count": 21,
      "outputs": [
        {
          "output_type": "execute_result",
          "data": {
            "text/plain": [
              "'nohtyP'"
            ],
            "application/vnd.google.colaboratory.intrinsic+json": {
              "type": "string"
            }
          },
          "metadata": {},
          "execution_count": 21
        }
      ]
    },
    {
      "cell_type": "code",
      "source": [
        "ultimo = lambda s: s[-1]"
      ],
      "metadata": {
        "id": "VsxKZxl4YI0f"
      },
      "execution_count": 22,
      "outputs": []
    },
    {
      "cell_type": "code",
      "source": [
        "ultimo('Python')"
      ],
      "metadata": {
        "colab": {
          "base_uri": "https://localhost:8080/",
          "height": 35
        },
        "id": "aCJTrcxEYPNv",
        "outputId": "9907796e-80ea-4215-f35a-2f6a21945f70"
      },
      "execution_count": 23,
      "outputs": [
        {
          "output_type": "execute_result",
          "data": {
            "text/plain": [
              "'n'"
            ],
            "application/vnd.google.colaboratory.intrinsic+json": {
              "type": "string"
            }
          },
          "metadata": {},
          "execution_count": 23
        }
      ]
    },
    {
      "cell_type": "code",
      "source": [
        "soma = lambda x,y: x+y"
      ],
      "metadata": {
        "id": "KWHsVKZDYSp3"
      },
      "execution_count": 17,
      "outputs": []
    },
    {
      "cell_type": "code",
      "source": [
        "soma(2,5)"
      ],
      "metadata": {
        "colab": {
          "base_uri": "https://localhost:8080/"
        },
        "id": "IrLmTaNFYYum",
        "outputId": "cf820b0a-e358-4082-cf9d-b4a65ce48a4d"
      },
      "execution_count": 18,
      "outputs": [
        {
          "output_type": "execute_result",
          "data": {
            "text/plain": [
              "7"
            ]
          },
          "metadata": {},
          "execution_count": 18
        }
      ]
    }
  ]
}