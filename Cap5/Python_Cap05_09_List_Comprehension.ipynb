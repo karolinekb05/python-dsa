{
  "nbformat": 4,
  "nbformat_minor": 0,
  "metadata": {
    "colab": {
      "provenance": [],
      "name": "Python-Cap05-09-List-Comprehension.ipynb",
      "authorship_tag": "ABX9TyP+dGWnmtyiu4mnwaN9Pmb3"
    },
    "kernelspec": {
      "name": "python3",
      "display_name": "Python 3"
    },
    "language_info": {
      "name": "python"
    }
  },
  "cells": [
    {
      "cell_type": "markdown",
      "source": [
        "#List Comprehension\n",
        "\n",
        "retorna uma **expressão para** cada **item** **dentro** de uma **coleção** **se** a **condição** for **verdadeira**\n",
        "\n",
        "[expressao for item in iterable if condicao == True]\n",
        "\n",
        "Loop dentro de uma lista"
      ],
      "metadata": {
        "id": "Np3MgTuKaoR4"
      }
    },
    {
      "cell_type": "code",
      "source": [
        "# List comprehension que imprime os números até 10\n",
        "# Para cada x dentro da coleção de elementos retorne x\n",
        "# ou\n",
        "# Retorne x para cada elemento dentro da coleção de elementos\n",
        "# Loop que percorre uma lista de elementos e retorna cada um dos elementos da lista\n",
        "[x for x in range(10)]"
      ],
      "metadata": {
        "colab": {
          "base_uri": "https://localhost:8080/"
        },
        "id": "2cenb4f2aw98",
        "outputId": "13c7d1e1-6119-461c-cd66-ab514a4596a6"
      },
      "execution_count": 1,
      "outputs": [
        {
          "output_type": "execute_result",
          "data": {
            "text/plain": [
              "[0, 1, 2, 3, 4, 5, 6, 7, 8, 9]"
            ]
          },
          "metadata": {},
          "execution_count": 1
        }
      ]
    },
    {
      "cell_type": "code",
      "source": [
        "# List comprehension que imprime os números até 10 e grava em uma lista\n",
        "numeros = [x for x in range(10)]"
      ],
      "metadata": {
        "id": "TdNxKy84a7CD"
      },
      "execution_count": 2,
      "outputs": []
    },
    {
      "cell_type": "code",
      "source": [
        "numeros"
      ],
      "metadata": {
        "colab": {
          "base_uri": "https://localhost:8080/"
        },
        "id": "4W--bvVVbCO7",
        "outputId": "cbaa72cd-cdfb-4d90-f646-de638a7f67fd"
      },
      "execution_count": 3,
      "outputs": [
        {
          "output_type": "execute_result",
          "data": {
            "text/plain": [
              "[0, 1, 2, 3, 4, 5, 6, 7, 8, 9]"
            ]
          },
          "metadata": {},
          "execution_count": 3
        }
      ]
    },
    {
      "cell_type": "code",
      "source": [
        "# List comprehension que imprime os números menores que 5 em um intervalo de 1 a 10\n",
        "# Retorne x para cada elemento dentro da coleção de elementos somente se o elemento for menor que 5 e armazene na variável 'numeros'\n",
        "numeros = [x for x in range(10) if x < 5]\n",
        "print(numeros)"
      ],
      "metadata": {
        "colab": {
          "base_uri": "https://localhost:8080/"
        },
        "id": "tum5YD0gbDRr",
        "outputId": "4aadbdfe-db6a-4376-f417-a1ad73b018f4"
      },
      "execution_count": 4,
      "outputs": [
        {
          "output_type": "stream",
          "name": "stdout",
          "text": [
            "[0, 1, 2, 3, 4]\n"
          ]
        }
      ]
    },
    {
      "cell_type": "code",
      "source": [
        "# Lista de matérias\n",
        "materias = ['IA', 'Machine Learning', 'Python', 'SQL']\n",
        "\n",
        "# Lista vazia\n",
        "new_list = []"
      ],
      "metadata": {
        "id": "EbhblHyxbSvV"
      },
      "execution_count": 5,
      "outputs": []
    },
    {
      "cell_type": "code",
      "source": [
        "# Loop tradicional para buscar palavras que tenham a letra 'n'\n",
        "# Para cada elemento dentro de materias\n",
        "for i in materias:\n",
        "  # Se n estiver dentro do elemento\n",
        "  if 'n' in i:\n",
        "    # acrescente o elemento na variável 'new_list'\n",
        "    new_list.append(i)\n",
        "print(new_list)"
      ],
      "metadata": {
        "colab": {
          "base_uri": "https://localhost:8080/"
        },
        "id": "Zb1sBmyDb1dO",
        "outputId": "5c6cbf40-b9ce-44df-cf2e-a98d10cb3f93"
      },
      "execution_count": 6,
      "outputs": [
        {
          "output_type": "stream",
          "name": "stdout",
          "text": [
            "['Machine Learning', 'Python']\n"
          ]
        }
      ]
    },
    {
      "cell_type": "code",
      "source": [
        "# Mesmo resultado anterior mas com list comprehension\n",
        "# Retorne elemento para cada elemento dentro de materias se n estiver dentro do elemento\n",
        "new_list = [x for x in materias if 'n' in x]\n",
        "print(new_list)"
      ],
      "metadata": {
        "colab": {
          "base_uri": "https://localhost:8080/"
        },
        "id": "G0C46I2ebgcT",
        "outputId": "78e922d7-cced-468a-8259-b213ffeb364e"
      },
      "execution_count": 7,
      "outputs": [
        {
          "output_type": "stream",
          "name": "stdout",
          "text": [
            "['Machine Learning', 'Python']\n"
          ]
        }
      ]
    },
    {
      "cell_type": "code",
      "source": [
        "# Dict compreheinsion\n",
        "\n",
        "# Dicionário de notas por matéria\n",
        "notas_mat = {'IA': 20, 'ML': 18, 'Python': 10}\n",
        "\n",
        "# Criando um novo dicionário imprimindo os pares chave:valor\n",
        "# Retorna chave:valor para cada (chave,valor) que estão nos itens do dicionário\n",
        "notas_mat = {k:v for (k,v) in notas_mat.items()}\n",
        "print(notas_mat)"
      ],
      "metadata": {
        "colab": {
          "base_uri": "https://localhost:8080/"
        },
        "id": "C3-yWZKnbkhn",
        "outputId": "408fc6b2-1ff0-4f6a-fef3-d7365c0bf148"
      },
      "execution_count": 8,
      "outputs": [
        {
          "output_type": "stream",
          "name": "stdout",
          "text": [
            "{'IA': 20, 'ML': 18, 'Python': 10}\n"
          ]
        }
      ]
    },
    {
      "cell_type": "code",
      "source": [
        "# Dict compreheinsion\n",
        "\n",
        "# Dicionário de notas por matéria\n",
        "notas_mat = {'IA': 20, 'ML': 18, 'Python': 10}\n",
        "\n",
        "# Criando um novo dicionário imprimindo os pares chave:valor\n",
        "# Retorna a chave e p status de v (Se for maior que 18 é 'Aprovado' se não 'Reprovado') para cada (chave,valor) que tem nos itens do dicionário\n",
        "notas_mat = {k: ('Aprovado' if v > 18 else 'Reprovado') for (k,v) in notas_mat.items()}\n",
        "print(notas_mat)"
      ],
      "metadata": {
        "colab": {
          "base_uri": "https://localhost:8080/"
        },
        "id": "s6VGUYsKcvJC",
        "outputId": "09032a43-e9cc-4f22-8215-c13974db8de9"
      },
      "execution_count": 9,
      "outputs": [
        {
          "output_type": "stream",
          "name": "stdout",
          "text": [
            "{'IA': 'Aprovado', 'ML': 'Reprovado', 'Python': 'Reprovado'}\n"
          ]
        }
      ]
    }
  ]
}