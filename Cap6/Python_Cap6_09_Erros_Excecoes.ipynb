{
  "nbformat": 4,
  "nbformat_minor": 0,
  "metadata": {
    "colab": {
      "provenance": [],
      "authorship_tag": "ABX9TyMQA5CQFjnmVzCgt90LLHfF"
    },
    "kernelspec": {
      "name": "python3",
      "display_name": "Python 3"
    },
    "language_info": {
      "name": "python"
    }
  },
  "cells": [
    {
      "cell_type": "markdown",
      "source": [
        "# Tratamento de erros e exceções\n",
        "\n",
        "Sempre leia as mensagens de erro. Erros fazem parte do processo de aprendizagem e vão acompanhar você na sua jornada em programação, em qualquer linguagem."
      ],
      "metadata": {
        "id": "7ZV2V8Z_wagl"
      }
    },
    {
      "cell_type": "code",
      "execution_count": 1,
      "metadata": {
        "colab": {
          "base_uri": "https://localhost:8080/",
          "height": 106
        },
        "id": "8jBtqU1nwY5Q",
        "outputId": "b04b09ea-f46c-4d80-9b06-c94cdd67e709"
      },
      "outputs": [
        {
          "output_type": "error",
          "ename": "SyntaxError",
          "evalue": "unterminated string literal (detected at line 2) (<ipython-input-1-5e60fd0811dc>, line 2)",
          "traceback": [
            "\u001b[0;36m  File \u001b[0;32m\"<ipython-input-1-5e60fd0811dc>\"\u001b[0;36m, line \u001b[0;32m2\u001b[0m\n\u001b[0;31m    print('hello)\u001b[0m\n\u001b[0m          ^\u001b[0m\n\u001b[0;31mSyntaxError\u001b[0m\u001b[0;31m:\u001b[0m unterminated string literal (detected at line 2)\n"
          ]
        }
      ],
      "source": [
        "# erro (leia a mensagem)\n",
        "print('hello)"
      ]
    },
    {
      "cell_type": "code",
      "source": [
        "# erro (leia a mensagem)\n",
        "8 + 's'"
      ],
      "metadata": {
        "colab": {
          "base_uri": "https://localhost:8080/",
          "height": 159
        },
        "id": "45BzNZaYw3V6",
        "outputId": "d9b815ad-c707-4a5c-8d1b-513603fb329a"
      },
      "execution_count": 2,
      "outputs": [
        {
          "output_type": "error",
          "ename": "TypeError",
          "evalue": "unsupported operand type(s) for +: 'int' and 'str'",
          "traceback": [
            "\u001b[0;31m---------------------------------------------------------------------------\u001b[0m",
            "\u001b[0;31mTypeError\u001b[0m                                 Traceback (most recent call last)",
            "\u001b[0;32m<ipython-input-2-252d558366b4>\u001b[0m in \u001b[0;36m<cell line: 2>\u001b[0;34m()\u001b[0m\n\u001b[1;32m      1\u001b[0m \u001b[0;31m# erro (leia a mensagem)\u001b[0m\u001b[0;34m\u001b[0m\u001b[0;34m\u001b[0m\u001b[0m\n\u001b[0;32m----> 2\u001b[0;31m \u001b[0;36m8\u001b[0m \u001b[0;34m+\u001b[0m \u001b[0;34m's'\u001b[0m\u001b[0;34m\u001b[0m\u001b[0;34m\u001b[0m\u001b[0m\n\u001b[0m",
            "\u001b[0;31mTypeError\u001b[0m: unsupported operand type(s) for +: 'int' and 'str'"
          ]
        }
      ]
    },
    {
      "cell_type": "code",
      "source": [
        "# criando uma função\n",
        "def divNum(n1,n2):\n",
        "  res = n1 / n2\n",
        "  print(res)"
      ],
      "metadata": {
        "id": "3yjnPicKw74p"
      },
      "execution_count": 3,
      "outputs": []
    },
    {
      "cell_type": "code",
      "source": [
        "# execução não gera erro\n",
        "divNum(4,2)"
      ],
      "metadata": {
        "colab": {
          "base_uri": "https://localhost:8080/"
        },
        "id": "Z9vA0eFnxKhx",
        "outputId": "7d369dc5-192d-462f-b06c-e1bb4bc3398d"
      },
      "execution_count": 4,
      "outputs": [
        {
          "output_type": "stream",
          "name": "stdout",
          "text": [
            "2.0\n"
          ]
        }
      ]
    },
    {
      "cell_type": "code",
      "source": [
        "# execução gerando erro (leia a mensagem)\n",
        "divNum(4,0)"
      ],
      "metadata": {
        "colab": {
          "base_uri": "https://localhost:8080/",
          "height": 263
        },
        "id": "1gi0-RwUxTXR",
        "outputId": "576e66e2-b600-4abd-ca4b-7f645e217d97"
      },
      "execution_count": 5,
      "outputs": [
        {
          "output_type": "error",
          "ename": "ZeroDivisionError",
          "evalue": "division by zero",
          "traceback": [
            "\u001b[0;31m---------------------------------------------------------------------------\u001b[0m",
            "\u001b[0;31mZeroDivisionError\u001b[0m                         Traceback (most recent call last)",
            "\u001b[0;32m<ipython-input-5-08c560d8eab6>\u001b[0m in \u001b[0;36m<cell line: 2>\u001b[0;34m()\u001b[0m\n\u001b[1;32m      1\u001b[0m \u001b[0;31m# execução gerando erro (leia a mensagem)\u001b[0m\u001b[0;34m\u001b[0m\u001b[0;34m\u001b[0m\u001b[0m\n\u001b[0;32m----> 2\u001b[0;31m \u001b[0mdivNum\u001b[0m\u001b[0;34m(\u001b[0m\u001b[0;36m4\u001b[0m\u001b[0;34m,\u001b[0m\u001b[0;36m0\u001b[0m\u001b[0;34m)\u001b[0m\u001b[0;34m\u001b[0m\u001b[0;34m\u001b[0m\u001b[0m\n\u001b[0m",
            "\u001b[0;32m<ipython-input-3-706287c327f8>\u001b[0m in \u001b[0;36mdivNum\u001b[0;34m(n1, n2)\u001b[0m\n\u001b[1;32m      1\u001b[0m \u001b[0;31m# criando uma função\u001b[0m\u001b[0;34m\u001b[0m\u001b[0;34m\u001b[0m\u001b[0m\n\u001b[1;32m      2\u001b[0m \u001b[0;32mdef\u001b[0m \u001b[0mdivNum\u001b[0m\u001b[0;34m(\u001b[0m\u001b[0mn1\u001b[0m\u001b[0;34m,\u001b[0m\u001b[0mn2\u001b[0m\u001b[0;34m)\u001b[0m\u001b[0;34m:\u001b[0m\u001b[0;34m\u001b[0m\u001b[0;34m\u001b[0m\u001b[0m\n\u001b[0;32m----> 3\u001b[0;31m   \u001b[0mres\u001b[0m \u001b[0;34m=\u001b[0m \u001b[0mn1\u001b[0m \u001b[0;34m/\u001b[0m \u001b[0mn2\u001b[0m\u001b[0;34m\u001b[0m\u001b[0;34m\u001b[0m\u001b[0m\n\u001b[0m\u001b[1;32m      4\u001b[0m   \u001b[0mprint\u001b[0m\u001b[0;34m(\u001b[0m\u001b[0mres\u001b[0m\u001b[0;34m)\u001b[0m\u001b[0;34m\u001b[0m\u001b[0;34m\u001b[0m\u001b[0m\n",
            "\u001b[0;31mZeroDivisionError\u001b[0m: division by zero"
          ]
        }
      ]
    },
    {
      "cell_type": "markdown",
      "source": [
        "## Try, Except, Finally\n",
        "\n",
        "Palavras reservadas para tratamento de erros"
      ],
      "metadata": {
        "id": "Is4Xmdn_xfQt"
      }
    },
    {
      "cell_type": "code",
      "source": [
        "# utilizando try e except\n",
        "try:\n",
        "  8 + 's'\n",
        "except TypeError:\n",
        "  print('Operação não permitida')"
      ],
      "metadata": {
        "colab": {
          "base_uri": "https://localhost:8080/"
        },
        "id": "dOfKrpdS63FA",
        "outputId": "2bac0827-e93a-4928-fc76-85f0d3366bf4"
      },
      "execution_count": 13,
      "outputs": [
        {
          "output_type": "stream",
          "name": "stdout",
          "text": [
            "Operação não permitida\n"
          ]
        }
      ]
    },
    {
      "cell_type": "code",
      "source": [
        "# utilizando try, except e else\n",
        "try:\n",
        "  f = open('arquivos/erros.txt', 'w')\n",
        "  f.write('Gravando no arquivo')\n",
        "except IOError:\n",
        "  print('Erro: arquivo não encontrado ou não pode ser salvo')\n",
        "else:\n",
        "  print('Conteúdo gravado no arquivo!')\n",
        "  f.close()"
      ],
      "metadata": {
        "colab": {
          "base_uri": "https://localhost:8080/"
        },
        "id": "WCqKo4a5xndM",
        "outputId": "7c523636-6b11-448f-ef22-7a9a2d54cd37"
      },
      "execution_count": 16,
      "outputs": [
        {
          "output_type": "stream",
          "name": "stdout",
          "text": [
            "Conteúdo gravado no arquivo!\n"
          ]
        }
      ]
    },
    {
      "cell_type": "code",
      "source": [
        "# utilizando try, except e else\n",
        "try:\n",
        "  f = open('arquivos/erros', 'r')\n",
        "except IOError:\n",
        "  print('Erro: arquivo não encontrado ou não pode ser salvo')\n",
        "else:\n",
        "  print('Conteúdo gravado no arquivo!')\n",
        "  f.close()"
      ],
      "metadata": {
        "colab": {
          "base_uri": "https://localhost:8080/"
        },
        "id": "tYepMW4i6zyD",
        "outputId": "880a183e-19c3-4005-e5f8-12dce7497c78"
      },
      "execution_count": 18,
      "outputs": [
        {
          "output_type": "stream",
          "name": "stdout",
          "text": [
            "Erro: arquivo não encontrado ou não pode ser salvo\n"
          ]
        }
      ]
    },
    {
      "cell_type": "code",
      "source": [
        "# utilizando try, except, else e finally\n",
        "# finally é pra executar o comando independente de ter dado certo ou errado os comandos anteriores\n",
        "try:\n",
        "  f = open('arquivos/erros.txt', 'w')\n",
        "  f.write('Gravando no arquivo')\n",
        "except IOError:\n",
        "  print('Erro: arquivo não encontrado ou não pode ser salvo')\n",
        "else:\n",
        "  print('Conteúdo gravado no arquivo!')\n",
        "  f.close()\n",
        "finally:\n",
        "  print('Comandos do bloco finally são sempre executados')"
      ],
      "metadata": {
        "colab": {
          "base_uri": "https://localhost:8080/"
        },
        "id": "LNNEDXu17bjI",
        "outputId": "016f5602-f93d-4a59-ab65-067a9ce2f6ae"
      },
      "execution_count": 19,
      "outputs": [
        {
          "output_type": "stream",
          "name": "stdout",
          "text": [
            "Conteúdo gravado no arquivo!\n",
            "Comandos do bloco finally são sempre executados\n"
          ]
        }
      ]
    },
    {
      "cell_type": "markdown",
      "source": [
        "Cada possibilidade de erro deve ser tratada no seu programa"
      ],
      "metadata": {
        "id": "ylbynO_b74Mk"
      }
    },
    {
      "cell_type": "code",
      "source": [
        "# v1\n",
        "def asknum():\n",
        "  try:\n",
        "    val = int(input('Digite um número:'))\n",
        "  except:\n",
        "    print('Você não digitou um número!')\n",
        "  finally:\n",
        "    print('Obrigada!')"
      ],
      "metadata": {
        "id": "VskZtC_178NT"
      },
      "execution_count": 27,
      "outputs": []
    },
    {
      "cell_type": "code",
      "source": [
        "asknum()"
      ],
      "metadata": {
        "colab": {
          "base_uri": "https://localhost:8080/"
        },
        "id": "tFm17YsI_Y8m",
        "outputId": "edbb2218-330a-4233-875e-586e431aa780"
      },
      "execution_count": 26,
      "outputs": [
        {
          "output_type": "stream",
          "name": "stdout",
          "text": [
            "Digite um número:10\n",
            "10\n",
            "Obrigada!\n"
          ]
        }
      ]
    },
    {
      "cell_type": "code",
      "source": [
        "# v2\n",
        "def asknum():\n",
        "  try:\n",
        "    val = int(input('Digite um número:'))\n",
        "  except:\n",
        "    print('Você não digitou um número!')\n",
        "    val = int(input('Tente novamente! Digite um número:'))\n",
        "  finally:\n",
        "    print('Obrigada!')\n",
        "  print(val)"
      ],
      "metadata": {
        "id": "RFpI2Lpz_hjU"
      },
      "execution_count": 28,
      "outputs": []
    },
    {
      "cell_type": "code",
      "source": [
        "asknum()"
      ],
      "metadata": {
        "colab": {
          "base_uri": "https://localhost:8080/"
        },
        "id": "I1FrxnON_84h",
        "outputId": "1caa9b0d-eca6-4f52-d989-488a68d9dbf2"
      },
      "execution_count": 31,
      "outputs": [
        {
          "output_type": "stream",
          "name": "stdout",
          "text": [
            "Digite um número:1\n",
            "Obrigada!\n",
            "1\n"
          ]
        }
      ]
    },
    {
      "cell_type": "code",
      "source": [
        "# v3\n",
        "def asknum():\n",
        "  while True:\n",
        "    try:\n",
        "      val = int(input('Digite um número:'))\n",
        "    except:\n",
        "      print('Você não digitou um número!')\n",
        "      continue\n",
        "    else:\n",
        "      print('Obrigada por digitar um número!')\n",
        "      break\n",
        "    finally:\n",
        "      print('Fim da execução')\n",
        "    print(val)"
      ],
      "metadata": {
        "id": "2B4Jz1lJAfxC"
      },
      "execution_count": 32,
      "outputs": []
    },
    {
      "cell_type": "code",
      "source": [
        "asknum()"
      ],
      "metadata": {
        "colab": {
          "base_uri": "https://localhost:8080/"
        },
        "id": "KIDINiTuBCLp",
        "outputId": "e724d12b-8fa1-472d-eb57-823a3fc09517"
      },
      "execution_count": 33,
      "outputs": [
        {
          "output_type": "stream",
          "name": "stdout",
          "text": [
            "Digite um número:a\n",
            "Você não digitou um número!\n",
            "Fim da execução\n",
            "Digite um número:a\n",
            "Você não digitou um número!\n",
            "Fim da execução\n",
            "Digite um número:a\n",
            "Você não digitou um número!\n",
            "Fim da execução\n",
            "Digite um número:a\n",
            "Você não digitou um número!\n",
            "Fim da execução\n",
            "Digite um número:a\n",
            "Você não digitou um número!\n",
            "Fim da execução\n",
            "Digite um número:1\n",
            "Obrigada por digitar um número!\n",
            "Fim da execução\n"
          ]
        }
      ]
    },
    {
      "cell_type": "markdown",
      "source": [
        "Uma lista completa de exceções em Python pode ser encontrada aqui: https://docs.python.org/3.9/library/exceptions.html"
      ],
      "metadata": {
        "id": "SjYrjvuABMdv"
      }
    }
  ]
}