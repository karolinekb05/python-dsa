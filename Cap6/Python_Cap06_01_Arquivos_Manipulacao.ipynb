{
  "nbformat": 4,
  "nbformat_minor": 0,
  "metadata": {
    "colab": {
      "provenance": [],
      "authorship_tag": "ABX9TyM5pctHbOtIoE36gE153HIK"
    },
    "kernelspec": {
      "name": "python3",
      "display_name": "Python 3"
    },
    "language_info": {
      "name": "python"
    }
  },
  "cells": [
    {
      "cell_type": "markdown",
      "source": [
        "# Manipulação de arquivos\n",
        "\n",
        "Python puro, sem precisar de pacotes adicionais"
      ],
      "metadata": {
        "id": "10dJlEsq7L4Q"
      }
    },
    {
      "cell_type": "markdown",
      "source": [
        "### Lendo arquivos\n",
        "\n",
        "Mantém o arquivo original intacto\n",
        "\n",
        "'r' = apenas leitura do arquivo"
      ],
      "metadata": {
        "id": "7QzPyGG07UJb"
      }
    },
    {
      "cell_type": "code",
      "execution_count": null,
      "metadata": {
        "id": "SQG_DDda7ET5"
      },
      "outputs": [],
      "source": [
        "# Abrindo o arquivo para leitura\n",
        "a1 = open('arquivos/arquivo1.txt', 'r') # r = read"
      ]
    },
    {
      "cell_type": "code",
      "source": [
        "type(a1)"
      ],
      "metadata": {
        "id": "5r9SNSp-7sqj"
      },
      "execution_count": null,
      "outputs": []
    },
    {
      "cell_type": "code",
      "source": [
        "# Lendo o arquivo\n",
        "print(a1.read())"
      ],
      "metadata": {
        "id": "6LJn6x_R7uTC"
      },
      "execution_count": null,
      "outputs": []
    },
    {
      "cell_type": "code",
      "source": [
        "# Contar o número de caracteres\n",
        "print(a1.tell())"
      ],
      "metadata": {
        "id": "sCScloGl7wvY"
      },
      "execution_count": null,
      "outputs": []
    },
    {
      "cell_type": "code",
      "source": [
        "# Lendo o arquivo\n",
        "# Atenção, pois após ler o arquivo 1 vez, na 2ª vez o retorno será vazio, porque o cursor está posicionado no final do arquivo\n",
        "print(a1.read())"
      ],
      "metadata": {
        "id": "31Bh3Aie7yaM"
      },
      "execution_count": null,
      "outputs": []
    },
    {
      "cell_type": "code",
      "source": [
        "# Por conta do cursor se posicionar no final do arquivo, é necessário reposicionar ele\n",
        "# Retornar para o início do arquivo\n",
        "print(a1.seek(0,0)) # posiciona o cursor no 0"
      ],
      "metadata": {
        "id": "UiTpbvbM70R2"
      },
      "execution_count": null,
      "outputs": []
    },
    {
      "cell_type": "code",
      "source": [
        "# Lendo os primeiros 23 caracteres\n",
        "print(a1.read(23))"
      ],
      "metadata": {
        "id": "-TWIdDUI72GX"
      },
      "execution_count": null,
      "outputs": []
    },
    {
      "cell_type": "code",
      "source": [
        "# Como o cursor ficou posicionado no caractere 23, ele continuou do 23 até o final\n",
        "print(a1.read())"
      ],
      "metadata": {
        "id": "Z6FdCQbY73zO"
      },
      "execution_count": null,
      "outputs": []
    }
  ]
}