{
  "nbformat": 4,
  "nbformat_minor": 0,
  "metadata": {
    "colab": {
      "provenance": [],
      "authorship_tag": "ABX9TyPUqe9+hB8Lv/1Qjsgd1M5f"
    },
    "kernelspec": {
      "name": "python3",
      "display_name": "Python 3"
    },
    "language_info": {
      "name": "python"
    }
  },
  "cells": [
    {
      "cell_type": "markdown",
      "source": [
        "# Manipulação de arquivos\n",
        "\n",
        "Python puro, sem precisar de pacotes adicionais"
      ],
      "metadata": {
        "id": "10dJlEsq7L4Q"
      }
    },
    {
      "cell_type": "markdown",
      "source": [
        "### Lendo arquivos\n",
        "\n",
        "Mantém o arquivo original intacto\n",
        "\n",
        "'r' = apenas leitura do arquivo"
      ],
      "metadata": {
        "id": "7QzPyGG07UJb"
      }
    },
    {
      "cell_type": "code",
      "execution_count": null,
      "metadata": {
        "id": "SQG_DDda7ET5"
      },
      "outputs": [],
      "source": [
        "# Abrindo o arquivo para leitura"
      ]
    }
  ]
}