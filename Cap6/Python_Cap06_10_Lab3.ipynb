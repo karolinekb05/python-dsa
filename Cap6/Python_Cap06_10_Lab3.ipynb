{
  "nbformat": 4,
  "nbformat_minor": 0,
  "metadata": {
    "colab": {
      "provenance": [],
      "authorship_tag": "ABX9TyNdv0Hd/3dMO/zMV5aubKL2"
    },
    "kernelspec": {
      "name": "python3",
      "display_name": "Python 3"
    },
    "language_info": {
      "name": "python"
    }
  },
  "cells": [
    {
      "cell_type": "markdown",
      "source": [
        "# Expressões Regulares (REGEX)\n",
        "\n",
        "Expressões Regulares são uma **sequência de caracteres que definem uma busca padrão em strings**. Em Python, as Expressões Regulares são suportadas pelo pacote 're'. Ele fornece uma série de funções para pesquisar e substituir padrões em strings. Algumas das tarefas mais comuns que podem ser realizadas com Expressões Regulares incluem verificar se uma string corresponde a um determinado padrão, extrair informações de uma string combase em um padrão específico e substituir trechos de uma string com base em um padrão.\n",
        "\n",
        "Por  exemplo,  você  pode  usar  uma  expressão  regular  para  verificar  se  uma  string representa um endereço de e-mail válido, ou para encontrar todas as ocorrências de um padrão em uma string."
      ],
      "metadata": {
        "id": "GfYoSYulCDrQ"
      }
    },
    {
      "cell_type": "markdown",
      "source": [
        "Expressões regulares são padrões usados para combinar ou encontrar ocorrências de sequências de caracteres em uma string. Em Python, expressões regulares são geralmente usadas para manipular strings e realizar tarefas como validação de entrada de dados, extração de informações de strings e substituição de texto."
      ],
      "metadata": {
        "id": "Jf4qsyQXT1d3"
      }
    },
    {
      "cell_type": "code",
      "execution_count": 2,
      "metadata": {
        "id": "UNgQICchB_YJ"
      },
      "outputs": [],
      "source": [
        "import re"
      ]
    },
    {
      "cell_type": "code",
      "source": [
        "texto = 'Este é um texto de exemplo para expressões regulares em Python com e-mail teste@expreg.com'"
      ],
      "metadata": {
        "id": "e0L8zyx6UXyQ"
      },
      "execution_count": 5,
      "outputs": []
    },
    {
      "cell_type": "code",
      "source": [
        "# expressão regular para contar quantas vezes o caracter 's' aparece no texto\n",
        "# função findall = encontre tudo\n",
        "res = len(re.findall('s', texto))"
      ],
      "metadata": {
        "id": "PDrEY1LXUgSw"
      },
      "execution_count": 3,
      "outputs": []
    },
    {
      "cell_type": "code",
      "source": [
        "print(\"O caractere 's' apareceu\", res, \"vezes no texto.\")"
      ],
      "metadata": {
        "colab": {
          "base_uri": "https://localhost:8080/"
        },
        "id": "RkfK5UQnUzCE",
        "outputId": "471dfdf0-185b-4de3-cbd6-2abf97b31c55"
      },
      "execution_count": 4,
      "outputs": [
        {
          "output_type": "stream",
          "name": "stdout",
          "text": [
            "O caractere 's' apareceu 5 vezes no texto.\n"
          ]
        }
      ]
    },
    {
      "cell_type": "code",
      "source": [
        "# expressão regular para extrair a palavra que aparece após a palavra 'exemplo' em um texto\n",
        "# o espaço após o 'exemplo' é importante para achar a próxima palavra nessa mesma posição, ex: exemplo para\n",
        "res = re.findall(r'exemplo (\\w+)', texto)"
      ],
      "metadata": {
        "id": "CEp1WJUaVBsT"
      },
      "execution_count": 6,
      "outputs": []
    },
    {
      "cell_type": "code",
      "source": [
        "# [0] mostra apenas o elemento, sem mostrar ele dentro de uma lista, ex: sem [0] ficaria ['pode']\n",
        "print(\"A palavra após 'exemplo' é:\", res[0])"
      ],
      "metadata": {
        "colab": {
          "base_uri": "https://localhost:8080/"
        },
        "id": "L-t0eOHEVS2s",
        "outputId": "f1467ba6-71b7-45f7-dcbd-8146c2763e88"
      },
      "execution_count": 7,
      "outputs": [
        {
          "output_type": "stream",
          "name": "stdout",
          "text": [
            "A palavra após 'exemplo' é: para\n"
          ]
        }
      ]
    },
    {
      "cell_type": "markdown",
      "source": [
        "Nota: O r antes da string que representa a expressão regular em Python é usado para indicar que é uma string literal raw. Isso significa que as barras invertidas () não são interpretadas como caracteres de escape, mas são incluídas na expressão regular como parte do padrão."
      ],
      "metadata": {
        "id": "qQxlw2wVVciD"
      }
    },
    {
      "cell_type": "code",
      "source": [
        "# expressão regular para extrair endereços de e-mail de uma string\n",
        "emails = re.findall(r'\\b[A-Za-z0-9._%+-]+@[A-Za-z0-9.-]+\\.[A-Z|a-z]{2,}\\b', texto)"
      ],
      "metadata": {
        "id": "JOYP9k_nVyvI"
      },
      "execution_count": 8,
      "outputs": []
    },
    {
      "cell_type": "code",
      "source": [
        "print(emails)"
      ],
      "metadata": {
        "colab": {
          "base_uri": "https://localhost:8080/"
        },
        "id": "mTfHTSUSWYS0",
        "outputId": "462e6135-d927-4a98-ff5a-572e7223cf90"
      },
      "execution_count": 9,
      "outputs": [
        {
          "output_type": "stream",
          "name": "stdout",
          "text": [
            "['teste@expreg.com']\n"
          ]
        }
      ]
    },
    {
      "cell_type": "markdown",
      "source": [
        "Visite sua amiga, a documentação:\n",
        "https://docs.python.org/3.9/library/re.html\n",
        "\n",
        "https://docs.python.org/pt-br/3/howto/regex.html"
      ],
      "metadata": {
        "id": "EdV3uN2fWbyO"
      }
    },
    {
      "cell_type": "code",
      "source": [
        "text = 'Estou aprendendo sobre expressões regulares que são incrivelmente legais e somente após a introdução ficou mais fácil'"
      ],
      "metadata": {
        "id": "v_D1DEAPZhRU"
      },
      "execution_count": 12,
      "outputs": []
    },
    {
      "cell_type": "code",
      "source": [
        "# extraindo advérbios da frase\n",
        "# finditer passa por cada iteração\n",
        "# \\w+ sufixo \\b = qualquer palavra que tenha o sufixo 'mente' no final da palavra\n",
        "for m in re.finditer(r'\\w+mente\\b', text):\n",
        "  # m.start e m.end busca o índice de início e fim da palavra\n",
        "  print('%02d-%02d: %s' % (m.start(), m.end(), m.group(0)))"
      ],
      "metadata": {
        "colab": {
          "base_uri": "https://localhost:8080/"
        },
        "id": "INg1HwefaE9-",
        "outputId": "ab0952d5-6f29-4b49-f2cc-3757a6ce8b79"
      },
      "execution_count": 14,
      "outputs": [
        {
          "output_type": "stream",
          "name": "stdout",
          "text": [
            "52-65: incrivelmente\n",
            "75-82: somente\n"
          ]
        }
      ]
    },
    {
      "cell_type": "markdown",
      "source": [
        "#REGEX com ChatGPT\n",
        "\n",
        "Música: Saúde\n",
        "\n",
        "Rita Lee\n",
        "\n",
        "3 aspas simples no início/fim é o conceito de docstring que permite colocar uma string em várias linhas"
      ],
      "metadata": {
        "id": "3BpzJEYaaeHL"
      }
    },
    {
      "cell_type": "code",
      "source": [
        "# variável do tipo string\n",
        "musica = '''\n",
        "Me cansei de lero-lero\n",
        "Dá licença, mas eu vou sair do sério\n",
        "Quero mais saúde\n",
        "Me cansei de escutar opiniões\n",
        "De como ter um mundo melhor\n",
        "\n",
        "Mas ninguém sai de cima, nesse chove não molha\n",
        "Eu sei que agora eu vou é cuidar mais de mim\n",
        "\n",
        "Como vai? Tudo bem\n",
        "Apesar, contudo, todavia, mas, porém\n",
        "As águas vão rolar, não vou chorar\n",
        "Se por acaso morrer do coração\n",
        "É sinal que amei demais\n",
        "\n",
        "Mas enquanto estou viva e cheia de graça\n",
        "Talvez ainda faça um monte de gente feliz\n",
        "\n",
        "Como vai? Tudo bem\n",
        "Apesar, contudo, todavia, mas, porém\n",
        "As águas vão rolar, não vou chorar, não\n",
        "Se por acaso morrer do coração\n",
        "É sinal que amei demais\n",
        "\n",
        "Mas enquanto estou viva e cheia de graça\n",
        "Talvez ainda faça um monte de gente feliz\n",
        "'''"
      ],
      "metadata": {
        "id": "ln_XghpUadE3"
      },
      "execution_count": 9,
      "outputs": []
    },
    {
      "cell_type": "code",
      "source": [
        "musica"
      ],
      "metadata": {
        "colab": {
          "base_uri": "https://localhost:8080/",
          "height": 87
        },
        "id": "H3ylmt7FbfM6",
        "outputId": "097f6db7-de3c-46b7-d7ab-6fbaf1900b5b"
      },
      "execution_count": 10,
      "outputs": [
        {
          "output_type": "execute_result",
          "data": {
            "text/plain": [
              "'\\nMe cansei de lero-lero\\nDá licença, mas eu vou sair do sério\\nQuero mais saúde\\nMe cansei de escutar opiniões\\nDe como ter um mundo melhor\\n\\nMas ninguém sai de cima, nesse chove não molha\\nEu sei que agora eu vou é cuidar mais de mim\\n\\nComo vai? Tudo bem\\nApesar, contudo, todavia, mas, porém\\nAs águas vão rolar, não vou chorar\\nSe por acaso morrer do coração\\nÉ sinal que amei demais\\n\\nMas enquanto estou viva e cheia de graça\\nTalvez ainda faça um monte de gente feliz\\n\\nComo vai? Tudo bem\\nApesar, contudo, todavia, mas, porém\\nAs águas vão rolar, não vou chorar, não\\nSe por acaso morrer do coração\\nÉ sinal que amei demais\\n\\nMas enquanto estou viva e cheia de graça\\nTalvez ainda faça um monte de gente feliz\\n'"
            ],
            "application/vnd.google.colaboratory.intrinsic+json": {
              "type": "string"
            }
          },
          "metadata": {},
          "execution_count": 10
        }
      ]
    },
    {
      "cell_type": "code",
      "source": [
        "# 1- Crie um REGEX para contar quantas vezes o caracter 'a' aparece em todo o texto da música.\n",
        "# 2- Crie um REGEX em Python para contar quantas vezes a palavra 'feliz' aparece na música.\n",
        "# 3- Crie um REGEX em Python para extrair as palavras seguidas por vírgula.\n",
        "# 4- Crie um REGEX que extrai qualquer palavra cujo antecessor seja a palavra 'como' e o sucessor seja a palavra 'vai' em um texto.\n",
        "# 5- Crie um REGEX que retorne as palavras com acento, mas somente os caracteres na palavra que são anteriores ao caractere com acento."
      ],
      "metadata": {
        "id": "m4xNcc3bb3ny"
      },
      "execution_count": null,
      "outputs": []
    },
    {
      "cell_type": "markdown",
      "source": [
        "Soluções:"
      ],
      "metadata": {
        "id": "qcwOzu4Gc46d"
      }
    },
    {
      "cell_type": "code",
      "source": [
        "#1\n",
        "a = len(re.findall('a', musica))\n",
        "print(a)"
      ],
      "metadata": {
        "colab": {
          "base_uri": "https://localhost:8080/"
        },
        "id": "xzQN_RWnc69a",
        "outputId": "3bf3c129-5282-4049-eff1-e8d87929379a"
      },
      "execution_count": 11,
      "outputs": [
        {
          "output_type": "stream",
          "name": "stdout",
          "text": [
            "66\n"
          ]
        }
      ]
    },
    {
      "cell_type": "code",
      "source": [
        "#2\n",
        "feliz = len(re.findall('feliz', musica))\n",
        "print(feliz)"
      ],
      "metadata": {
        "colab": {
          "base_uri": "https://localhost:8080/"
        },
        "id": "zM9iNlHlc8gJ",
        "outputId": "763620b9-cabf-4893-a866-e7c33bee090c"
      },
      "execution_count": 12,
      "outputs": [
        {
          "output_type": "stream",
          "name": "stdout",
          "text": [
            "2\n"
          ]
        }
      ]
    },
    {
      "cell_type": "code",
      "source": [
        "#3\n",
        "for m in re.finditer(r'\\w+,', musica):\n",
        "  print('%02d-%02d: %s' % (m.start(), m.end(), m.group(0)))"
      ],
      "metadata": {
        "colab": {
          "base_uri": "https://localhost:8080/"
        },
        "id": "t6FOtAeZc9cM",
        "outputId": "df2e1bbc-ff95-4e20-f555-838acb806c52"
      },
      "execution_count": 13,
      "outputs": [
        {
          "output_type": "stream",
          "name": "stdout",
          "text": [
            "27-35: licença,\n",
            "156-161: cima,\n",
            "249-256: Apesar,\n",
            "257-265: contudo,\n",
            "266-274: todavia,\n",
            "275-279: mas,\n",
            "299-305: rolar,\n",
            "480-487: Apesar,\n",
            "488-496: contudo,\n",
            "497-505: todavia,\n",
            "506-510: mas,\n",
            "530-536: rolar,\n",
            "545-552: chorar,\n"
          ]
        }
      ]
    },
    {
      "cell_type": "code",
      "source": [
        "#4\n",
        "padrao = r\"\\bchove\\s+(\\S+[\\.,]?\\s+)molha\\b\"\n",
        "words = re.findall(padrao, musica, re.IGNORECASE)\n",
        "\n",
        "print(words)"
      ],
      "metadata": {
        "colab": {
          "base_uri": "https://localhost:8080/"
        },
        "id": "d03jnSI9c_as",
        "outputId": "8657ebea-247c-4858-c331-24cba610818f"
      },
      "execution_count": 54,
      "outputs": [
        {
          "output_type": "stream",
          "name": "stdout",
          "text": [
            "['não ']\n"
          ]
        }
      ]
    },
    {
      "cell_type": "code",
      "source": [
        "#5\n",
        "resultado = re.findall(r'[a-z]+[àáâãèéêìíîòóôõùúüçñ]', musica)\n",
        "\n",
        "print(resultado)"
      ],
      "metadata": {
        "colab": {
          "base_uri": "https://localhost:8080/"
        },
        "id": "HO4zpoBtdAE-",
        "outputId": "1a951dad-5389-43dd-ffe8-09f2d6113f4e"
      },
      "execution_count": 52,
      "outputs": [
        {
          "output_type": "stream",
          "name": "stdout",
          "text": [
            "['licenç', 'sé', 'saú', 'opiniõ', 'ningué', 'nã', 'poré', 'vã', 'nã', 'coraç', 'graç', 'faç', 'poré', 'vã', 'nã', 'nã', 'coraç', 'graç', 'faç']\n"
          ]
        }
      ]
    }
  ]
}