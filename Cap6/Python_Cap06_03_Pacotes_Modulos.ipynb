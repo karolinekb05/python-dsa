{
  "nbformat": 4,
  "nbformat_minor": 0,
  "metadata": {
    "colab": {
      "provenance": [],
      "authorship_tag": "ABX9TyOC5/jOMXMCjtPQuehAx3gE"
    },
    "kernelspec": {
      "name": "python3",
      "display_name": "Python 3"
    },
    "language_info": {
      "name": "python"
    }
  },
  "cells": [
    {
      "cell_type": "markdown",
      "source": [
        "# Pacotes e Módulos\n",
        "\n",
        "Em Python, um **módulo** é um **arquivo** (script) .py que **contém código Python** e pode ser importado em outros arquivos Python. Ele é usado para compartilhar funções, classes e variáveis entre arquivos.\n",
        "\n",
        "Já um **pacote** é uma **coleção de módulos** organizados em uma estrutura de diretórios. Ele permite a divisão de um aplicativo em múltiplos módulos, o que facilita a manutenção e o desenvolvimento.\n",
        "\n",
        "Visite o **PyPi**, repositório de pacotes da Linguagem Python: https://pypi.org\n",
        "\n",
        "**pip** é o instalador de pacotes Python via terminal\n",
        "\n",
        "pip install -U <'nome_pacote'> (remove a versão antiga e instala a mais recente, faz upgrade)\n",
        "\n",
        "pip uninstall <'nome_pacote'> (desinstala o pacote)"
      ],
      "metadata": {
        "id": "iVV6u5wVRCc7"
      }
    },
    {
      "cell_type": "code",
      "execution_count": 1,
      "metadata": {
        "id": "FSyGR3bwQPNp"
      },
      "outputs": [],
      "source": [
        "# importando um pacote python\n",
        "import numpy"
      ]
    },
    {
      "cell_type": "code",
      "source": [
        "# verificando todos os métodos e atributos disponíveis no pacote\n",
        "dir(numpy)"
      ],
      "metadata": {
        "colab": {
          "base_uri": "https://localhost:8080/"
        },
        "id": "qBpUbTIKRu4K",
        "outputId": "90beaa06-4617-4a97-adad-89db182832c5"
      },
      "execution_count": 2,
      "outputs": [
        {
          "output_type": "execute_result",
          "data": {
            "text/plain": [
              "['ALLOW_THREADS',\n",
              " 'BUFSIZE',\n",
              " 'CLIP',\n",
              " 'DataSource',\n",
              " 'ERR_CALL',\n",
              " 'ERR_DEFAULT',\n",
              " 'ERR_IGNORE',\n",
              " 'ERR_LOG',\n",
              " 'ERR_PRINT',\n",
              " 'ERR_RAISE',\n",
              " 'ERR_WARN',\n",
              " 'FLOATING_POINT_SUPPORT',\n",
              " 'FPE_DIVIDEBYZERO',\n",
              " 'FPE_INVALID',\n",
              " 'FPE_OVERFLOW',\n",
              " 'FPE_UNDERFLOW',\n",
              " 'False_',\n",
              " 'Inf',\n",
              " 'Infinity',\n",
              " 'MAXDIMS',\n",
              " 'MAY_SHARE_BOUNDS',\n",
              " 'MAY_SHARE_EXACT',\n",
              " 'NAN',\n",
              " 'NINF',\n",
              " 'NZERO',\n",
              " 'NaN',\n",
              " 'PINF',\n",
              " 'PZERO',\n",
              " 'RAISE',\n",
              " 'RankWarning',\n",
              " 'SHIFT_DIVIDEBYZERO',\n",
              " 'SHIFT_INVALID',\n",
              " 'SHIFT_OVERFLOW',\n",
              " 'SHIFT_UNDERFLOW',\n",
              " 'ScalarType',\n",
              " 'True_',\n",
              " 'UFUNC_BUFSIZE_DEFAULT',\n",
              " 'UFUNC_PYVALS_NAME',\n",
              " 'WRAP',\n",
              " '_CopyMode',\n",
              " '_NoValue',\n",
              " '_UFUNC_API',\n",
              " '__NUMPY_SETUP__',\n",
              " '__all__',\n",
              " '__builtins__',\n",
              " '__cached__',\n",
              " '__config__',\n",
              " '__deprecated_attrs__',\n",
              " '__dir__',\n",
              " '__doc__',\n",
              " '__expired_functions__',\n",
              " '__file__',\n",
              " '__former_attrs__',\n",
              " '__future_scalars__',\n",
              " '__getattr__',\n",
              " '__loader__',\n",
              " '__name__',\n",
              " '__package__',\n",
              " '__path__',\n",
              " '__spec__',\n",
              " '__version__',\n",
              " '_add_newdoc_ufunc',\n",
              " '_builtins',\n",
              " '_distributor_init',\n",
              " '_financial_names',\n",
              " '_get_promotion_state',\n",
              " '_globals',\n",
              " '_int_extended_msg',\n",
              " '_mat',\n",
              " '_no_nep50_warning',\n",
              " '_pyinstaller_hooks_dir',\n",
              " '_pytesttester',\n",
              " '_set_promotion_state',\n",
              " '_specific_msg',\n",
              " '_typing',\n",
              " '_using_numpy2_behavior',\n",
              " '_utils',\n",
              " 'abs',\n",
              " 'absolute',\n",
              " 'add',\n",
              " 'add_docstring',\n",
              " 'add_newdoc',\n",
              " 'add_newdoc_ufunc',\n",
              " 'all',\n",
              " 'allclose',\n",
              " 'alltrue',\n",
              " 'amax',\n",
              " 'amin',\n",
              " 'angle',\n",
              " 'any',\n",
              " 'append',\n",
              " 'apply_along_axis',\n",
              " 'apply_over_axes',\n",
              " 'arange',\n",
              " 'arccos',\n",
              " 'arccosh',\n",
              " 'arcsin',\n",
              " 'arcsinh',\n",
              " 'arctan',\n",
              " 'arctan2',\n",
              " 'arctanh',\n",
              " 'argmax',\n",
              " 'argmin',\n",
              " 'argpartition',\n",
              " 'argsort',\n",
              " 'argwhere',\n",
              " 'around',\n",
              " 'array',\n",
              " 'array2string',\n",
              " 'array_equal',\n",
              " 'array_equiv',\n",
              " 'array_repr',\n",
              " 'array_split',\n",
              " 'array_str',\n",
              " 'asanyarray',\n",
              " 'asarray',\n",
              " 'asarray_chkfinite',\n",
              " 'ascontiguousarray',\n",
              " 'asfarray',\n",
              " 'asfortranarray',\n",
              " 'asmatrix',\n",
              " 'atleast_1d',\n",
              " 'atleast_2d',\n",
              " 'atleast_3d',\n",
              " 'average',\n",
              " 'bartlett',\n",
              " 'base_repr',\n",
              " 'binary_repr',\n",
              " 'bincount',\n",
              " 'bitwise_and',\n",
              " 'bitwise_not',\n",
              " 'bitwise_or',\n",
              " 'bitwise_xor',\n",
              " 'blackman',\n",
              " 'block',\n",
              " 'bmat',\n",
              " 'bool_',\n",
              " 'broadcast',\n",
              " 'broadcast_arrays',\n",
              " 'broadcast_shapes',\n",
              " 'broadcast_to',\n",
              " 'busday_count',\n",
              " 'busday_offset',\n",
              " 'busdaycalendar',\n",
              " 'byte',\n",
              " 'byte_bounds',\n",
              " 'bytes_',\n",
              " 'c_',\n",
              " 'can_cast',\n",
              " 'cast',\n",
              " 'cbrt',\n",
              " 'cdouble',\n",
              " 'ceil',\n",
              " 'cfloat',\n",
              " 'char',\n",
              " 'character',\n",
              " 'chararray',\n",
              " 'choose',\n",
              " 'clip',\n",
              " 'clongdouble',\n",
              " 'clongfloat',\n",
              " 'column_stack',\n",
              " 'common_type',\n",
              " 'compare_chararrays',\n",
              " 'compat',\n",
              " 'complex128',\n",
              " 'complex256',\n",
              " 'complex64',\n",
              " 'complex_',\n",
              " 'complexfloating',\n",
              " 'compress',\n",
              " 'concatenate',\n",
              " 'conj',\n",
              " 'conjugate',\n",
              " 'convolve',\n",
              " 'copy',\n",
              " 'copysign',\n",
              " 'copyto',\n",
              " 'corrcoef',\n",
              " 'correlate',\n",
              " 'cos',\n",
              " 'cosh',\n",
              " 'count_nonzero',\n",
              " 'cov',\n",
              " 'cross',\n",
              " 'csingle',\n",
              " 'ctypeslib',\n",
              " 'cumprod',\n",
              " 'cumproduct',\n",
              " 'cumsum',\n",
              " 'datetime64',\n",
              " 'datetime_as_string',\n",
              " 'datetime_data',\n",
              " 'deg2rad',\n",
              " 'degrees',\n",
              " 'delete',\n",
              " 'deprecate',\n",
              " 'deprecate_with_doc',\n",
              " 'diag',\n",
              " 'diag_indices',\n",
              " 'diag_indices_from',\n",
              " 'diagflat',\n",
              " 'diagonal',\n",
              " 'diff',\n",
              " 'digitize',\n",
              " 'disp',\n",
              " 'divide',\n",
              " 'divmod',\n",
              " 'dot',\n",
              " 'double',\n",
              " 'dsplit',\n",
              " 'dstack',\n",
              " 'dtype',\n",
              " 'dtypes',\n",
              " 'e',\n",
              " 'ediff1d',\n",
              " 'einsum',\n",
              " 'einsum_path',\n",
              " 'emath',\n",
              " 'empty',\n",
              " 'empty_like',\n",
              " 'equal',\n",
              " 'errstate',\n",
              " 'euler_gamma',\n",
              " 'exceptions',\n",
              " 'exp',\n",
              " 'exp2',\n",
              " 'expand_dims',\n",
              " 'expm1',\n",
              " 'extract',\n",
              " 'eye',\n",
              " 'fabs',\n",
              " 'fastCopyAndTranspose',\n",
              " 'fft',\n",
              " 'fill_diagonal',\n",
              " 'find_common_type',\n",
              " 'finfo',\n",
              " 'fix',\n",
              " 'flatiter',\n",
              " 'flatnonzero',\n",
              " 'flexible',\n",
              " 'flip',\n",
              " 'fliplr',\n",
              " 'flipud',\n",
              " 'float128',\n",
              " 'float16',\n",
              " 'float32',\n",
              " 'float64',\n",
              " 'float_',\n",
              " 'float_power',\n",
              " 'floating',\n",
              " 'floor',\n",
              " 'floor_divide',\n",
              " 'fmax',\n",
              " 'fmin',\n",
              " 'fmod',\n",
              " 'format_float_positional',\n",
              " 'format_float_scientific',\n",
              " 'format_parser',\n",
              " 'frexp',\n",
              " 'from_dlpack',\n",
              " 'frombuffer',\n",
              " 'fromfile',\n",
              " 'fromfunction',\n",
              " 'fromiter',\n",
              " 'frompyfunc',\n",
              " 'fromregex',\n",
              " 'fromstring',\n",
              " 'full',\n",
              " 'full_like',\n",
              " 'gcd',\n",
              " 'generic',\n",
              " 'genfromtxt',\n",
              " 'geomspace',\n",
              " 'get_array_wrap',\n",
              " 'get_include',\n",
              " 'get_printoptions',\n",
              " 'getbufsize',\n",
              " 'geterr',\n",
              " 'geterrcall',\n",
              " 'geterrobj',\n",
              " 'gradient',\n",
              " 'greater',\n",
              " 'greater_equal',\n",
              " 'half',\n",
              " 'hamming',\n",
              " 'hanning',\n",
              " 'heaviside',\n",
              " 'histogram',\n",
              " 'histogram2d',\n",
              " 'histogram_bin_edges',\n",
              " 'histogramdd',\n",
              " 'hsplit',\n",
              " 'hstack',\n",
              " 'hypot',\n",
              " 'i0',\n",
              " 'identity',\n",
              " 'iinfo',\n",
              " 'imag',\n",
              " 'in1d',\n",
              " 'index_exp',\n",
              " 'indices',\n",
              " 'inexact',\n",
              " 'inf',\n",
              " 'info',\n",
              " 'infty',\n",
              " 'inner',\n",
              " 'insert',\n",
              " 'int16',\n",
              " 'int32',\n",
              " 'int64',\n",
              " 'int8',\n",
              " 'int_',\n",
              " 'intc',\n",
              " 'integer',\n",
              " 'interp',\n",
              " 'intersect1d',\n",
              " 'intp',\n",
              " 'invert',\n",
              " 'is_busday',\n",
              " 'isclose',\n",
              " 'iscomplex',\n",
              " 'iscomplexobj',\n",
              " 'isfinite',\n",
              " 'isfortran',\n",
              " 'isin',\n",
              " 'isinf',\n",
              " 'isnan',\n",
              " 'isnat',\n",
              " 'isneginf',\n",
              " 'isposinf',\n",
              " 'isreal',\n",
              " 'isrealobj',\n",
              " 'isscalar',\n",
              " 'issctype',\n",
              " 'issubclass_',\n",
              " 'issubdtype',\n",
              " 'issubsctype',\n",
              " 'iterable',\n",
              " 'ix_',\n",
              " 'kaiser',\n",
              " 'kernel_version',\n",
              " 'kron',\n",
              " 'lcm',\n",
              " 'ldexp',\n",
              " 'left_shift',\n",
              " 'less',\n",
              " 'less_equal',\n",
              " 'lexsort',\n",
              " 'lib',\n",
              " 'linalg',\n",
              " 'linspace',\n",
              " 'little_endian',\n",
              " 'load',\n",
              " 'loadtxt',\n",
              " 'log',\n",
              " 'log10',\n",
              " 'log1p',\n",
              " 'log2',\n",
              " 'logaddexp',\n",
              " 'logaddexp2',\n",
              " 'logical_and',\n",
              " 'logical_not',\n",
              " 'logical_or',\n",
              " 'logical_xor',\n",
              " 'logspace',\n",
              " 'longcomplex',\n",
              " 'longdouble',\n",
              " 'longfloat',\n",
              " 'longlong',\n",
              " 'lookfor',\n",
              " 'ma',\n",
              " 'mask_indices',\n",
              " 'mat',\n",
              " 'matmul',\n",
              " 'matrix',\n",
              " 'max',\n",
              " 'maximum',\n",
              " 'maximum_sctype',\n",
              " 'may_share_memory',\n",
              " 'mean',\n",
              " 'median',\n",
              " 'memmap',\n",
              " 'meshgrid',\n",
              " 'mgrid',\n",
              " 'min',\n",
              " 'min_scalar_type',\n",
              " 'minimum',\n",
              " 'mintypecode',\n",
              " 'mod',\n",
              " 'modf',\n",
              " 'moveaxis',\n",
              " 'msort',\n",
              " 'multiply',\n",
              " 'nan',\n",
              " 'nan_to_num',\n",
              " 'nanargmax',\n",
              " 'nanargmin',\n",
              " 'nancumprod',\n",
              " 'nancumsum',\n",
              " 'nanmax',\n",
              " 'nanmean',\n",
              " 'nanmedian',\n",
              " 'nanmin',\n",
              " 'nanpercentile',\n",
              " 'nanprod',\n",
              " 'nanquantile',\n",
              " 'nanstd',\n",
              " 'nansum',\n",
              " 'nanvar',\n",
              " 'nbytes',\n",
              " 'ndarray',\n",
              " 'ndenumerate',\n",
              " 'ndim',\n",
              " 'ndindex',\n",
              " 'nditer',\n",
              " 'negative',\n",
              " 'nested_iters',\n",
              " 'newaxis',\n",
              " 'nextafter',\n",
              " 'nonzero',\n",
              " 'not_equal',\n",
              " 'numarray',\n",
              " 'number',\n",
              " 'obj2sctype',\n",
              " 'object_',\n",
              " 'ogrid',\n",
              " 'oldnumeric',\n",
              " 'ones',\n",
              " 'ones_like',\n",
              " 'outer',\n",
              " 'packbits',\n",
              " 'pad',\n",
              " 'partition',\n",
              " 'percentile',\n",
              " 'pi',\n",
              " 'piecewise',\n",
              " 'place',\n",
              " 'poly',\n",
              " 'poly1d',\n",
              " 'polyadd',\n",
              " 'polyder',\n",
              " 'polydiv',\n",
              " 'polyfit',\n",
              " 'polyint',\n",
              " 'polymul',\n",
              " 'polynomial',\n",
              " 'polysub',\n",
              " 'polyval',\n",
              " 'positive',\n",
              " 'power',\n",
              " 'printoptions',\n",
              " 'prod',\n",
              " 'product',\n",
              " 'promote_types',\n",
              " 'ptp',\n",
              " 'put',\n",
              " 'put_along_axis',\n",
              " 'putmask',\n",
              " 'quantile',\n",
              " 'r_',\n",
              " 'rad2deg',\n",
              " 'radians',\n",
              " 'random',\n",
              " 'ravel',\n",
              " 'ravel_multi_index',\n",
              " 'real',\n",
              " 'real_if_close',\n",
              " 'rec',\n",
              " 'recarray',\n",
              " 'recfromcsv',\n",
              " 'recfromtxt',\n",
              " 'reciprocal',\n",
              " 'record',\n",
              " 'remainder',\n",
              " 'repeat',\n",
              " 'require',\n",
              " 'reshape',\n",
              " 'resize',\n",
              " 'result_type',\n",
              " 'right_shift',\n",
              " 'rint',\n",
              " 'roll',\n",
              " 'rollaxis',\n",
              " 'roots',\n",
              " 'rot90',\n",
              " 'round',\n",
              " 'round_',\n",
              " 'row_stack',\n",
              " 's_',\n",
              " 'safe_eval',\n",
              " 'save',\n",
              " 'savetxt',\n",
              " 'savez',\n",
              " 'savez_compressed',\n",
              " 'sctype2char',\n",
              " 'sctypeDict',\n",
              " 'sctypes',\n",
              " 'searchsorted',\n",
              " 'select',\n",
              " 'set_numeric_ops',\n",
              " 'set_printoptions',\n",
              " 'set_string_function',\n",
              " 'setbufsize',\n",
              " 'setdiff1d',\n",
              " 'seterr',\n",
              " 'seterrcall',\n",
              " 'seterrobj',\n",
              " 'setxor1d',\n",
              " 'shape',\n",
              " 'shares_memory',\n",
              " 'short',\n",
              " 'show_config',\n",
              " 'show_runtime',\n",
              " 'sign',\n",
              " 'signbit',\n",
              " 'signedinteger',\n",
              " 'sin',\n",
              " 'sinc',\n",
              " 'single',\n",
              " 'singlecomplex',\n",
              " 'sinh',\n",
              " 'size',\n",
              " 'sometrue',\n",
              " 'sort',\n",
              " 'sort_complex',\n",
              " 'source',\n",
              " 'spacing',\n",
              " 'split',\n",
              " 'sqrt',\n",
              " 'square',\n",
              " 'squeeze',\n",
              " 'stack',\n",
              " 'std',\n",
              " 'str_',\n",
              " 'string_',\n",
              " 'subtract',\n",
              " 'sum',\n",
              " 'swapaxes',\n",
              " 'take',\n",
              " 'take_along_axis',\n",
              " 'tan',\n",
              " 'tanh',\n",
              " 'tensordot',\n",
              " 'test',\n",
              " 'testing',\n",
              " 'tile',\n",
              " 'timedelta64',\n",
              " 'trace',\n",
              " 'tracemalloc_domain',\n",
              " 'transpose',\n",
              " 'trapz',\n",
              " 'tri',\n",
              " 'tril',\n",
              " 'tril_indices',\n",
              " 'tril_indices_from',\n",
              " 'trim_zeros',\n",
              " 'triu',\n",
              " 'triu_indices',\n",
              " 'triu_indices_from',\n",
              " 'true_divide',\n",
              " 'trunc',\n",
              " 'typecodes',\n",
              " 'typename',\n",
              " 'typing',\n",
              " 'ubyte',\n",
              " 'ufunc',\n",
              " 'uint',\n",
              " 'uint16',\n",
              " 'uint32',\n",
              " 'uint64',\n",
              " 'uint8',\n",
              " 'uintc',\n",
              " 'uintp',\n",
              " 'ulonglong',\n",
              " 'unicode_',\n",
              " 'union1d',\n",
              " 'unique',\n",
              " 'unpackbits',\n",
              " 'unravel_index',\n",
              " 'unsignedinteger',\n",
              " 'unwrap',\n",
              " 'ushort',\n",
              " 'vander',\n",
              " 'var',\n",
              " 'vdot',\n",
              " 'vectorize',\n",
              " 'version',\n",
              " 'void',\n",
              " 'vsplit',\n",
              " 'vstack',\n",
              " 'where',\n",
              " 'who',\n",
              " 'zeros',\n",
              " 'zeros_like']"
            ]
          },
          "metadata": {},
          "execution_count": 2
        }
      ]
    },
    {
      "cell_type": "code",
      "source": [
        "# usando um dos métodos do pacote numpy\n",
        "# sqrt faz o cálculo da raíz quadrada\n",
        "numpy.sqrt(2)"
      ],
      "metadata": {
        "colab": {
          "base_uri": "https://localhost:8080/"
        },
        "id": "luGSQRAhR1S3",
        "outputId": "0370c8eb-6da1-42a3-fadb-8e2795ef8b14"
      },
      "execution_count": 3,
      "outputs": [
        {
          "output_type": "execute_result",
          "data": {
            "text/plain": [
              "1.4142135623730951"
            ]
          },
          "metadata": {},
          "execution_count": 3
        }
      ]
    },
    {
      "cell_type": "code",
      "source": [
        "# importando apenas um dos métodos do pacote numpy\n",
        "# é interessante para economia de memória caso o uso seja exclusivamente de alguns métodos\n",
        "from numpy import sqrt"
      ],
      "metadata": {
        "id": "4RTEe4yER7jN"
      },
      "execution_count": 4,
      "outputs": []
    },
    {
      "cell_type": "code",
      "source": [
        "# usando o método\n",
        "sqrt(9)"
      ],
      "metadata": {
        "colab": {
          "base_uri": "https://localhost:8080/"
        },
        "id": "o4n2qlqGSHVB",
        "outputId": "4c3ae6c2-a9ba-4753-8c24-bff11a799bc8"
      },
      "execution_count": 5,
      "outputs": [
        {
          "output_type": "execute_result",
          "data": {
            "text/plain": [
              "3.0"
            ]
          },
          "metadata": {},
          "execution_count": 5
        }
      ]
    },
    {
      "cell_type": "markdown",
      "source": [
        "obs: caso o pip dê erro, verificar se a rede não tem bloqueios com essa instalação"
      ],
      "metadata": {
        "id": "jvdvfqyQguYF"
      }
    },
    {
      "cell_type": "code",
      "source": [
        "# imprimindo todos os métodos e atributos do pacote\n",
        "print(dir(numpy))"
      ],
      "metadata": {
        "colab": {
          "base_uri": "https://localhost:8080/"
        },
        "id": "zaKUtvvLg2cc",
        "outputId": "3efafcfe-84d6-4fc8-ddad-5e3e8e9719e7"
      },
      "execution_count": 6,
      "outputs": [
        {
          "output_type": "stream",
          "name": "stdout",
          "text": [
            "['ALLOW_THREADS', 'BUFSIZE', 'CLIP', 'DataSource', 'ERR_CALL', 'ERR_DEFAULT', 'ERR_IGNORE', 'ERR_LOG', 'ERR_PRINT', 'ERR_RAISE', 'ERR_WARN', 'FLOATING_POINT_SUPPORT', 'FPE_DIVIDEBYZERO', 'FPE_INVALID', 'FPE_OVERFLOW', 'FPE_UNDERFLOW', 'False_', 'Inf', 'Infinity', 'MAXDIMS', 'MAY_SHARE_BOUNDS', 'MAY_SHARE_EXACT', 'NAN', 'NINF', 'NZERO', 'NaN', 'PINF', 'PZERO', 'RAISE', 'RankWarning', 'SHIFT_DIVIDEBYZERO', 'SHIFT_INVALID', 'SHIFT_OVERFLOW', 'SHIFT_UNDERFLOW', 'ScalarType', 'True_', 'UFUNC_BUFSIZE_DEFAULT', 'UFUNC_PYVALS_NAME', 'WRAP', '_CopyMode', '_NoValue', '_UFUNC_API', '__NUMPY_SETUP__', '__all__', '__builtins__', '__cached__', '__config__', '__deprecated_attrs__', '__dir__', '__doc__', '__expired_functions__', '__file__', '__former_attrs__', '__future_scalars__', '__getattr__', '__loader__', '__name__', '__package__', '__path__', '__spec__', '__version__', '_add_newdoc_ufunc', '_builtins', '_distributor_init', '_financial_names', '_get_promotion_state', '_globals', '_int_extended_msg', '_mat', '_no_nep50_warning', '_pyinstaller_hooks_dir', '_pytesttester', '_set_promotion_state', '_specific_msg', '_typing', '_using_numpy2_behavior', '_utils', 'abs', 'absolute', 'add', 'add_docstring', 'add_newdoc', 'add_newdoc_ufunc', 'all', 'allclose', 'alltrue', 'amax', 'amin', 'angle', 'any', 'append', 'apply_along_axis', 'apply_over_axes', 'arange', 'arccos', 'arccosh', 'arcsin', 'arcsinh', 'arctan', 'arctan2', 'arctanh', 'argmax', 'argmin', 'argpartition', 'argsort', 'argwhere', 'around', 'array', 'array2string', 'array_equal', 'array_equiv', 'array_repr', 'array_split', 'array_str', 'asanyarray', 'asarray', 'asarray_chkfinite', 'ascontiguousarray', 'asfarray', 'asfortranarray', 'asmatrix', 'atleast_1d', 'atleast_2d', 'atleast_3d', 'average', 'bartlett', 'base_repr', 'binary_repr', 'bincount', 'bitwise_and', 'bitwise_not', 'bitwise_or', 'bitwise_xor', 'blackman', 'block', 'bmat', 'bool_', 'broadcast', 'broadcast_arrays', 'broadcast_shapes', 'broadcast_to', 'busday_count', 'busday_offset', 'busdaycalendar', 'byte', 'byte_bounds', 'bytes_', 'c_', 'can_cast', 'cast', 'cbrt', 'cdouble', 'ceil', 'cfloat', 'char', 'character', 'chararray', 'choose', 'clip', 'clongdouble', 'clongfloat', 'column_stack', 'common_type', 'compare_chararrays', 'compat', 'complex128', 'complex256', 'complex64', 'complex_', 'complexfloating', 'compress', 'concatenate', 'conj', 'conjugate', 'convolve', 'copy', 'copysign', 'copyto', 'corrcoef', 'correlate', 'cos', 'cosh', 'count_nonzero', 'cov', 'cross', 'csingle', 'ctypeslib', 'cumprod', 'cumproduct', 'cumsum', 'datetime64', 'datetime_as_string', 'datetime_data', 'deg2rad', 'degrees', 'delete', 'deprecate', 'deprecate_with_doc', 'diag', 'diag_indices', 'diag_indices_from', 'diagflat', 'diagonal', 'diff', 'digitize', 'disp', 'divide', 'divmod', 'dot', 'double', 'dsplit', 'dstack', 'dtype', 'dtypes', 'e', 'ediff1d', 'einsum', 'einsum_path', 'emath', 'empty', 'empty_like', 'equal', 'errstate', 'euler_gamma', 'exceptions', 'exp', 'exp2', 'expand_dims', 'expm1', 'extract', 'eye', 'fabs', 'fastCopyAndTranspose', 'fft', 'fill_diagonal', 'find_common_type', 'finfo', 'fix', 'flatiter', 'flatnonzero', 'flexible', 'flip', 'fliplr', 'flipud', 'float128', 'float16', 'float32', 'float64', 'float_', 'float_power', 'floating', 'floor', 'floor_divide', 'fmax', 'fmin', 'fmod', 'format_float_positional', 'format_float_scientific', 'format_parser', 'frexp', 'from_dlpack', 'frombuffer', 'fromfile', 'fromfunction', 'fromiter', 'frompyfunc', 'fromregex', 'fromstring', 'full', 'full_like', 'gcd', 'generic', 'genfromtxt', 'geomspace', 'get_array_wrap', 'get_include', 'get_printoptions', 'getbufsize', 'geterr', 'geterrcall', 'geterrobj', 'gradient', 'greater', 'greater_equal', 'half', 'hamming', 'hanning', 'heaviside', 'histogram', 'histogram2d', 'histogram_bin_edges', 'histogramdd', 'hsplit', 'hstack', 'hypot', 'i0', 'identity', 'iinfo', 'imag', 'in1d', 'index_exp', 'indices', 'inexact', 'inf', 'info', 'infty', 'inner', 'insert', 'int16', 'int32', 'int64', 'int8', 'int_', 'intc', 'integer', 'interp', 'intersect1d', 'intp', 'invert', 'is_busday', 'isclose', 'iscomplex', 'iscomplexobj', 'isfinite', 'isfortran', 'isin', 'isinf', 'isnan', 'isnat', 'isneginf', 'isposinf', 'isreal', 'isrealobj', 'isscalar', 'issctype', 'issubclass_', 'issubdtype', 'issubsctype', 'iterable', 'ix_', 'kaiser', 'kernel_version', 'kron', 'lcm', 'ldexp', 'left_shift', 'less', 'less_equal', 'lexsort', 'lib', 'linalg', 'linspace', 'little_endian', 'load', 'loadtxt', 'log', 'log10', 'log1p', 'log2', 'logaddexp', 'logaddexp2', 'logical_and', 'logical_not', 'logical_or', 'logical_xor', 'logspace', 'longcomplex', 'longdouble', 'longfloat', 'longlong', 'lookfor', 'ma', 'mask_indices', 'mat', 'matmul', 'matrix', 'max', 'maximum', 'maximum_sctype', 'may_share_memory', 'mean', 'median', 'memmap', 'meshgrid', 'mgrid', 'min', 'min_scalar_type', 'minimum', 'mintypecode', 'mod', 'modf', 'moveaxis', 'msort', 'multiply', 'nan', 'nan_to_num', 'nanargmax', 'nanargmin', 'nancumprod', 'nancumsum', 'nanmax', 'nanmean', 'nanmedian', 'nanmin', 'nanpercentile', 'nanprod', 'nanquantile', 'nanstd', 'nansum', 'nanvar', 'nbytes', 'ndarray', 'ndenumerate', 'ndim', 'ndindex', 'nditer', 'negative', 'nested_iters', 'newaxis', 'nextafter', 'nonzero', 'not_equal', 'numarray', 'number', 'obj2sctype', 'object_', 'ogrid', 'oldnumeric', 'ones', 'ones_like', 'outer', 'packbits', 'pad', 'partition', 'percentile', 'pi', 'piecewise', 'place', 'poly', 'poly1d', 'polyadd', 'polyder', 'polydiv', 'polyfit', 'polyint', 'polymul', 'polynomial', 'polysub', 'polyval', 'positive', 'power', 'printoptions', 'prod', 'product', 'promote_types', 'ptp', 'put', 'put_along_axis', 'putmask', 'quantile', 'r_', 'rad2deg', 'radians', 'random', 'ravel', 'ravel_multi_index', 'real', 'real_if_close', 'rec', 'recarray', 'recfromcsv', 'recfromtxt', 'reciprocal', 'record', 'remainder', 'repeat', 'require', 'reshape', 'resize', 'result_type', 'right_shift', 'rint', 'roll', 'rollaxis', 'roots', 'rot90', 'round', 'round_', 'row_stack', 's_', 'safe_eval', 'save', 'savetxt', 'savez', 'savez_compressed', 'sctype2char', 'sctypeDict', 'sctypes', 'searchsorted', 'select', 'set_numeric_ops', 'set_printoptions', 'set_string_function', 'setbufsize', 'setdiff1d', 'seterr', 'seterrcall', 'seterrobj', 'setxor1d', 'shape', 'shares_memory', 'short', 'show_config', 'show_runtime', 'sign', 'signbit', 'signedinteger', 'sin', 'sinc', 'single', 'singlecomplex', 'sinh', 'size', 'sometrue', 'sort', 'sort_complex', 'source', 'spacing', 'split', 'sqrt', 'square', 'squeeze', 'stack', 'std', 'str_', 'string_', 'subtract', 'sum', 'swapaxes', 'take', 'take_along_axis', 'tan', 'tanh', 'tensordot', 'test', 'testing', 'tile', 'timedelta64', 'trace', 'tracemalloc_domain', 'transpose', 'trapz', 'tri', 'tril', 'tril_indices', 'tril_indices_from', 'trim_zeros', 'triu', 'triu_indices', 'triu_indices_from', 'true_divide', 'trunc', 'typecodes', 'typename', 'typing', 'ubyte', 'ufunc', 'uint', 'uint16', 'uint32', 'uint64', 'uint8', 'uintc', 'uintp', 'ulonglong', 'unicode_', 'union1d', 'unique', 'unpackbits', 'unravel_index', 'unsignedinteger', 'unwrap', 'ushort', 'vander', 'var', 'vdot', 'vectorize', 'version', 'void', 'vsplit', 'vstack', 'where', 'who', 'zeros', 'zeros_like']\n"
          ]
        }
      ]
    },
    {
      "cell_type": "code",
      "source": [
        "# help do método sqrt do pacote numpy\n",
        "help(sqrt)"
      ],
      "metadata": {
        "colab": {
          "base_uri": "https://localhost:8080/"
        },
        "id": "SXWWI4RyhNSq",
        "outputId": "8aff0f18-80c4-4985-b10a-0e181a3fecfa"
      },
      "execution_count": 8,
      "outputs": [
        {
          "output_type": "stream",
          "name": "stdout",
          "text": [
            "Help on ufunc:\n",
            "\n",
            "sqrt = <ufunc 'sqrt'>\n",
            "    sqrt(x, /, out=None, *, where=True, casting='same_kind', order='K', dtype=None, subok=True[, signature, extobj])\n",
            "    \n",
            "    Return the non-negative square-root of an array, element-wise.\n",
            "    \n",
            "    Parameters\n",
            "    ----------\n",
            "    x : array_like\n",
            "        The values whose square-roots are required.\n",
            "    out : ndarray, None, or tuple of ndarray and None, optional\n",
            "        A location into which the result is stored. If provided, it must have\n",
            "        a shape that the inputs broadcast to. If not provided or None,\n",
            "        a freshly-allocated array is returned. A tuple (possible only as a\n",
            "        keyword argument) must have length equal to the number of outputs.\n",
            "    where : array_like, optional\n",
            "        This condition is broadcast over the input. At locations where the\n",
            "        condition is True, the `out` array will be set to the ufunc result.\n",
            "        Elsewhere, the `out` array will retain its original value.\n",
            "        Note that if an uninitialized `out` array is created via the default\n",
            "        ``out=None``, locations within it where the condition is False will\n",
            "        remain uninitialized.\n",
            "    **kwargs\n",
            "        For other keyword-only arguments, see the\n",
            "        :ref:`ufunc docs <ufuncs.kwargs>`.\n",
            "    \n",
            "    Returns\n",
            "    -------\n",
            "    y : ndarray\n",
            "        An array of the same shape as `x`, containing the positive\n",
            "        square-root of each element in `x`.  If any element in `x` is\n",
            "        complex, a complex array is returned (and the square-roots of\n",
            "        negative reals are calculated).  If all of the elements in `x`\n",
            "        are real, so is `y`, with negative elements returning ``nan``.\n",
            "        If `out` was provided, `y` is a reference to it.\n",
            "        This is a scalar if `x` is a scalar.\n",
            "    \n",
            "    See Also\n",
            "    --------\n",
            "    emath.sqrt\n",
            "        A version which returns complex numbers when given negative reals.\n",
            "        Note that 0.0 and -0.0 are handled differently for complex inputs.\n",
            "    \n",
            "    Notes\n",
            "    -----\n",
            "    *sqrt* has--consistent with common convention--as its branch cut the\n",
            "    real \"interval\" [`-inf`, 0), and is continuous from above on it.\n",
            "    A branch cut is a curve in the complex plane across which a given\n",
            "    complex function fails to be continuous.\n",
            "    \n",
            "    Examples\n",
            "    --------\n",
            "    >>> np.sqrt([1,4,9])\n",
            "    array([ 1.,  2.,  3.])\n",
            "    \n",
            "    >>> np.sqrt([4, -1, -3+4J])\n",
            "    array([ 2.+0.j,  0.+1.j,  1.+2.j])\n",
            "    \n",
            "    >>> np.sqrt([4, -1, np.inf])\n",
            "    array([ 2., nan, inf])\n",
            "\n"
          ]
        }
      ]
    },
    {
      "cell_type": "code",
      "source": [
        "# pacote para randomização\n",
        "import random"
      ],
      "metadata": {
        "id": "0iDQsB70hSHg"
      },
      "execution_count": 12,
      "outputs": []
    },
    {
      "cell_type": "code",
      "source": [
        "# método choice para escolher alguma opção de forma randômica\n",
        "random.choice(['Pêra', 'Banana', 'Acerola'])"
      ],
      "metadata": {
        "colab": {
          "base_uri": "https://localhost:8080/",
          "height": 35
        },
        "id": "aRyzFUcKhT1B",
        "outputId": "c5eb08e8-0be3-4fad-dcfd-7b7fc92561ce"
      },
      "execution_count": 15,
      "outputs": [
        {
          "output_type": "execute_result",
          "data": {
            "text/plain": [
              "'Pêra'"
            ],
            "application/vnd.google.colaboratory.intrinsic+json": {
              "type": "string"
            }
          },
          "metadata": {},
          "execution_count": 15
        }
      ]
    },
    {
      "cell_type": "code",
      "source": [
        "# sample = amostra\n",
        "# amostra de números de range 0 até 100 que mostra 10 valores aleatórios\n",
        "random.sample(range(100), 10)"
      ],
      "metadata": {
        "colab": {
          "base_uri": "https://localhost:8080/"
        },
        "id": "_oIx53GPiKtx",
        "outputId": "05ebd418-d36b-4135-fc2a-d886f926030e"
      },
      "execution_count": 18,
      "outputs": [
        {
          "output_type": "execute_result",
          "data": {
            "text/plain": [
              "[45, 43, 9, 31, 6, 80, 78, 61, 50, 98]"
            ]
          },
          "metadata": {},
          "execution_count": 18
        }
      ]
    },
    {
      "cell_type": "code",
      "source": [
        "# pacote que calcula estatísticas\n",
        "import statistics"
      ],
      "metadata": {
        "id": "FaFIPHX-h5_K"
      },
      "execution_count": 19,
      "outputs": []
    },
    {
      "cell_type": "code",
      "source": [
        "# criando lista de números\n",
        "dados = [20, 7.6, 18, 44, 102, 433, 2.3, 5.20, 19, 2]"
      ],
      "metadata": {
        "id": "Z7MTTKJNipZV"
      },
      "execution_count": 25,
      "outputs": []
    },
    {
      "cell_type": "code",
      "source": [
        "# função mean calcula a média do conjunto de dados\n",
        "statistics.mean(dados)"
      ],
      "metadata": {
        "colab": {
          "base_uri": "https://localhost:8080/"
        },
        "id": "EGL_hE-qi6ro",
        "outputId": "d310c56c-b941-42e2-d2ac-274fe5f55f42"
      },
      "execution_count": 24,
      "outputs": [
        {
          "output_type": "execute_result",
          "data": {
            "text/plain": [
              "65.31"
            ]
          },
          "metadata": {},
          "execution_count": 24
        }
      ]
    },
    {
      "cell_type": "code",
      "source": [
        "# função median calcula a mediana do conjunto de dados\n",
        "statistics.median(dados)"
      ],
      "metadata": {
        "colab": {
          "base_uri": "https://localhost:8080/"
        },
        "id": "z81ZV-_Ki-ew",
        "outputId": "fe69de90-0ac6-4d8d-f45a-5aeeae6a24e5"
      },
      "execution_count": 23,
      "outputs": [
        {
          "output_type": "execute_result",
          "data": {
            "text/plain": [
              "18.5"
            ]
          },
          "metadata": {},
          "execution_count": 23
        }
      ]
    },
    {
      "cell_type": "code",
      "source": [
        "import os"
      ],
      "metadata": {
        "id": "238eb3GHjQsR"
      },
      "execution_count": 27,
      "outputs": []
    },
    {
      "cell_type": "code",
      "source": [
        "# informa o caminho do arquivo\n",
        "os.getcwd()"
      ],
      "metadata": {
        "colab": {
          "base_uri": "https://localhost:8080/",
          "height": 35
        },
        "id": "QERGTw-5jWEB",
        "outputId": "fbc973ee-a3be-4cfb-aed3-eb6450d2f912"
      },
      "execution_count": 28,
      "outputs": [
        {
          "output_type": "execute_result",
          "data": {
            "text/plain": [
              "'/content'"
            ],
            "application/vnd.google.colaboratory.intrinsic+json": {
              "type": "string"
            }
          },
          "metadata": {},
          "execution_count": 28
        }
      ]
    },
    {
      "cell_type": "code",
      "source": [
        "# métodos e atributos que existem no pacote os\n",
        "print(dir(os))"
      ],
      "metadata": {
        "colab": {
          "base_uri": "https://localhost:8080/"
        },
        "id": "VGIzb_GpjeBB",
        "outputId": "9fb8c149-cb86-47a2-b043-b55b6c8b92a5"
      },
      "execution_count": 29,
      "outputs": [
        {
          "output_type": "stream",
          "name": "stdout",
          "text": [
            "['CLD_CONTINUED', 'CLD_DUMPED', 'CLD_EXITED', 'CLD_KILLED', 'CLD_STOPPED', 'CLD_TRAPPED', 'DirEntry', 'EFD_CLOEXEC', 'EFD_NONBLOCK', 'EFD_SEMAPHORE', 'EX_CANTCREAT', 'EX_CONFIG', 'EX_DATAERR', 'EX_IOERR', 'EX_NOHOST', 'EX_NOINPUT', 'EX_NOPERM', 'EX_NOUSER', 'EX_OK', 'EX_OSERR', 'EX_OSFILE', 'EX_PROTOCOL', 'EX_SOFTWARE', 'EX_TEMPFAIL', 'EX_UNAVAILABLE', 'EX_USAGE', 'F_LOCK', 'F_OK', 'F_TEST', 'F_TLOCK', 'F_ULOCK', 'GRND_NONBLOCK', 'GRND_RANDOM', 'GenericAlias', 'MFD_ALLOW_SEALING', 'MFD_CLOEXEC', 'MFD_HUGETLB', 'MFD_HUGE_16GB', 'MFD_HUGE_16MB', 'MFD_HUGE_1GB', 'MFD_HUGE_1MB', 'MFD_HUGE_256MB', 'MFD_HUGE_2GB', 'MFD_HUGE_2MB', 'MFD_HUGE_32MB', 'MFD_HUGE_512KB', 'MFD_HUGE_512MB', 'MFD_HUGE_64KB', 'MFD_HUGE_8MB', 'MFD_HUGE_MASK', 'MFD_HUGE_SHIFT', 'Mapping', 'MutableMapping', 'NGROUPS_MAX', 'O_ACCMODE', 'O_APPEND', 'O_ASYNC', 'O_CLOEXEC', 'O_CREAT', 'O_DIRECT', 'O_DIRECTORY', 'O_DSYNC', 'O_EXCL', 'O_FSYNC', 'O_LARGEFILE', 'O_NDELAY', 'O_NOATIME', 'O_NOCTTY', 'O_NOFOLLOW', 'O_NONBLOCK', 'O_PATH', 'O_RDONLY', 'O_RDWR', 'O_RSYNC', 'O_SYNC', 'O_TMPFILE', 'O_TRUNC', 'O_WRONLY', 'POSIX_FADV_DONTNEED', 'POSIX_FADV_NOREUSE', 'POSIX_FADV_NORMAL', 'POSIX_FADV_RANDOM', 'POSIX_FADV_SEQUENTIAL', 'POSIX_FADV_WILLNEED', 'POSIX_SPAWN_CLOSE', 'POSIX_SPAWN_DUP2', 'POSIX_SPAWN_OPEN', 'PRIO_PGRP', 'PRIO_PROCESS', 'PRIO_USER', 'P_ALL', 'P_NOWAIT', 'P_NOWAITO', 'P_PGID', 'P_PID', 'P_PIDFD', 'P_WAIT', 'PathLike', 'RTLD_DEEPBIND', 'RTLD_GLOBAL', 'RTLD_LAZY', 'RTLD_LOCAL', 'RTLD_NODELETE', 'RTLD_NOLOAD', 'RTLD_NOW', 'RWF_APPEND', 'RWF_DSYNC', 'RWF_HIPRI', 'RWF_NOWAIT', 'RWF_SYNC', 'R_OK', 'SCHED_BATCH', 'SCHED_FIFO', 'SCHED_IDLE', 'SCHED_OTHER', 'SCHED_RESET_ON_FORK', 'SCHED_RR', 'SEEK_CUR', 'SEEK_DATA', 'SEEK_END', 'SEEK_HOLE', 'SEEK_SET', 'SPLICE_F_MORE', 'SPLICE_F_MOVE', 'SPLICE_F_NONBLOCK', 'ST_APPEND', 'ST_MANDLOCK', 'ST_NOATIME', 'ST_NODEV', 'ST_NODIRATIME', 'ST_NOEXEC', 'ST_NOSUID', 'ST_RDONLY', 'ST_RELATIME', 'ST_SYNCHRONOUS', 'ST_WRITE', 'TMP_MAX', 'WCONTINUED', 'WCOREDUMP', 'WEXITED', 'WEXITSTATUS', 'WIFCONTINUED', 'WIFEXITED', 'WIFSIGNALED', 'WIFSTOPPED', 'WNOHANG', 'WNOWAIT', 'WSTOPPED', 'WSTOPSIG', 'WTERMSIG', 'WUNTRACED', 'W_OK', 'XATTR_CREATE', 'XATTR_REPLACE', 'XATTR_SIZE_MAX', 'X_OK', '_Environ', '__all__', '__builtins__', '__cached__', '__doc__', '__file__', '__loader__', '__name__', '__package__', '__spec__', '_check_methods', '_execvpe', '_exists', '_exit', '_fspath', '_fwalk', '_get_exports_list', '_spawnvef', '_walk', '_wrap_close', 'abc', 'abort', 'access', 'altsep', 'chdir', 'chmod', 'chown', 'chroot', 'close', 'closerange', 'confstr', 'confstr_names', 'copy_file_range', 'cpu_count', 'ctermid', 'curdir', 'defpath', 'device_encoding', 'devnull', 'dup', 'dup2', 'environ', 'environb', 'error', 'eventfd', 'eventfd_read', 'eventfd_write', 'execl', 'execle', 'execlp', 'execlpe', 'execv', 'execve', 'execvp', 'execvpe', 'extsep', 'fchdir', 'fchmod', 'fchown', 'fdatasync', 'fdopen', 'fork', 'forkpty', 'fpathconf', 'fsdecode', 'fsencode', 'fspath', 'fstat', 'fstatvfs', 'fsync', 'ftruncate', 'fwalk', 'get_blocking', 'get_exec_path', 'get_inheritable', 'get_terminal_size', 'getcwd', 'getcwdb', 'getegid', 'getenv', 'getenvb', 'geteuid', 'getgid', 'getgrouplist', 'getgroups', 'getloadavg', 'getlogin', 'getpgid', 'getpgrp', 'getpid', 'getppid', 'getpriority', 'getrandom', 'getresgid', 'getresuid', 'getsid', 'getuid', 'getxattr', 'initgroups', 'isatty', 'kill', 'killpg', 'lchown', 'linesep', 'link', 'listdir', 'listxattr', 'lockf', 'lseek', 'lstat', 'major', 'makedev', 'makedirs', 'memfd_create', 'minor', 'mkdir', 'mkfifo', 'mknod', 'name', 'nice', 'open', 'openpty', 'pardir', 'path', 'pathconf', 'pathconf_names', 'pathsep', 'pidfd_open', 'pipe', 'pipe2', 'popen', 'posix_fadvise', 'posix_fallocate', 'posix_spawn', 'posix_spawnp', 'pread', 'preadv', 'putenv', 'pwrite', 'pwritev', 'read', 'readlink', 'readv', 'register_at_fork', 'remove', 'removedirs', 'removexattr', 'rename', 'renames', 'replace', 'rmdir', 'scandir', 'sched_get_priority_max', 'sched_get_priority_min', 'sched_getaffinity', 'sched_getparam', 'sched_getscheduler', 'sched_param', 'sched_rr_get_interval', 'sched_setaffinity', 'sched_setparam', 'sched_setscheduler', 'sched_yield', 'sendfile', 'sep', 'set_blocking', 'set_inheritable', 'setegid', 'seteuid', 'setgid', 'setgroups', 'setpgid', 'setpgrp', 'setpriority', 'setregid', 'setresgid', 'setresuid', 'setreuid', 'setsid', 'setuid', 'setxattr', 'spawnl', 'spawnle', 'spawnlp', 'spawnlpe', 'spawnv', 'spawnve', 'spawnvp', 'spawnvpe', 'splice', 'st', 'stat', 'stat_result', 'statvfs', 'statvfs_result', 'strerror', 'supports_bytes_environ', 'supports_dir_fd', 'supports_effective_ids', 'supports_fd', 'supports_follow_symlinks', 'symlink', 'sync', 'sys', 'sysconf', 'sysconf_names', 'system', 'tcgetpgrp', 'tcsetpgrp', 'terminal_size', 'times', 'times_result', 'truncate', 'ttyname', 'umask', 'uname', 'uname_result', 'unlink', 'unsetenv', 'urandom', 'utime', 'wait', 'wait3', 'wait4', 'waitid', 'waitid_result', 'waitpid', 'waitstatus_to_exitcode', 'walk', 'write', 'writev']\n"
          ]
        }
      ]
    },
    {
      "cell_type": "markdown",
      "source": [
        "Podemos trabalhar com módulos dos pacotes (quando disponíveis)"
      ],
      "metadata": {
        "id": "zrFn0uBQjg9C"
      }
    },
    {
      "cell_type": "code",
      "source": [
        "# importando o módulo request do pacote urllib\n",
        "# usado para trazer url's para dentro do ambiente Python\n",
        "import urllib.request"
      ],
      "metadata": {
        "id": "gxy9ruPDjgEi"
      },
      "execution_count": 43,
      "outputs": []
    },
    {
      "cell_type": "code",
      "source": [
        "# variável 'resposta' armazena o objeto de conexão à url passada como parâmetro\n",
        "resposta = urllib.request.urlopen('https://python.org')"
      ],
      "metadata": {
        "id": "PlJVEtckkVNN"
      },
      "execution_count": 48,
      "outputs": []
    },
    {
      "cell_type": "code",
      "source": [
        "# objeto resposta\n",
        "print(resposta)"
      ],
      "metadata": {
        "colab": {
          "base_uri": "https://localhost:8080/"
        },
        "id": "0tuLcINDknZg",
        "outputId": "5f3a991b-c2cd-4540-be70-afaba460f4ce"
      },
      "execution_count": 45,
      "outputs": [
        {
          "output_type": "stream",
          "name": "stdout",
          "text": [
            "<http.client.HTTPResponse object at 0x7b575db1b400>\n"
          ]
        }
      ]
    },
    {
      "cell_type": "code",
      "source": [
        "# chamando o método read do objeto resposta e armazenando o código html na variável 'html'\n",
        "html = resposta.read()"
      ],
      "metadata": {
        "id": "Z7eg28fdksWh"
      },
      "execution_count": 46,
      "outputs": []
    },
    {
      "cell_type": "code",
      "source": [
        "# imprimindo o que foi salvo na 'html'\n",
        "print(html)"
      ],
      "metadata": {
        "colab": {
          "base_uri": "https://localhost:8080/"
        },
        "id": "l2v86EWlkwJl",
        "outputId": "fe860521-990d-4fc5-db5b-1c70bbf1f3a5"
      },
      "execution_count": 49,
      "outputs": [
        {
          "output_type": "stream",
          "name": "stdout",
          "text": [
            "b'\\x1f\\x8b\\x08\\x00\\x00\\x00\\x00\\x00\\x00\\x03\\xed}[s\\xdbH\\x92\\xee\\xbb#\\xe6?T\\xd3\\xb1\\x96<m\\xf0*K\\xb2,\\xb1\\xc7\\x17\\xd9V\\x8fo\\xdd\\xb2\\xdb\\xbb\\xdb\\xebp\\x80$HB\"\\x01\\x18\\x17I\\xec\\x99\\x898\\xaf\\xe7e\\xdf\\xf7\\xe9\\xfc\\xb7\\xf3\\x0b\\xceO8_fU\\x01\\x05\\x10\\x00IK\\xe3\\xe9\\x8e\\xf0\\xf4X\\x12nUYUy\\xaf\\xcc\\xac\\xc3\\xefF\\xfe0^\\x04\\x8e\\x98\\xc6\\xf3Y\\xff\\xd6\\xe1w\\x96\\xf5\\xab;\\x16\\xb3X\\x9c\\x1c\\x8b\\xbd\\x8f}!\\xc4!=\\x12\\xc3\\x99\\x1dEG\\r\\xcf\\xb7\\xce\"\\xe1:\\xbbx\\xc5r\\x9d=\\xf9k_\\xfez\\xd0\\xe0\\xf7\\xbf\\xfb\\xd5\\xf1F\\xee\\xf8\\xa3ee\\r\\xa6\\xadU5X\\xd6\\x12\\xde\\xa5\\xffU5\\xb8\\xcf\\xe0\\xd1\\x0be\\x10\\xe6`\\x92\\xef\\xe9\\x9f\\xa5\\rNx\\xc8h\\x93\\xe6\\xa0\\xbf\\xdcdC\\xcclor\\xd4p\\xbc\\x86\\x18\\xb9\\xe1Qc\\x16\\x874^z=\\xd7\\xe0\\xad\\xc3\\xa9c\\x8f\\xfa\\xb7$\\xe8\\x96%\\x9e\\xfb\\xfed\\xe6\\x88\\xd8\\x9e\\x88\\xed\\t~6\\xcf\\xa2\\xbb\\x82&\\x87\\xdf\\x88\\x86\\xa1\\x1b\\xc4\\xc2\\x8e\\x16\\xdePD\\xe1\\xf0\\xa81\\x8d\\xe3 :h\\xb5.//\\x9b\\x13\\xfe\\x16\\x1f\\xcdm\\xcf\\x9e8as\\xe8\\xcf[\\xd4H\\xeb,\\xfa\\xc1\\x1d\\x1d=\\xb7\\xde=\\xeb\\xdd\\xff\\x8fg\\x0f\\x9e\\xfc\\xf2\\xa2\\xd1?l\\xc9\\xd6rM\\xcb\\x0b!.]o\\xe4_6Gvl\\xbf\\xb4\\x17N(\\x8e\\x96o\\xfd\\xfd\\xef\\xe2\\xd7\\x8f\\x0f\\x190!\\xc6\\x897\\x8c]\\xdf\\x13\\xd4\\xdf\\xf6\\xdd\\xbf\\xa5_6\\x83$\\x9an\\xdb\\xe1$\\x99;^\\x1c\\xdd}\\xf8\\x0f\\xf5\\x05\\xbf\\xb8u\\x16m\\xdd\\x13\\x9es)\\x9e\\xda\\xb1\\xb3}\\xf7\\xaenO>\\x1d\\xfa\\xde\\xd8\\x9d\\xe0\\x8d-\\x13\\xf6-\\xf5Va\\x04\\x98[\\xf1vf\\'\\x91;\\x989M\\xd7\\x17\\x98\\x85\\xd9\"v\\x87\\xd1\\xd2\\x04\\x8e\\x9c1\\xc6D0Z#\\x7fn\\xbb\\xdeQ#X\\xc4S\\xdfk\\xfa\\xe1\\xa4\\x91\\x9f\\xd9\\xc0h\\x12\\x13\\xa9f\\r\\xebbN\\xa1\\\\\\x9e9&_\\x0c\\xa7v\\x189\\xf1Q#\\x89\\xc7\\xd6~CM/?\\xa2\\xc5\\xb2\\x9c\\xcf\\x89{q\\xd4\\xf8w\\xeb\\xfd#\\xeb\\x89?\\x0f\\xec\\x98\\xe0m\\x08\\x8c5\\xc6\\x0c\\x1d5N\\x8e\\x8f\\x9c\\xd1\\xc4\\xc1\\x97\\xb2\\xd5\\x99\\xeb\\x9d\\x8b\\xd0\\x99\\x01\\xc6\\x10p\\xc7\\xc3iCL\\xf1\\xd7Q\\xa3\\xd5\\xb2\\xcf\\xec+\\xb5\\xeev\\xe0F\\xbc\\xe2t\\xaf5s\\x07Q\\xeb\\xecs\\xe2\\x84\\x8bV\\xa7\\xb9\\xdf\\xec\\xaa\\x8b\\xe6\\xdc\\xf5\\x18\\xf6\\x9bi;q\\xd1z\\xa7\\xdb\\xec\\xa8\\xe6\\xad\\xc4\\xcdz0&\\xc5\\xb3\\xe7\\xceQ\\xc3\\x0e\\x82\\x99;\\xc4\\x80}\\xcf\\xa2;\\xc6\\xa0\\xdff\\xd3o\\xce\\x98\\xfcn\\x1e\\x99_\\xc6\\xbe?\\x8b\\xdd\\xc0\\xf8\\xf8\\xdd\\xd4\\x11\\xfex\\xec\\x0e]{&\\xa6\\xfe\\x9c\\xaeD\\x8c\\x9b\\xb2U\\xf16\\xf4\\'\\xa1=\\xc7\\xd0\\'\\xe2%\\x083\\x01u\\xe4\\x16&\\x03\\xcf\\xb1\\xe6\\xfe\\xc0\\x9d9\\xd6\\xa53\\xb0\\xd0\\xab\\x15\\xbbqnuj\\x01%0\\x97Z\\x18\\xda\\x81\\x9d_\\xe1\\x85\\x93.\\x00\\xe3EM\\xf7Ql\\xc7Id\\r\\xec\\xd0\\x8a\\xe2E\\x0e\\x92\\xc1\\xcc\\x1e\\x9e\\xa7Xb4t\\xe1:\\x97\\x81\\x1f\\xc6\\xc6\\x0c]\\xba\\xa3xz4r.\\xdc!\\x86F\\x17\\xf7\\x84\\xeb\\xb91&\\xcc\\x8a\\x86\\xf6\\xcc9\\xea4\\xdb%S\\xf2\\xc2\\xf6FSg6z\\x16\\xba\\xe0\\xd3\\xb3\\x859\\xe9aR6\\x89c?\\x9c\\xdb\\xb15rb\\x87\\x19\\x82\\xf1E\\xec\\xcc\\x9c\\x00D\\xe6\\x1cy~%]\\x0cg\\x8e\\x1d\\x92\\x941>D+Ud\\xe4\\xce\\xb1\\x96\\x84\\x11\\x98!\\xe3\\x8b\\xb1=\\x8b2\\n2\\xd9\\xa6\\xe2>\\x92k\\xe5X\\xe8\\xdc\\x19\\xb9v\\xd3\\x89\\xa7@\\xd1\\x99=\\x8a\\xc0BZ|\\xaf5\\x9ca\\xf4q\\xeb\\xa2\\xd3\\xdci\\xb6[\\xc6\\x1b\\x8a\\x98rm\\xba \\xe3I\\xe8\\xc6\\x8b\\xa3F4\\xb5\\xbb\\xf7w\\xad\\xf7\\xbd\\xe9_\\x9f\\xba\\xa3dtb_=~z\\xfc\\xdb\\xe5\\xf3\\x1f\\x1f\\x05?N\\xde\\x1e\\x8f\\xbb\\xf3\\x0f\\xe7\\xbb\\xc3\\xf1\\xab\\x0f\\x93i\\xf8\\xc8\\xdeu\\xdbG\\x02\\xdf\\xf4\\xf6w\\xac\\xf7\\xc3y\\xf4\\xe4\\xf3\\xf0\\xf5\\xcf\\xa7/?\\xb4F\\xbf\\xf4^\\xfa\\x1d\\xff\\x89\\xdbm\\xfdb\\'\\xe1\\xbf\\x0f\\xdc\\xc1n\\xb0\\xf3b\\xf1\\xfe\\xf8\\x8dsb\\xb7v\\xde\\x04Q\\xe8%\\xc30\\x99<r\\xc6\\xbf\\xfd\\xf2\\x9f?\\x8eO\\xa8\\x9d\\xfb\\x9d\\xae\\xf5y\\'\\xee\\xbc\\xdc\\xb9:>{\\xfeK\\xf7\\xe7\\x9d\\xe9o\\x9f\\x9f\\xd8;\\x9d\\xb7\\xfbg\\xe1\\xe4\\xd9\\xfb\\xd3\\xfd\\xabw\\x83\\xfdp\\xf4\\xfab\\xe7\\xd9\\xf3\\x8b\\xcb\\xbdg\\xc1b\\xf4\\xcbY\\xeb\\xfc\\xfc\\xea\\xf1\\x8f/\\xde\\xb8\\xb6\\x7f\\xf5\\xc2\\xde\\xf7gO\\x86W\\x9d\\xd3\\xd9\\xf9\\x83\\xbf~\\xdf\\x8b^\\x0f\\xa2W;\\xc9\\xe4\\xe8\\xa8\\x91\\x1b\\xf30\\xf4\\xa3\\xc8\\x0f\\xdd\\tqR\\xdb\\xf3\\xbd\\xc5\\xdcO\"\\xf9N\\xb9\\xa0\\x91<\\xb6E\\xe8\\xed\\x0e\\x89\\xad2\\xc3\\x9a\\xfb#\\'\\xf4\\xdc\\xdf\\xc2R\\xf6\\xca\\x8cPq>\\xf5!\\xd3D4u\\x9c\\x18\\x8c\\x99\\xfen\\xb6\\xf7\\xed\\xf6\\xde\\xfe\\xa8m\\xdb\\xedns\\x18E\\r\\xc9:\\xb3\\x17\\x1b\\x82\\xb0\\xeb\\xa8\\x11;Wq\\x8b_\\xe0E\\x06\\xdc\\xb3\\x19\\x9e\\x11\\xb9\\x1f5  \\xecd\\x06\\nj\\x99\\x8c\\xb2\\xba\\xef\\xf9\\xe7f\\xaf\\xe3\\x8c\\x9c\\xae=\\x1e\\xeet\\xf76\\xeb\\xd8\\xf3c\\x11\\x84\\xc0\\x9b{b\\x10\\xda\\xeel\\xe6\\xdc\\x13\\xce|\\x80)uF\\xf7D\\x148\\xce\\x10\\xe4\\x1a\\xc7\\xa0\\xbe5\\xc1\\x81\\xe6\\x05\\x88\\x06\\xe36\\x80\\xb9?\\x1c\\r\\xf6z\\x9bA\\x04\\x82qHwQ\\xdd)A\\xa4\\xf4\\xbd\\xedY\\xec\\xb0\\xfas\\xf7\\xce\\xf6w\\'\\xc7\\xaf\\x98_\\xde\\xfd\\xb8\\xdeD\\xdd4dD\\xc7R\\xce\\x98\\x9a$\\xdd=\\xcc\\xe4\\xa6\\xb9\\xf8\\x9bH\\xceL\\xbaA\\x98\\xcc\\x1d\\xa0\\xd8\\xdc\\xf7\\xe3\\xa9\\xe7DZ\\xb6\\x92\\xbc#\\x1cR\\xb2\\xba(T]\\x08u\\x8do\\xcc\\xa9ZW\\x96\\xbc\\x97G\\xa5\\xb1\\r\\xc6\\x0c\\xed\\x03?\\x96%\\xb3\\x14*\\xb1\\x9f\\x0c\\xa7\\xfc\\xb1\\x055\\x00r>\\xf0\\x81\\x1e\\xd0U\\xdc\\xdf\\x1c\\xe8\\xda\\x9d\\x9d\\x9d+\\xfcK5\\x03E\\x1fK\\xdf\\xaa\\xf7\\xcc6\\x9a\\x817\\xf9\\xd2^;\\xe8\\xb5\\xb3F\\xaf\\xf2\\xbd\\x1b\\xeau\\xaf{\\xb5\\xd7]9R~\\xeb\\xba=\\xe6\\x97ii6\\x8d\\x95Xo\\x16WB\\xbd\\xdc\"\\xe3\\xd4\\x92*\\x95W\\x89\\xde\\x81\\x02O\\x08\\xbf\\x0c\\x11\\xa8y+\\x14\\x83\\xd0\\x97\\x88\\xa3\\x16_\\x82J\\xb6\\x88\\xb8\\x9c\\xba f\\xc8\\nXu\\xa9\\x95a\\xa8\\x12\\xcb\\xdd<\\xf1g\\xbe)io\\xf7v\\xf7z\\xf6}(\\xc3\\xd4\\x9e\\xd4\\xa2\\xc5`\\x96\\xac\\xd3\\x9eg_\\x0c\\x928\\x06J\\x0f\\xabZU\\xac\\x87\\xd9r\\xff\\x833\\x03\\xe2\\xc3:\\xf2\\x95fG\\xea\\xfaaK>To\\x1a\\xc0\\x8f\\x1c)\\xf8\\xf3Z\\xc8\\r)\\x8b\\xe7\\xce\\xe2\\xd2\\x0fG\\x10\\x1f\\xa9\\xe2\\xae\\xb4\\xcd\\xc0\\xd06\\xc9\\x0c$mS\\xf8\\x833\\xe8C\\x022\\x12\\x9a\\x843\\x12P/\\xc5\\x18LV\\xf8\\x81\\xe3\\x89\\xc8O\\xc2!\\xd6\\xc1\\x1f\\xc7\\x97v\\xe8\\x08h\\xc9\\x8e\\x179\\x02\\x067\\x9bM\\xac2\\xe3\\xea\\xd2\\x9b\\xf9\\xf6\\x08=\\xce\\xe7\\t\\xb4\\xb7E\\x9e\\xef\\xf0\\xd0\\xd1{\\xe0@\\x81:j\\xf8\\x93\\x83\\x82\\x1e\\x85N#\\xacwN\\x99\\xca\\xbdOO?\\xad\\xa7\\x99\\xe7\\xfb)(\\xc9\\xa5\\x0bU\\xdd\\xed\\x8d/\\x94A.98\\x99\\x07\\x1b+fZ\\xcf\\x99\\x01\\xa8)\\x87\\x96\\x06vC\\xa0\\xd8n\\xb7\\xdd\\xbe\\xc2?\\x93\\xd0\\x97g\\x9c{8\\x88\\x9ca\\x12:\\x9f\\x92\\x10\\x1aE\\x8a\\x1e\\xd7\\xec\\xacjLku\\xa2\\x11\\xc5\\x10\\x8av\\x02\\x83\\x17\\x94\\xacX\\xdc4\\x81\\xd7 j\\xc6Wq\\xd9\\xbb\\x10\\xf9\\xa1\\x07\\x0b]\\x0b3\\xc3\\x1ek\\x85Q\\xf4\\xfd\\xd5<\\xd3\\x9d\\x14\\x19\\x1c{S\\xdb\\x1bBlz1\\x19`\\x10W\\xd0\\xc9M\\xb5Qv\\xacg%p\\x82\\xa8i\\xac\\x01_\\xa3\\xe9\\x12\\xc9\\xf4\\x05\\xc0\\xfc\\xe8\\x0f\\xc4\\x9b\\x80\\x8c\"\\xa2\\x1b\\x17\\xf6\\x97\\xa1\\xbf\\xe6\\x01!O\\x8a\\x01\\xc7\\x99\\x0f\\xbdt\\xec8#\\x1ag\\xebf\\xa09\\xd5t\\xfe\\xccO<x!\\x88\\xb8_;\\x975@\\x11\\x00Q\\x93~\\x0e\\x92\\xd0S\\xae\\x1d9\\xd1\\xba\\xb1\\xac-nj\\xc9\\xc0\\xb7\\xbf`\\xdaN\\xbc\\xc8\\x85F^=Y5p\\xe9o\\x19\\x10\\x13\\xef\\xbe\\x00\\x8e\\x9fa9\\xdaQn\\xd5j\\x17MsJ\\xb9r\\n\\x8d\\xa4 5\\xc4\\xa92\\x0b\\xa59`b\\xf4l\\xf4\\xfdY\\x94\\x1a\\x9d\\xe2o\\x1aW\\x1a\\x7fab\\x06\\x89\\x1c\\x88\\xd4\\xf3\\x16\\r\\xa1\\x1b\\xda\\xec8\\xba\\x97\\xbd\\xc8\\x9c\\x17o}p\\x06\\xa7\\xc4r\\xb3GD\\xaf\\xc6\\xe7\\x05t3^\\x0c|\\xf2\\x07\\xc1B\\x7f$\\r\\xe9\\x83\\x0c\\x10!\\x1a\\x7f\\xd1=\\x9c\\xc2^\\x1eN\\xd5;i7x#\\x86\\xd3\\xcd\\xc9\\x81Z\\xe8+\\xe2/[?|>\\xfa\\x9b\\xfc\\xf3\\x13\\xa8|\\xfe)\\x8aa\\x8bL\\xfe\\x91A\\x82\\xb6\\xd8\\x91d\\xb9^\\x90p\\x83!9\\xb1B\\x881\\xf6\\\\,\\x7f\\x9c\"\\x8cr\\xf6\\xc9_\\x99\\xbf\\xaej\\x11\\xd8&;\\xb3/l\\xb94\\n\\x89/\\xecP|\\x9a\\xd8\\x9f\\xe1\\x84\\xe4_\\x86\\xe3\\x91\\xae\\xa5\\x87\\xf1\\xd7\\xadO\\xf0\\xba=\\x1a\\x0eAR1y\\x0c\\xe1^\\xeb=h\\xdf\\xbf\\xff`\\xafgu\\xb6>*\\x9fa\\xee\\x838\\x84\\x07\\xe5-\\x186yL\\xf8\\x15\\x06l[;3\\xb7\\xef\\x1aSNPLl\\xc0\\xa0\\x85r\\x13F\\x12X\\xe2\\xf1\\x8cy\\xdc\\xf6\\x96\\x84\\x19\\xceI\\xbc\\xd6d?\\xf9\\x91\\xd8*\\x8ch\\x8b\\x1fJ\\xff\\xed\\x91\\x88\\xe1B\\xd1\\x0eOA\\x0f\\xe0\\x8f\\xc0G\\xdb[\\x92)n\\x89#\\xa3\\xb7\\x99/=gMH\\xb4\\xd8\\x87\\xc2$~\\x10\\xea\\xc5V+\\x8af[\\xe2@^Ko\\xf0\\xd6]\\xf1\\xbd\\xd8R\\xbeA+u\\x85J\\x9f\\xb0\\r\\xfbz+\\xeb\\x99\\x86\\x16\\x99#\\x03\\xde\\xa8aE\\x8f\\x17\\xef\\xec\\xc9k,s6\\xc0_\\xdb\\x1f\\x1f\\n0kh*^\\xfc\\x1a&{\\xd3\\x85\\xb2\\x12\\xc6\\x8f\\x1d8\\x7f\\x9c\\xed\\x89\\r\\xa3UM\\xf7?\\xeen\\x97:ko\\x1d\\xb6\\xa4\\xe3\\xfb\\xd6\\xe1\\xc0\\x1f-\\xf4\\x8e\\x81R\\x1f\\xc9\\x85\\xd7\\x10\\xf0X7\\xe8\\xaf@z\\xebxi\\x0eG\\xee\\x05?`s\\x08\\xfa\\xa3u\\t\\x01\\r\\x85G\\x0b\\xad\\xdcK\\x9e\\x0fO\\xa7n{\\xe4[0\\xb4a\\x10\\xc0\\xd0V\\x88E/\\xf3\\x07A\\xff\\x10X\\xef{\\x93\\xfek\\x1f\\xfe\\x08\\xe7\\x00\\xa8*\\xaf\\xc5\\x87)tk\\xf1#p\\xf2T:\\xdf\\xddH\\x90\\xc1\\x0e\\x1bPR\\xa7\\xc0\\xa0\\xe1l\\xc4m\\xa5^\\xdd\\x13\\x0b\\xa8sp\\xaf\\x81\\x9al\\xe9\\x14\\xbft\\xe3);$\\x952\\x00g\\xfal&\\x06\\xa4\\xe8\\xcd\\xc1\\x1dFM8\\xae\\x89\\xc1\\x89\\x18\\xdc\\xdd\\xec\\x0c\\x82A6\\xef\\xc0\\xc3\\x8eO\\x9c+\\x8c\\x15*\\xe4\\xd0i\\x8a\\xc3V \\x99<\\x0f\\xa1\\x85\\x99QV(_+c]\\xdb\\xea\\xca<\\xe7Gz\\x0e\\xfd\\xd9\\xc8\\x857\\xd0\\x86\\xc7\\x05\\x16\\xe0z\\xf3\\xa49\\x1c5\\xc4\\xff\\xab\\x9c\\xb8\\xff\\xa0I\\x18\\x84\\xfe%PC`v\\x0e\\x9dy\\x1f\\n\\x01\\xe9\\xbf\\x87-\\xfc\\xad\\xc7\\xbc\\xdc\"\\x1c\\xe5\\xec\\xde&*\\x002\\xcb6`\\xa2\\x04\\x0b\\xc6\\xdeF?\\t\\xa0\\x96\\x8d\\xd8\\x0e\\xb0\\xb1\\xbf2\\x863\\x9f\\xb4\\x0c\\xd5\\xd9a\\xcb\\xee\\xd3\\xa3l\\xae\\xf0\\xd6\\xc0\\x89\\xb1\\x1c\\xb4D\\xcd\\\\\\x87e\\x93\\x98\\x0e\\xcdt)\\xa4_\\xb1\\x9ds\\xeaF\\xd4\\x1c\\xb1v\\xf1\\x12n\\xa9l\\x8b\\x81\\xe7$\\xc3RrS\\xcb\\xdd\\xb0\\xd8\\x0f\\xc8\\x8d\\x0b\\xf6\\x91\\xc3\\xc3<4\\xc0h\\xfd>\\xe9\\x96\\xf0\\x92_\\xb8\\x13\\xa9 \\x10\\xea`\\xa7\\x02\\xa8.B\\x9f|T\\xd93\\x13\\xf95\\xf0\\xcb\\xd3J@)X\\xa2s7\\xb0\\xd8?\"==\\x168\\x19\\xe4\\xbc\\xc5\\xb2-C*\\xdd\\x16\\x8fI\\xaf\\xcam\\x85\\xc3\\xa9\\xaf\\xec\\x14\\x8d\\xd1|\\xeb\\xfb\\xfd\\xc2\\rZ\\x8feh\\n\\xf8Z\\r\\xb6\\xcd\\xf4>\\x9c\\xc1\\xddaI\\xfe`yN\\x0c\\xdb\\xeb<\\x9d\\xda\\xb3d.\\x87\\xa3\\xb5\\xd9\\xdb\\xc5\\x17\\xed\\xd0\\xb5\\xad\\xa9;\\x1a9pP\\x12\\xdb\\xad\\x1ae\\x14\\xd8\\x9eX~[O\\x1c\\xfb_\\xec\\x10X\\x8d\\x8d\\xa3K\\xb8\\xa5\\x0f\\xe9\\x83\\xfe\\x9d\\xdb\\x0fvw\\xdb\\x0f\\xc15\\xe8J\\xfd\\x12O\\x08\\xe6\\x92\\x91c:\\x96\\xee\\xde\\xbau\\x98\\xa4\\x1b\\xa7\\x90\\'\\x89^\\xe5\\x18F\\xa2\\x02\\x96?\\x82&\\x95\\xe7\\x96\\x16\\x1b!\\xb07\\x88\\x06>\\x01!\\xe7\"\\x82\\xba4\\x04[\\xd17\\xe1U\\xf4\\x86\\xd3\\xf4\\xb61\\xf6tU[\\xe9r\\x92}\\xacT\\xf8\\xd2}\\x13\\xdd\\xfbf=\\xca\\x16ST8\\x84\\xbfW\"\\xc5\\xd2\\xa0\\xa2\\xb1\\x1cQ\\x19\\x94\\x15&T\\x10\\x8dK\\xe1/\\xd1\\xb3\\x1b\\xa2\\xff\\xf6\\xf4\\xd9\\x1ap@\\xcaG\\xab\\x01\\xa1\\xb7\\x0ck!\\x9dD5\\x81OM\\xfb\\x1d]\\xe3:Z\\xa3\\xef`\\x11\\xb8\\xab\\xfb\\xa6\\xb7H\\xed\\xcc\\x86\\xae\\x97\\rZ\\r\\xf9\\x1cN\\xbc\\x91sE\\x03^\\xbc=Y\\xa3W\\xb2t\\xaa{m\\xb1!T\\x1c \\xd9U\\x8f};\\x84#\\xb2\\x8f\\xbf\\xd7\\x19\\\\4\\x05#d\\x9c-[\\xe1V\\xea\\xdb@_\\xa2\\xffD{:\\xca\\xe0?l%\\x08CX\\xa6% 5\\xb1\\x8c\"\\x0fP\\xbco\\x99Y\\x8037Jh~\\x99i1\\xfd\\xad\\xcf!\\x92\\xc0\\xe4\\x0f\\xf7\\x97\\xf8\\x83Ai\\xaf%G[b\\x0b<\\xec\\xbc\\x88h\\x81\\xef\\x9b\\x82\\xbeD\\xf0\\x8b\\x17\\xcc\\xce\\x05\\xd8\\x00o\\xba\\xa7\\xae=\\x1e\\x00)^x\\xa8\\xa6\\x83v\\xbf-yK\\xb3\\x9c\\x81\\xed\\x91\\x98\\xc9\\x8f\\x9fe\\x9a\\xfa&\\x13E%\\x9c\\xecp\\xdaI\\xc5\\x0c\\xb8\\x11\\xb7\\rQS\\xc9q\\xb5\\\\\\x81\\\\?t\\xe7\\x93\\x02s\\x9b\\xf9\\x13_m\\xc8k\\xb7\\x0c^j\\xa9\\xb5\\xa5\\xa7\\xec\\x8f\\x11\\xb0n\\xf5\\x8a\\xdf\\x81Z?r\\x1e\\xd2\\xf6|\\xa9\\xe0\\x99v\\xca\\xa06\\x86\\xe7\\x07d\\x91\\xcbM\\xd7t\\xa8E\\xb9\\xad\\x05\\x96\\xf9;\\xe5\\xa6\\xa9S#\\x1a\\xcf\\xb1\\x93\\x03{\\x9d\\xe8t\\xe8\\xc2\\xcb\\x1f\\xce\\x81\\xe2\\x1eL,x>\\x9d\\x16@\\xf5\"(\\x89?\\x84\\x0e\\xc5\\x0ct\\xee\\x00q\\xe1\\xdaV\\xf3<\\xf2\\xc9\\xe7bI\\x1fi\\x03\\xdc\\x83.KG\\xc5\\x0b[>\\x84\\nIG_,\\xa1\\x9b\\x1e\\x8c\\xa2 r\\x07Zs[\\xcbV\\x93\\x80b\\xec0\\xb1\\x94\\x92\\xaa\\xdam\\xfd\\xaa\\xc2\\xf8\\x14\\xbb\\xf0\\x8e\\xdc\\xf1\\xe8\\xdf\\xe1\\xc0\\x07-#\\xc5+<\\xa1\\xa1\\x1c\\xd2\\x86q\\x8a0l\\x91Z\\xd0\\x94-vT\\n\\xa9?#\\xd2A\\xd9\\xaa\\xb4Y\\x07\\xb7\\x15\\xa8\\x9bL\\xdbr\\nM\\x071v\\xb1s\\x8di\\xd5\\x9bz\\xd2R6\\\\\\xc7h\\xa0r\\n\\xd2V\\xd6\\xa1w\\t\\x1d\\x07\\x84\\x90\\x02\\xb0F\\xab3{\\xe0\\xa4\\xf2\\xbeD\\t#\\xb5\\xff\\xa8\\xe1\\x8e,\\xd9\\xb4\\xc5ci\\xf4\\xd5\\x10\\xde\\x91\\xb9A\\xca\\'\\xe4(5T?\\x11\\x8c\\x1cl\\xbb3_,6\\xaa\\xc2\\x0f>k\\xdf\\x9e\\x1a\\x8c\\xd22I%\\x1c\\xf8\\x10#Zu\\x94K$\\xe1\\x11\\x08\\x8e\\x19:S\\x18\\x12\\x0e\\xa0\\x95\\xc05\\xc4\\x85\\r\\xf7\\xffQ\\x03\\xed\\xd9\\x03\\xc4\\x119W\\xd8\\x9eZk\\xaa%\\xa2\\xab\\xfd\\xd9(\\x19\\xc06j(\\xe8\\xf4\\x15\\r@\\xff\\x9d\\x87HQI\\xba\\xd8\\xfc\\xb94\\xcc4`\\x19<\\xbd\\x15\\xb8\\xa3W\\xff\\xf9\\x9b\\xd5\\x08\\xd2\\x92=\\xaf\\xb1\\xea\\xab\\xdbRV\\xdb\\xc91B\\xcb\\xe4\\x8ae\\x9b\\xd5`\\x83\\xb4\\xc3\\x8d\\xcdi7\\xc2\\xbc/\\x0e`\\x87z\\xe0s\\xb0\\x80\"\\n0\\xc1\\xcc\\xe8\\xbf\\xe4\\xb6 M\\xbb\\xb1\\x06;\\xb4Gc\\x84\\xdb\\xd5Bs\\xd8\\xd2\\xd4S\\x8d[x\\x07\\xb4+U`\\x8d\\x1e\\x03X\\x12\\xe7$<\\xb4.l0%{t\\x96D\\xb15\\x06\\xfb\\x03y\\xffF\\xe4\\xbd\\xa6Z\\x9e\\x12c\\xa6#\\x1b\\x96\\x91dD\\xdc\\x16S\\xc3Q\\xe3\\x11\\xf7$\\xde\\x01wA&\\xbfa\\x97\\xc5\\x13\\xe4\\xe7Yc\\xd5\\r\\xfd\\x1a~\\xe2\\xd0\\xea \\x94/\\x02\\x1aJP\\xed(\\xf0\\x83$\\xa8\\xb5!4\\xb0\\x063UL2%\"\\xc9\\xd6,H\\x81\\t\\xe2\\xf4\\x88gJo\\xc3a4G\\x14B\\xff\\x11&\\x8f\\xff\\x10\\xf4\\x97zT&\\xcc\\x8a]1\\xa5gs\\x04B!\\x83\\x92\\xe7\\xa7z\\x19\\x8b\\x8d\\x14g\\xa0\\xab\\xf5\\x08\\x0b\\xe8$MO2J\\xc8\\xd2\\x00\\xe40=\\x94}\\x8b\\xc9\\xb6\\xa2)\\xdc+0\\xccT\\x18\\xc5+\\xe0\\x82Z\\x05\\x1a\\x0f\\xd9\\xaer*2\\x1f\\xdf\\x01\\x04\\xf5\\xa9|\\xc8\\xe2 5\\x0c\\x8a`\\x95]W\\x83\\n!\\xba\\x02\\xd4\\t\\x8c\\xb8\\x12@_\\x92\\xd7\\xb4\\x02N\\xf9\\xec&\\xc1\\xec\\xad\\x04\\x93\\x15\\x83\\x14\\xce\\x9f\\xe9\\n\\x81\\x8d\\x0b\\xc8\\x07x<\\x88\\x8a(\\xe0\\xd0\\x9b8\\x918\\x11S\\xfb\\xc2\\x11s(?\\xe5\\xd3\\xcc\\x1fo\\x06\\xbdT\\xb1\\xcb\\xa6\\xde\\xbc\\xb7z\\xd1\\xea\\xdb\\x91\\xce+S\\x7fA\\xfc\\xe99\\xfd\\xb3\\xbc\\x04\\xa1\\x90\\xfcc\\x05\\x06\\x1bh_\\xcb\\x1aN}\\x8e\\x12|E1?\\xe2u\\xea^Y\\xd1:\\x13Vfy\\x7f=\\xce \\xc1\\xc52W\\xaa}\\xc5\\xc5\\xf9\\xea\\xf4\\xbf\\xbc\\x13C\\x9e%\\xcc\\xaf\\xc7\\xee:\\xfc\\x83N\\xb4\\xd0*\\xbb\\xde\\xe3\\x86\\x18\\xd0{_\\xac\\xf9\\x97\\xc8\\x02\\xcdY\\xc6\\xb6\\x18\\x83\\xb5\\xabF\\xad\\xe8s\\x02\\xcf3I\\x18\\xb7O\\xbe7gt\\xe2m\\x86\\xd5e\\xab\\x99q\\xb9r\\xd6\\x91\\x1f\\xe5\\x18\\xc1Y\\xb1\\x0f\\xfd\\x9c\\x15\\xfb\\xbf\\xc0\\x92\\x83WA\\xeb\\xbe\\xcbRM\\x8f\\x84\\xddGs\\xc8\\x13\\xfa4\\x95\\x91\\xaf\\xd4\\x8d\\x9b\\x1cD9c\\x91\\x830ll7\\x1c\\xd2\\xec\\xaf\\xa3\\xe3R\\xb4\\x82\\x07g\\x7f\\n\\xf6\\x93\\xa9\\x8d\\x80\\x06O\\x9c\\xfc\\xfc\\xe4&!G4Q\\t\\xe7\\xceO\\x7f\\x0c\\x87:\\xfc\\xaf\\x8c_\\x1b\\xcd\\xbd\\xfa0\\x1d\\xc3;\\xd9\\xd0f\\xf0\\xd733M\\x8f7\\xc3\\x14+\\x954\\xb9f\\x1c\\xc2N\\x19\\r\\xd8\\x9b\\x1b\\xce\\x92\\x11\\xb4\\xc3\\x16m\\xec\\xd3\\xd6\\x04\\xb6\\x8b\\x10 \\x96\\xda$E>\\xc1D\\xc0\\xce\\x03\\xf6h#\\xbc\\x17\\xb1(\\xa9\\xe1\\x9bs\\x19dC\\xa2\\xd7\\x97\\xad\\x9bC\\xd22H3\\'g\\x02\\xfeN\\xf5\\x1c\\xed\\x82\\xc9\\xbc\\xd8\\xecn0\\x18t\\xce\\x1b^\\xe6\\xd8.\\x03\\xbbrRL\\'\\xea\\x92\\x14\\x90XE\\xca\\x10\\xc7\\n\\x9b\\xfa\\xe2+@U\\x14\\x06\\xdcI\\xf6\\x83\\xb8?\\r\\xd1\\x1e\\xf8\\xd8\\x03M\\x95\\x1e\\xa9\"*G\\x0b\\x94E\\xb1JS\\xcc<\\xae\\xdcR\\xe6QK\\xdbl\\xf4\\x1f\\xd1\\x93\\x1c\\xc3\\xcf\\x8d8\\xe7+6u<5\\x7f\\x86>\\\\\\xe2\\xf2N\\x9b*\\xca\\xb3Uz\\x9eb\\x1e\\x12l\\xec\\xc6\\x18\\xde@\\x80\\x9c\\x85\\xf6\\xb3\\x13\\xb0\\xe0\\xe0ed+\\xc8\\xcf\\xf58nK\\xf6\\xf79\\xc1nx\\xae\\xc7\\x9f\\xf8\\xce\\xc6}\\xd52F\\xd9\\x17\\\\\\x0b1v\\xc4\\x10B\\x19\\x82\\x82\\x8c\\x15\\xea?\\x97O\\xc4\\xa9|\\xb4q\\xe7u\\xbcM\\r\\x14\\xd1\\xf6\\x81\\xd9\\xe5\\x0b\\\\o\\xdc\\xcf\\xfd\\x15<T\\xee\\xaa\\r\\xa7\\x08Rjb\\xb4\\x92L\\xb1\\x8b;\\xf6\\xcd\\xae\\x95;\\xf9q\\xe8\\xf3\\x9b\\x05(\\x94\\xf7U\\xd3\\'\\xa3Ua\\xd5\\x97\\xa9\\'\\r\\xcc\\xa8\\xa2\\xa0\\xee&\\x14\\x94\\x85y\\xa4\\n\\xb2AEOU\\xb8\\\\\\xe6\\x94N):\\x05\\xdad\\x18_\\x9d\\x92\\xca\\xc0\\xef?\\xc2./\\x92}8\\xdce\\xe3u\\xafS]ZYw2\\xdc\\xd0\\\\\\xeaS\\x19\\x808\\x84|\\xdf\\xb8\\xd3Z\\x8a\\xca:\\x95)e9\\x12\\xfe\\xc0Yf\\x9b\\x0f\\xb3\\x96\\x8c\\xb2\\x1e\\xe7\\xf6\\xd0\\xcf\\xf5\\x87\\x1boN7\\x1e_\\x1d1\\xa5\\x93\\xdaB\\\\\\xb8\\x13\\x9aS\\xfa\\x86nPBZL^\\x92\\xcd\\x07\\xb9\\xbb\\x82\\x86)\\xeb\\xaf\\xb0\\xfd\\xd4\\xea\\xc1z\\xe6\\xc8\\xd1&\\xe9\\x04\\x19Q@O\\xe6\\xdb\\x1b\\x8f}\\xaf\\x06\\x88l\\xec:\\xb4\\xcc\\xbd@\\x88\\x96\\xb6\\xfd!\\x13T\\xa4\\x17n\\x8b\\x9392\\xa3h3\\x827\\xb3\\x8b\\xb3\\xf1\\x85\\xbc\\xc4\\x08\\x8e\\xad\\xe2\\'\\xbd\\xcd\\xf8\\t\\xb4\\xe1\\x14~-\\xe3\\xc9\\xf1n\\xf4Ds\\x98\\xca\\xd0\\xdf\\x91\\\\\\x06.\\x98\\xe8\\xa7\\xb7\\x1aoN\\x10S\\x07\\xa4\\xdb)\\xdf\\x0e\\xd67\\x19!E\\xea\\x177J`P\\xbf\\xb3g\\xe7\\xc5e\\xd5l\\xb6Z\\xf2\\xd7\\xf1\\x8et\\xb3\\xd7=w\\xcd\\x88\\xcc\\xb9\\xefz\\xad\\xc7\\x0er\\x8d\\xb0K\\x15=O\\x10\\xa1h\\x00\\xa5\\x1f\\xdc\\xb9}\\xd5\\xdd{\\x18\\t~\\xbe1\\xde\\xd7q\\x18\\r\\x17\\xb2\\xe9&\\xd4\\xb8\\t\\x9b\\x01\\xc8S\\xe7\\xc2\\x99Q,\\xf6\\xf5 \\xa9\\xe3>)$\\xf9]\\xe8\\xd6\\xd8\\xfel\\xa2\\xc2\\xb3G?m<\\x01\\xab\\xb8\\x0f\\x05\\x99\\x95\\xad\\x8bN\\xaf4\\xf9\\xc0k\\x18\\xbd\\xc7\\xded\\xe6FS\\xf1EhY\\xc7\\x85*\\xe2\\x87\\x8d\\x85x{\\xfcVn\\x85o<\\t\\xfb5\\xdc\\xaf\\x16;\\xa5\\xe6\\xf4\\xd8\\xf7\\xcf\\xcdy\\xd0\\xfa\\x14\\xdd\\xde\\x18\\x96\\x075\\xb0\\x90\\x1ch! \\xcd^\\xe4\\xc4\\x9d\\xea\\xef\\x98\\x1f\\x14:\\xfc\"\\x8e\\x9b\\xee\\xcdWq\\xdb\\x9dM\\xb8\\xad\\xb9\\xd3\\xafyJ\\xc6s\\x97w\\xfe\\x7fg\\xda[\\x06>\\x8cb0\"\\xa4c\\xe4\\xf8\\xaf\\xbe\\xb9\\xf1J\\xd7*qY\\xaf \\'$=\\x1ax\\x0e#\\x16>2d8\\xd3\\x83\\x8d{\\xad\\xe3\\xc4E\\x87Q&\\x02\\x96|?kX\\x97u\\xbc\\xd5\\xe8\\tZS2\\xcf\\r\\xf0\\x19\\xdf\\xd9xdu\\x1c\\xb4E\\xa1C\\x08w\\x80\\x04C\\x0c\\x1c\\xe5\\x07\\xb4\\xba\\xedn\\'g\\x05\\x9d>\\x13\\x8f\\xf8\\rRb\\xb0s#~\\xe6\\x177\\x86\\xa3\\x8e\\xa5\\x1a\\xe3\\xa6\\xc86\\x8a\\x91)#\\xe5\\'\\xa8\\x87@\\xb1\\x8e\\xc3/\\xb0\\r\\xea\\x98\\xa8\\xd1}\\xe4Nr=\\x9f\\x06\\x0e;\\xccO(\\x9c\\xd5\\xc1\\xa6\\xda\\xf3\\xd0O\\x82\\xcdW\\xa1\\x8e\\x97\\x1a\\xddSDG\\xd9\\xc8_\\xe2\\xfe\\xc63^\\xc73k\\xf9\\xb7)=\\xb80\\x81\\xf8\\x00a\\xb7q\\xff\\x9dv\\x1d\\xd3&\\xd4\\x83?x\\x94\\x0cM/\\x10B\\x9e\\x10\\xd9\\x8a\\xfa\\x05Xkz\\xb4y\\xa7\\xe5\\xbbtK\\xae_\\x1b\\x81\\xbf\\x94\\xbe\\x96\\xaas)\\xc7\\x15\\x8f\\xf8\\xd1\\xe6=\\xd7r.\\x1a.|\\rpT^\\xf8\\xb3\\x8b%\\xbf\\n\\x10L\\xde\\xdf\\xbc\\xdbZ\\xd6%gY\\xe5\\xcb\\xa1\\x86\\x02e\\xe0\\xe5\\x11\\x1c\\xf5:\\x90\\xc9p*\\x9f\\x14z\\xff\"1\\x19%C\\x10h\\xa4;\\xab\\x12\\x96\\xf77\\x11\\x96\\x8563\\x06U\\xd5\\x19vU%\\x18\\xe6\\xc8~\\x8fvKqd\\xe4\\xb6\\x9e\\xf8([\\x02\\xef[n\\xa1\\x1e\\xe1zc\\xe4\\xa8E\\xc9\\xca\\xae\\x07(\"\\xc3Y\\xde\\xa6a\\xa1\\xeem\\x0cB-zV\\x82\\xe0\\x80\\xf8\\xd9V6a8\\xd677\\x06\\xa2V\\xe8V\\x03\\xe1\\xc1\\xcar\\x90q\\xe0\\x19Q\\xa6\\x8d>\\x94y}{c@j\\xa5q% \\x13\\x1f*\\x96G\\xfe\\x03s:\\x9e\\xa7w7\\x06\\xa3V\\x18W\\x82\\x11q\\xfa\\x82\\x8bJ3&\\x18\\xa7\\xe9\\xdd\\x8d\\xc1\\xa8\\x15\\xca\\xd5`\\xa8\\xfcATYa\\x1b\\xb38/i\\xdc\\xb3\\xb2A\\xe9\\xf9M06\\xd4i\\x82\\xc0\\xd0\\xf1\\x1e\\xf9\\xad\\x8f\\xddM\\xb8\\xd9\\x00b\\xde .JXD6\\xb4?\\xc7\\xa6\\x0c\\xed\\n\\x9b\\xb5{\\xa0\\x0e!\\xf0-\\xb3\\x0b\\xe8]\\x1a\\xcb\\xef\\x91\\x95\\x15\\x86\\xa5\\xec/\\x95\\x08)\\x1ec\\xd0\\xe2\\xad\\x0f\\xe5\\xbc\\x81\\x90l\\xd6*\\xf4`n\\xceIC\\xe2\\x8e\\x96\\tu\\xc0\\xa0\\xafeX\\xaa:,\\x89\\x88g \\xe4\\xeb\\x80\\x0b\\xcanv\\xbd1:\\xd7\\xb1:R\\xb8\\xe05\\x08\\x16\\xbc\\xf1\\xdf\\xe4\\xb9B\\x8a\\xa3L\\xe9\\xd1Z\\x08\\xf5O\\xf3\\x94A\\xb21\\x0cu\\x9c.\\x85\\x01zW\\x15\\x04\\x0b(^\\x1a\\x06\\xfe\\xfb\\xfd\\xe9\\x97\\xadS\\x1d\\xa7\\xd3\\x80\\xa0>@\\xba\\xfd\\x92\\x0f\\xe5\\xe7\\'*V\\xb5\\xd1\\xcf(\\x04^e\\xa8\\x86J\\x9f\\xb9\\t\\xa2\\x06\\x0bA\\x88x\\x15Y\\xefmB\\xd6\\xb2)\\x835fd{\\xcc\\xbd\\xfc^\\tW\\x01.\\xf7\\xc1\\xac\\xa5ahr\\xcd\\x06qs\\x04\\x9b\\xef:A\\xb2\\x9c\\x85\\xc8\\xb4$\\xb7\\x07\\xf8\\x9eR\\xe8\\xd8\\xee\\x12_\\x08B\\x1da\\xb6JG\\x1f (%g\\x06K\\x8e%\\xfb\\x17\\x8f\\x10\\xa6\\r\\x07\\xc7\\x8d\\x12g\\x01\\x0ec*\\x8a\\xb0,\\xcd\\xc7\\x17\\xc3\\xb3\\x8aF\\xb9\\xb4b\\x99\\x9fS\\xf2S9\\x1bOP?\\ri\\xfc\\xe1\\xedS\\x8e9\\xa6\\xbd\\xe3O\\xb6\\xf7\\x89\\x1f\\x1a\\n\\xa4|\\x8a\\xe0=\\xb9\\x88\\xd7\\xa1]\\x08?d\\xd0r\\xf6\\x8b\\xf6\\xb1\\x9b\\xbf\\x97n\\x1e\\x16\\x92FR\\xc7\\xbc\\x11\\x9d+s@\\x90\\xa2Hnu\\xe4\\xe6p\\n)g\\x9f\\xca\\xb0\\x10\\xf8\\x00\\x1a\\xf9h\\rV\\x04J\\x03Er\\xae\\xba4\\x1b\\x92\\xfcd0\\xff\\x90: \\t-\\xe59\\xe3\\x99seE3\\xf8\\xd2\\xe1\\xf8\\xb8\\x14\\xe9_\\xc5\\xa0q#\\xb4\\rE\\x19\\x91\\xd2\\x86xS\\x07\\xfb\\xa52\\xe0\\x81\\xa23\\xcc\\xdb%!}\\xd8\\x88(\\x8f\\x83\\xcd\\xc2XU\\x0c:\\x92\\xac\\xe7\\x01V\\x8f\\xe3\\xcdi\\xb7_v\\x85`k\\x8a\\xb8\\xe1nQ\\xb4Fed\\x1e5n/\\x8fM\\x19\\xdc\\xfc*b\\xac\\xeeL\\xe2\\x87\\x9f\\x96\\x16&]\\x08\\x8e\\xc0R\\x9a\\x15*ME\\x1c\\xac\\xfc\\x92\\x07)]/\\x142\\x8c}\\xb4SjN\\xa7\\x19\\x94\\xad}\\x8e\\xc5\\xa6\\xcd/E\\xd5\\x96`\\x8f\\x198\\xc8kQ\\x158\\xbc4\\x8a\\xeai5\\xf0\\x8bW\\x15s\\xc6\\x11d(s\\xd4?\\xa4\\xbf\\xf3\\xd1\\xe3\\xe4\\xdd$\\xa2\\xe9\\xdf\\xd6)\\x88\\xbd\\x03\\xf1\\xcc\\x1d \\xf1e8t\\x91\\xc0H\\xc6\\xbb\\x00\\x1bD\\xba)b\\xfe8\\xd9\\xe2O\\xb7\\xfa\\xfd\\xbe@\\xc161v\\x07\\xdb\\xde\\xdd\\x03y\\x83\\x86\\x8eD\\xf4\\x01\\xd2\\xda\\xdb\\xf7D\\'\\xbb\\x89\\x92GH\\xe8\\xb6\\xc5\\x9dY\\xfcPx\\xc6\\xdb\\xf4\\x05g\\x87o\\xe3;\\x10\\xf4\\xd1\\x96\\xd8\\xba\\x9b}g48\\xb8\\'\\xec\\xef\\x07\\xd9#\\xf9\\x95z\\x97\\xa0\\xe8\\xb4\\xdbm\\\\\\xca\\x18-\\xb5\\xaa\\x08\\xe9\\xa1\\xea\\t\\xfd\\xb6\\xe8\\xe0\\xbf\\xae\\xe8\\x89\\xfbb_tz\\xa2\\xdb\\x11\\xbd\\x1dq\\x1fW\\x0f\\x04*4\\x89n\\xaf\\'z{{b\\xb7\\xd3\\x16\\x0f\\xf6\\xf7\\xd2\\xa4R9]-\\x9e:\\x99\\xf4U\\xba\\xfe%S\\x1e\\xa0P\\x10\\xd2\\xb2\\xfa\\xcfT\\x91\\xd6H<u\\xc6\\xb0\\xe0F\\xc8\\xc2\\xef`\\x02\\x91\\xffN\\xb9hCd\\xef\\x93\\xe7\\t\\x81\\xdc\\xd8,\\xa6\\xaa\\xa4TM(\\xad\\x9c\\x89\\x94\\x13\\xcc2\\xaaF\\xc2\\xc7\\xac+$D\\xc8\\xe2\\x96\\x82\\x01\\xe1\\xdd\\xd8\\xcaG\\xf41\\x154\\x81\\xf9\\x0e>\\xa7\\x03\\xca\\xc09\\xd2\\xfa\\xaf\\xf7\\x84*\\x9cd\\xde\\xa2WI\\x08\\xe1\\xde\\xc0EJ\\x14}\\xad\\n\\xc6\"C\\x1e\\n3\\x92\\xdd\\xd34\\xb1\\x92M\\xef8!\\xe7\\x8d=#w\\x1a\\xa2\\xe5gc\\x80\\xc2;\\xe0\\xb75\\xc0V\\np\\xa3\\xff\\x8a\\x86\\xc9\\x91>%\\xe3A\\xda\\xbe\\x1a\\xd1\\x1do\\x10\\x05\\x0f{\\x92M\\xa3@@\\xf9\\x94\\x97G\\xf9}e\\n!\\x8f?\\x15\\x85\\x02j \\xf2/\\x92\\x1b\\xec\\x06q\\x8c\\xc3\\xc4E\\x16\\xe0\\x91\\xf8u\\xeb1*Ax6\\xd5\\xc7\\xa0\\x88-\\x87\\xfex\\xe9\\xce\\x9d\\xad\\x8f\\x12\\x9bg~2\\xfa\\x94\\xbd\\xce\\x7f5\\x13*\\xb0\\x80Z\\x18$\\x0b\\xf8\\x0eM\\x92|I}&\\t\\xc0\\xf8\\xb8\\n\\xf9\\x01\\xc0\\xa3\\xd7\\xf8\\x8f\\x01x\\xfb\\xf6\\xe51\\x03p\\xf2\\xeax\\xebcJ\\xce\\x05\\xba1x\\x02\\x8f\\x93\\x90\\x85\\x94`\\xc4\\xf1\\xcdQ`\\x01\\t\\xf8zms\\x0c\\x81\\xf0f;}g[\\x82{\\xb7\\x12\\xaem0\\t=9w\\xef\\x89\\xedN:Ct\\xd5\\xd5\\xd3tW\\x83y\\x08\\\\#\\xeeu\\x1dr\\x84\\x1a\\x1f\\xb0\\xb9\\x8b\\xda\\xc7\\xb6x\\x87\\x8a!P\\x905A\\xf2.\\x8e\\xd8>\\xf7\\x10\\xc5\\x84\\x82\\xcf \\x88\\x10\\xbbx4\\xf3\\x1ci\\xc2\\x05\\xa6\\xa9\\xb2\\x18\\xcaCS\\xc50d\\x02\\xe9\\xa2\\xb7\\x84\\x08\\xdc,\\x89*N\\xa6\\x8a0a\\x88\\xd5U\\x94\\x8aG\\xd8\\xae\\x8a1\\x8f\\xa0+\\xd9\\xcd\\x10\\xc2\\x07\\xd5(8Y\\x8bkNR\\x18\\xc9\\x88\\xa7\\x1a\\x04\\xed\\x06\\t\\xa2X\\xa8h\\x19\\x95\\xb1\\x90\\xdd\\x0f\\x12\\x97\\x8az\\x03\\x0f4OY\\x97F\\xc1`C\\x9f<\\xdb@SI\\xa4L\\xe29\\xba\\xe4;\\x7fHR<u)\\xd0\\x85\\x82K\\xe3)R\\x15\\xdda\\x0e);\\xa2%\\xbaUr\\xa1y?\\xf7nW\\xfc\\xf9\\xcf\\xa2W\\xf1\\xf2~\\xbe\\xd9=\\xb4\\x8bH\\x97\\x9c\\xbc1\\xe8\\x86%\\x90;D\\xa2\\xd8\\x85K\\xdc\\x01\\x01fTh\\x04H%\\xc0*m\\xf8\\x86\\x14\\xb3(\\x15X\\xf7\\x9b\\xbb\\xb9\\xffi\\x89$9F\\x07}\\xd7v\\x8e\\x1e\\xc07t\\xd7+\\xba\\xbaAa\\x87\\r+\\xb0*\\x8e=\\xa2\\xad+\\xf0F\\x19{\\x94\\x91\\x18\\xf4\\xf6!a6\\xf1K&\\xa2H.\\x1e\\xa3\\xb9$\\x16\\x08z\\x92MW\\xf8\\x1a3\\x88\\x99C\\xe5\\xf5\\xd8\\xbe\\xa2z&\\xc8\\xcb\\xb2\\xdd\\xc9\\x94\\xa2\\xbbh\\xbb\\xe4\\x80\\x99\\x12\\xc5{\\x90\\xf8C\\xb9\\x13\\xe6\\x0f\\xdf+>qO][\\x85\\xeb?\\xabk\\xeeF~\\xd2\\xd2\\xb7h#\\x90(\\x9f\\xea\\x98P5\\x87\\x87BV\\xdc\\x99\"\\x8dG\\xb7\\xbf}W\\xbf\\xadH\\x18V\\xd3\\x88\\x195\\x1b\\x91\\x10\\xd5\\x06Y*\\xa7\\xc3r\\xd0X*?\\x97i\\x93\\x9c\\xde\\x13]w\\xc3\\x8e,\\xdbBqd\\x9e5\\xd4\\x8e3E\\xa9\\x9a;\\xd4~\\x9ef<\\xa1\\x94\\x84\\x9bTs\\xe5\\xf7\\'N\\xb1\\xbb,\\x80\\xaa\\x01\\xa54\\xd8\\xacv\\xe4h\\x0c\\xd2\\x06y\\xdc,D!\\rv\\xee\\x89\\xdd{8\\x00@\\xd2\\x00\\xb4$bhx\\xa6\\xf4LZ\\x00\\xf9\\x01\\xcd\\x80\\xfa\\x14\\xaaf\\xb3\\xd9\\x94Z\\xa6~_\\x7f\\xf9g\\xf5\\x92|E\\xb7J\\xba\\xe8\\x16if\\xfa57:\\x80\\xc0TWU\\xb2\\xac\\xf0\\x81@9\\xe9\\x1b$+\\x8aO%L\\x7f\\x06\\x1dK\\xa0\\xc6\\xcf\\x9d\\x10\\xf98\\xfe\\xc3\\x918f4\\xcd\\xa8KI\\x1b\\x12`$\\x7f\\x1c\\x91p\\x9c\\x98R\\xd1\\x88\\xf1\\xc0\\xd2\\x03I\\xaa\\x12\\x05,\\xa1\\n\\xa2\\x8dj\\x1f\\xdb\\xe7\\xe2\\xce|dG\\xd3\\x87\\x8a>\\xdcq\\x81\\x860\\xd9\\x85;\\xac\\xe2/S\\x16r\\xed\\'\\xe9m\\xdd(\\x13{\\xa4j\\xc6\\x93\\x96D\\xf2\\x16i\"\\x10@\\xf7H\\xa2\\xa2\\x9e\\x18\\xca\\xf9\\xaf+\\xdc\\x8a\\n\\xa8\"\\x91\\xdc\\xa0\\xa9Z\\xf9\\x1fI\\xb8)\\x91&\\xed\\x17\\xb1\\xcd\\x13\\xf6\\xdeC*\\xd3\\xc8\\x01\\xf71\\xd4L\\xa9\\x056\\x10\\xb1>\\xf3\\xef\\x89\\x93\\xad\\xb9b\\xa2\\xdf5\\xaaPu\\xf9\\xd5r\\xf9`\\xc8\\xb2\\x13\\xcac\\x07[\\x06;\\x9e\\xf0\\x86P\\x9eJQ\\xa8\\x0cd\\xc8\\xa9\\xd3\\xdb[\\x1f\\x08\\xa7\\xc0\\xaa\\xb9\\x1e\\x17\\x95\\xaa\\xfb\\xe1\\xbf<2\\xe9J\\xc5\\xdc\\xf2\\xcb\\x7f\\xba%q\\xb8d\\x90\\xe3\\xad\\x17\\xee=\\xf17j\\xf3\\x1f\\xcd\\xca&\\xe9\\x1d\\xd9\\x04x\\x1eO\\x94BJ\\x80p\\x1d\\xc5\\xf1\\xa7\\xc4\\x1d\\x82,\\xecy\\xf0P\\x1c\\xa3\\x98\\x1c\\x99\\xc3/\\x91\\x97\\x0f\\x93X\\xab\\x8fD\\x8d\\xb2P\\xd8(5\\xe2\\x88}\\x81\\x1dQ\\xf6h\\x9e\\xd0\\x04\\t\\x8f\\x80\\xda\\x84i\\xad\\xe8\\x16\\xfbm\\x0b\\x81\\x8a\\r\\xc3\\xf3\\xd9BJ\\xc1\\x81\\x0e\\xb9\\x84\\xa1\\xadtp*\\xd6\\x9f\\xcaD\\x12a\\xa4A\\xear\\xb5\\x10\\x90`\\x8aH\\x1c\\x10\\x08fg\\x18\\xa9\\xb4\\xbf\\xb7.)5\\xfa\\x1f\\xa6\\xf0\\x80\\xf3\\xdaQ\\x897\\xc4)\\xb0\\xbfQi\\xa1\\xb8+!Uv\\x9a\\xa0\\xbd@\\xaa\\xe3wM\\xf1\\x92O\\xee\\xd2e\\xd5\\x96\\r\\xbaU\\xf5\\xab\\xcclVS\\xac\\x16\\xbcR0\\xbd\\xd5\\x84\\x03O\\xb9zojo\\xa7\\xb5\\x83\\x995b\\x87\\x86\\x11Y\\xb0Z\\xa0\\x16&\\xaf\\xf1\\x15s\\xef\\xe5\\x82\\xd0i\\x04d%E\\x0b\\x94,\\x9b\\xc3B\\'\\xf3\\xd7A\\xcd4v(\\xcd\\x16\\xbc\\x1e\\xcaGAe\\xc0\\xe8yZ\\x15\\x96\\x83\\x8a\\xfb\\x8c[\\x82\\xecfm\\r\\xa7\\xf3Q>A\\x85\\xbc2\\xec\\xf1(OY\\xbe\\x12\\r\\xd7\\x00tB\\xb3\\x9a\\ry/\\xc8\\xe7F_\\xb0\\xfbTA\\xa6\\xae\\x8dr\\x7f\\xa6\\xf3\\x83]\\x95\\x9c\\xc4\\xf5D~\\x87\\xdf\\xb3d\\xee-9\\'\\xd7\\xafb\\x83\\x12\\xbe\\\\\\x97U\\xfb\\xe4(oM\\x01\\x81\\x1c/\\x95K\\x86\\x9bE\\x1f\\xa5\\x06k\\tc\\xe8A\\x85\\xbbv\\xcdwM\\xe0Q\\x82\\x90\\xb6\\xa1\\xe5Y*TV\\xaex\\xc3\\xb2\\xa2$\\xbcppf\\x80\\xaa\\x1a1@U(R\\n\\xbd\\x91\\xac\\xb6} n\\x8f\\xc7\\xa3\\xf1\\xde\\xeeC\\xc88\\xd4\\xf4\\xc6\\xf5\\xee\\xee\\x8e\\xd3\\xdey(\\x06(l\\x8d}\\x08}\\xbb\\xdd\\xde\\x19\\xed\\xd9\\x0f\\x05\\x95\\x02\\xb1\\xec\\x19\\xf8\\xee\\x81@:\\x01\\x94j\\xbc\\xba\\xdc\\xaa~]\\x7f>\\x1e\\x8fIu\\x1d!!xr :\\xed\\xe0\\xea!\\xac\\xca\\x10!\\x04\\x07\\xa2y\\xdf\\x99\\xe3\\xa1\\x8f\\xe8IL\\xf6\\x01e\\xbe`H\\x17\\xceCP9\\x0e)9\\x10\\x0f\\xee\\xff[i\\'\\x1b\\x82\\xaeF\\x84\\xc2@n\\x12\\x01\\x08\\xf4\\xca\\x84\\x98\\x93\\x04\\xc5)\\xfc\\xf4\\x89k\\xf5K\\x8f12\\x94\\x15*\\xc8td:\\xe6\\'\\xa6\\xa4\\xe4\\xf22\\x16\\x94\\x9cL\\xed\\xab\\x820+{J}\\xbe?\"\\xba]\\x9a\\x12\\xfa@\\x1b\\xc5\\x1f\\xd2xrT~\\xe1\\x95\\x15\\x88T\\xdca\\xc3\\x81\\xf3\\xfe\\xf9\\xe4!D\\x06\\x12\\xa3E\\xae\\r3\\x13*\\x0f \\xf9\\xa3\\xfc\\xb9\\xe4\\xe6V\\xe5\\xd7-\\xec^\\x9c\\x0b}\\xc1\\xb5\\'\\xd2+\\xb4\\x82\\xd5\\xca\\xf0(E\\x96\\xf6.\\xfe+A\\x96\\xdd\\x91\\r[\\xa5\\x141\\xf8\\x91f.:\\x02O\\xe2i\\x13f\\x05\\x1d\\xb2 \\x93z\\xa3^k\\xbf\\xdd~\\xb0\\xdf~\\xa0\\xf3\\xc6U\\xa8\\x03d\\x98Bl\\x8b\\x86\\x8f\\x1aa\\xb2\\xcc\\xedQ\\xe3\\x13\\xce\\xc3\\xa1\\xd2\\x13|R\\x92\\x07E\\xde\\xe1\"V\\xef\\xa8\\x04\\x05\\xa9\\x9f<[\\xb2\\xaf\\xef\\xb4\\x93\\\\/O9\\x17\\x03\\xc1\\x9a$G\\xf5\"*6\\\\\\xcc\\xd7x\\xf6\\xe8\\x8c\\x1d\\x04\\xbb\\t\\nxSy\\x84\\xeaV\\xc9\\xae\\x84f\\x19\\x87\\xd3\\xae\\xc61\\xf9\\xb9:|h\\xbd\\xfcl\\xa3\\xab4\\xe9\\x17\\xf9\\x8aY\\xae\\xe2\\xb4+]\\xbd$V\\xc9\\x83\\x04a\\xb2\\x05Q\\x80h\\x01B\\x19S\\xf2\\xc0z\\x81X\\xcf\\xeag\\xc2\\x95\\x04\\xf7,\\'3\\xe0\\xd8\\xa0x\\x0b6\\xa9)\\xd1\\x19\\x07axf\\xbaN {*\\xe6\\xba\\x16\\x13+\\xfb\\x9cG\\x99\\t\\xf44wC\\xda\\x14\\xb9\\xe4\\r\\xa3\\xd6i\\x8e\\xf3W\\xc8az\\xa7rUt\\x8a\\xd8?{It?\\xe9z\\xe8\\x94D\\xe8i]\\x9cw\\x97\\xca~U\\xff\\x9fTj\\x9eL\\xd4\\xd3\\x8d\\xb9^\\x8a\\xf4K\\xa0\\xf8\\xac\\x8b\\xca6\\xf0+\\x91a\\xa9[\\xe5\\x0b\\xa2T\\x8e>\\x87\\x0f\\x03h\\x8dYB\\xab/!\\xef\\xa3\\xf8\\xc0p\\x9agIq*\\xb7P\\x93U\\xaf\\xd3kC\\xc2+\\x1e\\xd3kvz\\xcd\\xf6\\x92\\x90\\xbf\\x81\\t7\\x12\\xa8\\xfe\\xf9\\xb3n\\xe6\\x85\\xe9\\xfcw\\x99x\\xa2i\\x00W\\xc6\\xc1\\n4\\x91r\\x06\\x80\\xda\\xec\\x19\\x85C\\x07.\\x00\\xd4\\xcd\\x0cI\\xf9\\x9d\\xa12\\xb0\\xc4R\\xed)\\xc1\\xba`\\x998\\xfd\\x07f\"\\xf9\\x8e\\xb25\\xf2=\\x92\\n\\xac\\x86\\xf2\\xd6JJ\\x05\\x9a\\xe1\\x15\\x1c0\\x8d~\\xe1\\xc6\\xcd\\xcf?\\x97vT,\\x89\\xcb\\x19\\x95\\xef\\x822\\xd1\\\\\\x8b\\tQG)\\xb6\\xcb\\x82\\x90z\\xca_\"\\xed\\x85\\xb7\\x8e0\\xd9\\xac\\xc3\\xe2\\xb7\\x12\\\\\\n\\xfbX\\xf8\\xc3}\\xa5\\xd5\\x01\\xe9\\xb5Vl*\\x0e\\x17\\xf458\\xd5\\x14\\x95\\xc7\\xa9\\x95\\x1f\\xc4\\x1b\\x18\\x01\\xbat\\x12}L\\xbb\\xa5\\xf8\\x9e\\xacE>\\x1e\\xc3\\n\\x13O\\x00$(4XP0{U\\xd3\\x19\\xaa6I\\x04.^F-\\xa2\\x88\\xe0\\xf2j\\xb5\\xb8\\xe2\\xa5Y\\xdc\\xb3_\\xb8\\xf1E\\xeb\\xa4E\\x8dISEfE\\xce\\'\\xb5\\\\\\x11T\\xcd\\xb5\\xc4\\x0e\\x1db\\x95\\xcc\\xf5\"St\\xd5j:+\\xd5;\\x8b\\xc0\\xa0\\xa4S2\\x80\\xeb\\x8b\\x0e\\x1b)\\x02\\xad\\xaf+\\x1f\\\\\\x1f\\xa3(\\x98-\\xc5(\\xc9\\xd8T8\\x16\\xb1\\xd0*\\x80\\xb8\\xdf@K\\xd3\\t\\x05\\x1e\\xcc\\xe9`>\\xae\\x1bc\\xd6\\x97\\xa6\\x00\\x0f\\x9a\\xac\\xb2\"\\xae\\xbcQH\\x91W\\xd2\\x8bS\\xbb\\xdc\\xeb\\xcdD\\xa1\\xc4o=\\xfc\\xd4d\\xed\\x00\\xd7z\\x81\\xf7\\xe6\\x0fc\\xec\\xf1\\xd1~\\x10\\xach:\\x88\\x91t!\\xab\\xd3\\xb6\\xba;\\xef:;\\x07\\xed6\\xfe\\xdf\\xc4\\x96u\\xbb\\xdd\\xfb\\x9e/0If@\\x02\\xf2\\xc7P\\xb3ZM\\x1f\\x7f\\xab\\x14\\'n\\x82\\x0e\\xe0\\x99;\\x18\\xcb\\xd2\\xc4\\x96\\xc6\\xfa\\xd1\\xf7\\xadN\\x9b\\xb2n`\\x8c\\x0c\\r\\xf7rIi \\x99\\xc7\\xdcG\\xfe\\x8dzW\\xbb\\'\\xca\\x02\\x19\\x9f\\x91\\xe3\\xe9\\x12\\xa5\\x9d\\xa4\\xa7\\x96\\x18\\xcdO]\\xd6\\xfb\\xbe\\x13\\xff\\xef\\xff\\xfc\\xf7\\xff\\x96\\x0bX\\x15\\x02b\\xa2\\xd2\\xcai\\xaf\\x9d\\xd5\\xce\\xfdw\\xdd\\xdeA\\xaf\\x93\\xcejg\\xe3Y\\xed`/\\xa8zV)v\\x14*\\x02\\x1d\\xcd\\x91\\x8fb\\xd4s\\x1b\\xf0\\x9e\\xbc\\xd5\\xeb\\xec\\xb4a\\xb0\\x05S\\xdb\\xeaXn\\x845\\xbc\\xb4R9\\xa5\\xa66\\x93\\xfc8\\xdb\\x10\\xa2\\x0e/#<\\x01\\x1c\\x12/gB\\xedkM]{\\x9f\\x10rg\\xe7\\xa0\\xb3+\\x11r\\xf3\\xa9kco\\xacj\\xeaP}\\x06V\\x06\\x8e(\\r\\x94\\xfeSS\\x95\\xca:Kf\\x0b62Po\\\\G\\xc8Z\\x1dDd\\xf4\\xba\\x1d\\x9cwE\\xa1\\xaa?\\xf5\\xc4\\x0b\\xec\\x01\\xc1$\\x9e\\xc60+\\xb9\\x122)\\xd4\\xd0\\t\\x8c\\xd0lx\\xd5\\x88\\xf4\\xa4\\xce@<\\x88\\xed\\x8f\\xf2\\xc8\\x81\"C\\xbb\\x1e&\\xd2t\\xf6h:5}\\xdf\\xect\\xd6\\xd2\\xf7\\x19\\x0cY\\xbdqTn\\xbc)\\x0cL-\\xdeZC\\xf7\\x00\\xa1O\\xa4g\\xb1?03M\\xbe\\xdeT\\xee\\xbd\\xeb\\xec\\x1ft\\x89\\xa87\\xa6\\xe66\\xb6L\\xabPR\\x92\\xeaz\\xd4\\xdck\\xa3\\x0e,\\x0e5F\\xaa\"\\x17\\x08\\x19-\\xd10\\xb4w\\x1c_B\\xef\\xdc\\xd5UD\\xa0\\xf7\\xdc\\x08\\xb2\\xd5W\\xbd*z\\xfcR\\xad\\x81]p\\xa5X\\\\\\xa5\\t\\xb1\\xec6\\xa2\\x98\\xf2\\x9a\\r\\x07\\xab\\xae\\xa9\\xcb\\x96v[l\\xfe_\\xac\\xdf\\xd0\\xe1\\xbbdo\\xa4:\\xce\\xfb\\x00\\xfa+\\xa9\\xba:\\xd4\\xf7\\xdaz\\x8e\\x0e\\xac\\xd5]\\x19\\x99\\x17\\xac\\xe2\\xc8\\x8e\\xfe\\xc8JN\\xe5BkvZ+\\xaf{\\x9dw\\xac\\xf5|\\ti\\xf7:\\xcb\\xa4]\\x1eP\\xdd\\xd9\\xeb\\xed\\xb0\\xa5\\r\\x17\\xb5x\\xf63\\xeb%7D\\x9ak)\\x82\\x7f\\x889\\xda\\xef\\xf6\\xd29\\xfaOw>\\xb0\\x07\\x97\\x85 \\xf3\\xa2\\x80\\xdcHm[9\\x07+_\\xa8A\\xa4\\x8e\\xd5\\xe9\\x91\\x8c\\xe8}\\x01\"\\xd1\\xb7+\\x11\\xc9\\x88\\x88\\xef\\xec\\xef\\xca\\x89\\xe24\\xa2\\x132~\\xe1\\x8fx\\x85\\xcd\\x8f\\xe9l\\x01\\r\\x18\\xf1=\\x85\\xaaa\\xbf\\xeby\\xdb\\xf9R\\x02\\xc4\\xbc\\x95\\xd8\\x1f\\x15\\x04\\xb8\\x7f\\xbf\\x9b\"\\xd7\\xe9%Nk\\xf6\\xfePD\\x88\\xb1\\xee^c\\x9evW\\xe2\\x17\\x8b\\xd6\\xa8\\xd5\\xd9\\xdbC\\x01\\x04\\xc5\\xa8^\\x90\\xeb\\xeb\\xaf\\xf4\\xe3k\\xf2\\xabut\\x8d\\xcd\\x94\\x8a*e\\xe3\\x0b\\x1c\\xfcy}\\xa4\\x90\\xa4\\xb9\\x86\\xd3\\xa5\\xe4\\xc4\\x92TL\\x99\\xc1\\xdbk\\xf8]\\x98\\xf1\\xd7\\xf2\\xac\\xeb\\xb9\\xf3\\n\\x83Ku\\x94\\xd3bj\\xf9\\xf5u\\x94b\\xb2k\\x9a8\\xc3*J\\xa1\\xc3\\x82\\xaeR;\\x03\\xb5\\x0fs[\\x04F\\xda>\\xce:\\xa4\\xf2\\xe62\\xfd#w\\xffA\\xaf[\\xb5\\x0b\\x94\\xae\"\\x1cJ\\xc3s\\xaeX\\xb9\\xda\\xc3\\x93\\xed\\x91\\x14g\\xc0\\x1e\\x84\\xd8D\"\\xff\\xc8\\x10\\x0ee\\xec\\xf5r\\xc6\\t9\\xfbe\\xc8\\xa2e\\xc6\\xe6e>\\xfc\\xc0\\xbf\\xa4}\\x83\\xb9}F\\xdb\\x03\\x88\\xa0\\x1aRP\\xd3X<\\xe2\\xe6\\x9c\\xff\\xfb\\xbf\\xfe\\'\\x12\\xaf^\\xc2\\xbb\\x8d\\x08\\x80\\x05\\x028\\xb0\\xa3\\xc3\\xa5cI\\xe5\\xe4\\x88ar\\xcc\\xc8P\\xc9{\\x02F\\x84<\\x0e\\x82\\xfd\\xdd\\xd2\\xecJ\\xab\\xb8\\xc9\\xb0\\x10\\xb45\\xc7\\xbe\\xc5\\x0c\\x16o0\\xf3\\x17\\xf4T\\xed\\'\\xe9 _\\xd2r\\xeaW\\x81\\\\p\\xe9\\x8c\\xd5\\xbf\\x8a3\\x1c\\xb0\\x0f2\\x84\\xabGm)\\x1f5Pe\\x83\\xae\\xe1\\xb1\"o\\x12_\\xcb\\xfd^\\xfe\\x937\\x92q\\x14B\\xbb\\xfdoi4\\x01\\xaf\\x8dE\\x19\\xc75N\\xcdt9q\\xfe\\xc5hQ?\\x82\\xec]D3\\xd4\\x89Z\\xf3\\xd9\\xda/\\x1e\\xc6#\\xa4\\xccd\\x8e\\xcb\\xd6uQE\\xe2\\x02\\xad\\xb8F-\\x8a\\xcb\\xcbP\\x0b\\xbby\\xf4P\\x1a\\xe4\\xb4||z\\xdf`!^\\xbb\\xf3h\\xea\\x8a_\\x1c\\xef\\x1c1)\\x84\\x13\\xa7\\xf8\\xe18\\x01\\xc9\\x08{\\xce\\x07\\xfb\\xc9\\xf0N\\x80\\xbc\\xd6\\xf8 \\x95\\xd6\\x982\\xbc\\xb5z\\x11\\xf0\\x12!G}\\xbfJ\\x10\\xd4\\xadQ5G\\xfdjV\\xaeq\\x1a\\xed\\xda\\x1b7_ ;\\xae\\'\\x1d\\xa4\\xeb\"3\\\\\\xd3\\x1d`\\xda\\x9d\\xb9C\\x89jn\\x80\\xf3~\\xd4\\x06\\xd0\\ng\\xbc*\\x7fKu\\x85\\xf3\\xac\\xdf\\xac,\\x9c\\xe7\\xfb\\x7f\\xba\\x85\\xfd\\xb5\\xa2K\\xfdO\\x8cu\\xa4\\xa6\\x1f\\x0ep`\\xfc\\x00\\xa9Ni\\x8d\\x84\\xc3\\xd6\\xa0\\x8f(\\xdc\\x94XM\\x1fwlc\\xc3D\\x9f%\\x9a\\xc5I\\xe0\\xb6\\x19\\xaf \\xcfVm\\x8e\\xce\\x10J\\xeac\\xcb\\x9c\\x0euW\\x87R>\\xe5{D,\\x08\\xf6\\xceN\\xc5(\\xfd>X`K1\\xd2\\xdfs\\xe27\\xf4\\xad\\xd0\\x9e\\xbb\\xec\\xad\\xa9o`\\xe0\\xc7\\xf1\\xcc\\xc1a\\x98t\\xe4p\\xff1_\\xad\\xfe\\n\\xf1\\xda\\x9e\\x8dm`\\x1c\\x80\\xc9\\xdf\\xbd\\x93\\xd7\\xe9\\x87Y\\x81u\\x8cq\\x8cM\\xc2\\xf3f\\xe0\\x0f}_\\x9d0\\xa7b_h:\\xfa\\xcf\\xe8\\xe9\\xea\\x1e\\xe9\\xb4at\\xd7M\\x8f\\xed\\x94\\x17\\xd2\\xe6U\\xd1\\x90X\\xa6\\xdc\\x82=\\x7f\\x7fr\\xf3\\x0bV\\x96\\xbf\\xfb\\xee\\x9c\\xb3\\x02\\x1a\\xfdX\\xfe\\xb1b8i\\x1e\\xf0\\xc4C\\xa80\\xcf\\xc9[\\xb9\\xfaQ\\xeb\\xed\\xe2\\xf9\\x9b\\x01!\\x02\\xad\\xa1\\xfasEs\\n\\x8dB\\xaa\\x11\\x87\\x84\\xdbsJ\\xd9I(o\\x18\\xb8\\xd4L\\xce[z\\'\\x04\\xee\\xe9\\xcfq\\x8b\\xc3\\x07\\xa9\\xf1\\x9f\\x10\\xecZ\\x8b\\x1d)\\x98\\x9f\\xe3&Js\\xbe]\\x9cRqL|I\\xbf\\xd7\\xf8\\xf6\\xdc\\xbd`\\xb4\\x02:\\xfe\\x15\\x7f\\xae\\xf8B\\x8d\\xe2\\xf2J2\\x02\\xf5\\xe1\\xe5U&6j\\x10\\x99\\xcb\\xd7\"\\xae0X`\\x17\\xbdI\\x81\\x87\\xd8\\x92\\xe5\\x8dp\\x00\\xeex8\\xd7\\x8ab\\x18\\x00\\xc8S\\xbc\\x84yMT\\xf9\\xad\\n\\xc4\\xc9j\\xb0\\xb0TzM\\xb9a\\x94|\\xb3&\\xc1\\x83\\x91\\xac Y\\x94~\\xd1$\\x87\\xbe\\xde\\xae17\\x88\\xf7E\\xdc:6\\x16I\\xabR\\x93\\xf3\\x96\\xef\\x95\\x13\\x1d\\xda\\'k\\x9e\\xc9S3K\\xa6\\xb7\\x93lB\\xd30\\xe2\"\\xe1\\x94\\x97|Ys\\xf4uc\\xa7D\\xaf\\x11XN\\x13\\xe5(\\xb0\\x1a\\x8f\\xd5\\xe5j\\xd4\\xa0\\xc3\\xb5\\x9b\\x0e4\\xceK\\xc4\\xa8\\xa8\\xe1\\xbf\\xc3\\xbd\\xd5_r\\x90b\\x124eT\\x0cd\\xc9\\xc4Q\\xbd\\xff,\\x9fP\\x13\\xd53\\xc1q\\xae\\xe2\\xd1\\x08NT\\xec\\xa3#\\xf6\\x15\\xb11k#B\\xddT\\x10C\\xc3q}\\x94\\x18K<\\x1f\\x05p\\xe5\\xc5\\x8a\\x11\\x11\\xa6G(\\x91\\xac\\xd9\\xbd\\x0bZ>\\xc5\\xf5\\x1a\\x9fQ\\x8f\\x14\\xc8\\x86\\x98\\x94\\xe1\\xb9\\xe4\\xdbop\\x89\\xb0\\xa9\\xe1*\\x06L\\xbd^\\x01\\x9b\\xa2i\\xa3\\x8f\\xdf\\xd1ty\\xd2\\xd6\\xb1\\xb2\\xd3\\xb3!\\xd0\\x90\\x8a\\x03X\\n\\xaaM\\xe5iE,V\\x95\\xed]\\xd4\\xc1Lc\\x0cul2S\\xbaT\\x91\\xcc\\xbd-\\xf7;\\xa9x \\xa9#\\xd0\\x84\\xca\\x95\\xc0\\xf2\\x86\\xaa\"^\\x94d2\\xb5\\x04\\xac!\\x95\\x05\\xe0l~\\xfdOa\\xa2\\x11m\\xc5\\xe7\\xd1\\xea\\x98\\xaa\\x92\\x9djZ\\nJ\\x01\\xd0\\xa11\\x94\\xb13we\\x82\\x19,5\\x8aMQ{a%\\x1f\\xd3\\xde\\xac\\x8c\\xd7\\x9b\\xc3\\x88\\xe1l\\xa0\\x18\\xc2G\\x1ac\\xf6\\xe8B\\xc6\\x80fM\\x94\\x85\\x94\\xcb\\x97\\xd1J\\x84\\xdc^\\xd4\\xb2d\\x9e9\\x86\\xf94s)#\\x87!\\xa0\\xf3\\xb1(\\xdds\\xccgl\\x93m\\xa0c\\xd3 7q\\x10%\\xa8\\x8a\\xd3yT\\xac\\r\\xbd\\xa8\\x80\\xd6=\\xe2\\x93\\xda\\xe0r9M2\\xb8\\x9c\\xb6EiZ\\xf8Ts\\n\\x9bJ\\x03\\xbf\\x91\\x8azN\\'BF\\x10djERV\\xad\\xcf\\xfcS\\xb5\\x16\\xc8A\\x1a\\xb5\\xe4\\x89\\x9b0SPC\\xa5\\xff\\xd8\\x01\\x84\\x14\\x1c+\\xa3\\x02\\xe4\\xcc\\xb3\\x86X\\xd5\\x08A\\xc5\\x07oRH\\x1d\\xc9\\x1f>u\\x93\\xa6\\x9c\\xd7E\\x1e\\x1e\\xcc\\t\\x1c\\xcb8\\xa61\\xbd\\xc4\\xc5\\x03,\\x91\\x11\\xe5%\\xbbaKh\\xb9l\\x81\\x94\\xbc\\x92\\xbbU\\xb4L(T\\x1d\\xd1\\xe9\\x08\\xf3\\xa4\\xfd\\xb7<\\x85\\xa64\\xad\\x8f\\xf2\\x16\\x1c\\xa0\\xcf\\xfbjR\\x03\\xceo\\xda\\xf1\\xfb\\xcf|\\xa0\\x19\\xc5\\x85\\x8e\\x90-\\xc5\\x15A\\xc9\\x0f&\\x13\\xe5r}d\\x9d\\x8d\\xe5\\'\\\\BC\\x9d$\\x9a\\n6>\\x07F\\xbe\\xa0\\xa3\\xe9\\x15\\x0ct\\nE\\xc1*\\xcf\\xed\\x06f\\x1f\\xf2\\x91P\\x08\\xceY\\x9a\\x1b\\xf3\\xfdt\"\\xaa\\xbc6K_+\\xec \\xb0)\\x88\\xd9B\\xbd\\x12:\\xbb\\x1de5\\x95\\x12\\xbc|\\x82\\xb0\\x94\\xdc\\xe9\\xb9\\xe4\\xeb\\x05\\xec\\xcac\\xc4W\\x1d\\x12\\xfc\\x18 \\x10\\xf2\\xbd\\xf3\\xd9\\xa1\\xbf\\x8c\\x19\\x04n\\xfeD\\x18r]\\xd9\\x01\\x12\\x9e\\xd2\\xb3\\xe3\\xa9@J\\xfe\\x00[\\xe3\\x8c%\\xe9\\xe52\\xe7\\x89\\x9b\\xe4iX:\\xf2,=\\xe9\\xc6\\x98\\xf6\\xcc\\x85\\xa5\\x8f\\xb4\\xf9\\xe2\\x13l\\xe4Zf(TydLm\\x91\\xd3oG\\xd4L\\xbe\\x1dQ\\xb3\\\\\"I\\xa2t\\xe5\\xc9\\xf3\\xeaP?\\x8d\\xe1\\xe4\\xe6M\\xf9fZ}$\\x0b\\xa4\\xe6\\xe3\\xdc/=\\xe4\\xcf\\xcbR\\xb9\\xe9\\xcb9\\x86RyV\\xd3\\xcd`\\xba\\tNv.\\xc3\\xb7#d\\xd4\\xc2\\x15\\xf9Wv\\xe4T]\\x95@\\xe3\\xa4\\x9coG\\xc8\\xa4X\\xf5\\xc7?B\\xa6\\x88\\r\\x9d\\xf4`[\\xf38\\xe8L\\x9aq\\xf2#Q\\xf9\\xf5N\\x7f\\xb9)J\\xffv\\xbcK\\x83\\xf4yy\\xee\\xcb\\xf5\\x0eU\\xa9\\xa3\\xfe4K\\xe3\\xdb\\xf1.\\xcb\\xc7\\xee|;\\xde\\x85\\x0e\\x1f\\x92v\\xee\\x1f\\xfcx\\x97jn\\x88\\x83\\xe2K4\\x9f\\xd4\\xd2\\'\\x9e\\xf8\\xc4\\xac@\\xfb/\\xd1|2p\\xa4s\\xe2\\xdb\\xf1+\\xa9\\xd5Vf\\xb9\\xad\\xa9\\xf9d\\xb3\\n\\xb7\\xeb\\xb7\\xe3W\\\\l\\xad\\x1dA\\xea(\\xc7\\x16\"7\\xbf\\x1d\\xbf\\xa2*\\xa8\\xaea\\xa3\\x7f;~\\xc5\\xe1(\"#p#\\xa3\\xafo\\xc7\\xafH\\xd2\\xe2\\xac\\x8ek\\x1c\\xbfR-\\xc6\\x90\\xa3S\"\\xc6\\x8a\\xa13i\\xb0\\xc1R\\xac\\xdbR\\x90\\xdb\\xc6\\x87\\x0e\\xdc\\x8c\\xe6_\\x84\\xf8\\xdb\\x01)|<\\xcc\\xb7\\x03Rp\\x8eQ\\x8a\\x0b\\xdf\\x0eH1g#\\xcd$\\xfd\\xa7\\x1e\\x90R\\xcdzvKYO\\xe1x\\x90\\xecL\\x87\\xaaSO\\xf8\\xd8\\x07\\xf6\\xfakG\\xe4\\xd7\\xf4-\\x16\\xc0U:\\xd0\\xb7\\xd3LBg|\\xd4\\xf8v\\x9aI!\\x91\\x1e\\xe1\\x06\\xa8\\xa7\\xf0\\x95O3\\xa9\\xa6\\xc0\\xbdR\\nT\\x19\\x0e0`ur\\xdd\\xbf\\x88\\xb6\\x14 j\\xdf0\\x05+u\\xb6*b\\xcb\\xa0\\xfcv\\xe0\\xc8\\xb7\\x03G\\x10\\x1c&\\x11\\xe2k\\x1d8RM^\\xfb\\xa5\\xe4\\x05i+\\x9dC\\x08Xt\\x11\\x9b\\x81\\x80\\xc6\\x7f\\x95\\xf4\\xfa\\xba^\\xdc\\xbaS\\x065$\\x13\\xd4MM\\x06\\x1c,,\\xc9\\xbe5T\\xbf\\x11\\xf9\\x938\\xe6I\\x9c\\'tCP\\xb0\\xdc\\xb9\\x83\\xda\\xb6f\\xfa\\xf6\\x1afw\\xddY?\\x1a\\x18*\\x84\\x90;S\\x1d\\xd7\\xa8\\xf4\\x8e\\xbd\\xd1\\x08\\xab6\\xf6\\x8d\\xaak\\xc6\\t6\\x8a]a\\x99U}\\xe4\\r!\\xabs\\xbb#\\x18\\xf4\\x025\\xf5C*\\xd4\\x82#bB\\x19\\xbfc\\x9eN\\x8a4\\xa0W\\xe9\\xa3\\x8dg\\xa5\\xee\\xa4\\x1f\\xee\\x1b\\xe19\\t\\xaa\\xb6\\xe7\\x0eq\\x96\\'\\xfd\"z\\xe8T=\\x14\\xbc4\\x85\\xceW\\x1c\\x12\\xaa\\x1e\\xe7T7cc\\xb9\\x18g\\x02\\\\\\xfa=\\xc4\\x99h\\x08\\xcd\\xdf\\xcb\\xc1\\'\\xeb\\x85\\x1d\\xb1C\\x92\\xa3\\xf2\\xe4\\xa1BHx\\x17M#\\x02H\\x06\\xf2,W\\n\\xc8egQ\\x04\\xd1\\x00E\\x0f\\x0c\\xce\\x93\\xce\\xa2\\x91\\xfaP\\x8cc)\\x8e\\xa3|\\x19\\xb2,\\x02\\x19\\x93\\xa4 Z;\\x84&\\xd3\\xd0\\x8b\\xfdU\\xf3\\xd0\\x8e\\xe9\\x18\\x92!+\\xc8\\x99\\xa0\\xa05\\x94E\\x0eTy\\xdf\\xea:<\\xcf\\xa9\\xbe\\xa1\\xad\\xcf\\x02\\xe2\\xc2\\xa78#(\\x8f\\x9aE`x!*cz\\x10\\xf1\\x90m~\\x96\\xfa\\xd7\\xfbO9\\x10\\x10T\\x92\\xaf\\x9c\\x99+\\x10t\\x82\\xd2[.W\\xf1\\x84\\xed\\xa2\\xc2\\xb5WU\\xa0\\xa8\\x06\\n[\\xb3)P\\xd5\\xacTr\\xa6\\x91\\x0f\\xc61i)~\\x8a\\x03p\\xe98.\\x81$\\x10\\n?\\x13\\x8f\\x13\\x96F\\xf5uW\\xaa\\x011wEJ\\xe7\\xb5XV\\x8a\\x8a\\x9b\\'f\\x011\\xac,\"wq/?y\\x8a\\xab\\xca\\xd7q\\xa4\\xc6\\x88\\xca\\xba\\xfa!\\x0e\\xf7\\x1c\\xdb\\xc9L\\x9dAU\\xf1R\\x9a|\\x93\\x93\\xb3E\\xf0\\xaa\\x87\\\\r\\x0cT9Q\\x05\\x8b\\x90\\x8a\\xdc\\x94\\x10_\\xfa>\\x12\\xd4\\xb8\\xf6e5-0\\xfa\\xe5\\xc3iA\\xceO|\\xd5\\xb8\\xb83\\xc4\\x9f\\x0f\\xbb\\xedv\\x87\\xeb\\xee\\xe8\\xa2\\xd9\\xa5$\\xab\\xbbU\\x85M\\x97Z\\xcd0\\x99B\\x89)=\\x1e\\xda\\xc8\\xca\\xa8\\\\]\\x10\\xb48\\x83\\xe6\\xf5\\xea\\x1e%1\\xcf\\x9c\\t\\x8e$\\xa2\\xea\\xc9\\xf8M\\xf1X\\xaa\\xd4\\xbdDB&\\x8c\\xeb\\x8dL\\x93C\\xe0#F\\x16\\x07c\\x99\\x02]\\xe2\\x8bJTq/\\xec\\xe1\\xc2z\\x8d\\x92\\xc1C\\x87\\xa6\\x00y\\'\\xb8!\\xe4\\x8du\\xc1\\xa1(\\xd0\\xd5C\\xcf\\x1f\\xb7\\rU\"D\\xb9AU\\x07\\x1c=Sn*\\xbc\\xbd\\xc8$\\xa4\\xf2I\\xe9.\"\\x8e\\xe80_4@2\\xa3W\\x8b\\x8b\\x82\\xc5b|+\\r\\xc5e\\\\\\xab\\rH\\xcfB\\xdb\\xcb\\x83e\\xb3\\x16\\x8c x-\\x85\\n\\x11\\xb2-)6\\x0cG\\r/mA<\\xde\\x8e\\xfdd8\\x85PY\\x8e\\xb3\\x95\\xafG\\xc3\\xd0\\rb\\x11\\x85\\xc3\\xa3F\\xabe\\x9f\\xd9W\\xcd\\x89\\xefOP\\xec\\'p#V\\x1d\\xe9\\x1e\\xb4\\xb4A\\xd4:\\xfb\\x9c\\xa0(_\\xab\\xd3\\xdcov\\xd5E\\x13)\\x0f\\xcd3Y.\\x8f[\\x92\\xf0\\x1c\\xcaf\\xfb\\xa8\\n\\x8cx\\xb1\\xe6\\xd9O\\xf4\\xa1\\xf8\\xfb\\xdf\\x11\\x11*#[\\x9a\\x97P|\\x9c\\xed-\\xf5\\xa2\\xea\\x9f\\x18\\x12\\x0e:>\\x8b\\xcc\\xfe,\\xee/\\xeb\\xe8\\xbfZ\\xaa\\xf1-:\\x0b`\\xb9\\xd3M\\xc6\\x92\\xb8\\x18M\\xa7\\xdb\\xec\\xa8\\xe1XH\\x0c\\xfa\\n#J\\\\\\x0c\\x8a\\xba]1\\xaa\\x92%*L\\xd1\\xdc\\x8e|/\\\\4\\x83\\xf3\\xc9\\xa8\\x1e\\xf2\\xf2)\\xa6#\\xcb \\x00(\\x1b\\x1b\\xd4\\x9c_\\xc8\\\\\\xeft\\xa8\\xd3Q\\x83\\xeaq\\xb7\\xceP\\xd0M\\xce;*}3\\xded@\\xb1\\x8aE38\\xbe\\xbf\\xb3\\xbf\\x87#\\xf4\\xc6{\\xa8\\x19\\x85v\\xa9T4\\xe2\\xf9\\xe3\\xa3F\\x12\\x8f-\\x18s\\xf9\\xb5\\x93z\\x1ea\\xfd\\xaf\\xeeX\\xcc ;O\\x8e\\xc5\\xde\\xc7\\x1c6\\xf1\\xc1Rk\\xc0\\x10\\xcc\\x12D\\xecD\\xad\\x93\\xe3}\\x06e\\xdf\\x1e\\xef:\\xdd\\xdd\\xe1\\x9e\\xdd\\x1b\\xac\\x03\\n\\x91\\x91\\x1c\\xfbw\\xbfBot\\xc7\\x1f\\xd3\\x82R\\x05\\x00\\xf7\\xaf\\x07 \\x8a\\x13\\x83\\x1f!\\r\\xcf\\x19\\x9d\\xc6\\x8b\\x19\\xec\\x10@;\\xda\\xe9\\x8c\\xf6\\x87\\xa3\\x07\\xfbcTP[c\\xe2j\\xa0\\x95\\x93\\xcaCAPhK\\xa63#\\x07\\x04k\\xde\\xbf\\xf5\\xff\\x01\\xf2\\x11^?\\\\\\xc7\\x00\\x00'\n"
          ]
        }
      ]
    }
  ]
}