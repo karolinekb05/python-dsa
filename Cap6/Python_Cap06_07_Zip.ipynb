{
  "nbformat": 4,
  "nbformat_minor": 0,
  "metadata": {
    "colab": {
      "provenance": [],
      "authorship_tag": "ABX9TyNHtUZtIPb+cwL5zYahhBvL"
    },
    "kernelspec": {
      "name": "python3",
      "display_name": "Python 3"
    },
    "language_info": {
      "name": "python"
    }
  },
  "cells": [
    {
      "cell_type": "markdown",
      "source": [
        "# Função Zip\n",
        "\n",
        "A função zip() em Python é uma função que **agrupa elementos de múltiplas estruturas de dados iteráveis** (como listas, tuplas ou outro objetos iteráveis) juntos em pares. A função zip() retorna um objeto zip, que pode ser convertido em outra estrutura de dados, como uma lista ou um dicionário, se necessário."
      ],
      "metadata": {
        "id": "UwWB4XxylKmJ"
      }
    },
    {
      "cell_type": "code",
      "execution_count": 1,
      "metadata": {
        "id": "zpRUNCcOlB8g"
      },
      "outputs": [],
      "source": [
        "# criando duas listas\n",
        "x = [1,2,3,5]\n",
        "y =[12,18,20,1]"
      ]
    },
    {
      "cell_type": "code",
      "source": [
        "# unindo duas listas\n",
        "# em Python 3, zip() retorna um iterator, assim como map() e filter()\n",
        "zip(x,y)"
      ],
      "metadata": {
        "colab": {
          "base_uri": "https://localhost:8080/"
        },
        "id": "SiegT2vmlnoC",
        "outputId": "91ebfd49-7abd-496f-fb1a-e9ec57e0b0e5"
      },
      "execution_count": 17,
      "outputs": [
        {
          "output_type": "execute_result",
          "data": {
            "text/plain": [
              "<zip at 0x7f3fe313bc00>"
            ]
          },
          "metadata": {},
          "execution_count": 17
        }
      ]
    },
    {
      "cell_type": "code",
      "source": [
        "# perceba que zip retorna tuplas. Neste caso, uma lista de tuplas\n",
        "list(zip(x,y))"
      ],
      "metadata": {
        "colab": {
          "base_uri": "https://localhost:8080/"
        },
        "id": "CFLS9-ZPp5hK",
        "outputId": "9cacd393-70cb-4570-9f9b-8f2324ece6f4"
      },
      "execution_count": 16,
      "outputs": [
        {
          "output_type": "execute_result",
          "data": {
            "text/plain": [
              "[(1, 12), (2, 18), (3, 20), (5, 1)]"
            ]
          },
          "metadata": {},
          "execution_count": 16
        }
      ]
    },
    {
      "cell_type": "code",
      "source": [
        "# ATENÇÃO quando as sequências tiverem quantidade diferente de elementos\n",
        "# por não conseguir formar combinações entre as listas, o zip descarta os itens sem combinação\n",
        "list(zip('ABCD', 'xy'))"
      ],
      "metadata": {
        "colab": {
          "base_uri": "https://localhost:8080/"
        },
        "id": "40rEVQRulnXN",
        "outputId": "d9bd2aa6-2ebb-4b7c-b4cd-7c6d85b107ce"
      },
      "execution_count": 15,
      "outputs": [
        {
          "output_type": "execute_result",
          "data": {
            "text/plain": [
              "[('A', 'x'), ('B', 'y')]"
            ]
          },
          "metadata": {},
          "execution_count": 15
        }
      ]
    },
    {
      "cell_type": "code",
      "source": [
        "# criando duas listas\n",
        "# os elementos 10 e 20 ficaram sem par, então foram ignorados pelo zip()\n",
        "c = ['a', 'j', 'l']\n",
        "z = [1,5,8,10,20]"
      ],
      "metadata": {
        "id": "8XPmW0uUmVxl"
      },
      "execution_count": 14,
      "outputs": []
    },
    {
      "cell_type": "code",
      "source": [
        "list(zip(c,z))"
      ],
      "metadata": {
        "colab": {
          "base_uri": "https://localhost:8080/"
        },
        "id": "IAFsdQy-muMy",
        "outputId": "839ccdb5-b0ec-4a5e-be59-88a118552b66"
      },
      "execution_count": 7,
      "outputs": [
        {
          "output_type": "execute_result",
          "data": {
            "text/plain": [
              "[('a', 1), ('j', 5), ('l', 8)]"
            ]
          },
          "metadata": {},
          "execution_count": 7
        }
      ]
    },
    {
      "cell_type": "code",
      "source": [
        "# criando 2 dicts\n",
        "d2 = {'a': 22, 'c': 30}\n",
        "d3 = {'b': 11, 'd': 40}"
      ],
      "metadata": {
        "id": "p85RtTCEm0qx"
      },
      "execution_count": 8,
      "outputs": []
    },
    {
      "cell_type": "code",
      "source": [
        "# zip combinou as chaves\n",
        "list(zip(d2,d3))"
      ],
      "metadata": {
        "colab": {
          "base_uri": "https://localhost:8080/"
        },
        "id": "sOoqLwJIowqH",
        "outputId": "c22a321d-afa5-47d4-9305-48fb194e364c"
      },
      "execution_count": 18,
      "outputs": [
        {
          "output_type": "execute_result",
          "data": {
            "text/plain": [
              "[('a', 'b'), ('c', 'd')]"
            ]
          },
          "metadata": {},
          "execution_count": 18
        }
      ]
    },
    {
      "cell_type": "code",
      "source": [
        "# zip pode unir os valores\n",
        "# só exibe os valores se chamar o método values()\n",
        "list(zip(d2,d3.values()))"
      ],
      "metadata": {
        "colab": {
          "base_uri": "https://localhost:8080/"
        },
        "id": "aoxcZdeNo3C7",
        "outputId": "b3cd61a6-0084-4e3d-f304-f7b6b4fee144"
      },
      "execution_count": 20,
      "outputs": [
        {
          "output_type": "execute_result",
          "data": {
            "text/plain": [
              "[('a', 11), ('c', 40)]"
            ]
          },
          "metadata": {},
          "execution_count": 20
        }
      ]
    },
    {
      "cell_type": "code",
      "source": [
        "# criando uma função para trocar valores entre 2 dicts\n",
        "def trocaValues(d2,d3):\n",
        "  # criando um dict vazio temporário\n",
        "  dicTemp = {}\n",
        "  # para cada chave do d2 e cada valor do d3 dentro do zip()\n",
        "  for d2key, d3val in zip(d2,d3.values()):\n",
        "    # insere a chave e valor no dict temporário\n",
        "    dicTemp[d2key] = d3val\n",
        "  return dicTemp"
      ],
      "metadata": {
        "id": "oQS7FEgSpCae"
      },
      "execution_count": 11,
      "outputs": []
    },
    {
      "cell_type": "code",
      "source": [
        "trocaValues(d2,d3)"
      ],
      "metadata": {
        "colab": {
          "base_uri": "https://localhost:8080/"
        },
        "id": "eWU-yrL_ploO",
        "outputId": "b1ceff7a-a7c0-4d37-aad6-818fe57b0b6d"
      },
      "execution_count": 12,
      "outputs": [
        {
          "output_type": "execute_result",
          "data": {
            "text/plain": [
              "{'a': 11, 'c': 40}"
            ]
          },
          "metadata": {},
          "execution_count": 12
        }
      ]
    }
  ]
}