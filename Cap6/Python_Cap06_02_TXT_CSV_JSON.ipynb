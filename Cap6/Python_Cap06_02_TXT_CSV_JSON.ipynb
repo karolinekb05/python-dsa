{
  "nbformat": 4,
  "nbformat_minor": 0,
  "metadata": {
    "colab": {
      "provenance": [],
      "authorship_tag": "ABX9TyPP4tJes7F24mQ0w32WGWo/"
    },
    "kernelspec": {
      "name": "python3",
      "display_name": "Python 3"
    },
    "language_info": {
      "name": "python"
    }
  },
  "cells": [
    {
      "cell_type": "markdown",
      "source": [
        "##Manipulando arquivos txt\n",
        "\n",
        "TXT é a extensão de arquivo para arquivos de texto puro.\n",
        "\n",
        "TXT é um arquivo de texto simples sem formatação, como negrito, itálico ou fontes diferentes. Ele pode ser aberto e editado com muitos aplicativos diferentes, incluindo editores de texto, processadores de texto e IDEs.\n",
        "\n",
        "Arquivos TXT são amplamente utilizados para armazenar dados de texto simples, como listas, notas e documentos de texto. Eles são universais e podem ser lidos em praticamente qualquer dispositivo ou sistema operacional."
      ],
      "metadata": {
        "id": "W8rs9ANhj8Cz"
      }
    },
    {
      "cell_type": "code",
      "source": [
        "texto = 'Análise de Dados pode ser uma excelente carreira \\n'\n",
        "texto = texto + 'Esses profissionais precisam saber sobre Storytelling \\n'\n",
        "texto += 'E, claro, devem ser proficientes em BI'"
      ],
      "metadata": {
        "id": "7WRt5BgXluXx"
      },
      "execution_count": null,
      "outputs": []
    },
    {
      "cell_type": "code",
      "source": [
        "print(texto)"
      ],
      "metadata": {
        "colab": {
          "base_uri": "https://localhost:8080/"
        },
        "id": "pGoPEOw9mAvv",
        "outputId": "db86ce79-f103-4494-834f-4a488b3e9a0f"
      },
      "execution_count": null,
      "outputs": [
        {
          "output_type": "stream",
          "name": "stdout",
          "text": [
            "Análise de Dados pode ser uma excelente carreira \n",
            "Esses profissionais precisam saber sobre Storytelling \n",
            "E, claro, devem ser proficientes em BI\n"
          ]
        }
      ]
    },
    {
      "cell_type": "code",
      "source": [
        "# Importanto o módulo os\n",
        "# operate system\n",
        "# Interage com o SO\n",
        "import os"
      ],
      "metadata": {
        "id": "o6wVCgIfmCjP"
      },
      "execution_count": null,
      "outputs": []
    },
    {
      "cell_type": "code",
      "source": [
        "# Criando um arquivo\n",
        "# Função open\n",
        "# Pacote os com as funções path (caminho) e join (juntar)\n",
        "arquivo = open(os.path.join('arquivos/analista.txt'), 'w')"
      ],
      "metadata": {
        "id": "EjSuBqD-mGYP"
      },
      "execution_count": null,
      "outputs": []
    },
    {
      "cell_type": "code",
      "source": [
        "# split sem parâmetro ele faz a divisão por 'espaço'\n",
        "# Quebrando frases em palavra e gravando no arquivo\n",
        "for palavra in texto.split():\n",
        "  arquivo.write(palavra + ' ')"
      ],
      "metadata": {
        "id": "9HcV9-K_pkgI"
      },
      "execution_count": null,
      "outputs": []
    },
    {
      "cell_type": "code",
      "source": [
        "arquivo.close()"
      ],
      "metadata": {
        "id": "74Y4TpzAmk_6"
      },
      "execution_count": null,
      "outputs": []
    },
    {
      "cell_type": "code",
      "source": [
        "arquivo = open('arquivos/analista.txt', 'r')\n",
        "conteudo = arquivo.read()\n",
        "arquivo.close()\n",
        "\n",
        "print(conteudo)"
      ],
      "metadata": {
        "colab": {
          "base_uri": "https://localhost:8080/"
        },
        "id": "t6WBEAvIn5_M",
        "outputId": "d160c920-4e15-42b6-d8cf-13fc54f89542"
      },
      "execution_count": null,
      "outputs": [
        {
          "output_type": "stream",
          "name": "stdout",
          "text": [
            "Análise de Dados pode ser uma excelente carreira Esses profissionais precisam saber sobre Storytelling E, claro, devem ser proficientes em BI \n"
          ]
        }
      ]
    },
    {
      "cell_type": "markdown",
      "source": [
        "## Usando a expressão `with`\n",
        "\n",
        "Sem o `with`, é necessário sempre fechar o arquivo com close() para que não ocorra problemas como corromper.\n",
        "\n",
        "Com o `with`, o método close() é executado automaticamente, com isso, se torna mais segura a manipulação dos arquivos."
      ],
      "metadata": {
        "id": "lWcrhFAksY9_"
      }
    },
    {
      "cell_type": "code",
      "source": [
        "# With = com\n",
        "# Com o arquivo aberto no modo read chame de arquivo\n",
        "with open('arquivos/analista.txt', 'r') as arquivo:\n",
        "  # Lê o arquivo e grava na variável 'conteudo'\n",
        "  conteudo = arquivo.read()"
      ],
      "metadata": {
        "id": "KUboUWEashyu"
      },
      "execution_count": null,
      "outputs": []
    },
    {
      "cell_type": "code",
      "source": [
        "# Comprimento do arquivo\n",
        "print(len(conteudo))"
      ],
      "metadata": {
        "colab": {
          "base_uri": "https://localhost:8080/"
        },
        "id": "ceaC-kCWsiUD",
        "outputId": "0d57b341-ae6e-42f7-f1b5-80e7cecd745d"
      },
      "execution_count": null,
      "outputs": [
        {
          "output_type": "stream",
          "name": "stdout",
          "text": [
            "142\n"
          ]
        }
      ]
    },
    {
      "cell_type": "code",
      "source": [
        "print(conteudo)"
      ],
      "metadata": {
        "colab": {
          "base_uri": "https://localhost:8080/"
        },
        "id": "bK8TGNqZ5gCO",
        "outputId": "fab024de-e3a6-4cd0-c691-2737b3b7b400"
      },
      "execution_count": null,
      "outputs": [
        {
          "output_type": "stream",
          "name": "stdout",
          "text": [
            "Análise de Dados pode ser uma excelente carreira Esses profissionais precisam saber sobre Storytelling E, claro, devem ser proficientes em BI \n"
          ]
        }
      ]
    },
    {
      "cell_type": "code",
      "source": [
        "with open('arquivos/analista.txt', 'w') as arquivo:\n",
        "  arquivo.write(texto[:17])\n",
        "  arquivo.write('\\n')\n",
        "  arquivo.write(texto[26:48])"
      ],
      "metadata": {
        "id": "KCk18FUr6J-e"
      },
      "execution_count": null,
      "outputs": []
    },
    {
      "cell_type": "code",
      "source": [
        "arquivo = open('arquivos/analista.txt', 'r')\n",
        "conteudo = arquivo.read()\n",
        "arquivo.close()\n",
        "print(conteudo)"
      ],
      "metadata": {
        "colab": {
          "base_uri": "https://localhost:8080/"
        },
        "id": "d6MQJ8ql6Jv0",
        "outputId": "9dde4941-764d-4cdd-83db-96f4c17d9d14"
      },
      "execution_count": null,
      "outputs": [
        {
          "output_type": "stream",
          "name": "stdout",
          "text": [
            "Análise de Dados \n",
            "uma excelente carreira\n"
          ]
        }
      ]
    },
    {
      "cell_type": "markdown",
      "source": [
        "## Manipulando arquivos CSV\n",
        "\n",
        "CSV (Comma-Separated Values) é um formato de arquivo que armazena dados tabulares em formato de texto plano.\n",
        "\n",
        "Cada linha do arquivo CSV representa uma linha da tabela e as colunas são separadas por vírgulas. É amplamente utilizado para exportar e importar dados em diferentes aplicações, como planilhas e bancos de dados.\n",
        "\n",
        "CSV é uma opção simples e universal para compartilhar dados, pois pode ser aberto e editado com muitos aplicativos diferentes, incluindo programas de planilha e editores de texto."
      ],
      "metadata": {
        "id": "WiDAhg-E7p64"
      }
    },
    {
      "cell_type": "code",
      "source": [
        "# Importando o módulo CSV\n",
        "import csv"
      ],
      "metadata": {
        "id": "M_FklhJD84Cy"
      },
      "execution_count": 1,
      "outputs": []
    },
    {
      "cell_type": "code",
      "source": [
        "# Abrindo o arquivo no modo write\n",
        "with open('arquivos/numeros.csv', 'w') as arquivo:\n",
        "  # Criando o objeto writering de gravação com o método writer\n",
        "  writering = csv.writer(arquivo)\n",
        "  # Grava no arquivo linha a linha com o método writerow\n",
        "  writering.writerow(('nota 1', 'nota 2', 'nota 3'))\n",
        "  writering.writerow((20,30,40))\n",
        "  writering.writerow((1,2,3))\n",
        "  writering.writerow((100,200,300))"
      ],
      "metadata": {
        "id": "K07E2vZC84aW"
      },
      "execution_count": 3,
      "outputs": []
    },
    {
      "cell_type": "code",
      "source": [
        "# Leitura de arquivos CSV\n",
        "# encoding é a codificação do arquivo, formato de caracteres, cada arquivo tem o seu encoding\n",
        "with open('arquivos/numeros.csv', 'r', encoding='utf8', newline = '\\r\\n') as arquivo:\n",
        "  # Cria o objeto leitor com o método reader\n",
        "  # reader lê cada linha e gera uma lista dessa linha\n",
        "  leitor = csv.reader(arquivo)\n",
        "  # Para cada elemento do objeto leitor (linha)\n",
        "  for i in leitor:\n",
        "    # Imprime a contagem do número de colunas\n",
        "    print('Número de colunas:', len(i))\n",
        "    # Imprime os elementos da linha\n",
        "    print(i)"
      ],
      "metadata": {
        "colab": {
          "base_uri": "https://localhost:8080/"
        },
        "id": "zw0R94Fq9gmO",
        "outputId": "524a56c7-12e5-4e72-99ce-5f4e9754da0f"
      },
      "execution_count": 4,
      "outputs": [
        {
          "output_type": "stream",
          "name": "stdout",
          "text": [
            "Número de colunas: 3\n",
            "['nota 1', 'nota 2', 'nota 3']\n",
            "Número de colunas: 3\n",
            "['20', '30', '40']\n",
            "Número de colunas: 3\n",
            "['1', '2', '3']\n",
            "Número de colunas: 3\n",
            "['100', '200', '300']\n"
          ]
        }
      ]
    },
    {
      "cell_type": "code",
      "source": [
        "# Gerando uma lista com dados do arquivo CSV\n",
        "with open('arquivos/numeros.csv', 'r') as arquivo:\n",
        "  leitor = csv.reader(arquivo)\n",
        "  dados = list(leitor)"
      ],
      "metadata": {
        "id": "yndW0tVN9-sQ"
      },
      "execution_count": 5,
      "outputs": []
    },
    {
      "cell_type": "code",
      "source": [
        "print(dados)"
      ],
      "metadata": {
        "colab": {
          "base_uri": "https://localhost:8080/"
        },
        "id": "U6MrDXq2-W1k",
        "outputId": "6f6e3736-1dab-4c64-8065-000ae9a9f015"
      },
      "execution_count": 6,
      "outputs": [
        {
          "output_type": "stream",
          "name": "stdout",
          "text": [
            "[['nota 1', 'nota 2', 'nota 3'], ['20', '30', '40'], ['1', '2', '3'], ['100', '200', '300']]\n"
          ]
        }
      ]
    },
    {
      "cell_type": "code",
      "source": [
        "# Imprimindo a partir da segunda linha\n",
        "# Slicing 1: para não imprimir o que está no índice 0, nesse caso o cabeçalho\n",
        "for linha in dados[1:]:\n",
        "  print(linha)"
      ],
      "metadata": {
        "colab": {
          "base_uri": "https://localhost:8080/"
        },
        "id": "_5gtwH-R-ZgD",
        "outputId": "95a5a640-4547-41f0-ae96-a0e2533725ea"
      },
      "execution_count": 7,
      "outputs": [
        {
          "output_type": "stream",
          "name": "stdout",
          "text": [
            "['20', '30', '40']\n",
            "['1', '2', '3']\n",
            "['100', '200', '300']\n"
          ]
        }
      ]
    },
    {
      "cell_type": "markdown",
      "source": [
        "## Manipulando arquivos JSON (Java Script Object Notation)\n",
        "\n",
        "JSON é um formato de dados de texto simples e leve que é utilizado para transmitir informações em aplicações web.\n",
        "\n",
        "É baseado em uma estrutura de objetos JavaScript e usa pares de chave-valor para representar dados.\n",
        "\n",
        "JSON é facilmente lido e escrito por máquinas e é amplamente utilizado como formato de intercâmbio de dados em aplicações web modernas."
      ],
      "metadata": {
        "id": "P46paFcZ-j_O"
      }
    },
    {
      "cell_type": "code",
      "source": [
        "# Criando um dicionário\n",
        "dictio = {'nome': 'Guido van Rossum',\n",
        "          'linguagem': 'Python',\n",
        "          'similar': ['c', 'Modula-3', 'lisp'],\n",
        "          'users': 100000}"
      ],
      "metadata": {
        "id": "oFI3_Vki-hv6"
      },
      "execution_count": 8,
      "outputs": []
    },
    {
      "cell_type": "code",
      "source": [
        "# Loop que percorre as chaves e valores do dictio\n",
        "for k,v in dictio.items():\n",
        "  print(k,v)"
      ],
      "metadata": {
        "id": "mWGUIUEz_gQ3",
        "colab": {
          "base_uri": "https://localhost:8080/"
        },
        "outputId": "5a07d5f0-2c02-4713-8849-3ce7f5ef32b3"
      },
      "execution_count": 11,
      "outputs": [
        {
          "output_type": "stream",
          "name": "stdout",
          "text": [
            "nome Guido van Rossum\n",
            "linguagem Python\n",
            "similar ['c', 'Modula-3', 'lisp']\n",
            "users 100000\n"
          ]
        }
      ]
    },
    {
      "cell_type": "code",
      "source": [
        "# Importanto o módulo json\n",
        "import json"
      ],
      "metadata": {
        "id": "VOd-C9r5_n5B"
      },
      "execution_count": 10,
      "outputs": []
    },
    {
      "cell_type": "code",
      "source": [
        "# Função dumps converte o dicionário em formato arquivo JSON\n",
        "json.dumps(dictio)"
      ],
      "metadata": {
        "id": "t6ge3E1K_pgb",
        "colab": {
          "base_uri": "https://localhost:8080/",
          "height": 35
        },
        "outputId": "55d91a62-5bc4-4ea0-dc0b-9acac6b0cd8a"
      },
      "execution_count": 13,
      "outputs": [
        {
          "output_type": "execute_result",
          "data": {
            "text/plain": [
              "'{\"nome\": \"Guido van Rossum\", \"linguagem\": \"Python\", \"similar\": [\"c\", \"Modula-3\", \"lisp\"], \"users\": 100000}'"
            ],
            "application/vnd.google.colaboratory.intrinsic+json": {
              "type": "string"
            }
          },
          "metadata": {},
          "execution_count": 13
        }
      ]
    },
    {
      "cell_type": "code",
      "source": [
        "# Criando um arquivo JSON\n",
        "with open('arquivos/dados.json', 'w') as arquivo:\n",
        "  arquivo.write(json.dumps(dictio))"
      ],
      "metadata": {
        "id": "xD0gOimN_3Eo"
      },
      "execution_count": 14,
      "outputs": []
    },
    {
      "cell_type": "code",
      "source": [
        "# Leitura de um arquivo JSON\n",
        "with open('arquivos/dados.json', 'r') as arquivo:\n",
        "  # Método read lê o que tem no arquivo e salva na variável 'texto'\n",
        "  texto = arquivo.read()\n",
        "  # método loads carrega o conteúdo salvo na variável 'texto' e salva na variável 'dados'\n",
        "  dados = json.loads(texto)"
      ],
      "metadata": {
        "id": "EeFKzqfi9cne"
      },
      "execution_count": 15,
      "outputs": []
    },
    {
      "cell_type": "code",
      "source": [
        "dados"
      ],
      "metadata": {
        "colab": {
          "base_uri": "https://localhost:8080/"
        },
        "id": "QcCIwMPb-DUQ",
        "outputId": "8b972b19-3e78-445b-8a78-95231ccb297c"
      },
      "execution_count": 16,
      "outputs": [
        {
          "output_type": "execute_result",
          "data": {
            "text/plain": [
              "{'nome': 'Guido van Rossum',\n",
              " 'linguagem': 'Python',\n",
              " 'similar': ['c', 'Modula-3', 'lisp'],\n",
              " 'users': 100000}"
            ]
          },
          "metadata": {},
          "execution_count": 16
        }
      ]
    },
    {
      "cell_type": "code",
      "source": [
        "# Vantagem de chave-valor é poder usar a chave como índice\n",
        "print(dados['nome'])"
      ],
      "metadata": {
        "colab": {
          "base_uri": "https://localhost:8080/"
        },
        "id": "opqKGlWU-EuP",
        "outputId": "ec5feee4-bb46-4d05-b122-fcc3c56d8520"
      },
      "execution_count": 17,
      "outputs": [
        {
          "output_type": "stream",
          "name": "stdout",
          "text": [
            "Guido van Rossum\n"
          ]
        }
      ]
    },
    {
      "cell_type": "markdown",
      "source": [
        "Obs: o banco de dados NoSQL MongoDB grava os dados em formato JSON"
      ],
      "metadata": {
        "id": "rstecarkGfGa"
      }
    },
    {
      "cell_type": "markdown",
      "source": [
        "## Extração de arquivo da web"
      ],
      "metadata": {
        "id": "J4TxdzGF-Hy_"
      }
    },
    {
      "cell_type": "code",
      "source": [
        "# Imprimindo um arquivo JSON copiado da internet\n",
        "# importando o pacote urllib com o método urlopen\n",
        "from urllib.request import urlopen\n",
        "\n",
        "# abrindo a url no modo leitura e decodificando o arquivo para utf8 e grava na variável 'response'\n",
        "response = urlopen('http://vimeo.com/api/v2/video/57733101.json').read().decode('utf8')\n",
        "# carregando a resposta com o método loads e somente a primeira parte do response, por isso o índice 0\n",
        "dados = json.loads(response)[0]"
      ],
      "metadata": {
        "id": "fa5yzGTv-Lee"
      },
      "execution_count": 18,
      "outputs": []
    },
    {
      "cell_type": "code",
      "source": [
        "# imprimindo o conteúdo\n",
        "dados"
      ],
      "metadata": {
        "colab": {
          "base_uri": "https://localhost:8080/"
        },
        "id": "owBwpdPq-ymZ",
        "outputId": "ece0c192-a2ec-4385-a8e9-b8fd87552b00"
      },
      "execution_count": 22,
      "outputs": [
        {
          "output_type": "execute_result",
          "data": {
            "text/plain": [
              "{'id': 57733101,\n",
              " 'title': 'The Good Man trailer',\n",
              " 'description': 'Trailer for the Manifesto Films production, The Good Man, now available in UK/Ireland/US/Canada/Australia/New Zealand on iTunes (https://itunes.apple.com/us/movie/the-good-man/id873130906) and DVD (http://www.amazon.co.uk/The-Good-Man-Aiden-Gillen/dp/B00IIK6CGU/). Co-production with Jet Black Entertainment (South Africa). Starring Aidan Gillen, Thabang Sidloyi, Kelly Campbell, Lunathi Mampofu. Written & directed by Phil Harrison. More info at www.thegoodmanfilm.com<br />\\r\\n<br />\\r\\nCheck out the Variety Magazine review here: http://www.variety.com/review/VE1117947909/',\n",
              " 'url': 'https://vimeo.com/57733101',\n",
              " 'upload_date': '2013-01-19 04:01:15',\n",
              " 'thumbnail_small': 'https://i.vimeocdn.com/video/436057121-e828a1f5478ec0136e957753d107f2a1268c64def9b82faac37c8e30c031cff2-d_100x75',\n",
              " 'thumbnail_medium': 'https://i.vimeocdn.com/video/436057121-e828a1f5478ec0136e957753d107f2a1268c64def9b82faac37c8e30c031cff2-d_200x150',\n",
              " 'thumbnail_large': 'https://i.vimeocdn.com/video/436057121-e828a1f5478ec0136e957753d107f2a1268c64def9b82faac37c8e30c031cff2-d_640',\n",
              " 'user_id': 1334563,\n",
              " 'user_name': 'Manifesto Films',\n",
              " 'user_url': 'https://vimeo.com/manifestofilms',\n",
              " 'user_portrait_small': 'https://i.vimeocdn.com/portrait/4778306_30x30?sig=dce4bd41e32adf3305ffd0a161ae27a5c919bba5773cf2f2c3ca5be075726518&v=1',\n",
              " 'user_portrait_medium': 'https://i.vimeocdn.com/portrait/4778306_75x75?sig=dce4bd41e32adf3305ffd0a161ae27a5c919bba5773cf2f2c3ca5be075726518&v=1',\n",
              " 'user_portrait_large': 'https://i.vimeocdn.com/portrait/4778306_100x100?sig=dce4bd41e32adf3305ffd0a161ae27a5c919bba5773cf2f2c3ca5be075726518&v=1',\n",
              " 'user_portrait_huge': 'https://i.vimeocdn.com/portrait/4778306_300x300?sig=dce4bd41e32adf3305ffd0a161ae27a5c919bba5773cf2f2c3ca5be075726518&v=1',\n",
              " 'stats_number_of_likes': 18,\n",
              " 'stats_number_of_plays': 6769,\n",
              " 'stats_number_of_comments': 0,\n",
              " 'duration': 143,\n",
              " 'width': 1024,\n",
              " 'height': 576,\n",
              " 'tags': 'belfast, cape town, africa, ireland, film',\n",
              " 'embed_privacy': 'anywhere'}"
            ]
          },
          "metadata": {},
          "execution_count": 22
        }
      ]
    },
    {
      "cell_type": "code",
      "source": [
        "# usando as chaves como filtro para extrair os valores\n",
        "print('Título: ', dados['title'])\n",
        "print('URL: ', dados['url'])\n",
        "print('Duração: ', dados['duration'])\n",
        "print('Número de visualizações: ', dados['stats_number_of_plays'])"
      ],
      "metadata": {
        "colab": {
          "base_uri": "https://localhost:8080/"
        },
        "id": "LwgDc3BE-zv8",
        "outputId": "d0576cab-da55-4fab-d191-fc323b2f6290"
      },
      "execution_count": 21,
      "outputs": [
        {
          "output_type": "stream",
          "name": "stdout",
          "text": [
            "Título:  The Good Man trailer\n",
            "URL:  https://vimeo.com/57733101\n",
            "Duração:  143\n",
            "Número de visualizações:  6769\n"
          ]
        }
      ]
    },
    {
      "cell_type": "markdown",
      "source": [
        "Copiando o conteúdo de um arquivo para outro"
      ],
      "metadata": {
        "id": "GdjcT2M6_IIL"
      }
    },
    {
      "cell_type": "code",
      "source": [
        "# Nomes dos arquivos\n",
        "arquivo_fonte = 'arquivos/dados.json'\n",
        "arquivo_destino = 'arquivos/dados.txt'"
      ],
      "metadata": {
        "id": "qjx8vNI2_Lnt"
      },
      "execution_count": 23,
      "outputs": []
    },
    {
      "cell_type": "markdown",
      "source": [
        "As duas célular abaixo tem o mesmo propósito, só muda a forma de implementação"
      ],
      "metadata": {
        "id": "PbGrXBXfNylq"
      }
    },
    {
      "cell_type": "code",
      "source": [
        "# Método 1\n",
        "# abre o arquivo no modo read, lê e grava na variável text\n",
        "with open(arquivo_fonte, 'r') as infile:\n",
        "  text = infile.read()\n",
        "  # abre o arquivo no modo write e escreve nele o que está na variável 'text'\n",
        "  with open(arquivo_destino, 'w') as outfile:\n",
        "    outfile.write(text)"
      ],
      "metadata": {
        "id": "jnu1zdWV_YKP"
      },
      "execution_count": 28,
      "outputs": []
    },
    {
      "cell_type": "code",
      "source": [
        "# Método 2 que é melhor para legibilidade do código\n",
        "# abre o arquivo para gravação do outro arquivo que está sendo lido\n",
        "open(arquivo_destino, 'w').write(open(arquivo_fonte, 'r').read())"
      ],
      "metadata": {
        "colab": {
          "base_uri": "https://localhost:8080/"
        },
        "id": "7F-Riryf_4Uh",
        "outputId": "17a8d8f0-61fd-4a93-bfe3-0999088b9299"
      },
      "execution_count": 29,
      "outputs": [
        {
          "output_type": "execute_result",
          "data": {
            "text/plain": [
              "106"
            ]
          },
          "metadata": {},
          "execution_count": 29
        }
      ]
    },
    {
      "cell_type": "code",
      "source": [
        "# Leitura do arquivo txt\n",
        "with open('arquivos/dados.txt', 'r') as arquivo:\n",
        "  texto = arquivo.read()\n",
        "  dados = json.loads(texto)"
      ],
      "metadata": {
        "id": "Qo3x_ZgzAC8X"
      },
      "execution_count": 30,
      "outputs": []
    },
    {
      "cell_type": "code",
      "source": [
        "print(dados)"
      ],
      "metadata": {
        "colab": {
          "base_uri": "https://localhost:8080/"
        },
        "id": "aBOYwJINAR5R",
        "outputId": "47ce6d7d-ed2f-49ad-aeff-3d49209a002e"
      },
      "execution_count": 31,
      "outputs": [
        {
          "output_type": "stream",
          "name": "stdout",
          "text": [
            "{'nome': 'Guido van Rossum', 'linguagem': 'Python', 'similar': ['c', 'Modula-3', 'lisp'], 'users': 100000}\n"
          ]
        }
      ]
    }
  ]
}