{
  "nbformat": 4,
  "nbformat_minor": 0,
  "metadata": {
    "colab": {
      "provenance": [],
      "authorship_tag": "ABX9TyNzuzf4eO3q39EYCLILbwKs"
    },
    "kernelspec": {
      "name": "python3",
      "display_name": "Python 3"
    },
    "language_info": {
      "name": "python"
    }
  },
  "cells": [
    {
      "cell_type": "markdown",
      "source": [
        "# Função Enumerate\n",
        "\n",
        "A função enumerate() em Python é uma função que **permite iterar sobre uma estrutura de dados** (como uma lista, tupla ou outro objeto iterável). A função enumerate() retorna um objeto enumerado, que pode ser usado em loops para percorrer a estrutura de dados e acessar o contador e o valor de cada elemento.\n",
        "\n",
        "Enumera através de índice. Sempre retorna pares de índice e valor."
      ],
      "metadata": {
        "id": "3-BdwcqisQBZ"
      }
    },
    {
      "cell_type": "code",
      "execution_count": 1,
      "metadata": {
        "id": "6HC3EdoPsHvK"
      },
      "outputs": [],
      "source": [
        "# criando uma lista\n",
        "sq = ['a', 'x', 'y']"
      ]
    },
    {
      "cell_type": "code",
      "source": [
        "# retorna o iterator\n",
        "enumerate(sq)"
      ],
      "metadata": {
        "colab": {
          "base_uri": "https://localhost:8080/"
        },
        "id": "YvXJ1WZes2O1",
        "outputId": "9fb40f09-7319-4d69-fd7a-89ab657a670a"
      },
      "execution_count": 12,
      "outputs": [
        {
          "output_type": "execute_result",
          "data": {
            "text/plain": [
              "<enumerate at 0x7d5dfe9ab100>"
            ]
          },
          "metadata": {},
          "execution_count": 12
        }
      ]
    },
    {
      "cell_type": "code",
      "source": [
        "# converte o iterator para lista\n",
        "# os números são os índices de cada elemento da lista 'sq'\n",
        "list(enumerate(sq))"
      ],
      "metadata": {
        "colab": {
          "base_uri": "https://localhost:8080/"
        },
        "id": "PkyKd1t4s4vM",
        "outputId": "e923d9fb-594a-4598-e6be-959988262b2b"
      },
      "execution_count": 13,
      "outputs": [
        {
          "output_type": "execute_result",
          "data": {
            "text/plain": [
              "[(0, 'a'), (1, 'x'), (2, 'y')]"
            ]
          },
          "metadata": {},
          "execution_count": 13
        }
      ]
    },
    {
      "cell_type": "code",
      "source": [
        "# imprimindo os valores de uma lista com a função enumerate() e seus respectivos índices\n",
        "# para cada índice e valor dentro do enumerate de 'sq'\n",
        "for i,v in enumerate(sq):\n",
        "  print(i,v)"
      ],
      "metadata": {
        "colab": {
          "base_uri": "https://localhost:8080/"
        },
        "id": "QHleEcsxs7Uc",
        "outputId": "4a35fc8f-68d4-4f17-e229-0954c40559d0"
      },
      "execution_count": 14,
      "outputs": [
        {
          "output_type": "stream",
          "name": "stdout",
          "text": [
            "0 a\n",
            "1 x\n",
            "2 y\n"
          ]
        }
      ]
    },
    {
      "cell_type": "code",
      "source": [
        "# para cada índice,valor dentro do enumerate de 'sq'\n",
        "for i,v in enumerate(sq):\n",
        "  # se o valor do índice for >= 2, pause\n",
        "  if i >= 2:\n",
        "    break\n",
        "  # se não, imprima o valor\n",
        "  else:\n",
        "    print(v)"
      ],
      "metadata": {
        "colab": {
          "base_uri": "https://localhost:8080/"
        },
        "id": "eMFxVDlDtIEw",
        "outputId": "89488baa-4876-4504-86c8-b331fd8292f2"
      },
      "execution_count": 15,
      "outputs": [
        {
          "output_type": "stream",
          "name": "stdout",
          "text": [
            "a\n",
            "x\n"
          ]
        }
      ]
    },
    {
      "cell_type": "code",
      "source": [
        "lst = ['Tech', 'Dados', 'BI']"
      ],
      "metadata": {
        "id": "4dfNYgU9tTVK"
      },
      "execution_count": 7,
      "outputs": []
    },
    {
      "cell_type": "code",
      "source": [
        "# para cada x(índice), item(elemento) dentro de enumerate 'lst'\n",
        "for x, item in enumerate(lst):\n",
        "  print(x, item)"
      ],
      "metadata": {
        "colab": {
          "base_uri": "https://localhost:8080/"
        },
        "id": "4LoKU-RitXyI",
        "outputId": "0469a7c4-4451-4281-d079-b852cef0b713"
      },
      "execution_count": 16,
      "outputs": [
        {
          "output_type": "stream",
          "name": "stdout",
          "text": [
            "0 Tech\n",
            "1 Dados\n",
            "2 BI\n"
          ]
        }
      ]
    },
    {
      "cell_type": "code",
      "source": [
        "# usando uma string (sequência de caracteres) no enumerate\n",
        "for x, i in enumerate('Data Science'):\n",
        "  print(x, i)"
      ],
      "metadata": {
        "colab": {
          "base_uri": "https://localhost:8080/"
        },
        "id": "mN5RDhdBtdwY",
        "outputId": "ffa922d7-7219-459a-b7ca-37c62eb7c4c2"
      },
      "execution_count": 17,
      "outputs": [
        {
          "output_type": "stream",
          "name": "stdout",
          "text": [
            "0 D\n",
            "1 a\n",
            "2 t\n",
            "3 a\n",
            "4  \n",
            "5 S\n",
            "6 c\n",
            "7 i\n",
            "8 e\n",
            "9 n\n",
            "10 c\n",
            "11 e\n"
          ]
        }
      ]
    },
    {
      "cell_type": "code",
      "source": [
        "for x,y in enumerate('Python'):\n",
        "  print(x,y)"
      ],
      "metadata": {
        "colab": {
          "base_uri": "https://localhost:8080/"
        },
        "id": "hVSIMQPptn9I",
        "outputId": "c7e42e88-4b48-4765-ee1f-25f0199b7a65"
      },
      "execution_count": 10,
      "outputs": [
        {
          "output_type": "stream",
          "name": "stdout",
          "text": [
            "0 P\n",
            "1 y\n",
            "2 t\n",
            "3 h\n",
            "4 o\n",
            "5 n\n"
          ]
        }
      ]
    },
    {
      "cell_type": "code",
      "source": [
        "# para cada índice,valor dentro do enumerate com range de 2 até 50 pulando de 2 em 2\n",
        "for x,v in enumerate(range(2,50,2)):\n",
        "  print(x,v)"
      ],
      "metadata": {
        "colab": {
          "base_uri": "https://localhost:8080/"
        },
        "id": "oPcQ70ZZtwUE",
        "outputId": "a92dee0c-842e-4120-c1cc-aaa4a8caa5cb"
      },
      "execution_count": 22,
      "outputs": [
        {
          "output_type": "stream",
          "name": "stdout",
          "text": [
            "0 2\n",
            "1 4\n",
            "2 6\n",
            "3 8\n",
            "4 10\n",
            "5 12\n",
            "6 14\n",
            "7 16\n",
            "8 18\n",
            "9 20\n",
            "10 22\n",
            "11 24\n",
            "12 26\n",
            "13 28\n",
            "14 30\n",
            "15 32\n",
            "16 34\n",
            "17 36\n",
            "18 38\n",
            "19 40\n",
            "20 42\n",
            "21 44\n",
            "22 46\n",
            "23 48\n"
          ]
        }
      ]
    }
  ]
}