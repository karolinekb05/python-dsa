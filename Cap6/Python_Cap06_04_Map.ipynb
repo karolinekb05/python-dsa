{
  "nbformat": 4,
  "nbformat_minor": 0,
  "metadata": {
    "colab": {
      "provenance": [],
      "authorship_tag": "ABX9TyNPscw7wojmu9uCmKyu/HkM"
    },
    "kernelspec": {
      "name": "python3",
      "display_name": "Python 3"
    },
    "language_info": {
      "name": "python"
    }
  },
  "cells": [
    {
      "cell_type": "markdown",
      "source": [
        "# Função Map\n",
        "\n",
        "A função **map()** em Python é uma função que aplica uma determinada função a cada elemento de uma estrutura de dados iterável (como uma lista, tupla ou outro objeto iterável). A função map() **retorna um objeto que pode ser convertido em outra estrutura de dados**, como uma lista, se necessário."
      ],
      "metadata": {
        "id": "qzeq6rgr5-jt"
      }
    },
    {
      "cell_type": "code",
      "execution_count": 1,
      "metadata": {
        "id": "r7x6P_gx55gW"
      },
      "outputs": [],
      "source": [
        "# Função Python que retorna um número ao quadrado\n",
        "def potenciacao(x):\n",
        "  return x ** 2"
      ]
    },
    {
      "cell_type": "code",
      "source": [
        "nums = [1,2,3,4,5]"
      ],
      "metadata": {
        "id": "X-DrZgw0ANMb"
      },
      "execution_count": 2,
      "outputs": []
    },
    {
      "cell_type": "code",
      "source": [
        "nums_quad = list(map(potenciacao, nums))"
      ],
      "metadata": {
        "id": "4EtsXLO4AQIC"
      },
      "execution_count": 3,
      "outputs": []
    },
    {
      "cell_type": "code",
      "source": [
        "print(nums_quad)"
      ],
      "metadata": {
        "colab": {
          "base_uri": "https://localhost:8080/"
        },
        "id": "iuckhD0sAVp2",
        "outputId": "e079b3c5-daf4-4496-ad24-e25e12350998"
      },
      "execution_count": 4,
      "outputs": [
        {
          "output_type": "stream",
          "name": "stdout",
          "text": [
            "[1, 4, 9, 16, 25]\n"
          ]
        }
      ]
    },
    {
      "cell_type": "code",
      "source": [
        "# Criando duas funções\n",
        "\n",
        "# Função 1: recebe uma temperatura como parâmentro e retorna a temperatura em Fahrenheith\n",
        "def fahrenheith(t):\n",
        "  return ((float(9)/5*t + 32))\n",
        "\n",
        "# Função 2:\n",
        "def celsius(t):\n",
        "  return (float(5)/9)*(t-32)"
      ],
      "metadata": {
        "id": "jwpKX6tEAjwC"
      },
      "execution_count": 5,
      "outputs": []
    },
    {
      "cell_type": "code",
      "source": [
        "# criando uma lista\n",
        "temps = [0,22.8,40,38]"
      ],
      "metadata": {
        "id": "ClhOaQIOBJFk"
      },
      "execution_count": 6,
      "outputs": []
    },
    {
      "cell_type": "code",
      "source": [
        "# aplicando a função a cada elemento da lista de temperaturas\n",
        "# em Python 3, a função map() retorna um iterator\n",
        "map(fahrenheith, temps)"
      ],
      "metadata": {
        "colab": {
          "base_uri": "https://localhost:8080/"
        },
        "id": "CJwYNWi5BQ2G",
        "outputId": "f0c485b2-be78-4306-f94d-58f1be40148b"
      },
      "execution_count": 7,
      "outputs": [
        {
          "output_type": "execute_result",
          "data": {
            "text/plain": [
              "<map at 0x7cc813dc2d40>"
            ]
          },
          "metadata": {},
          "execution_count": 7
        }
      ]
    },
    {
      "cell_type": "code",
      "source": [
        "# função map() retornando a lista de temperaturas convertidas em Fahrenheith\n",
        "list(map(fahrenheith, temps))"
      ],
      "metadata": {
        "colab": {
          "base_uri": "https://localhost:8080/"
        },
        "id": "gBKaSqBRBfgy",
        "outputId": "a1874ca5-53a9-480c-a4c7-d7bce228f2a5"
      },
      "execution_count": 8,
      "outputs": [
        {
          "output_type": "execute_result",
          "data": {
            "text/plain": [
              "[32.0, 73.03999999999999, 104.0, 100.4]"
            ]
          },
          "metadata": {},
          "execution_count": 8
        }
      ]
    },
    {
      "cell_type": "code",
      "source": [
        "# usando um loop for para imprimir o resultado da função map()\n",
        "for temp in map(fahrenheith, temps):\n",
        "  print(temp)"
      ],
      "metadata": {
        "colab": {
          "base_uri": "https://localhost:8080/"
        },
        "id": "Tazg8cNdBpGL",
        "outputId": "82be8f5f-1be2-49a0-a9ab-e8a1b7e6953a"
      },
      "execution_count": 9,
      "outputs": [
        {
          "output_type": "stream",
          "name": "stdout",
          "text": [
            "32.0\n",
            "73.03999999999999\n",
            "104.0\n",
            "100.4\n"
          ]
        }
      ]
    },
    {
      "cell_type": "code",
      "source": [
        "# convertendo para Celsius\n",
        "map(celsius, temps)"
      ],
      "metadata": {
        "colab": {
          "base_uri": "https://localhost:8080/"
        },
        "id": "Pc3vECwxBysL",
        "outputId": "1038b0c0-d540-488e-903d-37ee5a1b8943"
      },
      "execution_count": 10,
      "outputs": [
        {
          "output_type": "execute_result",
          "data": {
            "text/plain": [
              "<map at 0x7cc813dc0fa0>"
            ]
          },
          "metadata": {},
          "execution_count": 10
        }
      ]
    },
    {
      "cell_type": "code",
      "source": [
        "list(map(celsius, temps))"
      ],
      "metadata": {
        "colab": {
          "base_uri": "https://localhost:8080/"
        },
        "id": "4x9Kftt1B5fj",
        "outputId": "2c3fe650-31ee-4640-f740-44db7961911e"
      },
      "execution_count": 11,
      "outputs": [
        {
          "output_type": "execute_result",
          "data": {
            "text/plain": [
              "[-17.77777777777778, -5.111111111111111, 4.444444444444445, 3.3333333333333335]"
            ]
          },
          "metadata": {},
          "execution_count": 11
        }
      ]
    },
    {
      "cell_type": "code",
      "source": [
        "# usando a expressão lambda\n",
        "map(lambda x: (5.0/9)*(x-32), temps)"
      ],
      "metadata": {
        "colab": {
          "base_uri": "https://localhost:8080/"
        },
        "id": "WKTJnmhtB9rK",
        "outputId": "52fe10a2-78fc-4039-8d3a-8e79c44524bf"
      },
      "execution_count": 12,
      "outputs": [
        {
          "output_type": "execute_result",
          "data": {
            "text/plain": [
              "<map at 0x7cc7e65974f0>"
            ]
          },
          "metadata": {},
          "execution_count": 12
        }
      ]
    },
    {
      "cell_type": "code",
      "source": [
        "list(map(lambda x: (5.0/9)*(x-32), temps))"
      ],
      "metadata": {
        "colab": {
          "base_uri": "https://localhost:8080/"
        },
        "id": "JsH3omk4CKK8",
        "outputId": "8513cc4c-d5e6-492a-b6b7-a4f83bdb8c46"
      },
      "execution_count": 13,
      "outputs": [
        {
          "output_type": "execute_result",
          "data": {
            "text/plain": [
              "[-17.77777777777778, -5.111111111111111, 4.444444444444445, 3.3333333333333335]"
            ]
          },
          "metadata": {},
          "execution_count": 13
        }
      ]
    },
    {
      "cell_type": "code",
      "source": [
        "# somando os elementos de 2 listas\n",
        "a = [3,6,9,12]\n",
        "b = [2,4,6,8]"
      ],
      "metadata": {
        "id": "dqRxnItECSS7"
      },
      "execution_count": 14,
      "outputs": []
    },
    {
      "cell_type": "code",
      "source": [
        "list(map(lambda x,y: x+y, a, b))"
      ],
      "metadata": {
        "colab": {
          "base_uri": "https://localhost:8080/"
        },
        "id": "vBTZX2m9Ca3f",
        "outputId": "6f2e5b78-bb9f-4da0-fe6e-7a8107f6516a"
      },
      "execution_count": 15,
      "outputs": [
        {
          "output_type": "execute_result",
          "data": {
            "text/plain": [
              "[5, 10, 15, 20]"
            ]
          },
          "metadata": {},
          "execution_count": 15
        }
      ]
    },
    {
      "cell_type": "code",
      "source": [
        "# somando os elementos de 2 listas\n",
        "a = [3,6,9,12]\n",
        "b = [2,4,6,8]\n",
        "c = [5,10,15,20]"
      ],
      "metadata": {
        "id": "zXoKIV9JCjwv"
      },
      "execution_count": 16,
      "outputs": []
    },
    {
      "cell_type": "code",
      "source": [
        "list(map(lambda x,y,z: x+y+z, a,b,c))"
      ],
      "metadata": {
        "colab": {
          "base_uri": "https://localhost:8080/"
        },
        "id": "wUpV5eABCoWW",
        "outputId": "fcaf5a1f-4ad6-45da-b5d5-ce7d380207ce"
      },
      "execution_count": 17,
      "outputs": [
        {
          "output_type": "execute_result",
          "data": {
            "text/plain": [
              "[10, 20, 30, 40]"
            ]
          },
          "metadata": {},
          "execution_count": 17
        }
      ]
    }
  ]
}