{
  "nbformat": 4,
  "nbformat_minor": 0,
  "metadata": {
    "colab": {
      "provenance": [],
      "authorship_tag": "ABX9TyN3gMuUKtoXIVZq7JV5bNQP"
    },
    "kernelspec": {
      "name": "python3",
      "display_name": "Python 3"
    },
    "language_info": {
      "name": "python"
    }
  },
  "cells": [
    {
      "cell_type": "markdown",
      "source": [
        "# Função Map\n",
        "\n",
        "A função **map()** em Python é uma **função que aplica uma determinada função** a cada elemento de uma estrutura de dados iterável (como uma lista, tupla ou outro objeto iterável). A função map() **retorna um objeto que pode ser convertido em outra estrutura de dados**, como uma lista, se necessário."
      ],
      "metadata": {
        "id": "qzeq6rgr5-jt"
      }
    },
    {
      "cell_type": "code",
      "execution_count": 1,
      "metadata": {
        "id": "r7x6P_gx55gW"
      },
      "outputs": [],
      "source": [
        "# Função Python que retorna um número ao quadrado\n",
        "def potenciacao(x):\n",
        "  return x ** 2"
      ]
    },
    {
      "cell_type": "code",
      "source": [
        "nums = [1,2,3,4,5]"
      ],
      "metadata": {
        "id": "X-DrZgw0ANMb"
      },
      "execution_count": 2,
      "outputs": []
    },
    {
      "cell_type": "code",
      "source": [
        "# a função map() vai aplicar a função de potenciacao a cada elemento da lista nums, converte o resultado em uma lista e grava na variável 'nums_quad'\n",
        "nums_quad = list(map(potenciacao, nums))"
      ],
      "metadata": {
        "id": "4EtsXLO4AQIC"
      },
      "execution_count": 19,
      "outputs": []
    },
    {
      "cell_type": "code",
      "source": [
        "print(nums_quad)"
      ],
      "metadata": {
        "colab": {
          "base_uri": "https://localhost:8080/"
        },
        "id": "iuckhD0sAVp2",
        "outputId": "e079b3c5-daf4-4496-ad24-e25e12350998"
      },
      "execution_count": 4,
      "outputs": [
        {
          "output_type": "stream",
          "name": "stdout",
          "text": [
            "[1, 4, 9, 16, 25]\n"
          ]
        }
      ]
    },
    {
      "cell_type": "code",
      "source": [
        "# Criando duas funções\n",
        "\n",
        "# Função 1: recebe uma temperatura como parâmentro e retorna a temperatura em Fahrenheith\n",
        "def fahrenheith(t):\n",
        "  # fórmula matemática de conversão de temperatura\n",
        "  return ((float(9)/5*t + 32))\n",
        "\n",
        "# Função 2: recebe uma temperatura como parâmetro e retorna a temperatura em Celsius\n",
        "def celsius(t):\n",
        "  # fórmula matemática de conversão de temperatura\n",
        "  return (float(5)/9)*(t-32)"
      ],
      "metadata": {
        "id": "jwpKX6tEAjwC"
      },
      "execution_count": 20,
      "outputs": []
    },
    {
      "cell_type": "code",
      "source": [
        "# criando uma lista\n",
        "temps = [0,22.8,40,38]"
      ],
      "metadata": {
        "id": "ClhOaQIOBJFk"
      },
      "execution_count": 6,
      "outputs": []
    },
    {
      "cell_type": "code",
      "source": [
        "# aplicando a função 'fahrenheith' a cada elemento da lista 'temps'\n",
        "# em Python 3, a função map() retorna um iterator (objeto pelo qual você pode navegar)\n",
        "map(fahrenheith, temps)"
      ],
      "metadata": {
        "colab": {
          "base_uri": "https://localhost:8080/"
        },
        "id": "CJwYNWi5BQ2G",
        "outputId": "1713aea6-b524-4852-eeb6-876b5d97cc87"
      },
      "execution_count": 21,
      "outputs": [
        {
          "output_type": "execute_result",
          "data": {
            "text/plain": [
              "<map at 0x7cc7e66206a0>"
            ]
          },
          "metadata": {},
          "execution_count": 21
        }
      ]
    },
    {
      "cell_type": "code",
      "source": [
        "# Modo 1: converter o objeto iterator retornado pelo map() em uma lista\n",
        "# função map() retornando a lista de temperaturas convertidas em Fahrenheith\n",
        "list(map(fahrenheith, temps))"
      ],
      "metadata": {
        "colab": {
          "base_uri": "https://localhost:8080/"
        },
        "id": "gBKaSqBRBfgy",
        "outputId": "2f501ee9-d7e4-4770-83d2-e3fe62007d87"
      },
      "execution_count": 22,
      "outputs": [
        {
          "output_type": "execute_result",
          "data": {
            "text/plain": [
              "[32.0, 73.03999999999999, 104.0, 100.4]"
            ]
          },
          "metadata": {},
          "execution_count": 22
        }
      ]
    },
    {
      "cell_type": "code",
      "source": [
        "# Modo 2: usar um loop for para imprimir o resultado da função map()\n",
        "# para cada temperatura retornada pelo map()\n",
        "for temp in map(fahrenheith, temps):\n",
        "  print(temp)"
      ],
      "metadata": {
        "colab": {
          "base_uri": "https://localhost:8080/"
        },
        "id": "Tazg8cNdBpGL",
        "outputId": "8efbdeaf-be85-4fb6-c652-1a365d6cf25a"
      },
      "execution_count": 23,
      "outputs": [
        {
          "output_type": "stream",
          "name": "stdout",
          "text": [
            "32.0\n",
            "73.03999999999999\n",
            "104.0\n",
            "100.4\n"
          ]
        }
      ]
    },
    {
      "cell_type": "code",
      "source": [
        "# convertendo temps para Celsius\n",
        "map(celsius, temps)"
      ],
      "metadata": {
        "colab": {
          "base_uri": "https://localhost:8080/"
        },
        "id": "Pc3vECwxBysL",
        "outputId": "e1d9a5f1-c3bb-4b2c-e469-6bc1c33a84d9"
      },
      "execution_count": 24,
      "outputs": [
        {
          "output_type": "execute_result",
          "data": {
            "text/plain": [
              "<map at 0x7cc7e66203a0>"
            ]
          },
          "metadata": {},
          "execution_count": 24
        }
      ]
    },
    {
      "cell_type": "code",
      "source": [
        "list(map(celsius, temps))"
      ],
      "metadata": {
        "colab": {
          "base_uri": "https://localhost:8080/"
        },
        "id": "4x9Kftt1B5fj",
        "outputId": "2c3fe650-31ee-4640-f740-44db7961911e"
      },
      "execution_count": 11,
      "outputs": [
        {
          "output_type": "execute_result",
          "data": {
            "text/plain": [
              "[-17.77777777777778, -5.111111111111111, 4.444444444444445, 3.3333333333333335]"
            ]
          },
          "metadata": {},
          "execution_count": 11
        }
      ]
    },
    {
      "cell_type": "code",
      "source": [
        "# criando uma função usando a expressão lambda (anônima)\n",
        "# para cada x em temps, aplicar o cálculo\n",
        "map(lambda x: (5.0/9)*(x-32), temps)"
      ],
      "metadata": {
        "colab": {
          "base_uri": "https://localhost:8080/"
        },
        "id": "WKTJnmhtB9rK",
        "outputId": "d42aa7e6-c212-4804-9aac-20d3ab1aa0e4"
      },
      "execution_count": 25,
      "outputs": [
        {
          "output_type": "execute_result",
          "data": {
            "text/plain": [
              "<map at 0x7cc7e6620220>"
            ]
          },
          "metadata": {},
          "execution_count": 25
        }
      ]
    },
    {
      "cell_type": "code",
      "source": [
        "list(map(lambda x: (5.0/9)*(x-32), temps))"
      ],
      "metadata": {
        "colab": {
          "base_uri": "https://localhost:8080/"
        },
        "id": "JsH3omk4CKK8",
        "outputId": "8513cc4c-d5e6-492a-b6b7-a4f83bdb8c46"
      },
      "execution_count": 13,
      "outputs": [
        {
          "output_type": "execute_result",
          "data": {
            "text/plain": [
              "[-17.77777777777778, -5.111111111111111, 4.444444444444445, 3.3333333333333335]"
            ]
          },
          "metadata": {},
          "execution_count": 13
        }
      ]
    },
    {
      "cell_type": "code",
      "source": [
        "# somando os elementos de 2 listas\n",
        "a = [3,6,9,12]\n",
        "b = [2,4,6,8]"
      ],
      "metadata": {
        "id": "dqRxnItECSS7"
      },
      "execution_count": 14,
      "outputs": []
    },
    {
      "cell_type": "code",
      "source": [
        "# para cada elemento na lista a e na lista b, somar os dois\n",
        "list(map(lambda x,y: x+y, a, b))"
      ],
      "metadata": {
        "colab": {
          "base_uri": "https://localhost:8080/"
        },
        "id": "vBTZX2m9Ca3f",
        "outputId": "6f2e5b78-bb9f-4da0-fe6e-7a8107f6516a"
      },
      "execution_count": 15,
      "outputs": [
        {
          "output_type": "execute_result",
          "data": {
            "text/plain": [
              "[5, 10, 15, 20]"
            ]
          },
          "metadata": {},
          "execution_count": 15
        }
      ]
    },
    {
      "cell_type": "code",
      "source": [
        "# somando os elementos de 2 listas\n",
        "a = [3,6,9,12]\n",
        "b = [2,4,6,8]\n",
        "c = [5,10,15,20]"
      ],
      "metadata": {
        "id": "zXoKIV9JCjwv"
      },
      "execution_count": 16,
      "outputs": []
    },
    {
      "cell_type": "code",
      "source": [
        "list(map(lambda x,y,z: x+y+z, a,b,c))"
      ],
      "metadata": {
        "colab": {
          "base_uri": "https://localhost:8080/"
        },
        "id": "wUpV5eABCoWW",
        "outputId": "fcaf5a1f-4ad6-45da-b5d5-ce7d380207ce"
      },
      "execution_count": 17,
      "outputs": [
        {
          "output_type": "execute_result",
          "data": {
            "text/plain": [
              "[10, 20, 30, 40]"
            ]
          },
          "metadata": {},
          "execution_count": 17
        }
      ]
    },
    {
      "cell_type": "markdown",
      "source": [
        "A função map() é extremamente útil quando for necessário aplicar uma função a cada elemento de um objeto iterável (que pode ser navegado)"
      ],
      "metadata": {
        "id": "Hjcm4E1KQ3rK"
      }
    }
  ]
}