{
  "nbformat": 4,
  "nbformat_minor": 0,
  "metadata": {
    "colab": {
      "provenance": [],
      "authorship_tag": "ABX9TyMkjvKcV8PD5yQlftsCoISn"
    },
    "kernelspec": {
      "name": "python3",
      "display_name": "Python 3"
    },
    "language_info": {
      "name": "python"
    }
  },
  "cells": [
    {
      "cell_type": "markdown",
      "source": [
        "# Função Filter\n",
        "\n",
        "A função filter() em Python é uma função que **filtra elementos de uma estrutura de dados iterável** (como uma lista, tupla ou outro objeto iterável) com base em uma determinada condição. A função filter() retorna um objeto filtro, que pode ser convertido em outra estrutura de dados, como uma lista, se necessário."
      ],
      "metadata": {
        "id": "ILt2Y7sjgyJn"
      }
    },
    {
      "cell_type": "code",
      "execution_count": 10,
      "metadata": {
        "id": "b-Km1X0Ael2_"
      },
      "outputs": [],
      "source": [
        "# criando uma função que verifica se o número é par (True) ou ímpar (False)\n",
        "def verifPar(n):\n",
        "  # se o n / 2 o resto for = 0\n",
        "  if n % 2 == 0:\n",
        "    return True\n",
        "  else:\n",
        "    return False"
      ]
    },
    {
      "cell_type": "code",
      "source": [
        "# chamando a função e passando um número como parâmetro.\n",
        "# retorna True se for par e False se for ímpar\n",
        "verifPar(23)"
      ],
      "metadata": {
        "colab": {
          "base_uri": "https://localhost:8080/"
        },
        "id": "Z_rsl0K6hYJp",
        "outputId": "e2d58e69-6205-4c0e-9658-cb7db8df4d0e"
      },
      "execution_count": 2,
      "outputs": [
        {
          "output_type": "execute_result",
          "data": {
            "text/plain": [
              "False"
            ]
          },
          "metadata": {},
          "execution_count": 2
        }
      ]
    },
    {
      "cell_type": "code",
      "source": [
        "# retorna True se for par e False se for ímpar\n",
        "verifPar(2)"
      ],
      "metadata": {
        "colab": {
          "base_uri": "https://localhost:8080/"
        },
        "id": "05ewC7YFhqAp",
        "outputId": "04a9791c-7182-4b30-9aa6-30f22c081a4e"
      },
      "execution_count": 3,
      "outputs": [
        {
          "output_type": "execute_result",
          "data": {
            "text/plain": [
              "True"
            ]
          },
          "metadata": {},
          "execution_count": 3
        }
      ]
    },
    {
      "cell_type": "code",
      "source": [
        "# criando uma lista\n",
        "lst = [0,1,2,3,4,5,10,11,12,13,14,15,20,21,22,23,24,25]"
      ],
      "metadata": {
        "id": "JEKfdZhBhsfK"
      },
      "execution_count": 4,
      "outputs": []
    },
    {
      "cell_type": "code",
      "source": [
        "# exibe a lista criada\n",
        "lst"
      ],
      "metadata": {
        "colab": {
          "base_uri": "https://localhost:8080/"
        },
        "id": "aOZlgxYNh05R",
        "outputId": "0e0df27a-6854-4354-ebaf-e3ac26f9c1e1"
      },
      "execution_count": 5,
      "outputs": [
        {
          "output_type": "execute_result",
          "data": {
            "text/plain": [
              "[0, 1, 2, 3, 4, 5, 10, 11, 12, 13, 14, 15, 20, 21, 22, 23, 24, 25]"
            ]
          },
          "metadata": {},
          "execution_count": 5
        }
      ]
    },
    {
      "cell_type": "code",
      "source": [
        "# a função filter() retorna um objeto iterator\n",
        "# filta a 'lst' e retorna somente os números que resultarem em True\n",
        "filter(verifPar, lst)"
      ],
      "metadata": {
        "colab": {
          "base_uri": "https://localhost:8080/"
        },
        "id": "NBfRcJSJh8po",
        "outputId": "8c4e2b02-84c9-4428-e62d-31f01ade2fd1"
      },
      "execution_count": 6,
      "outputs": [
        {
          "output_type": "execute_result",
          "data": {
            "text/plain": [
              "<filter at 0x7c2a61979d80>"
            ]
          },
          "metadata": {},
          "execution_count": 6
        }
      ]
    },
    {
      "cell_type": "code",
      "source": [
        "# converte o resultado de filter em lista\n",
        "list(filter(verifPar, lst))"
      ],
      "metadata": {
        "colab": {
          "base_uri": "https://localhost:8080/"
        },
        "id": "G_BfggTfiEx4",
        "outputId": "e9c2d36c-e436-4728-a385-9b41eafdd850"
      },
      "execution_count": 7,
      "outputs": [
        {
          "output_type": "execute_result",
          "data": {
            "text/plain": [
              "[0, 2, 4, 10, 12, 14, 20, 22, 24]"
            ]
          },
          "metadata": {},
          "execution_count": 7
        }
      ]
    },
    {
      "cell_type": "code",
      "source": [
        "# para cada elemento de 'lst', retorne-o se o resto da divisão do elemento por 2 for = 0\n",
        "list(filter(lambda x: x%2==0, lst))"
      ],
      "metadata": {
        "colab": {
          "base_uri": "https://localhost:8080/"
        },
        "id": "MkM_VsKKiI0M",
        "outputId": "efb94216-fafc-4e15-c7b6-529fa8591f3a"
      },
      "execution_count": 8,
      "outputs": [
        {
          "output_type": "execute_result",
          "data": {
            "text/plain": [
              "[0, 2, 4, 10, 12, 14, 20, 22, 24]"
            ]
          },
          "metadata": {},
          "execution_count": 8
        }
      ]
    },
    {
      "cell_type": "code",
      "source": [
        "# retorne apenas se o elemento de 'lst' for maior que 8\n",
        "list(filter(lambda n: n > 8, lst))"
      ],
      "metadata": {
        "colab": {
          "base_uri": "https://localhost:8080/"
        },
        "id": "RCEwgkORik1d",
        "outputId": "953c9712-1f08-47a0-ff5e-9e54fc18a56c"
      },
      "execution_count": 9,
      "outputs": [
        {
          "output_type": "execute_result",
          "data": {
            "text/plain": [
              "[10, 11, 12, 13, 14, 15, 20, 21, 22, 23, 24, 25]"
            ]
          },
          "metadata": {},
          "execution_count": 9
        }
      ]
    }
  ]
}