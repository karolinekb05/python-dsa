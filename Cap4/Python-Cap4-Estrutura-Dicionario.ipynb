{
  "cells": [
    {
      "cell_type": "markdown",
      "id": "af51c98e",
      "metadata": {
        "id": "af51c98e"
      },
      "source": [
        "## Trabalhando com Dicionários"
      ]
    },
    {
      "cell_type": "code",
      "execution_count": null,
      "id": "0c2be466",
      "metadata": {
        "id": "0c2be466"
      },
      "outputs": [],
      "source": [
        "# Isto é uma lista com strings e números\n",
        "# A lista não amarra um elemento ao outro, os elementos são independentes\n",
        "estud = ['Pedro', 24, 'Aline', 27, 'Leandro', 20]"
      ]
    },
    {
      "cell_type": "code",
      "execution_count": null,
      "id": "f3a3b0bf",
      "metadata": {
        "id": "f3a3b0bf",
        "outputId": "ac536051-564d-40e9-b8c6-92e8c119c85e"
      },
      "outputs": [
        {
          "data": {
            "text/plain": [
              "['Pedro', 24, 'Aline', 27, 'Leandro', 20]"
            ]
          },
          "execution_count": 3,
          "metadata": {},
          "output_type": "execute_result"
        }
      ],
      "source": [
        "estud"
      ]
    },
    {
      "cell_type": "code",
      "execution_count": null,
      "id": "402eb580",
      "metadata": {
        "id": "402eb580",
        "outputId": "6ff3727c-53a8-4506-b973-820951c348aa"
      },
      "outputs": [
        {
          "data": {
            "text/plain": [
              "list"
            ]
          },
          "execution_count": 4,
          "metadata": {},
          "output_type": "execute_result"
        }
      ],
      "source": [
        "type(estud)"
      ]
    },
    {
      "cell_type": "markdown",
      "id": "1304e2d3",
      "metadata": {
        "id": "1304e2d3"
      },
      "source": [
        "Dicionário tem a estrutura em chaves { }\n",
        "\n",
        "Os valores são compostos pelo formato de pares de chave e valor {chave: valor}\n",
        "\n",
        "São elementos com associação, toda chave tem um valor\n",
        "\n",
        "\n"
      ]
    },
    {
      "cell_type": "code",
      "execution_count": null,
      "id": "c6c64df4",
      "metadata": {
        "id": "c6c64df4"
      },
      "outputs": [],
      "source": [
        "# Isto é uma dicionário\n",
        "estud_dict = {'Pedro':24, 'Aline':27, 'Leandro':20}"
      ]
    },
    {
      "cell_type": "code",
      "execution_count": null,
      "id": "05cf6d64",
      "metadata": {
        "id": "05cf6d64",
        "outputId": "57fa5bfc-3d3b-4f62-adfe-23d4ed1f954b"
      },
      "outputs": [
        {
          "data": {
            "text/plain": [
              "{'Pedro': 24, 'Aline': 27, 'Leandro': 20}"
            ]
          },
          "execution_count": 6,
          "metadata": {},
          "output_type": "execute_result"
        }
      ],
      "source": [
        "estud_dict"
      ]
    },
    {
      "cell_type": "code",
      "execution_count": null,
      "id": "34c5a47c",
      "metadata": {
        "id": "34c5a47c",
        "outputId": "dc2b2cbb-9aeb-4fa6-ef61-bd8abce3165c"
      },
      "outputs": [
        {
          "data": {
            "text/plain": [
              "dict"
            ]
          },
          "execution_count": 4,
          "metadata": {},
          "output_type": "execute_result"
        }
      ],
      "source": [
        "type(estud_dict)"
      ]
    },
    {
      "cell_type": "code",
      "execution_count": null,
      "id": "40dabe22",
      "metadata": {
        "id": "40dabe22",
        "outputId": "121f2991-5da8-4f38-ccee-debd92a3ec4d"
      },
      "outputs": [
        {
          "data": {
            "text/plain": [
              "24"
            ]
          },
          "execution_count": 5,
          "metadata": {},
          "output_type": "execute_result"
        }
      ],
      "source": [
        "# Retorna o valor associado à chave 'Pedro'\n",
        "estud_dict['Pedro']"
      ]
    },
    {
      "cell_type": "code",
      "execution_count": null,
      "id": "e8601cc4",
      "metadata": {
        "id": "e8601cc4"
      },
      "outputs": [],
      "source": [
        "# Adicionando ao dicionário uma nova chave com valor\n",
        "# chave Júlia\n",
        "# valor 22\n",
        "estud_dict['Julia'] = 22"
      ]
    },
    {
      "cell_type": "code",
      "execution_count": null,
      "id": "4befa02e",
      "metadata": {
        "id": "4befa02e",
        "outputId": "9f49b484-e4c3-4982-f034-7c7835a8481d"
      },
      "outputs": [
        {
          "data": {
            "text/plain": [
              "22"
            ]
          },
          "execution_count": 7,
          "metadata": {},
          "output_type": "execute_result"
        }
      ],
      "source": [
        "estud_dict['Julia']"
      ]
    },
    {
      "cell_type": "code",
      "execution_count": null,
      "id": "84810ffc",
      "metadata": {
        "id": "84810ffc"
      },
      "outputs": [],
      "source": [
        "# Apaga os elementos do dicionário\n",
        "estud_dict.clear()"
      ]
    },
    {
      "cell_type": "code",
      "execution_count": null,
      "id": "edfe70e0",
      "metadata": {
        "id": "edfe70e0",
        "outputId": "769f19d6-2a80-4aa8-d989-0fe82967d8f5"
      },
      "outputs": [
        {
          "data": {
            "text/plain": [
              "{}"
            ]
          },
          "execution_count": 9,
          "metadata": {},
          "output_type": "execute_result"
        }
      ],
      "source": [
        "# dicionário vazio\n",
        "estud_dict"
      ]
    },
    {
      "cell_type": "code",
      "execution_count": null,
      "id": "3f45c2d9",
      "metadata": {
        "id": "3f45c2d9"
      },
      "outputs": [],
      "source": [
        "# del faz o delete do dicionário\n",
        "del estud_dict"
      ]
    },
    {
      "cell_type": "code",
      "execution_count": null,
      "id": "3c9b6d08",
      "metadata": {
        "id": "3c9b6d08",
        "outputId": "b38eeece-47a0-4ac2-c9c3-f1067c49540c"
      },
      "outputs": [
        {
          "ename": "NameError",
          "evalue": "name 'estud_dict' is not defined",
          "output_type": "error",
          "traceback": [
            "\u001b[0;31m---------------------------------------------------------------------------\u001b[0m",
            "\u001b[0;31mNameError\u001b[0m                                 Traceback (most recent call last)",
            "\u001b[0;32m/tmp/ipykernel_70481/2807095518.py\u001b[0m in \u001b[0;36m<module>\u001b[0;34m\u001b[0m\n\u001b[0;32m----> 1\u001b[0;31m \u001b[0mestud_dict\u001b[0m\u001b[0;34m\u001b[0m\u001b[0;34m\u001b[0m\u001b[0m\n\u001b[0m",
            "\u001b[0;31mNameError\u001b[0m: name 'estud_dict' is not defined"
          ]
        }
      ],
      "source": [
        "# não existe mais por conta do del\n",
        "estud_dict"
      ]
    },
    {
      "cell_type": "code",
      "execution_count": 2,
      "id": "dbe5ac15",
      "metadata": {
        "id": "dbe5ac15"
      },
      "outputs": [],
      "source": [
        "materias = {'Python':10, 'Estatística':9, 'Lógica':8}"
      ]
    },
    {
      "cell_type": "code",
      "execution_count": null,
      "id": "ae4679e2",
      "metadata": {
        "id": "ae4679e2",
        "outputId": "10eda253-b7b2-4f55-8abd-0f56fe56a417"
      },
      "outputs": [
        {
          "data": {
            "text/plain": [
              "{'Python': 10, 'Estatística': 9, 'Lógica': 8}"
            ]
          },
          "execution_count": 13,
          "metadata": {},
          "output_type": "execute_result"
        }
      ],
      "source": [
        "materias"
      ]
    },
    {
      "cell_type": "code",
      "execution_count": null,
      "id": "b01e4f87",
      "metadata": {
        "id": "b01e4f87",
        "outputId": "26e81c40-3f4a-44b3-bad1-63753d37ba51"
      },
      "outputs": [
        {
          "data": {
            "text/plain": [
              "dict"
            ]
          },
          "execution_count": 14,
          "metadata": {},
          "output_type": "execute_result"
        }
      ],
      "source": [
        "type(materias)"
      ]
    },
    {
      "cell_type": "code",
      "execution_count": null,
      "id": "a7971517",
      "metadata": {
        "id": "a7971517",
        "outputId": "2a2bb1a6-60be-463d-8174-ac33744a4731"
      },
      "outputs": [
        {
          "data": {
            "text/plain": [
              "3"
            ]
          },
          "execution_count": 15,
          "metadata": {},
          "output_type": "execute_result"
        }
      ],
      "source": [
        "# Verifica o tamanho do dicionário\n",
        "# Cada par é um elemento do dicionário, chave: valor são 1 elemento\n",
        "len(materias)"
      ]
    },
    {
      "cell_type": "code",
      "execution_count": null,
      "id": "c3ffd5ab",
      "metadata": {
        "id": "c3ffd5ab",
        "outputId": "1ac3474a-ac2a-4ddf-9a11-8ca400a5ef5b"
      },
      "outputs": [
        {
          "data": {
            "text/plain": [
              "dict_keys(['Python', 'Estatística', 'Lógica'])"
            ]
          },
          "execution_count": 16,
          "metadata": {},
          "output_type": "execute_result"
        }
      ],
      "source": [
        "# Método que retorna somente os elementos chave\n",
        "materias.keys()"
      ]
    },
    {
      "cell_type": "code",
      "execution_count": null,
      "id": "f746238d",
      "metadata": {
        "id": "f746238d",
        "outputId": "fdd92963-a423-4423-bfc3-29e76f66b15d"
      },
      "outputs": [
        {
          "data": {
            "text/plain": [
              "dict_values([10, 9, 8])"
            ]
          },
          "execution_count": 17,
          "metadata": {},
          "output_type": "execute_result"
        }
      ],
      "source": [
        "# Método que retorna somente os elementos valor\n",
        "materias.values()"
      ]
    },
    {
      "cell_type": "code",
      "execution_count": 6,
      "id": "8db01170",
      "metadata": {
        "id": "8db01170",
        "outputId": "8503a4cd-c542-4acb-8120-1d5ee86820b1",
        "colab": {
          "base_uri": "https://localhost:8080/"
        }
      },
      "outputs": [
        {
          "output_type": "execute_result",
          "data": {
            "text/plain": [
              "dict_items([('Python', 10), ('Estatística', 9), ('Lógica', 8)])"
            ]
          },
          "metadata": {},
          "execution_count": 6
        }
      ],
      "source": [
        "# Método que retorna os elementos do dicionário\n",
        "materias.items()"
      ]
    },
    {
      "cell_type": "code",
      "execution_count": null,
      "id": "a55d5e4a",
      "metadata": {
        "id": "a55d5e4a"
      },
      "outputs": [],
      "source": [
        "materias2 = {'IA':15, 'ML': 5, 'BI':10}"
      ]
    },
    {
      "cell_type": "code",
      "execution_count": null,
      "id": "f2de0169",
      "metadata": {
        "id": "f2de0169"
      },
      "outputs": [],
      "source": [
        "# Agrega os dicionários\n",
        "# materias2 se une com materias se tornando apenas um dicionário\n",
        "materias.update(materias2)"
      ]
    },
    {
      "cell_type": "code",
      "execution_count": null,
      "id": "b750ae9c",
      "metadata": {
        "id": "b750ae9c",
        "outputId": "2669cfc5-9159-4264-d6b6-419daba1caec"
      },
      "outputs": [
        {
          "data": {
            "text/plain": [
              "{'Python': 10, 'Estatística': 9, 'Lógica': 8, 'IA': 15, 'ML': 5, 'BI': 10}"
            ]
          },
          "execution_count": 21,
          "metadata": {},
          "output_type": "execute_result"
        }
      ],
      "source": [
        "materias"
      ]
    },
    {
      "cell_type": "code",
      "execution_count": null,
      "id": "2321532f",
      "metadata": {
        "id": "2321532f"
      },
      "outputs": [],
      "source": [
        "# Criando um dicionário vazio\n",
        "dict_vazio = {}"
      ]
    },
    {
      "cell_type": "code",
      "execution_count": null,
      "id": "4f4847d8",
      "metadata": {
        "id": "4f4847d8",
        "outputId": "a2eb1bcb-2747-412c-c9bc-927f9841c461"
      },
      "outputs": [
        {
          "data": {
            "text/plain": [
              "{}"
            ]
          },
          "execution_count": 23,
          "metadata": {},
          "output_type": "execute_result"
        }
      ],
      "source": [
        "dict_vazio"
      ]
    },
    {
      "cell_type": "code",
      "execution_count": null,
      "id": "562c7215",
      "metadata": {
        "id": "562c7215"
      },
      "outputs": [],
      "source": [
        "# Acrescentando item no dict vazio\n",
        "# chave first\n",
        "# valor 4\n",
        "dict_vazio['first'] = 4"
      ]
    },
    {
      "cell_type": "code",
      "execution_count": null,
      "id": "1d199c6e",
      "metadata": {
        "id": "1d199c6e",
        "outputId": "dcf222a0-829d-45a9-bc3a-a7d3e86ac066"
      },
      "outputs": [
        {
          "data": {
            "text/plain": [
              "{'first': 4}"
            ]
          },
          "execution_count": 25,
          "metadata": {},
          "output_type": "execute_result"
        }
      ],
      "source": [
        "dict_vazio"
      ]
    },
    {
      "cell_type": "code",
      "execution_count": null,
      "id": "b65decfd",
      "metadata": {
        "id": "b65decfd"
      },
      "outputs": [],
      "source": [
        "dict_vazio['float'] = 9.2"
      ]
    },
    {
      "cell_type": "code",
      "execution_count": null,
      "id": "41a88a13",
      "metadata": {
        "id": "41a88a13"
      },
      "outputs": [],
      "source": [
        "dict_vazio['string'] = 'oi'"
      ]
    },
    {
      "cell_type": "code",
      "execution_count": null,
      "id": "171bf371",
      "metadata": {
        "id": "171bf371",
        "outputId": "e86572de-cf65-4b90-d320-687cd9e2d592"
      },
      "outputs": [
        {
          "data": {
            "text/plain": [
              "{'first': 4, 'float': 9.2, 'string': 'oi'}"
            ]
          },
          "execution_count": 28,
          "metadata": {},
          "output_type": "execute_result"
        }
      ],
      "source": [
        "dict_vazio"
      ]
    },
    {
      "cell_type": "code",
      "execution_count": null,
      "id": "8a72f2a5",
      "metadata": {
        "id": "8a72f2a5"
      },
      "outputs": [],
      "source": [
        "dict_vazio[10] = 2"
      ]
    },
    {
      "cell_type": "code",
      "execution_count": null,
      "id": "015aa013",
      "metadata": {
        "id": "015aa013"
      },
      "outputs": [],
      "source": [
        "dict_vazio[2.5] = 'Python'"
      ]
    },
    {
      "cell_type": "code",
      "execution_count": null,
      "id": "dfa7ee33",
      "metadata": {
        "id": "dfa7ee33",
        "outputId": "5cca0ab2-8707-4e9a-b557-9da45c432afa"
      },
      "outputs": [
        {
          "data": {
            "text/plain": [
              "{'first': 4,\n",
              " 'float': 9.2,\n",
              " 'string': 'oi',\n",
              " '10': 2,\n",
              " '2': 'Python',\n",
              " 2.5: 'Python',\n",
              " 10: 2}"
            ]
          },
          "execution_count": 34,
          "metadata": {},
          "output_type": "execute_result"
        }
      ],
      "source": [
        "dict_vazio"
      ]
    },
    {
      "cell_type": "markdown",
      "id": "637cf91e",
      "metadata": {
        "id": "637cf91e"
      },
      "source": [
        "A linguagem Python aceita diversos tipos de dados no mesmo dicionário mas o correto é evitar para não causar transtornos, o ideal é a chave e valor do mesmo tipo de dado"
      ]
    },
    {
      "cell_type": "code",
      "execution_count": 7,
      "id": "ed9595bf",
      "metadata": {
        "id": "ed9595bf"
      },
      "outputs": [],
      "source": [
        "dict = {}"
      ]
    },
    {
      "cell_type": "code",
      "execution_count": 8,
      "id": "6d9f61c5",
      "metadata": {
        "id": "6d9f61c5"
      },
      "outputs": [],
      "source": [
        "dict['teste'] = 10"
      ]
    },
    {
      "cell_type": "code",
      "execution_count": 9,
      "id": "915111f3",
      "metadata": {
        "id": "915111f3"
      },
      "outputs": [],
      "source": [
        "dict['2'] = 'teste'"
      ]
    },
    {
      "cell_type": "code",
      "execution_count": null,
      "id": "5f3ccb96",
      "metadata": {
        "id": "5f3ccb96",
        "outputId": "ebc9fa67-c4bf-4b89-a036-ce10b3b11eb0"
      },
      "outputs": [
        {
          "data": {
            "text/plain": [
              "{'teste': 10, '2': 'teste'}"
            ]
          },
          "execution_count": 38,
          "metadata": {},
          "output_type": "execute_result"
        }
      ],
      "source": [
        "# Chave e valor podem ter valores iguais mas representam coisas diferentes, evite isso\n",
        "# Teste é chave e teste é valor também, no mesmo dicionário, evite!\n",
        "dict"
      ]
    },
    {
      "cell_type": "code",
      "execution_count": null,
      "id": "769d5912",
      "metadata": {
        "id": "769d5912"
      },
      "outputs": [],
      "source": [
        "novo_dict = {}"
      ]
    },
    {
      "cell_type": "code",
      "execution_count": null,
      "id": "ab7e5f79",
      "metadata": {
        "id": "ab7e5f79"
      },
      "outputs": [],
      "source": [
        "novo_dict['key1'] = 'Python'"
      ]
    },
    {
      "cell_type": "code",
      "execution_count": null,
      "id": "b658c899",
      "metadata": {
        "id": "b658c899"
      },
      "outputs": [],
      "source": [
        "novo_dict['key2'] = '10'"
      ]
    },
    {
      "cell_type": "code",
      "execution_count": null,
      "id": "d0d10388",
      "metadata": {
        "id": "d0d10388"
      },
      "outputs": [],
      "source": [
        "novo_dict['key3'] = 'Teste'"
      ]
    },
    {
      "cell_type": "code",
      "execution_count": null,
      "id": "d2584ebe",
      "metadata": {
        "id": "d2584ebe",
        "outputId": "e1954ef7-26bd-48ca-e649-d8f7d2c55b4e"
      },
      "outputs": [
        {
          "data": {
            "text/plain": [
              "{'key1': 'Python', 'key2': '10', 'key3': 'Teste'}"
            ]
          },
          "execution_count": 44,
          "metadata": {},
          "output_type": "execute_result"
        }
      ],
      "source": [
        "novo_dict"
      ]
    },
    {
      "cell_type": "markdown",
      "id": "3ac55b8d",
      "metadata": {
        "id": "3ac55b8d"
      },
      "source": [
        "Armazene nas variáveis a, b e c os valores das chaves respectivamente que estão no novo_dict"
      ]
    },
    {
      "cell_type": "code",
      "execution_count": null,
      "id": "32e3d90c",
      "metadata": {
        "id": "32e3d90c"
      },
      "outputs": [],
      "source": [
        "# Pegar o valor que está na chave 'key1' e armazenar na variável 'a'\n",
        "a = novo_dict['key1']"
      ]
    },
    {
      "cell_type": "code",
      "execution_count": null,
      "id": "8983b661",
      "metadata": {
        "id": "8983b661",
        "outputId": "2e797792-7903-48c1-e700-377251185567"
      },
      "outputs": [
        {
          "data": {
            "text/plain": [
              "'Python'"
            ]
          },
          "execution_count": 46,
          "metadata": {},
          "output_type": "execute_result"
        }
      ],
      "source": [
        "a"
      ]
    },
    {
      "cell_type": "code",
      "execution_count": null,
      "id": "5f6382a8",
      "metadata": {
        "id": "5f6382a8"
      },
      "outputs": [],
      "source": [
        "b = novo_dict['key2']"
      ]
    },
    {
      "cell_type": "code",
      "execution_count": null,
      "id": "e4408d16",
      "metadata": {
        "id": "e4408d16"
      },
      "outputs": [],
      "source": [
        "c = novo_dict['key3']"
      ]
    },
    {
      "cell_type": "code",
      "execution_count": null,
      "id": "c22ce6b1",
      "metadata": {
        "id": "c22ce6b1",
        "outputId": "79606c23-9c06-4e20-da69-096e08469412"
      },
      "outputs": [
        {
          "data": {
            "text/plain": [
              "('Teste', 'Python', '10')"
            ]
          },
          "execution_count": 49,
          "metadata": {},
          "output_type": "execute_result"
        }
      ],
      "source": [
        "c, a, b"
      ]
    },
    {
      "cell_type": "code",
      "execution_count": null,
      "id": "1ca36f40",
      "metadata": {
        "id": "1ca36f40"
      },
      "outputs": [],
      "source": [
        "# Dicionário de listas\n",
        "# Lista dentro de dicionário\n",
        "dict = {'key1':1, 'key2':[10,20,30], 'key3':['amarelo', 'roxo', 'azul']}"
      ]
    },
    {
      "cell_type": "code",
      "execution_count": null,
      "id": "0ef769a7",
      "metadata": {
        "id": "0ef769a7",
        "outputId": "142eef49-776a-4dcc-bcfe-1a2079f10193"
      },
      "outputs": [
        {
          "data": {
            "text/plain": [
              "{'key1': 1, 'key2': [10, 20, 30], 'key3': ['amarelo', 'roxo', 'azul']}"
            ]
          },
          "execution_count": 51,
          "metadata": {},
          "output_type": "execute_result"
        }
      ],
      "source": [
        "dict"
      ]
    },
    {
      "cell_type": "code",
      "execution_count": null,
      "id": "5855e63b",
      "metadata": {
        "id": "5855e63b",
        "outputId": "ede4e5b1-9149-452d-cea1-21bfa2cf5ca5"
      },
      "outputs": [
        {
          "data": {
            "text/plain": [
              "[10, 20, 30]"
            ]
          },
          "execution_count": 52,
          "metadata": {},
          "output_type": "execute_result"
        }
      ],
      "source": [
        "# valor da chave 'key2' é uma lista\n",
        "dict['key2']"
      ]
    },
    {
      "cell_type": "code",
      "execution_count": null,
      "id": "223fb8ea",
      "metadata": {
        "id": "223fb8ea",
        "outputId": "38fa8720-b367-4a7a-f064-5242e705e03c"
      },
      "outputs": [
        {
          "data": {
            "text/plain": [
              "'AMARELO'"
            ]
          },
          "execution_count": 53,
          "metadata": {},
          "output_type": "execute_result"
        }
      ],
      "source": [
        "# Acessando um item da lista que está dentro do dicionário\n",
        "# Busca a chave 'key3', o valor no índice 0, como é uma lista, o índice 0 da lista é 'amarelo' e o método upper transforma em maiúsculo\n",
        "dict['key3'][0].upper()"
      ]
    },
    {
      "cell_type": "code",
      "execution_count": null,
      "id": "70c6168f",
      "metadata": {
        "id": "70c6168f",
        "outputId": "16f7995e-9913-4e7b-c4b9-ede4d4698ff0"
      },
      "outputs": [
        {
          "data": {
            "text/plain": [
              "30"
            ]
          },
          "execution_count": 54,
          "metadata": {},
          "output_type": "execute_result"
        }
      ],
      "source": [
        "# Índice 2 da lista atribuída a chave key2\n",
        "dict['key2'][2]"
      ]
    },
    {
      "cell_type": "code",
      "execution_count": null,
      "id": "9aea68ae",
      "metadata": {
        "id": "9aea68ae"
      },
      "outputs": [],
      "source": [
        "# Operação com item da lista que está dentro do dicionário\n",
        "# Busca o valor da chave 'key2' e subtrai por 6, armazena o resultado na variável 'resultado'\n",
        "resultado = dict['key2'][1] - 6"
      ]
    },
    {
      "cell_type": "code",
      "execution_count": null,
      "id": "facdcacb",
      "metadata": {
        "id": "facdcacb",
        "outputId": "b72bc713-22c9-459d-8da2-dc7f11e87e4c"
      },
      "outputs": [
        {
          "data": {
            "text/plain": [
              "14"
            ]
          },
          "execution_count": 56,
          "metadata": {},
          "output_type": "execute_result"
        }
      ],
      "source": [
        "resultado"
      ]
    },
    {
      "cell_type": "code",
      "execution_count": null,
      "id": "6a6f350e",
      "metadata": {
        "id": "6a6f350e"
      },
      "outputs": [],
      "source": [
        "# Duas operações no mesmo comando para atualizar o valor antigo da lista pelo novo resultado\n",
        "# Buscar o valor da chave 'key2', no caso o valor é uma lista, o índice 0 da lista é 10 que será subtraido por 5 resulta em 5 e o resultado substitui o valor da chave 'key2' no índice 0\n",
        "dict['key2'][0] -= 5"
      ]
    },
    {
      "cell_type": "code",
      "execution_count": null,
      "id": "d54e404e",
      "metadata": {
        "id": "d54e404e",
        "outputId": "0c792289-f279-4a51-9e4b-b1711615451b"
      },
      "outputs": [
        {
          "data": {
            "text/plain": [
              "{'key1': 1, 'key2': [5, 20, 30], 'key3': ['amarelo', 'roxo', 'azul']}"
            ]
          },
          "execution_count": 58,
          "metadata": {},
          "output_type": "execute_result"
        }
      ],
      "source": [
        "dict"
      ]
    },
    {
      "cell_type": "markdown",
      "id": "819eb656",
      "metadata": {
        "id": "819eb656"
      },
      "source": [
        "## Criando Dicionários Aninhados\n",
        "\n",
        "O arquivo JSON tem o formato de dicionário aninhado"
      ]
    },
    {
      "cell_type": "code",
      "execution_count": null,
      "id": "77b113ac",
      "metadata": {
        "id": "77b113ac"
      },
      "outputs": [],
      "source": [
        "# Criando o dicionário aninhado, mas evite essa prática\n",
        "dict_aninhado = {'primeiro':{'segundo':{'terceiro':'Python é legal'}}}"
      ]
    },
    {
      "cell_type": "code",
      "execution_count": null,
      "id": "584650a6",
      "metadata": {
        "id": "584650a6",
        "outputId": "0fba5a78-4910-47ca-f7d1-72cefe10af7e"
      },
      "outputs": [
        {
          "data": {
            "text/plain": [
              "{'primeiro': {'segundo': {'terceiro': 'Python é legal'}}}"
            ]
          },
          "execution_count": 61,
          "metadata": {},
          "output_type": "execute_result"
        }
      ],
      "source": [
        "dict_aninhado"
      ]
    },
    {
      "cell_type": "code",
      "execution_count": null,
      "id": "beeb8d33",
      "metadata": {
        "id": "beeb8d33",
        "outputId": "51b02c36-9922-4350-c9b5-4d9a787f35ed"
      },
      "outputs": [
        {
          "data": {
            "text/plain": [
              "{'segundo': {'terceiro': 'Python é legal'}}"
            ]
          },
          "execution_count": 62,
          "metadata": {},
          "output_type": "execute_result"
        }
      ],
      "source": [
        "dict_aninhado['primeiro']"
      ]
    },
    {
      "cell_type": "code",
      "execution_count": null,
      "id": "9100efb8",
      "metadata": {
        "id": "9100efb8",
        "outputId": "42a9d028-43f8-457a-9501-977a136f0480"
      },
      "outputs": [
        {
          "data": {
            "text/plain": [
              "{'terceiro': 'Python é legal'}"
            ]
          },
          "execution_count": 63,
          "metadata": {},
          "output_type": "execute_result"
        }
      ],
      "source": [
        "dict_aninhado['primeiro']['segundo']"
      ]
    },
    {
      "cell_type": "code",
      "execution_count": null,
      "id": "3cf13b7d",
      "metadata": {
        "id": "3cf13b7d",
        "outputId": "c1bd18e6-0038-46de-e09b-a972b7ed0fd5"
      },
      "outputs": [
        {
          "data": {
            "text/plain": [
              "'Python é legal'"
            ]
          },
          "execution_count": 64,
          "metadata": {},
          "output_type": "execute_result"
        }
      ],
      "source": [
        "dict_aninhado['primeiro']['segundo']['terceiro']"
      ]
    }
  ],
  "metadata": {
    "kernelspec": {
      "display_name": "Python 3 (ipykernel)",
      "language": "python",
      "name": "python3"
    },
    "language_info": {
      "codemirror_mode": {
        "name": "ipython",
        "version": 3
      },
      "file_extension": ".py",
      "mimetype": "text/x-python",
      "name": "python",
      "nbconvert_exporter": "python",
      "pygments_lexer": "ipython3",
      "version": "3.9.13"
    },
    "colab": {
      "provenance": []
    }
  },
  "nbformat": 4,
  "nbformat_minor": 5
}