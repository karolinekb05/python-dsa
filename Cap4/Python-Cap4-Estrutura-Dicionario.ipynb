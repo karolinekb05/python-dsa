{
 "cells": [
  {
   "cell_type": "markdown",
   "id": "af51c98e",
   "metadata": {},
   "source": [
    "## Trabalhando com Dicionários"
   ]
  },
  {
   "cell_type": "code",
   "execution_count": 2,
   "id": "0c2be466",
   "metadata": {},
   "outputs": [],
   "source": [
    "# Isto é uma lista\n",
    "estud = ['Pedro', 24, 'Aline', 27, 'Leandro', 20]"
   ]
  },
  {
   "cell_type": "code",
   "execution_count": 3,
   "id": "f3a3b0bf",
   "metadata": {},
   "outputs": [
    {
     "data": {
      "text/plain": [
       "['Pedro', 24, 'Aline', 27, 'Leandro', 20]"
      ]
     },
     "execution_count": 3,
     "metadata": {},
     "output_type": "execute_result"
    }
   ],
   "source": [
    "estud"
   ]
  },
  {
   "cell_type": "code",
   "execution_count": 4,
   "id": "402eb580",
   "metadata": {},
   "outputs": [
    {
     "data": {
      "text/plain": [
       "list"
      ]
     },
     "execution_count": 4,
     "metadata": {},
     "output_type": "execute_result"
    }
   ],
   "source": [
    "type(estud)"
   ]
  },
  {
   "cell_type": "markdown",
   "id": "1304e2d3",
   "metadata": {},
   "source": [
    "Dicionário tem a estrutura em {}"
   ]
  },
  {
   "cell_type": "code",
   "execution_count": 3,
   "id": "c6c64df4",
   "metadata": {},
   "outputs": [],
   "source": [
    "# Isto é uma dicionário\n",
    "# Elementos com associação\n",
    "# Chave: valor\n",
    "estud_dict = {'Pedro':24, 'Aline':27, 'Leandro':20}"
   ]
  },
  {
   "cell_type": "code",
   "execution_count": 6,
   "id": "05cf6d64",
   "metadata": {},
   "outputs": [
    {
     "data": {
      "text/plain": [
       "{'Pedro': 24, 'Aline': 27, 'Leandro': 20}"
      ]
     },
     "execution_count": 6,
     "metadata": {},
     "output_type": "execute_result"
    }
   ],
   "source": [
    "estud_dict"
   ]
  },
  {
   "cell_type": "code",
   "execution_count": 4,
   "id": "34c5a47c",
   "metadata": {},
   "outputs": [
    {
     "data": {
      "text/plain": [
       "dict"
      ]
     },
     "execution_count": 4,
     "metadata": {},
     "output_type": "execute_result"
    }
   ],
   "source": [
    "type(estud_dict)"
   ]
  },
  {
   "cell_type": "code",
   "execution_count": 5,
   "id": "40dabe22",
   "metadata": {},
   "outputs": [
    {
     "data": {
      "text/plain": [
       "24"
      ]
     },
     "execution_count": 5,
     "metadata": {},
     "output_type": "execute_result"
    }
   ],
   "source": [
    "estud_dict['Pedro']"
   ]
  },
  {
   "cell_type": "code",
   "execution_count": 6,
   "id": "e8601cc4",
   "metadata": {},
   "outputs": [],
   "source": [
    "# Adicionando ao dicionário uma nova chave com valor\n",
    "estud_dict['Julia'] = 22"
   ]
  },
  {
   "cell_type": "code",
   "execution_count": 7,
   "id": "4befa02e",
   "metadata": {},
   "outputs": [
    {
     "data": {
      "text/plain": [
       "22"
      ]
     },
     "execution_count": 7,
     "metadata": {},
     "output_type": "execute_result"
    }
   ],
   "source": [
    "estud_dict['Julia']"
   ]
  },
  {
   "cell_type": "code",
   "execution_count": 8,
   "id": "84810ffc",
   "metadata": {},
   "outputs": [],
   "source": [
    "# Limpa o dicionário\n",
    "estud_dict.clear()"
   ]
  },
  {
   "cell_type": "code",
   "execution_count": 9,
   "id": "edfe70e0",
   "metadata": {},
   "outputs": [
    {
     "data": {
      "text/plain": [
       "{}"
      ]
     },
     "execution_count": 9,
     "metadata": {},
     "output_type": "execute_result"
    }
   ],
   "source": [
    "estud_dict"
   ]
  },
  {
   "cell_type": "code",
   "execution_count": 10,
   "id": "3f45c2d9",
   "metadata": {},
   "outputs": [],
   "source": [
    "del estud_dict"
   ]
  },
  {
   "cell_type": "code",
   "execution_count": 11,
   "id": "3c9b6d08",
   "metadata": {},
   "outputs": [
    {
     "ename": "NameError",
     "evalue": "name 'estud_dict' is not defined",
     "output_type": "error",
     "traceback": [
      "\u001b[0;31m---------------------------------------------------------------------------\u001b[0m",
      "\u001b[0;31mNameError\u001b[0m                                 Traceback (most recent call last)",
      "\u001b[0;32m/tmp/ipykernel_70481/2807095518.py\u001b[0m in \u001b[0;36m<module>\u001b[0;34m\u001b[0m\n\u001b[0;32m----> 1\u001b[0;31m \u001b[0mestud_dict\u001b[0m\u001b[0;34m\u001b[0m\u001b[0;34m\u001b[0m\u001b[0m\n\u001b[0m",
      "\u001b[0;31mNameError\u001b[0m: name 'estud_dict' is not defined"
     ]
    }
   ],
   "source": [
    "estud_dict"
   ]
  },
  {
   "cell_type": "code",
   "execution_count": 12,
   "id": "dbe5ac15",
   "metadata": {},
   "outputs": [],
   "source": [
    "materias = {'Python':10, 'Estatística':9, 'Lógica':8}"
   ]
  },
  {
   "cell_type": "code",
   "execution_count": 13,
   "id": "ae4679e2",
   "metadata": {},
   "outputs": [
    {
     "data": {
      "text/plain": [
       "{'Python': 10, 'Estatística': 9, 'Lógica': 8}"
      ]
     },
     "execution_count": 13,
     "metadata": {},
     "output_type": "execute_result"
    }
   ],
   "source": [
    "materias"
   ]
  },
  {
   "cell_type": "code",
   "execution_count": 14,
   "id": "b01e4f87",
   "metadata": {},
   "outputs": [
    {
     "data": {
      "text/plain": [
       "dict"
      ]
     },
     "execution_count": 14,
     "metadata": {},
     "output_type": "execute_result"
    }
   ],
   "source": [
    "type(materias)"
   ]
  },
  {
   "cell_type": "code",
   "execution_count": 15,
   "id": "a7971517",
   "metadata": {},
   "outputs": [
    {
     "data": {
      "text/plain": [
       "3"
      ]
     },
     "execution_count": 15,
     "metadata": {},
     "output_type": "execute_result"
    }
   ],
   "source": [
    "# Cada par é um elemento do dicionário\n",
    "len(materias)"
   ]
  },
  {
   "cell_type": "code",
   "execution_count": 16,
   "id": "c3ffd5ab",
   "metadata": {},
   "outputs": [
    {
     "data": {
      "text/plain": [
       "dict_keys(['Python', 'Estatística', 'Lógica'])"
      ]
     },
     "execution_count": 16,
     "metadata": {},
     "output_type": "execute_result"
    }
   ],
   "source": [
    "materias.keys()"
   ]
  },
  {
   "cell_type": "code",
   "execution_count": 17,
   "id": "f746238d",
   "metadata": {},
   "outputs": [
    {
     "data": {
      "text/plain": [
       "dict_values([10, 9, 8])"
      ]
     },
     "execution_count": 17,
     "metadata": {},
     "output_type": "execute_result"
    }
   ],
   "source": [
    "materias.values()"
   ]
  },
  {
   "cell_type": "code",
   "execution_count": 18,
   "id": "8db01170",
   "metadata": {},
   "outputs": [
    {
     "data": {
      "text/plain": [
       "dict_items([('Python', 10), ('Estatística', 9), ('Lógica', 8)])"
      ]
     },
     "execution_count": 18,
     "metadata": {},
     "output_type": "execute_result"
    }
   ],
   "source": [
    "materias.items()"
   ]
  },
  {
   "cell_type": "code",
   "execution_count": 19,
   "id": "a55d5e4a",
   "metadata": {},
   "outputs": [],
   "source": [
    "materias2 = {'IA':15, 'ML': 5, 'BI':10}"
   ]
  },
  {
   "cell_type": "code",
   "execution_count": 20,
   "id": "f2de0169",
   "metadata": {},
   "outputs": [],
   "source": [
    "# Agrega os dicionários\n",
    "materias.update(materias2)"
   ]
  },
  {
   "cell_type": "code",
   "execution_count": 21,
   "id": "b750ae9c",
   "metadata": {},
   "outputs": [
    {
     "data": {
      "text/plain": [
       "{'Python': 10, 'Estatística': 9, 'Lógica': 8, 'IA': 15, 'ML': 5, 'BI': 10}"
      ]
     },
     "execution_count": 21,
     "metadata": {},
     "output_type": "execute_result"
    }
   ],
   "source": [
    "materias"
   ]
  },
  {
   "cell_type": "code",
   "execution_count": 22,
   "id": "2321532f",
   "metadata": {},
   "outputs": [],
   "source": [
    "dict_vazio = {}"
   ]
  },
  {
   "cell_type": "code",
   "execution_count": 23,
   "id": "4f4847d8",
   "metadata": {},
   "outputs": [
    {
     "data": {
      "text/plain": [
       "{}"
      ]
     },
     "execution_count": 23,
     "metadata": {},
     "output_type": "execute_result"
    }
   ],
   "source": [
    "dict_vazio"
   ]
  },
  {
   "cell_type": "code",
   "execution_count": 24,
   "id": "562c7215",
   "metadata": {},
   "outputs": [],
   "source": [
    "dict_vazio['first'] = 4"
   ]
  },
  {
   "cell_type": "code",
   "execution_count": 25,
   "id": "1d199c6e",
   "metadata": {},
   "outputs": [
    {
     "data": {
      "text/plain": [
       "{'first': 4}"
      ]
     },
     "execution_count": 25,
     "metadata": {},
     "output_type": "execute_result"
    }
   ],
   "source": [
    "dict_vazio"
   ]
  },
  {
   "cell_type": "code",
   "execution_count": 26,
   "id": "b65decfd",
   "metadata": {},
   "outputs": [],
   "source": [
    "dict_vazio['float'] = 9.2"
   ]
  },
  {
   "cell_type": "code",
   "execution_count": 27,
   "id": "41a88a13",
   "metadata": {},
   "outputs": [],
   "source": [
    "dict_vazio['string'] = 'oi'"
   ]
  },
  {
   "cell_type": "code",
   "execution_count": 28,
   "id": "171bf371",
   "metadata": {},
   "outputs": [
    {
     "data": {
      "text/plain": [
       "{'first': 4, 'float': 9.2, 'string': 'oi'}"
      ]
     },
     "execution_count": 28,
     "metadata": {},
     "output_type": "execute_result"
    }
   ],
   "source": [
    "dict_vazio"
   ]
  },
  {
   "cell_type": "code",
   "execution_count": 33,
   "id": "8a72f2a5",
   "metadata": {},
   "outputs": [],
   "source": [
    "dict_vazio[10] = 2"
   ]
  },
  {
   "cell_type": "code",
   "execution_count": 32,
   "id": "015aa013",
   "metadata": {},
   "outputs": [],
   "source": [
    "dict_vazio[2.5] = 'Python'"
   ]
  },
  {
   "cell_type": "code",
   "execution_count": 34,
   "id": "dfa7ee33",
   "metadata": {},
   "outputs": [
    {
     "data": {
      "text/plain": [
       "{'first': 4,\n",
       " 'float': 9.2,\n",
       " 'string': 'oi',\n",
       " '10': 2,\n",
       " '2': 'Python',\n",
       " 2.5: 'Python',\n",
       " 10: 2}"
      ]
     },
     "execution_count": 34,
     "metadata": {},
     "output_type": "execute_result"
    }
   ],
   "source": [
    "dict_vazio"
   ]
  },
  {
   "cell_type": "markdown",
   "id": "637cf91e",
   "metadata": {},
   "source": [
    "A linguagem Python aceita diversos tipos no mesmo dicionário mas o correto é evitar para não causar transtornos, o ideal é a chave do mesmo tipo do valor"
   ]
  },
  {
   "cell_type": "code",
   "execution_count": 35,
   "id": "ed9595bf",
   "metadata": {},
   "outputs": [],
   "source": [
    "dict = {}"
   ]
  },
  {
   "cell_type": "code",
   "execution_count": 36,
   "id": "6d9f61c5",
   "metadata": {},
   "outputs": [],
   "source": [
    "dict['teste'] = 10"
   ]
  },
  {
   "cell_type": "code",
   "execution_count": 37,
   "id": "915111f3",
   "metadata": {},
   "outputs": [],
   "source": [
    "dict['2'] = 'teste'"
   ]
  },
  {
   "cell_type": "code",
   "execution_count": 38,
   "id": "5f3ccb96",
   "metadata": {},
   "outputs": [
    {
     "data": {
      "text/plain": [
       "{'teste': 10, '2': 'teste'}"
      ]
     },
     "execution_count": 38,
     "metadata": {},
     "output_type": "execute_result"
    }
   ],
   "source": [
    "# Chave e valor podem ter valores iguais mas representam coisas diferentes, evite isso\n",
    "dict"
   ]
  },
  {
   "cell_type": "code",
   "execution_count": 40,
   "id": "769d5912",
   "metadata": {},
   "outputs": [],
   "source": [
    "novo_dict = {}"
   ]
  },
  {
   "cell_type": "code",
   "execution_count": 41,
   "id": "ab7e5f79",
   "metadata": {},
   "outputs": [],
   "source": [
    "novo_dict['key1'] = 'Python'"
   ]
  },
  {
   "cell_type": "code",
   "execution_count": 42,
   "id": "b658c899",
   "metadata": {},
   "outputs": [],
   "source": [
    "novo_dict['key2'] = '10'"
   ]
  },
  {
   "cell_type": "code",
   "execution_count": 43,
   "id": "d0d10388",
   "metadata": {},
   "outputs": [],
   "source": [
    "novo_dict['key3'] = 'Teste'"
   ]
  },
  {
   "cell_type": "code",
   "execution_count": 44,
   "id": "d2584ebe",
   "metadata": {},
   "outputs": [
    {
     "data": {
      "text/plain": [
       "{'key1': 'Python', 'key2': '10', 'key3': 'Teste'}"
      ]
     },
     "execution_count": 44,
     "metadata": {},
     "output_type": "execute_result"
    }
   ],
   "source": [
    "novo_dict"
   ]
  },
  {
   "cell_type": "markdown",
   "id": "3ac55b8d",
   "metadata": {},
   "source": [
    "Armazene nas variáveis a, b e c os valores das chaves respectivamente que estão no novo_dict"
   ]
  },
  {
   "cell_type": "code",
   "execution_count": 45,
   "id": "32e3d90c",
   "metadata": {},
   "outputs": [],
   "source": [
    "a = novo_dict['key1']"
   ]
  },
  {
   "cell_type": "code",
   "execution_count": 46,
   "id": "8983b661",
   "metadata": {},
   "outputs": [
    {
     "data": {
      "text/plain": [
       "'Python'"
      ]
     },
     "execution_count": 46,
     "metadata": {},
     "output_type": "execute_result"
    }
   ],
   "source": [
    "a"
   ]
  },
  {
   "cell_type": "code",
   "execution_count": 47,
   "id": "5f6382a8",
   "metadata": {},
   "outputs": [],
   "source": [
    "b = novo_dict['key2']"
   ]
  },
  {
   "cell_type": "code",
   "execution_count": 48,
   "id": "e4408d16",
   "metadata": {},
   "outputs": [],
   "source": [
    "c = novo_dict['key3']"
   ]
  },
  {
   "cell_type": "code",
   "execution_count": 49,
   "id": "c22ce6b1",
   "metadata": {},
   "outputs": [
    {
     "data": {
      "text/plain": [
       "('Teste', 'Python', '10')"
      ]
     },
     "execution_count": 49,
     "metadata": {},
     "output_type": "execute_result"
    }
   ],
   "source": [
    "c, a, b"
   ]
  },
  {
   "cell_type": "code",
   "execution_count": 50,
   "id": "1ca36f40",
   "metadata": {},
   "outputs": [],
   "source": [
    "# Dicionário de listas\n",
    "dict = {'key1':1, 'key2':[10,20,30], 'key3':['amarelo', 'roxo', 'azul']}"
   ]
  },
  {
   "cell_type": "code",
   "execution_count": 51,
   "id": "0ef769a7",
   "metadata": {},
   "outputs": [
    {
     "data": {
      "text/plain": [
       "{'key1': 1, 'key2': [10, 20, 30], 'key3': ['amarelo', 'roxo', 'azul']}"
      ]
     },
     "execution_count": 51,
     "metadata": {},
     "output_type": "execute_result"
    }
   ],
   "source": [
    "dict"
   ]
  },
  {
   "cell_type": "code",
   "execution_count": 52,
   "id": "5855e63b",
   "metadata": {},
   "outputs": [
    {
     "data": {
      "text/plain": [
       "[10, 20, 30]"
      ]
     },
     "execution_count": 52,
     "metadata": {},
     "output_type": "execute_result"
    }
   ],
   "source": [
    "dict['key2']"
   ]
  },
  {
   "cell_type": "code",
   "execution_count": 53,
   "id": "223fb8ea",
   "metadata": {},
   "outputs": [
    {
     "data": {
      "text/plain": [
       "'AMARELO'"
      ]
     },
     "execution_count": 53,
     "metadata": {},
     "output_type": "execute_result"
    }
   ],
   "source": [
    "# Acessando um item da lista que está dentro do dicionário\n",
    "# Índice 0 da lista atribuída a chave key3\n",
    "dict['key3'][0].upper()"
   ]
  },
  {
   "cell_type": "code",
   "execution_count": 54,
   "id": "70c6168f",
   "metadata": {},
   "outputs": [
    {
     "data": {
      "text/plain": [
       "30"
      ]
     },
     "execution_count": 54,
     "metadata": {},
     "output_type": "execute_result"
    }
   ],
   "source": [
    "# Índice 2 da lista atribuída a chave key2\n",
    "dict['key2'][2]"
   ]
  },
  {
   "cell_type": "code",
   "execution_count": 55,
   "id": "9aea68ae",
   "metadata": {},
   "outputs": [],
   "source": [
    "# Operação com item da lista que está dentro do dicionário\n",
    "resultado = dict['key2'][1] - 6"
   ]
  },
  {
   "cell_type": "code",
   "execution_count": 56,
   "id": "facdcacb",
   "metadata": {},
   "outputs": [
    {
     "data": {
      "text/plain": [
       "14"
      ]
     },
     "execution_count": 56,
     "metadata": {},
     "output_type": "execute_result"
    }
   ],
   "source": [
    "resultado"
   ]
  },
  {
   "cell_type": "code",
   "execution_count": 57,
   "id": "6a6f350e",
   "metadata": {},
   "outputs": [],
   "source": [
    "# Duas operações no mesmo comando para atualizar o valor antigo da lista pelo novo resultado\n",
    "dict['key2'][0] -= 5"
   ]
  },
  {
   "cell_type": "code",
   "execution_count": 58,
   "id": "d54e404e",
   "metadata": {},
   "outputs": [
    {
     "data": {
      "text/plain": [
       "{'key1': 1, 'key2': [5, 20, 30], 'key3': ['amarelo', 'roxo', 'azul']}"
      ]
     },
     "execution_count": 58,
     "metadata": {},
     "output_type": "execute_result"
    }
   ],
   "source": [
    "dict"
   ]
  },
  {
   "cell_type": "markdown",
   "id": "819eb656",
   "metadata": {},
   "source": [
    "## Criando Dicionários Aninhados"
   ]
  },
  {
   "cell_type": "code",
   "execution_count": 60,
   "id": "77b113ac",
   "metadata": {},
   "outputs": [],
   "source": [
    "# Criando o dicionário aninhado, mas evite essa prática\n",
    "dict_aninhado = {'primeiro':{'segundo':{'terceiro':'Python é legal'}}}"
   ]
  },
  {
   "cell_type": "code",
   "execution_count": 61,
   "id": "584650a6",
   "metadata": {},
   "outputs": [
    {
     "data": {
      "text/plain": [
       "{'primeiro': {'segundo': {'terceiro': 'Python é legal'}}}"
      ]
     },
     "execution_count": 61,
     "metadata": {},
     "output_type": "execute_result"
    }
   ],
   "source": [
    "dict_aninhado"
   ]
  },
  {
   "cell_type": "code",
   "execution_count": 62,
   "id": "beeb8d33",
   "metadata": {},
   "outputs": [
    {
     "data": {
      "text/plain": [
       "{'segundo': {'terceiro': 'Python é legal'}}"
      ]
     },
     "execution_count": 62,
     "metadata": {},
     "output_type": "execute_result"
    }
   ],
   "source": [
    "dict_aninhado['primeiro']"
   ]
  },
  {
   "cell_type": "code",
   "execution_count": 63,
   "id": "9100efb8",
   "metadata": {},
   "outputs": [
    {
     "data": {
      "text/plain": [
       "{'terceiro': 'Python é legal'}"
      ]
     },
     "execution_count": 63,
     "metadata": {},
     "output_type": "execute_result"
    }
   ],
   "source": [
    "dict_aninhado['primeiro']['segundo']"
   ]
  },
  {
   "cell_type": "code",
   "execution_count": 64,
   "id": "3cf13b7d",
   "metadata": {},
   "outputs": [
    {
     "data": {
      "text/plain": [
       "'Python é legal'"
      ]
     },
     "execution_count": 64,
     "metadata": {},
     "output_type": "execute_result"
    }
   ],
   "source": [
    "dict_aninhado['primeiro']['segundo']['terceiro']"
   ]
  }
 ],
 "metadata": {
  "kernelspec": {
   "display_name": "Python 3 (ipykernel)",
   "language": "python",
   "name": "python3"
  },
  "language_info": {
   "codemirror_mode": {
    "name": "ipython",
    "version": 3
   },
   "file_extension": ".py",
   "mimetype": "text/x-python",
   "name": "python",
   "nbconvert_exporter": "python",
   "pygments_lexer": "ipython3",
   "version": "3.9.13"
  }
 },
 "nbformat": 4,
 "nbformat_minor": 5
}
