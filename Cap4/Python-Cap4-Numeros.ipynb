{
 "cells": [
  {
   "cell_type": "markdown",
   "id": "05b09332",
   "metadata": {},
   "source": [
    "## Operações matemáticas"
   ]
  },
  {
   "cell_type": "code",
   "execution_count": null,
   "id": "4c8475fb",
   "metadata": {},
   "outputs": [],
   "source": [
    "# Soma\n",
    "2 + 7"
   ]
  },
  {
   "cell_type": "code",
   "execution_count": null,
   "id": "f2575e92",
   "metadata": {},
   "outputs": [],
   "source": [
    "# Subtração\n",
    "27 - 1"
   ]
  },
  {
   "cell_type": "code",
   "execution_count": null,
   "id": "60bad282",
   "metadata": {},
   "outputs": [],
   "source": [
    "# Multiplicação\n",
    "3 * 3"
   ]
  },
  {
   "cell_type": "code",
   "execution_count": null,
   "id": "9bcc6819",
   "metadata": {},
   "outputs": [],
   "source": [
    "# Divisão\n",
    "6 / 2"
   ]
  },
  {
   "cell_type": "code",
   "execution_count": null,
   "id": "735159eb",
   "metadata": {},
   "outputs": [],
   "source": [
    "# Potência\n",
    "4 ** 2"
   ]
  },
  {
   "cell_type": "code",
   "execution_count": null,
   "id": "ec38de16",
   "metadata": {},
   "outputs": [],
   "source": [
    "# Módulo\n",
    "10 % 3"
   ]
  },
  {
   "cell_type": "markdown",
   "id": "db8d9560",
   "metadata": {},
   "source": [
    "## Função type: exibe o tipo do dado"
   ]
  },
  {
   "cell_type": "code",
   "execution_count": 3,
   "id": "789cfb07",
   "metadata": {},
   "outputs": [
    {
     "data": {
      "text/plain": [
       "int"
      ]
     },
     "execution_count": 3,
     "metadata": {},
     "output_type": "execute_result"
    }
   ],
   "source": [
    "type(5)"
   ]
  },
  {
   "cell_type": "code",
   "execution_count": 2,
   "id": "01b3554a",
   "metadata": {},
   "outputs": [
    {
     "data": {
      "text/plain": [
       "float"
      ]
     },
     "execution_count": 2,
     "metadata": {},
     "output_type": "execute_result"
    }
   ],
   "source": [
    "type(7.1)"
   ]
  },
  {
   "cell_type": "code",
   "execution_count": 1,
   "id": "6ff1bb49",
   "metadata": {},
   "outputs": [
    {
     "data": {
      "text/plain": [
       "str"
      ]
     },
     "execution_count": 1,
     "metadata": {},
     "output_type": "execute_result"
    }
   ],
   "source": [
    "var = 'Eu estou estudando Python'\n",
    "type(var)"
   ]
  },
  {
   "cell_type": "markdown",
   "id": "df7afaec",
   "metadata": {},
   "source": [
    "## Operações com o número float"
   ]
  },
  {
   "cell_type": "code",
   "execution_count": null,
   "id": "2d69f24f",
   "metadata": {},
   "outputs": [],
   "source": [
    "3.9 + 8.2"
   ]
  },
  {
   "cell_type": "code",
   "execution_count": null,
   "id": "0a3592b6",
   "metadata": {},
   "outputs": [],
   "source": [
    "4 + 4.9"
   ]
  },
  {
   "cell_type": "code",
   "execution_count": null,
   "id": "d0907434",
   "metadata": {},
   "outputs": [],
   "source": [
    "4 + 4"
   ]
  },
  {
   "cell_type": "code",
   "execution_count": null,
   "id": "364cf981",
   "metadata": {},
   "outputs": [],
   "source": [
    "# Resultado é um número float\n",
    "4 / 2"
   ]
  },
  {
   "cell_type": "code",
   "execution_count": null,
   "id": "a4fa8ecf",
   "metadata": {},
   "outputs": [],
   "source": [
    "# Resultado é um número inteiro\n",
    "4 // 2"
   ]
  },
  {
   "cell_type": "markdown",
   "id": "b3093cc2",
   "metadata": {},
   "source": [
    "## Conversão"
   ]
  },
  {
   "cell_type": "code",
   "execution_count": 5,
   "id": "3e8316b8",
   "metadata": {},
   "outputs": [
    {
     "data": {
      "text/plain": [
       "10.0"
      ]
     },
     "execution_count": 5,
     "metadata": {},
     "output_type": "execute_result"
    }
   ],
   "source": [
    "float(10)"
   ]
  },
  {
   "cell_type": "code",
   "execution_count": 4,
   "id": "89720f7d",
   "metadata": {},
   "outputs": [
    {
     "data": {
      "text/plain": [
       "12"
      ]
     },
     "execution_count": 4,
     "metadata": {},
     "output_type": "execute_result"
    }
   ],
   "source": [
    "int(12.7)"
   ]
  },
  {
   "cell_type": "code",
   "execution_count": 6,
   "id": "a7eb8926",
   "metadata": {},
   "outputs": [
    {
     "data": {
      "text/plain": [
       "12"
      ]
     },
     "execution_count": 6,
     "metadata": {},
     "output_type": "execute_result"
    }
   ],
   "source": [
    "int(12.2)"
   ]
  },
  {
   "cell_type": "markdown",
   "id": "1057c628",
   "metadata": {},
   "source": [
    "## Hexadecimal e binário"
   ]
  },
  {
   "cell_type": "code",
   "execution_count": 13,
   "id": "f8608d41",
   "metadata": {},
   "outputs": [
    {
     "data": {
      "text/plain": [
       "'0x7b'"
      ]
     },
     "execution_count": 13,
     "metadata": {},
     "output_type": "execute_result"
    }
   ],
   "source": [
    "hex(451)\n",
    "hex(123)"
   ]
  },
  {
   "cell_type": "code",
   "execution_count": 10,
   "id": "5dc37a8a",
   "metadata": {},
   "outputs": [
    {
     "data": {
      "text/plain": [
       "'0b1100100'"
      ]
     },
     "execution_count": 10,
     "metadata": {},
     "output_type": "execute_result"
    }
   ],
   "source": [
    "bin(415)\n",
    "bin(100)"
   ]
  },
  {
   "cell_type": "markdown",
   "id": "59b88cba",
   "metadata": {},
   "source": [
    "## Funções abs, round e pow"
   ]
  },
  {
   "cell_type": "code",
   "execution_count": null,
   "id": "a8d79b41",
   "metadata": {},
   "outputs": [],
   "source": [
    "# Retorna o valor absoluto\n",
    "abs(-8)\n",
    "abs(8)"
   ]
  },
  {
   "cell_type": "code",
   "execution_count": 15,
   "id": "96d96fab",
   "metadata": {},
   "outputs": [
    {
     "data": {
      "text/plain": [
       "3.1416"
      ]
     },
     "execution_count": 15,
     "metadata": {},
     "output_type": "execute_result"
    }
   ],
   "source": [
    "# Retorna o valor com duas casas decimais (após a vírgula informe o número de casas decimais)\n",
    "round(3.1415926535897932384, 2)\n",
    "round(3.1415926535897932384, 4)"
   ]
  },
  {
   "cell_type": "code",
   "execution_count": null,
   "id": "d8c8cdd3",
   "metadata": {},
   "outputs": [],
   "source": [
    "# Potência (base, potência)\n",
    "pow(4,2)"
   ]
  }
 ],
 "metadata": {
  "kernelspec": {
   "display_name": "Python 3 (ipykernel)",
   "language": "python",
   "name": "python3"
  },
  "language_info": {
   "codemirror_mode": {
    "name": "ipython",
    "version": 3
   },
   "file_extension": ".py",
   "mimetype": "text/x-python",
   "name": "python",
   "nbconvert_exporter": "python",
   "pygments_lexer": "ipython3",
   "version": "3.9.13"
  }
 },
 "nbformat": 4,
 "nbformat_minor": 5
}
