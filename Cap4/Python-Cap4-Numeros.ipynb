{
  "cells": [
    {
      "cell_type": "markdown",
      "source": [
        "Todas as funções a seguir são Built-In, ou seja, próprias do Python"
      ],
      "metadata": {
        "id": "mFldBtUwFR8j"
      },
      "id": "mFldBtUwFR8j"
    },
    {
      "cell_type": "markdown",
      "id": "05b09332",
      "metadata": {
        "id": "05b09332"
      },
      "source": [
        "## Operações matemáticas"
      ]
    },
    {
      "cell_type": "code",
      "execution_count": 1,
      "id": "4c8475fb",
      "metadata": {
        "id": "4c8475fb",
        "outputId": "92f4d7d6-4a08-4c6d-f171-7bf35b17ced9",
        "colab": {
          "base_uri": "https://localhost:8080/"
        }
      },
      "outputs": [
        {
          "output_type": "execute_result",
          "data": {
            "text/plain": [
              "9"
            ]
          },
          "metadata": {},
          "execution_count": 1
        }
      ],
      "source": [
        "# Soma\n",
        "2 + 7"
      ]
    },
    {
      "cell_type": "code",
      "execution_count": 2,
      "id": "f2575e92",
      "metadata": {
        "id": "f2575e92",
        "outputId": "31bcfa4f-da4e-4f41-db35-667dd1e3caf6",
        "colab": {
          "base_uri": "https://localhost:8080/"
        }
      },
      "outputs": [
        {
          "output_type": "execute_result",
          "data": {
            "text/plain": [
              "26"
            ]
          },
          "metadata": {},
          "execution_count": 2
        }
      ],
      "source": [
        "# Subtração\n",
        "27 - 1"
      ]
    },
    {
      "cell_type": "code",
      "execution_count": 3,
      "id": "60bad282",
      "metadata": {
        "id": "60bad282",
        "outputId": "58b93d65-d6a3-4ba4-e907-772255b3ed5c",
        "colab": {
          "base_uri": "https://localhost:8080/"
        }
      },
      "outputs": [
        {
          "output_type": "execute_result",
          "data": {
            "text/plain": [
              "9"
            ]
          },
          "metadata": {},
          "execution_count": 3
        }
      ],
      "source": [
        "# Multiplicação\n",
        "3 * 3"
      ]
    },
    {
      "cell_type": "code",
      "execution_count": 4,
      "id": "9bcc6819",
      "metadata": {
        "id": "9bcc6819",
        "outputId": "d0368cb4-5186-40df-a10e-d45141e4cb45",
        "colab": {
          "base_uri": "https://localhost:8080/"
        }
      },
      "outputs": [
        {
          "output_type": "execute_result",
          "data": {
            "text/plain": [
              "3.0"
            ]
          },
          "metadata": {},
          "execution_count": 4
        }
      ],
      "source": [
        "# Divisão (atenção: tipo do dado, inteiro ou decimal, influencia no resultado)\n",
        "6 / 2"
      ]
    },
    {
      "cell_type": "code",
      "execution_count": 5,
      "id": "735159eb",
      "metadata": {
        "id": "735159eb",
        "outputId": "21464783-30c9-45e5-8f11-67e5f641b70f",
        "colab": {
          "base_uri": "https://localhost:8080/"
        }
      },
      "outputs": [
        {
          "output_type": "execute_result",
          "data": {
            "text/plain": [
              "16"
            ]
          },
          "metadata": {},
          "execution_count": 5
        }
      ],
      "source": [
        "# Potência\n",
        "4 ** 2"
      ]
    },
    {
      "cell_type": "code",
      "execution_count": 6,
      "id": "ec38de16",
      "metadata": {
        "id": "ec38de16",
        "outputId": "3380571e-13da-449e-8975-e47f505c1ad0",
        "colab": {
          "base_uri": "https://localhost:8080/"
        }
      },
      "outputs": [
        {
          "output_type": "execute_result",
          "data": {
            "text/plain": [
              "1"
            ]
          },
          "metadata": {},
          "execution_count": 6
        }
      ],
      "source": [
        "# Módulo: resto da divisão\n",
        "10 % 3"
      ]
    },
    {
      "cell_type": "markdown",
      "id": "db8d9560",
      "metadata": {
        "id": "db8d9560"
      },
      "source": [
        "## Função type: exibe o tipo do dado\n",
        "\n",
        "O que é uma função?\n",
        "É um bloco de código que executa uma ação\n",
        "\n",
        "def type(arg)\n",
        "...\n",
        "\n",
        "Ex: foi criada a função chamada \"type\" com um bloco de código que executa a ação de verificar o tipo do dado passado no argumento dentro do ()"
      ]
    },
    {
      "cell_type": "code",
      "execution_count": null,
      "id": "789cfb07",
      "metadata": {
        "id": "789cfb07",
        "outputId": "21898ac5-bd8f-491a-b012-60eac21ffdd7"
      },
      "outputs": [
        {
          "data": {
            "text/plain": [
              "int"
            ]
          },
          "execution_count": 3,
          "metadata": {},
          "output_type": "execute_result"
        }
      ],
      "source": [
        "type(5)"
      ]
    },
    {
      "cell_type": "code",
      "execution_count": null,
      "id": "01b3554a",
      "metadata": {
        "id": "01b3554a",
        "outputId": "3571f43b-b824-4bdc-9a55-2d60d9cdb927"
      },
      "outputs": [
        {
          "data": {
            "text/plain": [
              "float"
            ]
          },
          "execution_count": 2,
          "metadata": {},
          "output_type": "execute_result"
        }
      ],
      "source": [
        "type(7.1)"
      ]
    },
    {
      "cell_type": "code",
      "execution_count": null,
      "id": "6ff1bb49",
      "metadata": {
        "id": "6ff1bb49",
        "outputId": "745bbec7-7fa5-4d9b-aec1-3314b2beafbd"
      },
      "outputs": [
        {
          "data": {
            "text/plain": [
              "str"
            ]
          },
          "execution_count": 1,
          "metadata": {},
          "output_type": "execute_result"
        }
      ],
      "source": [
        "var = 'Eu estou estudando Python'\n",
        "type(var)"
      ]
    },
    {
      "cell_type": "markdown",
      "id": "df7afaec",
      "metadata": {
        "id": "df7afaec"
      },
      "source": [
        "## Operações com o número float\n",
        "\n",
        "Python entregará um resultado float sempre que existir algum float na operação"
      ]
    },
    {
      "cell_type": "code",
      "execution_count": 7,
      "id": "2d69f24f",
      "metadata": {
        "id": "2d69f24f",
        "outputId": "7e28dbf8-00f7-4472-8466-6b9d74f285b4",
        "colab": {
          "base_uri": "https://localhost:8080/"
        }
      },
      "outputs": [
        {
          "output_type": "execute_result",
          "data": {
            "text/plain": [
              "12.1"
            ]
          },
          "metadata": {},
          "execution_count": 7
        }
      ],
      "source": [
        "# float com float resulta em float\n",
        "3.9 + 8.2"
      ]
    },
    {
      "cell_type": "code",
      "execution_count": 8,
      "id": "0a3592b6",
      "metadata": {
        "id": "0a3592b6",
        "outputId": "11c51b5f-b89c-4769-cc8b-f2363367e823",
        "colab": {
          "base_uri": "https://localhost:8080/"
        }
      },
      "outputs": [
        {
          "output_type": "execute_result",
          "data": {
            "text/plain": [
              "8.9"
            ]
          },
          "metadata": {},
          "execution_count": 8
        }
      ],
      "source": [
        "# inteiro com float resulta em float\n",
        "4 + 4.9"
      ]
    },
    {
      "cell_type": "code",
      "execution_count": 9,
      "id": "d0907434",
      "metadata": {
        "id": "d0907434",
        "outputId": "7e3f61a7-ef5e-42a8-913c-322c759f20a3",
        "colab": {
          "base_uri": "https://localhost:8080/"
        }
      },
      "outputs": [
        {
          "output_type": "execute_result",
          "data": {
            "text/plain": [
              "8"
            ]
          },
          "metadata": {},
          "execution_count": 9
        }
      ],
      "source": [
        "# inteiro om inteiro resulta em inteiro\n",
        "4 + 4"
      ]
    },
    {
      "cell_type": "code",
      "execution_count": 10,
      "id": "364cf981",
      "metadata": {
        "id": "364cf981",
        "outputId": "a243bb2d-caf0-4cbb-bef2-3e07c5896767",
        "colab": {
          "base_uri": "https://localhost:8080/"
        }
      },
      "outputs": [
        {
          "output_type": "execute_result",
          "data": {
            "text/plain": [
              "2.0"
            ]
          },
          "metadata": {},
          "execution_count": 10
        }
      ],
      "source": [
        "# Resultado em float\n",
        "# Divisão com uma barra sempre entregará o resultado como float, independente dos números serem inteiros\n",
        "4 / 2"
      ]
    },
    {
      "cell_type": "code",
      "execution_count": 11,
      "id": "a4fa8ecf",
      "metadata": {
        "id": "a4fa8ecf",
        "outputId": "0b17136e-120a-4ffb-8b33-ab2fcb5aefa7",
        "colab": {
          "base_uri": "https://localhost:8080/"
        }
      },
      "outputs": [
        {
          "output_type": "execute_result",
          "data": {
            "text/plain": [
              "2"
            ]
          },
          "metadata": {},
          "execution_count": 11
        }
      ],
      "source": [
        "# Resultado em inteiro\n",
        "# // força o resultado a ser inteiro apenas se ambos forem inteiros\n",
        "4 // 2"
      ]
    },
    {
      "cell_type": "code",
      "source": [
        "# Resultado em float\n",
        "4 // 3.0"
      ],
      "metadata": {
        "id": "WOdGk5NxDTmZ",
        "outputId": "373596a3-57f9-444d-8d93-dfeb5d121e71",
        "colab": {
          "base_uri": "https://localhost:8080/"
        }
      },
      "id": "WOdGk5NxDTmZ",
      "execution_count": 17,
      "outputs": [
        {
          "output_type": "execute_result",
          "data": {
            "text/plain": [
              "1.0"
            ]
          },
          "metadata": {},
          "execution_count": 17
        }
      ]
    },
    {
      "cell_type": "markdown",
      "id": "b3093cc2",
      "metadata": {
        "id": "b3093cc2"
      },
      "source": [
        "## Conversão"
      ]
    },
    {
      "cell_type": "code",
      "execution_count": null,
      "id": "3e8316b8",
      "metadata": {
        "id": "3e8316b8",
        "outputId": "0a290c3f-18c2-42b5-fcf0-4b7d311a0f05"
      },
      "outputs": [
        {
          "data": {
            "text/plain": [
              "10.0"
            ]
          },
          "execution_count": 5,
          "metadata": {},
          "output_type": "execute_result"
        }
      ],
      "source": [
        "float(10)"
      ]
    },
    {
      "cell_type": "code",
      "execution_count": null,
      "id": "89720f7d",
      "metadata": {
        "id": "89720f7d",
        "outputId": "6923ceb8-cc68-4dde-eeb1-c6342f1b8e40"
      },
      "outputs": [
        {
          "data": {
            "text/plain": [
              "12"
            ]
          },
          "execution_count": 4,
          "metadata": {},
          "output_type": "execute_result"
        }
      ],
      "source": [
        "int(12.7)"
      ]
    },
    {
      "cell_type": "code",
      "execution_count": null,
      "id": "a7eb8926",
      "metadata": {
        "id": "a7eb8926",
        "outputId": "6f7afd93-7e00-4f0b-8df9-353fae190a39"
      },
      "outputs": [
        {
          "data": {
            "text/plain": [
              "12"
            ]
          },
          "execution_count": 6,
          "metadata": {},
          "output_type": "execute_result"
        }
      ],
      "source": [
        "# Nem sempre as regras matemáticas convencionais se aplicam na programação, ex:\n",
        "int(12.2)"
      ]
    },
    {
      "cell_type": "markdown",
      "id": "1057c628",
      "metadata": {
        "id": "1057c628"
      },
      "source": [
        "## Hexadecimal e binário"
      ]
    },
    {
      "cell_type": "code",
      "execution_count": null,
      "id": "f8608d41",
      "metadata": {
        "id": "f8608d41",
        "outputId": "f536729b-32e3-46ef-a943-bd2d16a057b3"
      },
      "outputs": [
        {
          "data": {
            "text/plain": [
              "'0x7b'"
            ]
          },
          "execution_count": 13,
          "metadata": {},
          "output_type": "execute_result"
        }
      ],
      "source": [
        "hex(451)\n",
        "hex(123)"
      ]
    },
    {
      "cell_type": "code",
      "execution_count": null,
      "id": "5dc37a8a",
      "metadata": {
        "id": "5dc37a8a",
        "outputId": "9fad3eb3-e1d0-4256-d8e3-55e53b54e590"
      },
      "outputs": [
        {
          "data": {
            "text/plain": [
              "'0b1100100'"
            ]
          },
          "execution_count": 10,
          "metadata": {},
          "output_type": "execute_result"
        }
      ],
      "source": [
        "bin(415)\n",
        "bin(100)"
      ]
    },
    {
      "cell_type": "markdown",
      "id": "59b88cba",
      "metadata": {
        "id": "59b88cba"
      },
      "source": [
        "## Funções abs, round e pow"
      ]
    },
    {
      "cell_type": "code",
      "execution_count": 18,
      "id": "a8d79b41",
      "metadata": {
        "id": "a8d79b41",
        "outputId": "4482f978-e931-4f62-e92f-7580073e9dc2",
        "colab": {
          "base_uri": "https://localhost:8080/"
        }
      },
      "outputs": [
        {
          "output_type": "execute_result",
          "data": {
            "text/plain": [
              "8"
            ]
          },
          "metadata": {},
          "execution_count": 18
        }
      ],
      "source": [
        "# Retorna o valor absoluto, tira o negativo do número\n",
        "# abs é abreviação de absoluto, onde não importa se o número é positivo ou negativo\n",
        "abs(-8)\n",
        "abs(8)"
      ]
    },
    {
      "cell_type": "code",
      "execution_count": 19,
      "id": "96d96fab",
      "metadata": {
        "id": "96d96fab",
        "outputId": "f2a9dde6-2d6f-4725-84b5-f6f0fdd4ef1b",
        "colab": {
          "base_uri": "https://localhost:8080/"
        }
      },
      "outputs": [
        {
          "output_type": "execute_result",
          "data": {
            "text/plain": [
              "3.1416"
            ]
          },
          "metadata": {},
          "execution_count": 19
        }
      ],
      "source": [
        "# Retorna o valor com duas/quatro casas decimais (após a vírgula informe o número de casas decimais)\n",
        "# round é arredondar\n",
        "round(3.1415926535897932384, 2)\n",
        "round(3.1415926535897932384, 4)"
      ]
    },
    {
      "cell_type": "code",
      "execution_count": 20,
      "id": "d8c8cdd3",
      "metadata": {
        "id": "d8c8cdd3",
        "outputId": "5c24055c-ba9c-487c-cdba-0d38e42af5eb",
        "colab": {
          "base_uri": "https://localhost:8080/"
        }
      },
      "outputs": [
        {
          "output_type": "execute_result",
          "data": {
            "text/plain": [
              "16"
            ]
          },
          "metadata": {},
          "execution_count": 20
        }
      ],
      "source": [
        "# Potência (base, potência)\n",
        "# Pow é potência\n",
        "# Duas formas de calcular\n",
        "4 ** 2\n",
        "pow(4,2)"
      ]
    }
  ],
  "metadata": {
    "kernelspec": {
      "display_name": "Python 3 (ipykernel)",
      "language": "python",
      "name": "python3"
    },
    "language_info": {
      "codemirror_mode": {
        "name": "ipython",
        "version": 3
      },
      "file_extension": ".py",
      "mimetype": "text/x-python",
      "name": "python",
      "nbconvert_exporter": "python",
      "pygments_lexer": "ipython3",
      "version": "3.9.13"
    },
    "colab": {
      "provenance": []
    }
  },
  "nbformat": 4,
  "nbformat_minor": 5
}