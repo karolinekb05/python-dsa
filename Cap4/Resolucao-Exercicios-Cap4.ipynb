{
 "cells": [
  {
   "cell_type": "code",
   "execution_count": null,
   "id": "d6ed3458",
   "metadata": {},
   "outputs": [],
   "source": [
    "# Exercício 1 - Imprima na tela os números de 1 a 10. Use uma lista para armazenar os números."
   ]
  },
  {
   "cell_type": "code",
   "execution_count": 1,
   "id": "3a3a9069",
   "metadata": {},
   "outputs": [],
   "source": [
    "nums = [1,2,3,4,5,6,7,8,9,10]"
   ]
  },
  {
   "cell_type": "code",
   "execution_count": 2,
   "id": "8ff0200c",
   "metadata": {},
   "outputs": [
    {
     "data": {
      "text/plain": [
       "[1, 2, 3, 4, 5, 6, 7, 8, 9, 10]"
      ]
     },
     "execution_count": 2,
     "metadata": {},
     "output_type": "execute_result"
    }
   ],
   "source": [
    "nums"
   ]
  },
  {
   "cell_type": "code",
   "execution_count": 6,
   "id": "fabc61d9",
   "metadata": {},
   "outputs": [
    {
     "data": {
      "text/plain": [
       "list"
      ]
     },
     "execution_count": 6,
     "metadata": {},
     "output_type": "execute_result"
    }
   ],
   "source": [
    "type(nums)"
   ]
  },
  {
   "cell_type": "code",
   "execution_count": null,
   "id": "fc800a36",
   "metadata": {},
   "outputs": [],
   "source": [
    "# Exercício 2 - Crie uma lista de 5 objetos e imprima na tela"
   ]
  },
  {
   "cell_type": "code",
   "execution_count": 3,
   "id": "750474b4",
   "metadata": {},
   "outputs": [],
   "source": [
    "objs = ['Copo', 'Caneta', 'Relógio', 'Caderno', 'Garrafa']"
   ]
  },
  {
   "cell_type": "code",
   "execution_count": 4,
   "id": "c0c9e47d",
   "metadata": {},
   "outputs": [
    {
     "data": {
      "text/plain": [
       "['Copo', 'Caneta', 'Relógio', 'Caderno', 'Garrafa']"
      ]
     },
     "execution_count": 4,
     "metadata": {},
     "output_type": "execute_result"
    }
   ],
   "source": [
    "objs"
   ]
  },
  {
   "cell_type": "code",
   "execution_count": 5,
   "id": "5cd4702a",
   "metadata": {},
   "outputs": [
    {
     "data": {
      "text/plain": [
       "list"
      ]
     },
     "execution_count": 5,
     "metadata": {},
     "output_type": "execute_result"
    }
   ],
   "source": [
    "type(objs)"
   ]
  },
  {
   "cell_type": "code",
   "execution_count": null,
   "id": "88c3ea9e",
   "metadata": {},
   "outputs": [],
   "source": [
    "# Exercício 3 - Crie duas strings e concatene as duas em uma terceira string"
   ]
  },
  {
   "cell_type": "code",
   "execution_count": 38,
   "id": "9cae424f",
   "metadata": {},
   "outputs": [],
   "source": [
    "a = 'Python é'\n",
    "b = ' legal'"
   ]
  },
  {
   "cell_type": "code",
   "execution_count": 39,
   "id": "f7cf3fe0",
   "metadata": {},
   "outputs": [],
   "source": [
    "res = a + b"
   ]
  },
  {
   "cell_type": "code",
   "execution_count": 40,
   "id": "f9eb7ba5",
   "metadata": {},
   "outputs": [
    {
     "data": {
      "text/plain": [
       "'Python é legal'"
      ]
     },
     "execution_count": 40,
     "metadata": {},
     "output_type": "execute_result"
    }
   ],
   "source": [
    "res"
   ]
  },
  {
   "cell_type": "code",
   "execution_count": null,
   "id": "c33d9093",
   "metadata": {},
   "outputs": [],
   "source": [
    "# Exercício 4 - Crie uma tupla com os seguintes elementos: 1, 2, 2, 3, 4, 4, 4, 5 e depois utilize a função count do \n",
    "# objeto tupla para verificar quantas vezes o número 4 aparece na tupla"
   ]
  },
  {
   "cell_type": "code",
   "execution_count": 16,
   "id": "63eec01d",
   "metadata": {},
   "outputs": [],
   "source": [
    "tupla = (1,2,2,3,4,4,4,5)"
   ]
  },
  {
   "cell_type": "code",
   "execution_count": 13,
   "id": "c76a3bc4",
   "metadata": {},
   "outputs": [
    {
     "data": {
      "text/plain": [
       "(1, 2, 2, 3, 4, 4, 5)"
      ]
     },
     "execution_count": 13,
     "metadata": {},
     "output_type": "execute_result"
    }
   ],
   "source": [
    "tupla"
   ]
  },
  {
   "cell_type": "code",
   "execution_count": 14,
   "id": "10eb80ad",
   "metadata": {},
   "outputs": [
    {
     "data": {
      "text/plain": [
       "tuple"
      ]
     },
     "execution_count": 14,
     "metadata": {},
     "output_type": "execute_result"
    }
   ],
   "source": [
    "type(tupla)"
   ]
  },
  {
   "cell_type": "code",
   "execution_count": 17,
   "id": "007fafbe",
   "metadata": {},
   "outputs": [
    {
     "data": {
      "text/plain": [
       "3"
      ]
     },
     "execution_count": 17,
     "metadata": {},
     "output_type": "execute_result"
    }
   ],
   "source": [
    "tupla.count(4)"
   ]
  },
  {
   "cell_type": "code",
   "execution_count": null,
   "id": "8ab1dd93",
   "metadata": {},
   "outputs": [],
   "source": [
    "# Exercício 5 - Crie um dicionário vazio e imprima na tela"
   ]
  },
  {
   "cell_type": "code",
   "execution_count": 18,
   "id": "b28b1a89",
   "metadata": {},
   "outputs": [],
   "source": [
    "dict_vazio = {}"
   ]
  },
  {
   "cell_type": "code",
   "execution_count": 19,
   "id": "ee2e65d5",
   "metadata": {},
   "outputs": [
    {
     "data": {
      "text/plain": [
       "{}"
      ]
     },
     "execution_count": 19,
     "metadata": {},
     "output_type": "execute_result"
    }
   ],
   "source": [
    "dict_vazio"
   ]
  },
  {
   "cell_type": "code",
   "execution_count": 21,
   "id": "22de36fe",
   "metadata": {},
   "outputs": [
    {
     "name": "stdout",
     "output_type": "stream",
     "text": [
      "{}\n"
     ]
    }
   ],
   "source": [
    "print(dict_vazio)"
   ]
  },
  {
   "cell_type": "code",
   "execution_count": 20,
   "id": "c9cdb42c",
   "metadata": {},
   "outputs": [
    {
     "data": {
      "text/plain": [
       "dict"
      ]
     },
     "execution_count": 20,
     "metadata": {},
     "output_type": "execute_result"
    }
   ],
   "source": [
    "type(dict_vazio)"
   ]
  },
  {
   "cell_type": "code",
   "execution_count": null,
   "id": "50f20269",
   "metadata": {},
   "outputs": [],
   "source": [
    "# Exercício 6 - Crie um dicionário com 3 chaves e 3 valores e imprima na tela"
   ]
  },
  {
   "cell_type": "code",
   "execution_count": 22,
   "id": "af3f0fe4",
   "metadata": {},
   "outputs": [],
   "source": [
    "dict_new = {'Manga':2, 'Abacaxi':6, 'Melão':8}"
   ]
  },
  {
   "cell_type": "code",
   "execution_count": 23,
   "id": "50c3089a",
   "metadata": {},
   "outputs": [
    {
     "name": "stdout",
     "output_type": "stream",
     "text": [
      "{'Manga': 2, 'Abacaxi': 6, 'Melão': 8}\n"
     ]
    }
   ],
   "source": [
    "print(dict_new)"
   ]
  },
  {
   "cell_type": "code",
   "execution_count": 24,
   "id": "292942cb",
   "metadata": {},
   "outputs": [
    {
     "data": {
      "text/plain": [
       "dict"
      ]
     },
     "execution_count": 24,
     "metadata": {},
     "output_type": "execute_result"
    }
   ],
   "source": [
    "type(dict_new)"
   ]
  },
  {
   "cell_type": "code",
   "execution_count": null,
   "id": "a90670cd",
   "metadata": {},
   "outputs": [],
   "source": [
    "# Exercício 7 - Adicione mais um elemento ao dicionário criado no exercício anterior e imprima na tela"
   ]
  },
  {
   "cell_type": "code",
   "execution_count": 25,
   "id": "82b3e151",
   "metadata": {},
   "outputs": [],
   "source": [
    "dict_new['Morango'] = 12"
   ]
  },
  {
   "cell_type": "code",
   "execution_count": 26,
   "id": "647b064a",
   "metadata": {},
   "outputs": [
    {
     "name": "stdout",
     "output_type": "stream",
     "text": [
      "{'Manga': 2, 'Abacaxi': 6, 'Melão': 8, 'Morango': 12}\n"
     ]
    }
   ],
   "source": [
    "print(dict_new)"
   ]
  },
  {
   "cell_type": "code",
   "execution_count": null,
   "id": "cd0f0b9e",
   "metadata": {},
   "outputs": [],
   "source": [
    "# Exercício 8 - Crie um dicionário com 3 chaves e 3 valores. \n",
    "# Um dos valores deve ser uma lista de 2 elementos numéricos. \n",
    "# Imprima o dicionário na tela."
   ]
  },
  {
   "cell_type": "code",
   "execution_count": 27,
   "id": "3559904b",
   "metadata": {},
   "outputs": [],
   "source": [
    "dict_lista = {'chave1':100, 'chave2':[102,104], 'chave3':110}"
   ]
  },
  {
   "cell_type": "code",
   "execution_count": 28,
   "id": "5c67c726",
   "metadata": {},
   "outputs": [
    {
     "name": "stdout",
     "output_type": "stream",
     "text": [
      "{'chave1': 100, 'chave2': [102, 104], 'chave3': 110}\n"
     ]
    }
   ],
   "source": [
    "print(dict_lista)"
   ]
  },
  {
   "cell_type": "code",
   "execution_count": null,
   "id": "7596a374",
   "metadata": {},
   "outputs": [],
   "source": [
    "# Exercício 9 - Crie uma lista de 4 elementos. O primeiro elemento deve ser uma string, \n",
    "# o segundo uma tupla de 2 elementos, o terceiro um dcionário com 2 chaves e 2 valores e \n",
    "# o quarto elemento um valor do tipo float.\n",
    "# Imprima a lista."
   ]
  },
  {
   "cell_type": "code",
   "execution_count": 41,
   "id": "8b3f6261",
   "metadata": {},
   "outputs": [],
   "source": [
    "lista = ['teste', (1,50), {4:'Karol', 2:'Teste'}, 1.90]"
   ]
  },
  {
   "cell_type": "code",
   "execution_count": 42,
   "id": "cab865f3",
   "metadata": {},
   "outputs": [
    {
     "name": "stdout",
     "output_type": "stream",
     "text": [
      "['teste', (1, 50), {4: 'Karol', 2: 'Teste'}, 1.9]\n"
     ]
    }
   ],
   "source": [
    "print(lista)"
   ]
  },
  {
   "cell_type": "code",
   "execution_count": 32,
   "id": "2737e56c",
   "metadata": {},
   "outputs": [],
   "source": [
    "# Exercício 10 - Considere a string abaixo. Imprima na tela apenas os caracteres da posição 1 a 18.\n",
    "frase = 'Cientista de Dados é o profissional mais sexy do século XXI'"
   ]
  },
  {
   "cell_type": "code",
   "execution_count": 43,
   "id": "a7bcd483",
   "metadata": {},
   "outputs": [
    {
     "data": {
      "text/plain": [
       "'Cientista de Dados'"
      ]
     },
     "execution_count": 43,
     "metadata": {},
     "output_type": "execute_result"
    }
   ],
   "source": [
    "frase[:18]\n",
    "# ou\n",
    "frase[0:18]"
   ]
  }
 ],
 "metadata": {
  "kernelspec": {
   "display_name": "Python 3 (ipykernel)",
   "language": "python",
   "name": "python3"
  },
  "language_info": {
   "codemirror_mode": {
    "name": "ipython",
    "version": 3
   },
   "file_extension": ".py",
   "mimetype": "text/x-python",
   "name": "python",
   "nbconvert_exporter": "python",
   "pygments_lexer": "ipython3",
   "version": "3.9.13"
  }
 },
 "nbformat": 4,
 "nbformat_minor": 5
}
