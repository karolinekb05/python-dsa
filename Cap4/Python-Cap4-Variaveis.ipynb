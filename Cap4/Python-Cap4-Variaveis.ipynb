{
 "cells": [
  {
   "cell_type": "markdown",
   "id": "236ec81c",
   "metadata": {},
   "source": [
    "## Trabalhando com variáveis"
   ]
  },
  {
   "cell_type": "code",
   "execution_count": 2,
   "id": "f632f92b",
   "metadata": {},
   "outputs": [],
   "source": [
    "# Atribuindo o valor 1 à variável\n",
    "var = 1"
   ]
  },
  {
   "cell_type": "code",
   "execution_count": 3,
   "id": "31cea3d8",
   "metadata": {},
   "outputs": [
    {
     "data": {
      "text/plain": [
       "1"
      ]
     },
     "execution_count": 3,
     "metadata": {},
     "output_type": "execute_result"
    }
   ],
   "source": [
    "# Imprimindo o valor da variável\n",
    "var"
   ]
  },
  {
   "cell_type": "code",
   "execution_count": 4,
   "id": "a21f2d51",
   "metadata": {},
   "outputs": [
    {
     "name": "stdout",
     "output_type": "stream",
     "text": [
      "1\n"
     ]
    }
   ],
   "source": [
    "print(var)"
   ]
  },
  {
   "cell_type": "code",
   "execution_count": 5,
   "id": "56756047",
   "metadata": {},
   "outputs": [
    {
     "ename": "NameError",
     "evalue": "name 'var_teste' is not defined",
     "output_type": "error",
     "traceback": [
      "\u001b[0;31m---------------------------------------------------------------------------\u001b[0m",
      "\u001b[0;31mNameError\u001b[0m                                 Traceback (most recent call last)",
      "\u001b[0;32m/tmp/ipykernel_9538/1776056950.py\u001b[0m in \u001b[0;36m<module>\u001b[0;34m\u001b[0m\n\u001b[1;32m      1\u001b[0m \u001b[0;31m# Não é possível utilizar uma variável que não foi definida.\u001b[0m\u001b[0;34m\u001b[0m\u001b[0;34m\u001b[0m\u001b[0m\n\u001b[0;32m----> 2\u001b[0;31m \u001b[0mvar_teste\u001b[0m\u001b[0;34m\u001b[0m\u001b[0;34m\u001b[0m\u001b[0m\n\u001b[0m",
      "\u001b[0;31mNameError\u001b[0m: name 'var_teste' is not defined"
     ]
    }
   ],
   "source": [
    "# Não é possível utilizar uma variável que não foi definida.\n",
    "var_teste"
   ]
  },
  {
   "cell_type": "code",
   "execution_count": 6,
   "id": "b0d7c569",
   "metadata": {},
   "outputs": [],
   "source": [
    "var = 4"
   ]
  },
  {
   "cell_type": "code",
   "execution_count": 7,
   "id": "e2ecfb7a",
   "metadata": {},
   "outputs": [
    {
     "data": {
      "text/plain": [
       "4"
      ]
     },
     "execution_count": 7,
     "metadata": {},
     "output_type": "execute_result"
    }
   ],
   "source": [
    "var"
   ]
  },
  {
   "cell_type": "markdown",
   "id": "061b7c0f",
   "metadata": {},
   "source": [
    "Python tem a tipagem dinâmica, ou seja, o interpretador identifica o tipo do valor atribuído na variável (duck typing)"
   ]
  },
  {
   "cell_type": "code",
   "execution_count": 8,
   "id": "d5011737",
   "metadata": {},
   "outputs": [
    {
     "data": {
      "text/plain": [
       "int"
      ]
     },
     "execution_count": 8,
     "metadata": {},
     "output_type": "execute_result"
    }
   ],
   "source": [
    "type(var)"
   ]
  },
  {
   "cell_type": "code",
   "execution_count": 9,
   "id": "cb55176b",
   "metadata": {},
   "outputs": [],
   "source": [
    "var = 1.5"
   ]
  },
  {
   "cell_type": "code",
   "execution_count": 10,
   "id": "076a51a9",
   "metadata": {},
   "outputs": [
    {
     "data": {
      "text/plain": [
       "float"
      ]
     },
     "execution_count": 10,
     "metadata": {},
     "output_type": "execute_result"
    }
   ],
   "source": [
    "type(var)"
   ]
  },
  {
   "cell_type": "code",
   "execution_count": 11,
   "id": "2076e414",
   "metadata": {},
   "outputs": [],
   "source": [
    "x = 7"
   ]
  },
  {
   "cell_type": "code",
   "execution_count": 12,
   "id": "aa022357",
   "metadata": {},
   "outputs": [
    {
     "data": {
      "text/plain": [
       "7"
      ]
     },
     "execution_count": 12,
     "metadata": {},
     "output_type": "execute_result"
    }
   ],
   "source": [
    "x"
   ]
  },
  {
   "cell_type": "markdown",
   "id": "5244ff26",
   "metadata": {},
   "source": [
    "## Declaração múltipla"
   ]
  },
  {
   "cell_type": "code",
   "execution_count": 13,
   "id": "befc475e",
   "metadata": {},
   "outputs": [],
   "source": [
    "pessoa1, pessoa2, pessoa3 = \"Karol\", \"Ka\", \"Karoline\""
   ]
  },
  {
   "cell_type": "code",
   "execution_count": 14,
   "id": "2b72abda",
   "metadata": {},
   "outputs": [
    {
     "data": {
      "text/plain": [
       "'Karol'"
      ]
     },
     "execution_count": 14,
     "metadata": {},
     "output_type": "execute_result"
    }
   ],
   "source": [
    "pessoa1"
   ]
  },
  {
   "cell_type": "code",
   "execution_count": 15,
   "id": "6a7e0cff",
   "metadata": {},
   "outputs": [
    {
     "data": {
      "text/plain": [
       "'Ka'"
      ]
     },
     "execution_count": 15,
     "metadata": {},
     "output_type": "execute_result"
    }
   ],
   "source": [
    "pessoa2"
   ]
  },
  {
   "cell_type": "code",
   "execution_count": 16,
   "id": "17551c25",
   "metadata": {},
   "outputs": [
    {
     "data": {
      "text/plain": [
       "'Karoline'"
      ]
     },
     "execution_count": 16,
     "metadata": {},
     "output_type": "execute_result"
    }
   ],
   "source": [
    "pessoa3"
   ]
  },
  {
   "cell_type": "code",
   "execution_count": 19,
   "id": "7bae4a40",
   "metadata": {},
   "outputs": [],
   "source": [
    "fruta1 = fruta2 = fruta3 = 'Maracujá'"
   ]
  },
  {
   "cell_type": "code",
   "execution_count": 20,
   "id": "58b313cd",
   "metadata": {},
   "outputs": [
    {
     "data": {
      "text/plain": [
       "'Maracujá'"
      ]
     },
     "execution_count": 20,
     "metadata": {},
     "output_type": "execute_result"
    }
   ],
   "source": [
    "fruta1"
   ]
  },
  {
   "cell_type": "code",
   "execution_count": 21,
   "id": "9d3f180c",
   "metadata": {},
   "outputs": [
    {
     "data": {
      "text/plain": [
       "'Maracujá'"
      ]
     },
     "execution_count": 21,
     "metadata": {},
     "output_type": "execute_result"
    }
   ],
   "source": [
    "fruta2"
   ]
  },
  {
   "cell_type": "code",
   "execution_count": 22,
   "id": "0ed59798",
   "metadata": {},
   "outputs": [
    {
     "data": {
      "text/plain": [
       "'Maracujá'"
      ]
     },
     "execution_count": 22,
     "metadata": {},
     "output_type": "execute_result"
    }
   ],
   "source": [
    "fruta3"
   ]
  },
  {
   "cell_type": "code",
   "execution_count": 23,
   "id": "01a34ee4",
   "metadata": {},
   "outputs": [
    {
     "ename": "NameError",
     "evalue": "name 'Fruta2' is not defined",
     "output_type": "error",
     "traceback": [
      "\u001b[0;31m---------------------------------------------------------------------------\u001b[0m",
      "\u001b[0;31mNameError\u001b[0m                                 Traceback (most recent call last)",
      "\u001b[0;32m/tmp/ipykernel_9538/396281889.py\u001b[0m in \u001b[0;36m<module>\u001b[0;34m\u001b[0m\n\u001b[1;32m      1\u001b[0m \u001b[0;31m# Cuidado com o case-sensitive\u001b[0m\u001b[0;34m\u001b[0m\u001b[0;34m\u001b[0m\u001b[0m\n\u001b[0;32m----> 2\u001b[0;31m \u001b[0mFruta2\u001b[0m\u001b[0;34m\u001b[0m\u001b[0;34m\u001b[0m\u001b[0m\n\u001b[0m",
      "\u001b[0;31mNameError\u001b[0m: name 'Fruta2' is not defined"
     ]
    }
   ],
   "source": [
    "# Cuidado com o case-sensitive\n",
    "Fruta2"
   ]
  },
  {
   "cell_type": "markdown",
   "id": "762ad761",
   "metadata": {},
   "source": [
    "Pode-se usar letras, números e underline em nome de variável, mas não pode iniciar com número."
   ]
  },
  {
   "cell_type": "code",
   "execution_count": null,
   "id": "88c7fdf7",
   "metadata": {},
   "outputs": [],
   "source": [
    "x1 = 5"
   ]
  },
  {
   "cell_type": "code",
   "execution_count": null,
   "id": "2dc154c4",
   "metadata": {},
   "outputs": [],
   "source": [
    "x1"
   ]
  },
  {
   "cell_type": "code",
   "execution_count": 24,
   "id": "dcf6aed4",
   "metadata": {},
   "outputs": [
    {
     "ename": "SyntaxError",
     "evalue": "invalid syntax (3017755874.py, line 2)",
     "output_type": "error",
     "traceback": [
      "\u001b[0;36m  File \u001b[0;32m\"/tmp/ipykernel_9538/3017755874.py\"\u001b[0;36m, line \u001b[0;32m2\u001b[0m\n\u001b[0;31m    1x = 12\u001b[0m\n\u001b[0m     ^\u001b[0m\n\u001b[0;31mSyntaxError\u001b[0m\u001b[0;31m:\u001b[0m invalid syntax\n"
     ]
    }
   ],
   "source": [
    "# Python não aceita iniciar o nome da variável com número\n",
    "1x = 12"
   ]
  },
  {
   "cell_type": "markdown",
   "id": "b8d5448a",
   "metadata": {},
   "source": [
    "Não pode usar palavras reservadas (são usadas pelo python) para nome de variável, como: false, class, finally, return, is, none, continue, for, lambda, try, true, def, from, while, and, or, del, if, elif, as, not, global, yield, assert, import, else, pass, except, break, raise, in, with, from, noniocal (consultar documentação)"
   ]
  },
  {
   "cell_type": "code",
   "execution_count": 25,
   "id": "344dae4f",
   "metadata": {},
   "outputs": [
    {
     "ename": "SyntaxError",
     "evalue": "invalid syntax (3713841946.py, line 1)",
     "output_type": "error",
     "traceback": [
      "\u001b[0;36m  File \u001b[0;32m\"/tmp/ipykernel_9538/3713841946.py\"\u001b[0;36m, line \u001b[0;32m1\u001b[0m\n\u001b[0;31m    break = 1\u001b[0m\n\u001b[0m          ^\u001b[0m\n\u001b[0;31mSyntaxError\u001b[0m\u001b[0;31m:\u001b[0m invalid syntax\n"
     ]
    }
   ],
   "source": [
    "break = 1"
   ]
  },
  {
   "cell_type": "markdown",
   "id": "1052872c",
   "metadata": {},
   "source": [
    "## Variáveis atribuídas à outras variáveis e ordem dos operadores"
   ]
  },
  {
   "cell_type": "code",
   "execution_count": 26,
   "id": "26e70d1c",
   "metadata": {},
   "outputs": [],
   "source": [
    "largura = 4"
   ]
  },
  {
   "cell_type": "code",
   "execution_count": 27,
   "id": "63bfdcc1",
   "metadata": {},
   "outputs": [],
   "source": [
    "altura = 6"
   ]
  },
  {
   "cell_type": "code",
   "execution_count": 28,
   "id": "efd14eba",
   "metadata": {},
   "outputs": [],
   "source": [
    "area = largura * altura"
   ]
  },
  {
   "cell_type": "code",
   "execution_count": 29,
   "id": "ab06d704",
   "metadata": {},
   "outputs": [
    {
     "data": {
      "text/plain": [
       "24"
      ]
     },
     "execution_count": 29,
     "metadata": {},
     "output_type": "execute_result"
    }
   ],
   "source": [
    "area"
   ]
  },
  {
   "cell_type": "code",
   "execution_count": 30,
   "id": "7d939118",
   "metadata": {},
   "outputs": [],
   "source": [
    "perimetro = 2 * largura + 2 * altura"
   ]
  },
  {
   "cell_type": "code",
   "execution_count": 31,
   "id": "00b02e50",
   "metadata": {},
   "outputs": [
    {
     "data": {
      "text/plain": [
       "20"
      ]
     },
     "execution_count": 31,
     "metadata": {},
     "output_type": "execute_result"
    }
   ],
   "source": [
    "perimetro"
   ]
  },
  {
   "cell_type": "code",
   "execution_count": 32,
   "id": "19518169",
   "metadata": {},
   "outputs": [],
   "source": [
    "# A ordem tem que ser a mesma da matemática\n",
    "perimetro = 2 * (largura + 2) * altura"
   ]
  },
  {
   "cell_type": "code",
   "execution_count": 33,
   "id": "9782ee20",
   "metadata": {},
   "outputs": [
    {
     "data": {
      "text/plain": [
       "72"
      ]
     },
     "execution_count": 33,
     "metadata": {},
     "output_type": "execute_result"
    }
   ],
   "source": [
    "perimetro"
   ]
  },
  {
   "cell_type": "markdown",
   "id": "9fa2d7fa",
   "metadata": {},
   "source": [
    "## Operações com variáveis"
   ]
  },
  {
   "cell_type": "code",
   "execution_count": null,
   "id": "9cd64075",
   "metadata": {},
   "outputs": [],
   "source": [
    "idade1 = 20"
   ]
  },
  {
   "cell_type": "code",
   "execution_count": null,
   "id": "373b0718",
   "metadata": {},
   "outputs": [],
   "source": [
    "idade2 = 11"
   ]
  },
  {
   "cell_type": "code",
   "execution_count": null,
   "id": "c17aba3b",
   "metadata": {},
   "outputs": [],
   "source": [
    "result1 = idade1 + idade2"
   ]
  },
  {
   "cell_type": "code",
   "execution_count": null,
   "id": "ae4a87ed",
   "metadata": {},
   "outputs": [],
   "source": [
    "result2 = idade1 - idade2"
   ]
  },
  {
   "cell_type": "code",
   "execution_count": null,
   "id": "159bb24f",
   "metadata": {},
   "outputs": [],
   "source": [
    "result3 = idade1 * idade2"
   ]
  },
  {
   "cell_type": "code",
   "execution_count": null,
   "id": "785c6a3a",
   "metadata": {},
   "outputs": [],
   "source": [
    "result4 = idade1 / idade2"
   ]
  },
  {
   "cell_type": "code",
   "execution_count": null,
   "id": "14e04993",
   "metadata": {},
   "outputs": [],
   "source": [
    "result5 = idade1 % idade2"
   ]
  },
  {
   "cell_type": "markdown",
   "id": "a0908edb",
   "metadata": {},
   "source": [
    "## Concatenação de variáveis"
   ]
  },
  {
   "cell_type": "code",
   "execution_count": 34,
   "id": "cae8cbd0",
   "metadata": {},
   "outputs": [],
   "source": [
    "nome = 'Karol'"
   ]
  },
  {
   "cell_type": "code",
   "execution_count": 35,
   "id": "facb638a",
   "metadata": {},
   "outputs": [],
   "source": [
    "sobrenome = 'KB'"
   ]
  },
  {
   "cell_type": "code",
   "execution_count": 36,
   "id": "50563998",
   "metadata": {},
   "outputs": [],
   "source": [
    "fullname = nome + ' ' + sobrenome"
   ]
  },
  {
   "cell_type": "code",
   "execution_count": 37,
   "id": "c1bfe0ba",
   "metadata": {},
   "outputs": [
    {
     "data": {
      "text/plain": [
       "'Karol KB'"
      ]
     },
     "execution_count": 37,
     "metadata": {},
     "output_type": "execute_result"
    }
   ],
   "source": [
    "fullname"
   ]
  }
],
 "metadata": {
  "kernelspec": {
   "display_name": "Python 3 (ipykernel)",
   "language": "python",
   "name": "python3"
  },
  "language_info": {
   "codemirror_mode": {
    "name": "ipython",
    "version": 3
   },
   "file_extension": ".py",
   "mimetype": "text/x-python",
   "name": "python",
   "nbconvert_exporter": "python",
   "pygments_lexer": "ipython3",
   "version": "3.9.13"
  }
 },
 "nbformat": 4,
 "nbformat_minor": 5
}
