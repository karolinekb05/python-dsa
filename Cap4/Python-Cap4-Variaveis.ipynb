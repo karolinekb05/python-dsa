{
  "cells": [
    {
      "cell_type": "markdown",
      "id": "236ec81c",
      "metadata": {
        "id": "236ec81c"
      },
      "source": [
        "## Trabalhando com variáveis\n",
        "\n",
        "Variáveis criam áreas de armazenamento de dados na memória RAM, sendo assim possível processar, manipular, resolver operações e exibir esse dado armazenado"
      ]
    },
    {
      "cell_type": "code",
      "execution_count": 1,
      "id": "f632f92b",
      "metadata": {
        "id": "f632f92b"
      },
      "outputs": [],
      "source": [
        "# Atribuindo o valor 1 à variável var\n",
        "var = 1"
      ]
    },
    {
      "cell_type": "code",
      "execution_count": null,
      "id": "31cea3d8",
      "metadata": {
        "id": "31cea3d8",
        "outputId": "d8c1d108-0dde-4ecd-f278-470bb0ca7c64"
      },
      "outputs": [
        {
          "data": {
            "text/plain": [
              "1"
            ]
          },
          "execution_count": 3,
          "metadata": {},
          "output_type": "execute_result"
        }
      ],
      "source": [
        "# Imprimindo o valor da variável\n",
        "var"
      ]
    },
    {
      "cell_type": "code",
      "execution_count": null,
      "id": "a21f2d51",
      "metadata": {
        "id": "a21f2d51",
        "outputId": "48f0e72a-8dfa-4392-d795-d590bbfbdeb8"
      },
      "outputs": [
        {
          "name": "stdout",
          "output_type": "stream",
          "text": [
            "1\n"
          ]
        }
      ],
      "source": [
        "print(var)"
      ]
    },
    {
      "cell_type": "code",
      "execution_count": null,
      "id": "56756047",
      "metadata": {
        "id": "56756047",
        "outputId": "b655e98f-736e-4850-e0c9-d919df9a03e5"
      },
      "outputs": [
        {
          "ename": "NameError",
          "evalue": "name 'var_teste' is not defined",
          "output_type": "error",
          "traceback": [
            "\u001b[0;31m---------------------------------------------------------------------------\u001b[0m",
            "\u001b[0;31mNameError\u001b[0m                                 Traceback (most recent call last)",
            "\u001b[0;32m/tmp/ipykernel_9538/1776056950.py\u001b[0m in \u001b[0;36m<module>\u001b[0;34m\u001b[0m\n\u001b[1;32m      1\u001b[0m \u001b[0;31m# Não é possível utilizar uma variável que não foi definida.\u001b[0m\u001b[0;34m\u001b[0m\u001b[0;34m\u001b[0m\u001b[0m\n\u001b[0;32m----> 2\u001b[0;31m \u001b[0mvar_teste\u001b[0m\u001b[0;34m\u001b[0m\u001b[0;34m\u001b[0m\u001b[0m\n\u001b[0m",
            "\u001b[0;31mNameError\u001b[0m: name 'var_teste' is not defined"
          ]
        }
      ],
      "source": [
        "# Só pode usar a variável se ela for definida antes!\n",
        "# Não é possível utilizar uma variável que não foi definida.\n",
        "var_teste"
      ]
    },
    {
      "cell_type": "code",
      "execution_count": null,
      "id": "b0d7c569",
      "metadata": {
        "id": "b0d7c569"
      },
      "outputs": [],
      "source": [
        "# Modificando o valor da variável, substitui o valor anterior (1) pelo valor 4\n",
        "var = 4"
      ]
    },
    {
      "cell_type": "code",
      "execution_count": null,
      "id": "e2ecfb7a",
      "metadata": {
        "id": "e2ecfb7a",
        "outputId": "0b72fd95-f18b-469c-c401-0968b4b94360"
      },
      "outputs": [
        {
          "data": {
            "text/plain": [
              "4"
            ]
          },
          "execution_count": 7,
          "metadata": {},
          "output_type": "execute_result"
        }
      ],
      "source": [
        "var"
      ]
    },
    {
      "cell_type": "markdown",
      "id": "061b7c0f",
      "metadata": {
        "id": "061b7c0f"
      },
      "source": [
        "Python tem a tipagem dinâmica, ou seja, o interpretador identifica dinamicamente o valor da variável e assim, define o tipo do valor atribuído na variável (duck typing)"
      ]
    },
    {
      "cell_type": "code",
      "execution_count": null,
      "id": "d5011737",
      "metadata": {
        "id": "d5011737",
        "outputId": "8595996c-ad3c-4822-e7d6-3f3404fc55ee"
      },
      "outputs": [
        {
          "data": {
            "text/plain": [
              "int"
            ]
          },
          "execution_count": 8,
          "metadata": {},
          "output_type": "execute_result"
        }
      ],
      "source": [
        "type(var)"
      ]
    },
    {
      "cell_type": "code",
      "execution_count": null,
      "id": "cb55176b",
      "metadata": {
        "id": "cb55176b"
      },
      "outputs": [],
      "source": [
        "var = 1.5"
      ]
    },
    {
      "cell_type": "code",
      "execution_count": null,
      "id": "076a51a9",
      "metadata": {
        "id": "076a51a9",
        "outputId": "0e8ed14b-a239-47a2-8e14-38fcbc3ceb7c"
      },
      "outputs": [
        {
          "data": {
            "text/plain": [
              "float"
            ]
          },
          "execution_count": 10,
          "metadata": {},
          "output_type": "execute_result"
        }
      ],
      "source": [
        "type(var)"
      ]
    },
    {
      "cell_type": "code",
      "execution_count": null,
      "id": "2076e414",
      "metadata": {
        "id": "2076e414"
      },
      "outputs": [],
      "source": [
        "x = 7"
      ]
    },
    {
      "cell_type": "code",
      "execution_count": null,
      "id": "aa022357",
      "metadata": {
        "id": "aa022357",
        "outputId": "0fcf4b77-8012-4aac-89ae-cd111a995884"
      },
      "outputs": [
        {
          "data": {
            "text/plain": [
              "7"
            ]
          },
          "execution_count": 12,
          "metadata": {},
          "output_type": "execute_result"
        }
      ],
      "source": [
        "x"
      ]
    },
    {
      "cell_type": "markdown",
      "id": "5244ff26",
      "metadata": {
        "id": "5244ff26"
      },
      "source": [
        "## Declaração múltipla\n",
        "\n",
        "Cria diversas variáveis com valores em uma linha"
      ]
    },
    {
      "cell_type": "code",
      "execution_count": null,
      "id": "befc475e",
      "metadata": {
        "id": "befc475e"
      },
      "outputs": [],
      "source": [
        "# Criando 3 variáveis ao mesmo tempo e com seus valores respectivamente\n",
        "pessoa1, pessoa2, pessoa3 = \"Karol\", \"Ka\", \"Karoline\""
      ]
    },
    {
      "cell_type": "code",
      "execution_count": null,
      "id": "2b72abda",
      "metadata": {
        "id": "2b72abda",
        "outputId": "51a9f957-b236-4fb1-c19a-13edadb8c63a"
      },
      "outputs": [
        {
          "data": {
            "text/plain": [
              "'Karol'"
            ]
          },
          "execution_count": 14,
          "metadata": {},
          "output_type": "execute_result"
        }
      ],
      "source": [
        "pessoa1"
      ]
    },
    {
      "cell_type": "code",
      "execution_count": null,
      "id": "6a7e0cff",
      "metadata": {
        "id": "6a7e0cff",
        "outputId": "be30612c-1b4d-4b33-d44b-2dac537401e7"
      },
      "outputs": [
        {
          "data": {
            "text/plain": [
              "'Ka'"
            ]
          },
          "execution_count": 15,
          "metadata": {},
          "output_type": "execute_result"
        }
      ],
      "source": [
        "pessoa2"
      ]
    },
    {
      "cell_type": "code",
      "execution_count": null,
      "id": "17551c25",
      "metadata": {
        "id": "17551c25",
        "outputId": "cbd564bd-10bd-43fc-fc22-f88dbe7a9458"
      },
      "outputs": [
        {
          "data": {
            "text/plain": [
              "'Karoline'"
            ]
          },
          "execution_count": 16,
          "metadata": {},
          "output_type": "execute_result"
        }
      ],
      "source": [
        "pessoa3"
      ]
    },
    {
      "cell_type": "code",
      "execution_count": null,
      "id": "7bae4a40",
      "metadata": {
        "id": "7bae4a40"
      },
      "outputs": [],
      "source": [
        "# Atribuindo o valor de uma variável à outra\n",
        "# fruta1 tem o valor de fruta2\n",
        "# fruta2 tem o valor de fruta3\n",
        "fruta1 = fruta2 = fruta3 = 'Maracujá'"
      ]
    },
    {
      "cell_type": "code",
      "execution_count": null,
      "id": "58b313cd",
      "metadata": {
        "id": "58b313cd",
        "outputId": "2cd353d7-a27c-4c44-dbce-7b17b608cb69"
      },
      "outputs": [
        {
          "data": {
            "text/plain": [
              "'Maracujá'"
            ]
          },
          "execution_count": 20,
          "metadata": {},
          "output_type": "execute_result"
        }
      ],
      "source": [
        "fruta1"
      ]
    },
    {
      "cell_type": "code",
      "execution_count": null,
      "id": "9d3f180c",
      "metadata": {
        "id": "9d3f180c",
        "outputId": "b6737b8d-79eb-4f64-9bb9-b381b0c249c2"
      },
      "outputs": [
        {
          "data": {
            "text/plain": [
              "'Maracujá'"
            ]
          },
          "execution_count": 21,
          "metadata": {},
          "output_type": "execute_result"
        }
      ],
      "source": [
        "fruta2"
      ]
    },
    {
      "cell_type": "code",
      "execution_count": null,
      "id": "0ed59798",
      "metadata": {
        "id": "0ed59798",
        "outputId": "56bbd94e-7e70-4bca-8c2e-7e7915aa5d1e"
      },
      "outputs": [
        {
          "data": {
            "text/plain": [
              "'Maracujá'"
            ]
          },
          "execution_count": 22,
          "metadata": {},
          "output_type": "execute_result"
        }
      ],
      "source": [
        "fruta3"
      ]
    },
    {
      "cell_type": "code",
      "execution_count": null,
      "id": "01a34ee4",
      "metadata": {
        "id": "01a34ee4",
        "outputId": "d1841821-7471-4b47-d9d8-7a34f5007df7"
      },
      "outputs": [
        {
          "ename": "NameError",
          "evalue": "name 'Fruta2' is not defined",
          "output_type": "error",
          "traceback": [
            "\u001b[0;31m---------------------------------------------------------------------------\u001b[0m",
            "\u001b[0;31mNameError\u001b[0m                                 Traceback (most recent call last)",
            "\u001b[0;32m/tmp/ipykernel_9538/396281889.py\u001b[0m in \u001b[0;36m<module>\u001b[0;34m\u001b[0m\n\u001b[1;32m      1\u001b[0m \u001b[0;31m# Cuidado com o case-sensitive\u001b[0m\u001b[0;34m\u001b[0m\u001b[0;34m\u001b[0m\u001b[0m\n\u001b[0;32m----> 2\u001b[0;31m \u001b[0mFruta2\u001b[0m\u001b[0;34m\u001b[0m\u001b[0;34m\u001b[0m\u001b[0m\n\u001b[0m",
            "\u001b[0;31mNameError\u001b[0m: name 'Fruta2' is not defined"
          ]
        }
      ],
      "source": [
        "# Cuidado com o case-sensitive (diferença de letra maiúscula e minúscula)\n",
        "Fruta2"
      ]
    },
    {
      "cell_type": "markdown",
      "id": "762ad761",
      "metadata": {
        "id": "762ad761"
      },
      "source": [
        "Pode-se usar letras, números e underline em nome de variável, mas não pode iniciar com número."
      ]
    },
    {
      "cell_type": "code",
      "execution_count": null,
      "id": "88c7fdf7",
      "metadata": {
        "id": "88c7fdf7"
      },
      "outputs": [],
      "source": [
        "x1 = 5"
      ]
    },
    {
      "cell_type": "code",
      "execution_count": null,
      "id": "2dc154c4",
      "metadata": {
        "id": "2dc154c4"
      },
      "outputs": [],
      "source": [
        "x1"
      ]
    },
    {
      "cell_type": "code",
      "execution_count": null,
      "id": "dcf6aed4",
      "metadata": {
        "id": "dcf6aed4",
        "outputId": "57d0e537-2196-41fa-bebd-3e5436146cdd"
      },
      "outputs": [
        {
          "ename": "SyntaxError",
          "evalue": "invalid syntax (3017755874.py, line 2)",
          "output_type": "error",
          "traceback": [
            "\u001b[0;36m  File \u001b[0;32m\"/tmp/ipykernel_9538/3017755874.py\"\u001b[0;36m, line \u001b[0;32m2\u001b[0m\n\u001b[0;31m    1x = 12\u001b[0m\n\u001b[0m     ^\u001b[0m\n\u001b[0;31mSyntaxError\u001b[0m\u001b[0;31m:\u001b[0m invalid syntax\n"
          ]
        }
      ],
      "source": [
        "# Python não aceita iniciar o nome da variável com número\n",
        "1x = 12"
      ]
    },
    {
      "cell_type": "markdown",
      "id": "b8d5448a",
      "metadata": {
        "id": "b8d5448a"
      },
      "source": [
        "Não pode usar palavras reservadas (são usadas pelo interpretador do python) para nome de variável, como: false, class, finally, return, is, none, continue, for, lambda, try, true, def, from, while, and, or, del, if, elif, as, not, global, yield, assert, import, else, pass, except, break, raise, in, with, from, noniocal (consultar documentação)\n",
        "\n",
        "Geralmente as palavras reservadas ficam coloridas no editor"
      ]
    },
    {
      "cell_type": "code",
      "execution_count": null,
      "id": "344dae4f",
      "metadata": {
        "id": "344dae4f",
        "outputId": "f622efb4-15c3-4ba4-ba05-e34c521420ab"
      },
      "outputs": [
        {
          "ename": "SyntaxError",
          "evalue": "invalid syntax (3713841946.py, line 1)",
          "output_type": "error",
          "traceback": [
            "\u001b[0;36m  File \u001b[0;32m\"/tmp/ipykernel_9538/3713841946.py\"\u001b[0;36m, line \u001b[0;32m1\u001b[0m\n\u001b[0;31m    break = 1\u001b[0m\n\u001b[0m          ^\u001b[0m\n\u001b[0;31mSyntaxError\u001b[0m\u001b[0;31m:\u001b[0m invalid syntax\n"
          ]
        }
      ],
      "source": [
        "# break é uma palavra reservada, então, não pode ser utilizada como variável\n",
        "break = 1"
      ]
    },
    {
      "cell_type": "markdown",
      "id": "1052872c",
      "metadata": {
        "id": "1052872c"
      },
      "source": [
        "## Variáveis atribuídas à outras variáveis e ordem dos operadores\n",
        "\n",
        "A ordem de precedência sempre tem que ser informada"
      ]
    },
    {
      "cell_type": "code",
      "execution_count": null,
      "id": "26e70d1c",
      "metadata": {
        "id": "26e70d1c"
      },
      "outputs": [],
      "source": [
        "largura = 4"
      ]
    },
    {
      "cell_type": "code",
      "execution_count": null,
      "id": "63bfdcc1",
      "metadata": {
        "id": "63bfdcc1"
      },
      "outputs": [],
      "source": [
        "altura = 6"
      ]
    },
    {
      "cell_type": "code",
      "execution_count": null,
      "id": "efd14eba",
      "metadata": {
        "id": "efd14eba"
      },
      "outputs": [],
      "source": [
        "area = largura * altura"
      ]
    },
    {
      "cell_type": "code",
      "execution_count": null,
      "id": "ab06d704",
      "metadata": {
        "id": "ab06d704",
        "outputId": "b62b1bec-1bab-4729-cd4a-750f6ce72a48"
      },
      "outputs": [
        {
          "data": {
            "text/plain": [
              "24"
            ]
          },
          "execution_count": 29,
          "metadata": {},
          "output_type": "execute_result"
        }
      ],
      "source": [
        "area"
      ]
    },
    {
      "cell_type": "code",
      "execution_count": null,
      "id": "7d939118",
      "metadata": {
        "id": "7d939118"
      },
      "outputs": [],
      "source": [
        "# Concatenando operações (a ordem de precedência se mantém)\n",
        "# Nesse caso, multiplica e depois soma, porque a ordem de precedência não foi definida\n",
        "perimetro = 2 * largura + 2 * altura"
      ]
    },
    {
      "cell_type": "code",
      "execution_count": null,
      "id": "00b02e50",
      "metadata": {
        "id": "00b02e50",
        "outputId": "45ba6480-2bcd-42d2-afc6-dbeae0664bae"
      },
      "outputs": [
        {
          "data": {
            "text/plain": [
              "20"
            ]
          },
          "execution_count": 31,
          "metadata": {},
          "output_type": "execute_result"
        }
      ],
      "source": [
        "perimetro"
      ]
    },
    {
      "cell_type": "code",
      "execution_count": null,
      "id": "19518169",
      "metadata": {
        "id": "19518169"
      },
      "outputs": [],
      "source": [
        "# A ordem tem que ser a mesma da matemática\n",
        "# () tem precedência\n",
        "# soma depois multiplca por 2 e depois pela altura\n",
        "perimetro = 2 * (largura + 2) * altura"
      ]
    },
    {
      "cell_type": "code",
      "execution_count": null,
      "id": "9782ee20",
      "metadata": {
        "id": "9782ee20",
        "outputId": "584fa490-0877-4b87-ca0e-b715d5e9dd0e"
      },
      "outputs": [
        {
          "data": {
            "text/plain": [
              "72"
            ]
          },
          "execution_count": 33,
          "metadata": {},
          "output_type": "execute_result"
        }
      ],
      "source": [
        "perimetro"
      ]
    },
    {
      "cell_type": "markdown",
      "id": "9fa2d7fa",
      "metadata": {
        "id": "9fa2d7fa"
      },
      "source": [
        "## Operações com variáveis"
      ]
    },
    {
      "cell_type": "code",
      "execution_count": 2,
      "id": "9cd64075",
      "metadata": {
        "id": "9cd64075"
      },
      "outputs": [],
      "source": [
        "idade1 = 20"
      ]
    },
    {
      "cell_type": "code",
      "execution_count": 3,
      "id": "373b0718",
      "metadata": {
        "id": "373b0718"
      },
      "outputs": [],
      "source": [
        "idade2 = 11"
      ]
    },
    {
      "cell_type": "code",
      "execution_count": 9,
      "id": "c17aba3b",
      "metadata": {
        "id": "c17aba3b",
        "outputId": "158a57a5-a965-4f9e-9d48-5f58e05a2fba",
        "colab": {
          "base_uri": "https://localhost:8080/"
        }
      },
      "outputs": [
        {
          "output_type": "stream",
          "name": "stdout",
          "text": [
            "31\n"
          ]
        }
      ],
      "source": [
        "result1 = idade1 + idade2\n",
        "print(result1)"
      ]
    },
    {
      "cell_type": "code",
      "execution_count": 10,
      "id": "ae4a87ed",
      "metadata": {
        "id": "ae4a87ed",
        "outputId": "98ead9ff-1c66-4a62-f83d-b0f6cb5d6046",
        "colab": {
          "base_uri": "https://localhost:8080/"
        }
      },
      "outputs": [
        {
          "output_type": "stream",
          "name": "stdout",
          "text": [
            "9\n"
          ]
        }
      ],
      "source": [
        "result2 = idade1 - idade2\n",
        "print(result2)"
      ]
    },
    {
      "cell_type": "code",
      "execution_count": 11,
      "id": "159bb24f",
      "metadata": {
        "id": "159bb24f",
        "outputId": "f06668b6-66d0-48cf-9fd0-cb946830e431",
        "colab": {
          "base_uri": "https://localhost:8080/"
        }
      },
      "outputs": [
        {
          "output_type": "stream",
          "name": "stdout",
          "text": [
            "220\n"
          ]
        }
      ],
      "source": [
        "result3 = idade1 * idade2\n",
        "print(result3)"
      ]
    },
    {
      "cell_type": "code",
      "execution_count": 14,
      "id": "785c6a3a",
      "metadata": {
        "id": "785c6a3a",
        "outputId": "329e4883-e78f-48b0-ddc7-fe289bc84226",
        "colab": {
          "base_uri": "https://localhost:8080/"
        }
      },
      "outputs": [
        {
          "output_type": "stream",
          "name": "stdout",
          "text": [
            "1.8181818181818181\n",
            "1.82\n"
          ]
        }
      ],
      "source": [
        "result4 = idade1 / idade2\n",
        "print(result4)\n",
        "print(round(result4, 2))"
      ]
    },
    {
      "cell_type": "code",
      "execution_count": 13,
      "id": "14e04993",
      "metadata": {
        "id": "14e04993",
        "outputId": "ec43afd7-37df-4260-bb92-57f4a1cf124a",
        "colab": {
          "base_uri": "https://localhost:8080/"
        }
      },
      "outputs": [
        {
          "output_type": "stream",
          "name": "stdout",
          "text": [
            "9\n"
          ]
        }
      ],
      "source": [
        "result5 = idade1 % idade2\n",
        "print(result5)"
      ]
    },
    {
      "cell_type": "markdown",
      "id": "a0908edb",
      "metadata": {
        "id": "a0908edb"
      },
      "source": [
        "## Concatenação de variáveis"
      ]
    },
    {
      "cell_type": "code",
      "execution_count": null,
      "id": "cae8cbd0",
      "metadata": {
        "id": "cae8cbd0"
      },
      "outputs": [],
      "source": [
        "nome = 'Karol'"
      ]
    },
    {
      "cell_type": "code",
      "execution_count": null,
      "id": "facb638a",
      "metadata": {
        "id": "facb638a"
      },
      "outputs": [],
      "source": [
        "sobrenome = 'KB'"
      ]
    },
    {
      "cell_type": "code",
      "execution_count": null,
      "id": "50563998",
      "metadata": {
        "id": "50563998"
      },
      "outputs": [],
      "source": [
        "# Concatenando strings\n",
        "# + só soma se for númerico\n",
        "fullname = nome + ' ' + sobrenome"
      ]
    },
    {
      "cell_type": "code",
      "execution_count": null,
      "id": "c1bfe0ba",
      "metadata": {
        "id": "c1bfe0ba",
        "outputId": "6768090b-de07-47c1-adb5-4ee0a274684d"
      },
      "outputs": [
        {
          "data": {
            "text/plain": [
              "'Karol KB'"
            ]
          },
          "execution_count": 37,
          "metadata": {},
          "output_type": "execute_result"
        }
      ],
      "source": [
        "fullname"
      ]
    }
  ],
  "metadata": {
    "kernelspec": {
      "display_name": "Python 3 (ipykernel)",
      "language": "python",
      "name": "python3"
    },
    "language_info": {
      "codemirror_mode": {
        "name": "ipython",
        "version": 3
      },
      "file_extension": ".py",
      "mimetype": "text/x-python",
      "name": "python",
      "nbconvert_exporter": "python",
      "pygments_lexer": "ipython3",
      "version": "3.9.13"
    },
    "colab": {
      "provenance": []
    }
  },
  "nbformat": 4,
  "nbformat_minor": 5
}