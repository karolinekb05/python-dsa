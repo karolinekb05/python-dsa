{
  "cells": [
    {
      "cell_type": "markdown",
      "id": "b777c6b8",
      "metadata": {
        "id": "b777c6b8"
      },
      "source": [
        "## Criando uma string\n",
        "\n",
        "String é definida por estar entre aspas duplas ou simples"
      ]
    },
    {
      "cell_type": "code",
      "execution_count": 1,
      "id": "aafbfffd",
      "metadata": {
        "id": "aafbfffd",
        "outputId": "2e4dc61b-98fb-49ed-84e2-b3c55cdb9c2a",
        "colab": {
          "base_uri": "https://localhost:8080/",
          "height": 35
        }
      },
      "outputs": [
        {
          "output_type": "execute_result",
          "data": {
            "text/plain": [
              "'Oi'"
            ],
            "application/vnd.google.colaboratory.intrinsic+json": {
              "type": "string"
            }
          },
          "metadata": {},
          "execution_count": 1
        }
      ],
      "source": [
        "# Uma única palavra\n",
        "'Oi'"
      ]
    },
    {
      "cell_type": "code",
      "execution_count": 2,
      "id": "273a27b8",
      "metadata": {
        "id": "273a27b8",
        "outputId": "44aeb4bd-f06d-4b83-8b3a-07cea7b1dc0b",
        "colab": {
          "base_uri": "https://localhost:8080/",
          "height": 35
        }
      },
      "outputs": [
        {
          "output_type": "execute_result",
          "data": {
            "text/plain": [
              "'Estou aprendendo Python'"
            ],
            "application/vnd.google.colaboratory.intrinsic+json": {
              "type": "string"
            }
          },
          "metadata": {},
          "execution_count": 2
        }
      ],
      "source": [
        "# Uma frase\n",
        "'Estou aprendendo Python'"
      ]
    },
    {
      "cell_type": "code",
      "execution_count": null,
      "id": "d7334a0c",
      "metadata": {
        "id": "d7334a0c",
        "outputId": "f68e43dd-e0e6-4750-f1de-e4fb7b734a72"
      },
      "outputs": [
        {
          "data": {
            "text/plain": [
              "'Python é legal'"
            ]
          },
          "execution_count": 3,
          "metadata": {},
          "output_type": "execute_result"
        }
      ],
      "source": [
        "# Pode usar aspas duplas ou simples\n",
        "\"Python é legal\""
      ]
    },
    {
      "cell_type": "code",
      "execution_count": null,
      "id": "0fd71124",
      "metadata": {
        "id": "0fd71124",
        "outputId": "fd76316b-3c12-4e59-9eb8-3569c833f349"
      },
      "outputs": [
        {
          "data": {
            "text/plain": [
              "'Python é interessante'"
            ]
          },
          "execution_count": 4,
          "metadata": {},
          "output_type": "execute_result"
        }
      ],
      "source": [
        "'Python é interessante'"
      ]
    },
    {
      "cell_type": "code",
      "execution_count": null,
      "id": "bfebc6a3",
      "metadata": {
        "id": "bfebc6a3",
        "outputId": "3dc5a963-e347-4093-8e03-b3a8178eb92b"
      },
      "outputs": [
        {
          "data": {
            "text/plain": [
              "\"Eu estou aprendendo 'Python'\""
            ]
          },
          "execution_count": 5,
          "metadata": {},
          "output_type": "execute_result"
        }
      ],
      "source": [
        "# Pode combinar aspas duplas e simples\n",
        "\"Eu estou aprendendo 'Python'\""
      ]
    },
    {
      "cell_type": "markdown",
      "id": "0d588dcd",
      "metadata": {
        "id": "0d588dcd"
      },
      "source": [
        "## Imprimindo uma string\n",
        "\n",
        "Usar a função print sempre com aspas entre colchetes ('')"
      ]
    },
    {
      "cell_type": "code",
      "execution_count": null,
      "id": "2dcaf6ec",
      "metadata": {
        "id": "2dcaf6ec",
        "outputId": "380f31ea-9b91-4a51-e78a-248605f33273"
      },
      "outputs": [
        {
          "name": "stdout",
          "output_type": "stream",
          "text": [
            "String em Python\n"
          ]
        }
      ],
      "source": [
        "print('String em Python')"
      ]
    },
    {
      "cell_type": "code",
      "execution_count": 4,
      "id": "035d580c",
      "metadata": {
        "id": "035d580c",
        "outputId": "277e6a07-0620-438f-d5ab-b9baf1d00eba",
        "colab": {
          "base_uri": "https://localhost:8080/"
        }
      },
      "outputs": [
        {
          "output_type": "stream",
          "name": "stdout",
          "text": [
            "Testando \n",
            "enter \n",
            " no \n",
            "Python\n"
          ]
        }
      ],
      "source": [
        "#\\n é como tecla Enter\n",
        "# A tecla espaço também é um caractere, por isso foi imprimida também\n",
        "print('Testando \\nenter \\n no \\nPython')"
      ]
    },
    {
      "cell_type": "code",
      "execution_count": 3,
      "id": "98437762",
      "metadata": {
        "id": "98437762",
        "outputId": "0ef34438-f5c5-4a04-9f41-79b177344ff8",
        "colab": {
          "base_uri": "https://localhost:8080/"
        }
      },
      "outputs": [
        {
          "output_type": "stream",
          "name": "stdout",
          "text": [
            "\n",
            "\n"
          ]
        }
      ],
      "source": [
        "print('\\n')"
      ]
    },
    {
      "cell_type": "markdown",
      "id": "c05a2ffb",
      "metadata": {
        "id": "c05a2ffb"
      },
      "source": [
        "## Indexação de string"
      ]
    },
    {
      "cell_type": "code",
      "execution_count": 6,
      "id": "8c98eef0",
      "metadata": {
        "id": "8c98eef0"
      },
      "outputs": [],
      "source": [
        "# Atribuindo uma string à uma variável\n",
        "# Cada elemento da string recebe um índice automaticamente, facilitando a busca\n",
        "s = 'Data Python'"
      ]
    },
    {
      "cell_type": "code",
      "execution_count": 7,
      "id": "67a376bd",
      "metadata": {
        "id": "67a376bd",
        "outputId": "f7fadf27-b63a-4986-b100-5ddf4fa15199",
        "colab": {
          "base_uri": "https://localhost:8080/"
        }
      },
      "outputs": [
        {
          "output_type": "stream",
          "name": "stdout",
          "text": [
            "Data Python\n"
          ]
        }
      ],
      "source": [
        "print(s)"
      ]
    },
    {
      "cell_type": "markdown",
      "id": "00e7f2ed",
      "metadata": {
        "id": "00e7f2ed"
      },
      "source": [
        "Indexação em Python começa em 0!!!"
      ]
    },
    {
      "cell_type": "code",
      "execution_count": 8,
      "id": "9ba31554",
      "metadata": {
        "id": "9ba31554",
        "outputId": "f547ad79-fef0-43a3-bc80-78fe6254c955",
        "colab": {
          "base_uri": "https://localhost:8080/",
          "height": 35
        }
      },
      "outputs": [
        {
          "output_type": "execute_result",
          "data": {
            "text/plain": [
              "'D'"
            ],
            "application/vnd.google.colaboratory.intrinsic+json": {
              "type": "string"
            }
          },
          "metadata": {},
          "execution_count": 8
        }
      ],
      "source": [
        "# Primeiro elemento da string\n",
        "s[0]"
      ]
    },
    {
      "cell_type": "code",
      "execution_count": 9,
      "id": "901d6d14",
      "metadata": {
        "id": "901d6d14",
        "outputId": "4a944114-f4f3-444b-8ba1-f1916ab8ea2c",
        "colab": {
          "base_uri": "https://localhost:8080/",
          "height": 35
        }
      },
      "outputs": [
        {
          "output_type": "execute_result",
          "data": {
            "text/plain": [
              "'a'"
            ],
            "application/vnd.google.colaboratory.intrinsic+json": {
              "type": "string"
            }
          },
          "metadata": {},
          "execution_count": 9
        }
      ],
      "source": [
        "s[1]"
      ]
    },
    {
      "cell_type": "code",
      "execution_count": 10,
      "id": "ef68d58b",
      "metadata": {
        "id": "ef68d58b",
        "outputId": "70ff0ecb-7967-4601-dfee-d880343aadb3",
        "colab": {
          "base_uri": "https://localhost:8080/",
          "height": 35
        }
      },
      "outputs": [
        {
          "output_type": "execute_result",
          "data": {
            "text/plain": [
              "'t'"
            ],
            "application/vnd.google.colaboratory.intrinsic+json": {
              "type": "string"
            }
          },
          "metadata": {},
          "execution_count": 10
        }
      ],
      "source": [
        "s[2]"
      ]
    },
    {
      "cell_type": "code",
      "execution_count": 11,
      "id": "e28b0d3f",
      "metadata": {
        "id": "e28b0d3f",
        "outputId": "d3d861a8-b402-4e6d-9e23-dcaa86949221",
        "colab": {
          "base_uri": "https://localhost:8080/",
          "height": 35
        }
      },
      "outputs": [
        {
          "output_type": "execute_result",
          "data": {
            "text/plain": [
              "'a'"
            ],
            "application/vnd.google.colaboratory.intrinsic+json": {
              "type": "string"
            }
          },
          "metadata": {},
          "execution_count": 11
        }
      ],
      "source": [
        "s[3]"
      ]
    },
    {
      "cell_type": "code",
      "execution_count": null,
      "id": "d2c0c8bd",
      "metadata": {
        "id": "d2c0c8bd",
        "outputId": "7f1753ce-4544-4401-9813-20ab45af72a4"
      },
      "outputs": [
        {
          "data": {
            "text/plain": [
              "' '"
            ]
          },
          "execution_count": 15,
          "metadata": {},
          "output_type": "execute_result"
        }
      ],
      "source": [
        "# O espaço também tem índice\n",
        "s[4]"
      ]
    },
    {
      "cell_type": "code",
      "execution_count": null,
      "id": "627c38be",
      "metadata": {
        "id": "627c38be",
        "outputId": "22298261-f3e4-4d1d-d5a1-816d251e56b1"
      },
      "outputs": [
        {
          "data": {
            "text/plain": [
              "'P'"
            ]
          },
          "execution_count": 14,
          "metadata": {},
          "output_type": "execute_result"
        }
      ],
      "source": [
        "s[5]"
      ]
    },
    {
      "cell_type": "markdown",
      "id": "6fc4ddc3",
      "metadata": {
        "id": "6fc4ddc3"
      },
      "source": [
        "Pode ser usado um : para executar um slicing (fatiamento) que faz a leitura de tudo até o ponto definido.\n",
        "\n",
        "Slicing: permite extrair partes específicas de uma sequência"
      ]
    },
    {
      "cell_type": "code",
      "execution_count": null,
      "id": "d964e65f",
      "metadata": {
        "id": "d964e65f",
        "outputId": "c3159a66-21ca-4dfc-a68f-2c33ad8e2716"
      },
      "outputs": [
        {
          "data": {
            "text/plain": [
              "'ta Python'"
            ]
          },
          "execution_count": 16,
          "metadata": {},
          "output_type": "execute_result"
        }
      ],
      "source": [
        "# Retorna tudo que está do índice 2 até o último índice\n",
        "# Lembrete: a indexação começa pelo 0\n",
        "s[2:] # : depois, tudo até o índice final"
      ]
    },
    {
      "cell_type": "code",
      "execution_count": null,
      "id": "cb2e96b6",
      "metadata": {
        "id": "cb2e96b6",
        "outputId": "e19f526e-04f3-4674-9d37-1a2329df3e6a"
      },
      "outputs": [
        {
          "data": {
            "text/plain": [
              "'Data Python'"
            ]
          },
          "execution_count": 17,
          "metadata": {},
          "output_type": "execute_result"
        }
      ],
      "source": [
        "# A string original permanece inalterada pois as alterações são na memória\n",
        "s"
      ]
    },
    {
      "cell_type": "code",
      "execution_count": 12,
      "id": "b44f37d7",
      "metadata": {
        "id": "b44f37d7",
        "outputId": "1fb4c4da-28a0-4c4e-cc81-17730c811737",
        "colab": {
          "base_uri": "https://localhost:8080/",
          "height": 35
        }
      },
      "outputs": [
        {
          "output_type": "execute_result",
          "data": {
            "text/plain": [
              "'Dat'"
            ],
            "application/vnd.google.colaboratory.intrinsic+json": {
              "type": "string"
            }
          },
          "metadata": {},
          "execution_count": 12
        }
      ],
      "source": [
        "# Retorna tudo do índice 0 até o índice 3 (exclusivo)\n",
        "# O retorno é só até o índice antes do que foi inserido pois o valor inserido se torna exclusivo\n",
        "s[:3] # : antes, tudo até o índice inicial"
      ]
    },
    {
      "cell_type": "code",
      "execution_count": null,
      "id": "e2d2f047",
      "metadata": {
        "id": "e2d2f047",
        "outputId": "d0e8e152-b49e-4429-a9f3-b6a6031dd2c5"
      },
      "outputs": [
        {
          "data": {
            "text/plain": [
              "'h'"
            ]
          },
          "execution_count": 31,
          "metadata": {},
          "output_type": "execute_result"
        }
      ],
      "source": [
        "# Pode ser usada a indexação negativa e ler a string de forma inversa\n",
        "# Retorna o caracter do fim pro início da string\n",
        "s[-3]"
      ]
    },
    {
      "cell_type": "code",
      "execution_count": null,
      "id": "50700080",
      "metadata": {
        "id": "50700080",
        "outputId": "db9e5b79-5ada-4767-fd52-0159728d30eb"
      },
      "outputs": [
        {
          "data": {
            "text/plain": [
              "'Data Pytho'"
            ]
          },
          "execution_count": 23,
          "metadata": {},
          "output_type": "execute_result"
        }
      ],
      "source": [
        "# Retorna tudo, exceto a última letra\n",
        "s[:-1]"
      ]
    },
    {
      "cell_type": "code",
      "source": [
        "s[-2]"
      ],
      "metadata": {
        "id": "8m2BF6oBX8gw",
        "outputId": "7cc6b3eb-be49-478b-9af7-11a3d5f689ff",
        "colab": {
          "base_uri": "https://localhost:8080/",
          "height": 35
        }
      },
      "id": "8m2BF6oBX8gw",
      "execution_count": 14,
      "outputs": [
        {
          "output_type": "execute_result",
          "data": {
            "text/plain": [
              "'o'"
            ],
            "application/vnd.google.colaboratory.intrinsic+json": {
              "type": "string"
            }
          },
          "metadata": {},
          "execution_count": 14
        }
      ]
    },
    {
      "cell_type": "markdown",
      "id": "24db56ad",
      "metadata": {
        "id": "24db56ad"
      },
      "source": [
        "Pode ser usado a notação de índice e repartir a string em partes específicas.\n",
        "Por exemplo, usar os dois pontos duas vezes em uma linha e, em seguida, um número que especifíca a sequência para retornar elementos."
      ]
    },
    {
      "cell_type": "code",
      "execution_count": null,
      "id": "067d2ae7",
      "metadata": {
        "id": "067d2ae7",
        "outputId": "92e02c4d-3a4a-42c2-e300-5ab1dfe30309"
      },
      "outputs": [
        {
          "data": {
            "text/plain": [
              "'Data Python'"
            ]
          },
          "execution_count": 32,
          "metadata": {},
          "output_type": "execute_result"
        }
      ],
      "source": [
        "s[::1]"
      ]
    },
    {
      "cell_type": "code",
      "execution_count": null,
      "id": "0cf1f509",
      "metadata": {
        "id": "0cf1f509",
        "outputId": "bd7a841d-559d-480a-90c2-f97456ef1388"
      },
      "outputs": [
        {
          "data": {
            "text/plain": [
              "'Dt yhn'"
            ]
          },
          "execution_count": 33,
          "metadata": {},
          "output_type": "execute_result"
        }
      ],
      "source": [
        "# Retorna caracteres saltando de 2 em 2 índice\n",
        "\n",
        "s[::2]"
      ]
    },
    {
      "cell_type": "code",
      "execution_count": null,
      "id": "5d3ea429",
      "metadata": {
        "id": "5d3ea429",
        "outputId": "06eb7bb2-4058-48e9-c802-6db17281df88"
      },
      "outputs": [
        {
          "data": {
            "text/plain": [
              "'nohtyP ataD'"
            ]
          },
          "execution_count": 34,
          "metadata": {},
          "output_type": "execute_result"
        }
      ],
      "source": [
        "s[::-1]"
      ]
    },
    {
      "cell_type": "markdown",
      "id": "3eb54e20",
      "metadata": {
        "id": "3eb54e20"
      },
      "source": [
        "## Propriedades de string"
      ]
    },
    {
      "cell_type": "code",
      "execution_count": null,
      "id": "06c78f6a",
      "metadata": {
        "id": "06c78f6a",
        "outputId": "40ee86f0-efc8-4479-f650-69d7a49adc41"
      },
      "outputs": [
        {
          "data": {
            "text/plain": [
              "'Data Python'"
            ]
          },
          "execution_count": 35,
          "metadata": {},
          "output_type": "execute_result"
        }
      ],
      "source": [
        "# String original se mantém porque as manipulações acontecem apenas na memória\n",
        "s"
      ]
    },
    {
      "cell_type": "code",
      "execution_count": null,
      "id": "7a920d1b",
      "metadata": {
        "id": "7a920d1b",
        "outputId": "0a9dd8b3-683b-483c-8405-3e68c369d2ea"
      },
      "outputs": [
        {
          "ename": "TypeError",
          "evalue": "'str' object does not support item assignment",
          "output_type": "error",
          "traceback": [
            "\u001b[0;31m---------------------------------------------------------------------------\u001b[0m",
            "\u001b[0;31mTypeError\u001b[0m                                 Traceback (most recent call last)",
            "\u001b[0;32m/tmp/ipykernel_14866/3863151977.py\u001b[0m in \u001b[0;36m<module>\u001b[0;34m\u001b[0m\n\u001b[1;32m      1\u001b[0m \u001b[0;31m# Tentando alterar um caracter porém não é permitido alterar apenas um elemento da string\u001b[0m\u001b[0;34m\u001b[0m\u001b[0;34m\u001b[0m\u001b[0m\n\u001b[0;32m----> 2\u001b[0;31m \u001b[0ms\u001b[0m\u001b[0;34m[\u001b[0m\u001b[0;36m0\u001b[0m\u001b[0;34m]\u001b[0m \u001b[0;34m=\u001b[0m \u001b[0;34m'x'\u001b[0m\u001b[0;34m\u001b[0m\u001b[0;34m\u001b[0m\u001b[0m\n\u001b[0m",
            "\u001b[0;31mTypeError\u001b[0m: 'str' object does not support item assignment"
          ]
        }
      ],
      "source": [
        "# Tentando alterar apenas um caractere da string\n",
        "# String é um objeto imutável para elementos individuais, só é possível alterar a string inteira\n",
        "s[0] = 'x'"
      ]
    },
    {
      "cell_type": "code",
      "execution_count": null,
      "id": "f9acee9c",
      "metadata": {
        "id": "f9acee9c",
        "outputId": "4b234eea-97e4-480c-96c9-3e99cd0bf1e2"
      },
      "outputs": [
        {
          "data": {
            "text/plain": [
              "'Data Python é um curso completo'"
            ]
          },
          "execution_count": 38,
          "metadata": {},
          "output_type": "execute_result"
        }
      ],
      "source": [
        "# Concatenando strings\n",
        "# Dessa forma, só existe na memória mas não salvou na variável para guardar\n",
        "s + ' é um curso completo'"
      ]
    },
    {
      "cell_type": "code",
      "execution_count": null,
      "id": "307baf27",
      "metadata": {
        "id": "307baf27"
      },
      "outputs": [],
      "source": [
        "s = s + ' é um curso legal'"
      ]
    },
    {
      "cell_type": "code",
      "execution_count": null,
      "id": "895e873c",
      "metadata": {
        "id": "895e873c",
        "outputId": "e58b8ac3-7f7a-4d1a-b7c5-2f55cb5c1ffe"
      },
      "outputs": [
        {
          "data": {
            "text/plain": [
              "'Data Python é um curso legal'"
            ]
          },
          "execution_count": 40,
          "metadata": {},
          "output_type": "execute_result"
        }
      ],
      "source": [
        "print(s)"
      ]
    },
    {
      "cell_type": "code",
      "execution_count": null,
      "id": "aace529f",
      "metadata": {
        "id": "aace529f",
        "outputId": "c848c1a3-5706-4b71-8094-0fa559931067"
      },
      "outputs": [
        {
          "data": {
            "text/plain": [
              "'www'"
            ]
          },
          "execution_count": 42,
          "metadata": {},
          "output_type": "execute_result"
        }
      ],
      "source": [
        "# Pode ser usado o símbolo * para repetição\n",
        "# Mostra a string 3 vezes\n",
        "letra = 'w'\n",
        "letra * 3"
      ]
    },
    {
      "cell_type": "markdown",
      "id": "37c59ebe",
      "metadata": {
        "id": "37c59ebe"
      },
      "source": [
        "## Funções Built-In de string\n",
        "\n",
        "Sempre que surgir alguma necessidade, se questione:\n",
        "\n",
        "Será que existe uma função/método para isso?\n",
        "\n",
        "Será que existe um pacote para isso?"
      ]
    },
    {
      "cell_type": "code",
      "execution_count": null,
      "id": "8a04eb60",
      "metadata": {
        "id": "8a04eb60",
        "outputId": "09902349-89e8-4b91-904c-97b85ca0ab74"
      },
      "outputs": [
        {
          "data": {
            "text/plain": [
              "'Data Python é um curso legal'"
            ]
          },
          "execution_count": 48,
          "metadata": {},
          "output_type": "execute_result"
        }
      ],
      "source": [
        "# s é um objeto da classe string\n",
        "# s. aparece os métodos (funções) da classe string\n",
        "# se for método tem que inserir (), se for atributo não precisa\n",
        "s"
      ]
    },
    {
      "cell_type": "code",
      "execution_count": null,
      "id": "a0319449",
      "metadata": {
        "id": "a0319449",
        "outputId": "4b84337a-7dc5-46fc-e389-c2391b39cd8e"
      },
      "outputs": [
        {
          "data": {
            "text/plain": [
              "'DATA PYTHON É UM CURSO LEGAL'"
            ]
          },
          "execution_count": 43,
          "metadata": {},
          "output_type": "execute_result"
        }
      ],
      "source": [
        "# Upper case, converte para MAIÚSCULO\n",
        "s.upper()"
      ]
    },
    {
      "cell_type": "code",
      "execution_count": null,
      "id": "21c7b819",
      "metadata": {
        "id": "21c7b819"
      },
      "outputs": [],
      "source": [
        "# Lower case, converte para minúsculo\n",
        "s.lower()"
      ]
    },
    {
      "cell_type": "code",
      "execution_count": null,
      "id": "b5ec4419",
      "metadata": {
        "id": "b5ec4419",
        "outputId": "c1e28d75-69b2-41ad-8cef-54458dd73bef"
      },
      "outputs": [
        {
          "data": {
            "text/plain": [
              "['Data', 'Python', 'é', 'um', 'curso', 'legal']"
            ]
          },
          "execution_count": 44,
          "metadata": {},
          "output_type": "execute_result"
        }
      ],
      "source": [
        "# Dividir uma string pelo caractere espaço (default)\n",
        "s.split()"
      ]
    },
    {
      "cell_type": "code",
      "execution_count": null,
      "id": "021c725c",
      "metadata": {
        "id": "021c725c",
        "outputId": "e7c8da65-80e8-4b2d-db0b-792a27ed4f29"
      },
      "outputs": [
        {
          "data": {
            "text/plain": [
              "['Data Pyth', 'n é um curs', ' legal']"
            ]
          },
          "execution_count": 47,
          "metadata": {},
          "output_type": "execute_result"
        }
      ],
      "source": [
        "# Dividir uma string por um elemento indicado, quando ele encontra o caractere ele faz a divisória na string\n",
        "s.split('o')"
      ]
    },
    {
      "cell_type": "markdown",
      "id": "dd65d830",
      "metadata": {
        "id": "dd65d830"
      },
      "source": [
        "## Funções string"
      ]
    },
    {
      "cell_type": "code",
      "execution_count": 15,
      "id": "23ba879f",
      "metadata": {
        "id": "23ba879f"
      },
      "outputs": [],
      "source": [
        "s = 'agora vamos ver sobre funções'"
      ]
    },
    {
      "cell_type": "code",
      "execution_count": null,
      "id": "225fc75a",
      "metadata": {
        "id": "225fc75a",
        "outputId": "022c0bab-eb26-4fd4-de1c-05991755cbb7"
      },
      "outputs": [
        {
          "data": {
            "text/plain": [
              "'Agora vamos ver sobre funções'"
            ]
          },
          "execution_count": 62,
          "metadata": {},
          "output_type": "execute_result"
        }
      ],
      "source": [
        "# Converte somente a primeira letra para maiúsculo\n",
        "s.capitalize()"
      ]
    },
    {
      "cell_type": "code",
      "execution_count": null,
      "id": "ffe8c439",
      "metadata": {
        "id": "ffe8c439",
        "outputId": "411de773-e545-40c5-8086-08b5a86c7f39"
      },
      "outputs": [
        {
          "data": {
            "text/plain": [
              "3"
            ]
          },
          "execution_count": 52,
          "metadata": {},
          "output_type": "execute_result"
        }
      ],
      "source": [
        "# Faz a contagem das letras 'a' na frase\n",
        "s.count('a')"
      ]
    },
    {
      "cell_type": "code",
      "execution_count": null,
      "id": "fc4820a7",
      "metadata": {
        "id": "fc4820a7",
        "outputId": "35cb8e95-d55d-48a1-eeb5-d87291e8291f"
      },
      "outputs": [
        {
          "data": {
            "text/plain": [
              "False"
            ]
          },
          "execution_count": 53,
          "metadata": {},
          "output_type": "execute_result"
        }
      ],
      "source": [
        "# Verifica se a string é toda de números e retorna um booleano\n",
        "s.isalnum()"
      ]
    },
    {
      "cell_type": "code",
      "execution_count": null,
      "id": "7c26c7dc",
      "metadata": {
        "id": "7c26c7dc",
        "outputId": "d8a86a1d-f567-400c-e7a1-948995e27087"
      },
      "outputs": [
        {
          "data": {
            "text/plain": [
              "True"
            ]
          },
          "execution_count": 63,
          "metadata": {},
          "output_type": "execute_result"
        }
      ],
      "source": [
        "# Verifica se a string é toda em minúsculo e retorna um booleano\n",
        "s.islower()"
      ]
    },
    {
      "cell_type": "code",
      "execution_count": null,
      "id": "b3c097bb",
      "metadata": {
        "id": "b3c097bb",
        "outputId": "584ca0b8-685b-4e07-d812-bec205a9d87b"
      },
      "outputs": [
        {
          "data": {
            "text/plain": [
              "False"
            ]
          },
          "execution_count": 55,
          "metadata": {},
          "output_type": "execute_result"
        }
      ],
      "source": [
        "# Verifica se a string é toda de caractere espaço e retorna um booleano\n",
        "s.isspace()"
      ]
    },
    {
      "cell_type": "code",
      "execution_count": null,
      "id": "f663b007",
      "metadata": {
        "id": "f663b007",
        "outputId": "84e037c0-8e41-4b1f-a80c-3fd54d0a9d5e"
      },
      "outputs": [
        {
          "data": {
            "text/plain": [
              "False"
            ]
          },
          "execution_count": 57,
          "metadata": {},
          "output_type": "execute_result"
        }
      ],
      "source": [
        "# Verifica se a string é toda em maiúsculo e retorna um booleano\n",
        "s.isupper()"
      ]
    },
    {
      "cell_type": "code",
      "execution_count": null,
      "id": "f65af993",
      "metadata": {
        "id": "f65af993",
        "outputId": "c4af3e75-cd6e-4956-8072-a8257272610e"
      },
      "outputs": [
        {
          "data": {
            "text/plain": [
              "False"
            ]
          },
          "execution_count": 65,
          "metadata": {},
          "output_type": "execute_result"
        }
      ],
      "source": [
        "# Verifica se a string termina com o caractere '!' e retorna um booleano\n",
        "s.endswith('!')"
      ]
    },
    {
      "cell_type": "code",
      "execution_count": null,
      "id": "a3b6ef65",
      "metadata": {
        "id": "a3b6ef65"
      },
      "outputs": [],
      "source": [
        "# não é o número 1000, é uma string com 1000\n",
        "# o número pode ser uma string\n",
        "s = '1000'"
      ]
    },
    {
      "cell_type": "code",
      "execution_count": null,
      "id": "a840fb41",
      "metadata": {
        "id": "a840fb41",
        "outputId": "10f2ad9d-bd1d-47e1-afa9-cfc496443561"
      },
      "outputs": [
        {
          "data": {
            "text/plain": [
              "'1000'"
            ]
          },
          "execution_count": 67,
          "metadata": {},
          "output_type": "execute_result"
        }
      ],
      "source": [
        "s"
      ]
    },
    {
      "cell_type": "code",
      "execution_count": null,
      "id": "545e9199",
      "metadata": {
        "id": "545e9199",
        "outputId": "92576fe1-e695-4a51-c3fc-bf105b897a10"
      },
      "outputs": [
        {
          "data": {
            "text/plain": [
              "str"
            ]
          },
          "execution_count": 68,
          "metadata": {},
          "output_type": "execute_result"
        }
      ],
      "source": [
        "type(s)"
      ]
    },
    {
      "cell_type": "markdown",
      "id": "a7d34a42",
      "metadata": {
        "id": "a7d34a42"
      },
      "source": [
        "## Comparando strings"
      ]
    },
    {
      "cell_type": "code",
      "execution_count": null,
      "id": "0b88acec",
      "metadata": {
        "id": "0b88acec",
        "outputId": "9d7ed6b7-3071-419d-c052-580809f5b40c"
      },
      "outputs": [
        {
          "name": "stdout",
          "output_type": "stream",
          "text": [
            "False\n"
          ]
        }
      ],
      "source": [
        "# a string 1 é igual a string 2, retorna um booleano\n",
        "print('Python' == 'x')"
      ]
    },
    {
      "cell_type": "code",
      "execution_count": null,
      "id": "d8c19ce8",
      "metadata": {
        "id": "d8c19ce8",
        "outputId": "d8bfb819-1dde-4057-c07d-b18786aeaeab"
      },
      "outputs": [
        {
          "name": "stdout",
          "output_type": "stream",
          "text": [
            "True\n"
          ]
        }
      ],
      "source": [
        "print('Python' == 'Python')"
      ]
    }
  ],
  "metadata": {
    "kernelspec": {
      "display_name": "Python 3 (ipykernel)",
      "language": "python",
      "name": "python3"
    },
    "language_info": {
      "codemirror_mode": {
        "name": "ipython",
        "version": 3
      },
      "file_extension": ".py",
      "mimetype": "text/x-python",
      "name": "python",
      "nbconvert_exporter": "python",
      "pygments_lexer": "ipython3",
      "version": "3.9.13"
    },
    "colab": {
      "provenance": []
    }
  },
  "nbformat": 4,
  "nbformat_minor": 5
}