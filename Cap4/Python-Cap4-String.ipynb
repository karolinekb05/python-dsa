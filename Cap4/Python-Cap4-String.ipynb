{
 "cells": [
  {
   "cell_type": "markdown",
   "id": "b777c6b8",
   "metadata": {},
   "source": [
    "## Criando uma string"
   ]
  },
  {
   "cell_type": "code",
   "execution_count": null,
   "id": "aafbfffd",
   "metadata": {},
   "outputs": [],
   "source": [
    "# Uma única palavra\n",
    "'Oi'"
   ]
  },
  {
   "cell_type": "code",
   "execution_count": null,
   "id": "273a27b8",
   "metadata": {},
   "outputs": [],
   "source": [
    "# Uma frase\n",
    "'Estou aprendendo Python'"
   ]
  },
  {
   "cell_type": "code",
   "execution_count": 3,
   "id": "d7334a0c",
   "metadata": {},
   "outputs": [
    {
     "data": {
      "text/plain": [
       "'Python é legal'"
      ]
     },
     "execution_count": 3,
     "metadata": {},
     "output_type": "execute_result"
    }
   ],
   "source": [
    "# Pode usar aspas duplas ou simples\n",
    "\"Python é legal\""
   ]
  },
  {
   "cell_type": "code",
   "execution_count": 4,
   "id": "0fd71124",
   "metadata": {},
   "outputs": [
    {
     "data": {
      "text/plain": [
       "'Python é interessante'"
      ]
     },
     "execution_count": 4,
     "metadata": {},
     "output_type": "execute_result"
    }
   ],
   "source": [
    "'Python é interessante'"
   ]
  },
  {
   "cell_type": "code",
   "execution_count": 5,
   "id": "bfebc6a3",
   "metadata": {},
   "outputs": [
    {
     "data": {
      "text/plain": [
       "\"Eu estou aprendendo 'Python'\""
      ]
     },
     "execution_count": 5,
     "metadata": {},
     "output_type": "execute_result"
    }
   ],
   "source": [
    "# Pode combinar aspas duplas e simples\n",
    "\"Eu estou aprendendo 'Python'\""
   ]
  },
  {
   "cell_type": "markdown",
   "id": "0d588dcd",
   "metadata": {},
   "source": [
    "## Imprimindo uma string"
   ]
  },
  {
   "cell_type": "code",
   "execution_count": 6,
   "id": "2dcaf6ec",
   "metadata": {},
   "outputs": [
    {
     "name": "stdout",
     "output_type": "stream",
     "text": [
      "String em Python\n"
     ]
    }
   ],
   "source": [
    "print('String em Python')"
   ]
  },
  {
   "cell_type": "code",
   "execution_count": 10,
   "id": "035d580c",
   "metadata": {},
   "outputs": [
    {
     "name": "stdout",
     "output_type": "stream",
     "text": [
      "Testando \n",
      "enter \n",
      "no \n",
      "Python\n"
     ]
    }
   ],
   "source": [
    "print('Testando \\nenter \\nno \\nPython')"
   ]
  },
  {
   "cell_type": "code",
   "execution_count": null,
   "id": "98437762",
   "metadata": {},
   "outputs": [],
   "source": [
    "print('\\n')"
   ]
  },
  {
   "cell_type": "markdown",
   "id": "c05a2ffb",
   "metadata": {},
   "source": [
    "## Indexação de string"
   ]
  },
  {
   "cell_type": "code",
   "execution_count": 12,
   "id": "8c98eef0",
   "metadata": {},
   "outputs": [],
   "source": [
    "# Atribuindo uma string\n",
    "s = 'Data Python'"
   ]
  },
  {
   "cell_type": "code",
   "execution_count": 13,
   "id": "67a376bd",
   "metadata": {},
   "outputs": [
    {
     "name": "stdout",
     "output_type": "stream",
     "text": [
      "Data Python\n"
     ]
    }
   ],
   "source": [
    "print(s)"
   ]
  },
  {
   "cell_type": "markdown",
   "id": "00e7f2ed",
   "metadata": {},
   "source": [
    "Indexação em Python começa em 0!!!"
   ]
  },
  {
   "cell_type": "code",
   "execution_count": null,
   "id": "9ba31554",
   "metadata": {},
   "outputs": [],
   "source": [
    "# Primeiro elemento da string\n",
    "s[0]"
   ]
  },
  {
   "cell_type": "code",
   "execution_count": null,
   "id": "901d6d14",
   "metadata": {},
   "outputs": [],
   "source": [
    "s[1]"
   ]
  },
  {
   "cell_type": "code",
   "execution_count": null,
   "id": "ef68d58b",
   "metadata": {},
   "outputs": [],
   "source": [
    "s[2]"
   ]
  },
  {
   "cell_type": "code",
   "execution_count": null,
   "id": "e28b0d3f",
   "metadata": {},
   "outputs": [],
   "source": [
    "s[3]"
   ]
  },
  {
   "cell_type": "code",
   "execution_count": 15,
   "id": "d2c0c8bd",
   "metadata": {},
   "outputs": [
    {
     "data": {
      "text/plain": [
       "' '"
      ]
     },
     "execution_count": 15,
     "metadata": {},
     "output_type": "execute_result"
    }
   ],
   "source": [
    "# O espaço também tem índice\n",
    "s[4]"
   ]
  },
  {
   "cell_type": "code",
   "execution_count": 14,
   "id": "627c38be",
   "metadata": {},
   "outputs": [
    {
     "data": {
      "text/plain": [
       "'P'"
      ]
     },
     "execution_count": 14,
     "metadata": {},
     "output_type": "execute_result"
    }
   ],
   "source": [
    "s[5]"
   ]
  },
  {
   "cell_type": "markdown",
   "id": "6fc4ddc3",
   "metadata": {},
   "source": [
    "Pode ser usado um : para executar um slicing que faz a leitura de tudo até o ponto definido.\n",
    "Slicing: permite extrair partes específicas de uma sequência"
   ]
  },
  {
   "cell_type": "code",
   "execution_count": 16,
   "id": "d964e65f",
   "metadata": {},
   "outputs": [
    {
     "data": {
      "text/plain": [
       "'ta Python'"
      ]
     },
     "execution_count": 16,
     "metadata": {},
     "output_type": "execute_result"
    }
   ],
   "source": [
    "# Retorna todos os elementos da string, começando pela posição inserida até o fim da string\n",
    "# Lembrete: a indexação começa pelo 0\n",
    "s[2:] # : depois índice final"
   ]
  },
  {
   "cell_type": "code",
   "execution_count": 17,
   "id": "cb2e96b6",
   "metadata": {},
   "outputs": [
    {
     "data": {
      "text/plain": [
       "'Data Python'"
      ]
     },
     "execution_count": 17,
     "metadata": {},
     "output_type": "execute_result"
    }
   ],
   "source": [
    "# A string original permanece inalterada pois as alterações são na memória\n",
    "s"
   ]
  },
  {
   "cell_type": "code",
   "execution_count": null,
   "id": "b44f37d7",
   "metadata": {},
   "outputs": [],
   "source": [
    "# Retorna tudo até a posição 3\n",
    "# O retorno é só até o índice antes do que foi inserido pois o valor inserido se torna exclusivo\n",
    "s[:3] # : antes índice inicial "
   ]
  },
  {
   "cell_type": "code",
   "execution_count": 31,
   "id": "e2d2f047",
   "metadata": {},
   "outputs": [
    {
     "data": {
      "text/plain": [
       "'h'"
      ]
     },
     "execution_count": 31,
     "metadata": {},
     "output_type": "execute_result"
    }
   ],
   "source": [
    "# Pode ser usada a indexação negativa e ler a string de forma inversa\n",
    "# Retorna o caracter do fim pro início da string\n",
    "s[-3]"
   ]
  },
  {
   "cell_type": "code",
   "execution_count": 23,
   "id": "50700080",
   "metadata": {},
   "outputs": [
    {
     "data": {
      "text/plain": [
       "'Data Pytho'"
      ]
     },
     "execution_count": 23,
     "metadata": {},
     "output_type": "execute_result"
    }
   ],
   "source": [
    "# Retorna tudo, exceto a última letra\n",
    "s[:-1]"
   ]
  },
  {
   "cell_type": "markdown",
   "id": "24db56ad",
   "metadata": {},
   "source": [
    "Pode ser usado a notação de índice e repartir a string em partes específicas.\n",
    "Por exemplo, usar os dois pontos duas vezes em uma linha e, em seguida, um número que especifíca a sequência para retornar elementos."
   ]
  },
  {
   "cell_type": "code",
   "execution_count": 32,
   "id": "067d2ae7",
   "metadata": {},
   "outputs": [
    {
     "data": {
      "text/plain": [
       "'Data Python'"
      ]
     },
     "execution_count": 32,
     "metadata": {},
     "output_type": "execute_result"
    }
   ],
   "source": [
    "s[::1]"
   ]
  },
  {
   "cell_type": "code",
   "execution_count": 33,
   "id": "0cf1f509",
   "metadata": {},
   "outputs": [
    {
     "data": {
      "text/plain": [
       "'Dt yhn'"
      ]
     },
     "execution_count": 33,
     "metadata": {},
     "output_type": "execute_result"
    }
   ],
   "source": [
    "# Pula de 2 em 2\n",
    "s[::2]"
   ]
  },
  {
   "cell_type": "code",
   "execution_count": 34,
   "id": "5d3ea429",
   "metadata": {},
   "outputs": [
    {
     "data": {
      "text/plain": [
       "'nohtyP ataD'"
      ]
     },
     "execution_count": 34,
     "metadata": {},
     "output_type": "execute_result"
    }
   ],
   "source": [
    "s[::-1]"
   ]
  },
  {
   "cell_type": "markdown",
   "id": "3eb54e20",
   "metadata": {},
   "source": [
    "## Propriedades de string"
   ]
  },
  {
   "cell_type": "code",
   "execution_count": 35,
   "id": "06c78f6a",
   "metadata": {},
   "outputs": [
    {
     "data": {
      "text/plain": [
       "'Data Python'"
      ]
     },
     "execution_count": 35,
     "metadata": {},
     "output_type": "execute_result"
    }
   ],
   "source": [
    "s"
   ]
  },
  {
   "cell_type": "code",
   "execution_count": 36,
   "id": "7a920d1b",
   "metadata": {},
   "outputs": [
    {
     "ename": "TypeError",
     "evalue": "'str' object does not support item assignment",
     "output_type": "error",
     "traceback": [
      "\u001b[0;31m---------------------------------------------------------------------------\u001b[0m",
      "\u001b[0;31mTypeError\u001b[0m                                 Traceback (most recent call last)",
      "\u001b[0;32m/tmp/ipykernel_14866/3863151977.py\u001b[0m in \u001b[0;36m<module>\u001b[0;34m\u001b[0m\n\u001b[1;32m      1\u001b[0m \u001b[0;31m# Tentando alterar um caracter porém não é permitido alterar apenas um elemento da string\u001b[0m\u001b[0;34m\u001b[0m\u001b[0;34m\u001b[0m\u001b[0m\n\u001b[0;32m----> 2\u001b[0;31m \u001b[0ms\u001b[0m\u001b[0;34m[\u001b[0m\u001b[0;36m0\u001b[0m\u001b[0;34m]\u001b[0m \u001b[0;34m=\u001b[0m \u001b[0;34m'x'\u001b[0m\u001b[0;34m\u001b[0m\u001b[0;34m\u001b[0m\u001b[0m\n\u001b[0m",
      "\u001b[0;31mTypeError\u001b[0m: 'str' object does not support item assignment"
     ]
    }
   ],
   "source": [
    "# Tentando alterar um caracter porém não é permitido alterar apenas um elemento da string\n",
    "s[0] = 'x'"
   ]
  },
  {
   "cell_type": "code",
   "execution_count": 38,
   "id": "f9acee9c",
   "metadata": {},
   "outputs": [
    {
     "data": {
      "text/plain": [
       "'Data Python é um curso completo'"
      ]
     },
     "execution_count": 38,
     "metadata": {},
     "output_type": "execute_result"
    }
   ],
   "source": [
    "# Concatenando strings\n",
    "s + ' é um curso completo'"
   ]
  },
  {
   "cell_type": "code",
   "execution_count": 39,
   "id": "307baf27",
   "metadata": {},
   "outputs": [],
   "source": [
    "s = s + ' é um curso legal'"
   ]
  },
  {
   "cell_type": "code",
   "execution_count": 40,
   "id": "895e873c",
   "metadata": {},
   "outputs": [
    {
     "data": {
      "text/plain": [
       "'Data Python é um curso legal'"
      ]
     },
     "execution_count": 40,
     "metadata": {},
     "output_type": "execute_result"
    }
   ],
   "source": [
    "print(s)"
   ]
  },
  {
   "cell_type": "code",
   "execution_count": 42,
   "id": "aace529f",
   "metadata": {},
   "outputs": [
    {
     "data": {
      "text/plain": [
       "'www'"
      ]
     },
     "execution_count": 42,
     "metadata": {},
     "output_type": "execute_result"
    }
   ],
   "source": [
    "# Pode ser usado o símbolo * para repetição\n",
    "letra = 'w'\n",
    "letra * 3"
   ]
  },
  {
   "cell_type": "markdown",
   "id": "37c59ebe",
   "metadata": {},
   "source": [
    "## Funções Built-In de string"
   ]
  },
  {
   "cell_type": "code",
   "execution_count": 48,
   "id": "8a04eb60",
   "metadata": {},
   "outputs": [
    {
     "data": {
      "text/plain": [
       "'Data Python é um curso legal'"
      ]
     },
     "execution_count": 48,
     "metadata": {},
     "output_type": "execute_result"
    }
   ],
   "source": [
    "s"
   ]
  },
  {
   "cell_type": "code",
   "execution_count": 43,
   "id": "a0319449",
   "metadata": {},
   "outputs": [
    {
     "data": {
      "text/plain": [
       "'DATA PYTHON É UM CURSO LEGAL'"
      ]
     },
     "execution_count": 43,
     "metadata": {},
     "output_type": "execute_result"
    }
   ],
   "source": [
    "# Upper case\n",
    "s.upper()"
   ]
  },
  {
   "cell_type": "code",
   "execution_count": null,
   "id": "21c7b819",
   "metadata": {},
   "outputs": [],
   "source": [
    "# Lower case\n",
    "s.lower()"
   ]
  },
  {
   "cell_type": "code",
   "execution_count": 44,
   "id": "b5ec4419",
   "metadata": {},
   "outputs": [
    {
     "data": {
      "text/plain": [
       "['Data', 'Python', 'é', 'um', 'curso', 'legal']"
      ]
     },
     "execution_count": 44,
     "metadata": {},
     "output_type": "execute_result"
    }
   ],
   "source": [
    "# Dividir uma string por espaços em branco (padrão)\n",
    "s.split()"
   ]
  },
  {
   "cell_type": "code",
   "execution_count": 47,
   "id": "021c725c",
   "metadata": {},
   "outputs": [
    {
     "data": {
      "text/plain": [
       "['Data Pyth', 'n é um curs', ' legal']"
      ]
     },
     "execution_count": 47,
     "metadata": {},
     "output_type": "execute_result"
    }
   ],
   "source": [
    "# Dividir uma string por um elemento indicado, quando ele encontra o caractere ele faz a divisória na string\n",
    "s.split('o')"
   ]
  },
  {
   "cell_type": "markdown",
   "id": "3bb08a91",
   "metadata": {},
   "source": [
    "Dica: sempre se questionar se existe um método ou um pacote que auxilie na resolução do problema"
   ]
  },
  {
   "cell_type": "markdown",
   "id": "dd65d830",
   "metadata": {},
   "source": [
    "## Funções string"
   ]
  },
  {
   "cell_type": "code",
   "execution_count": 61,
   "id": "23ba879f",
   "metadata": {},
   "outputs": [],
   "source": [
    "s = 'agora vamos ver sobre funções'"
   ]
  },
  {
   "cell_type": "code",
   "execution_count": 62,
   "id": "225fc75a",
   "metadata": {},
   "outputs": [
    {
     "data": {
      "text/plain": [
       "'Agora vamos ver sobre funções'"
      ]
     },
     "execution_count": 62,
     "metadata": {},
     "output_type": "execute_result"
    }
   ],
   "source": [
    "# Converte a primeira letra para maiúsculo\n",
    "s.capitalize()"
   ]
  },
  {
   "cell_type": "code",
   "execution_count": 52,
   "id": "ffe8c439",
   "metadata": {},
   "outputs": [
    {
     "data": {
      "text/plain": [
       "3"
      ]
     },
     "execution_count": 52,
     "metadata": {},
     "output_type": "execute_result"
    }
   ],
   "source": [
    "# Faz a contagem das letras tem na frase\n",
    "s.count('a')"
   ]
  },
  {
   "cell_type": "code",
   "execution_count": 53,
   "id": "fc4820a7",
   "metadata": {},
   "outputs": [
    {
     "data": {
      "text/plain": [
       "False"
      ]
     },
     "execution_count": 53,
     "metadata": {},
     "output_type": "execute_result"
    }
   ],
   "source": [
    "s.isalnum()"
   ]
  },
  {
   "cell_type": "code",
   "execution_count": 63,
   "id": "7c26c7dc",
   "metadata": {},
   "outputs": [
    {
     "data": {
      "text/plain": [
       "True"
      ]
     },
     "execution_count": 63,
     "metadata": {},
     "output_type": "execute_result"
    }
   ],
   "source": [
    "s.islower()"
   ]
  },
  {
   "cell_type": "code",
   "execution_count": 55,
   "id": "b3c097bb",
   "metadata": {},
   "outputs": [
    {
     "data": {
      "text/plain": [
       "False"
      ]
     },
     "execution_count": 55,
     "metadata": {},
     "output_type": "execute_result"
    }
   ],
   "source": [
    "s.isspace()"
   ]
  },
  {
   "cell_type": "code",
   "execution_count": 57,
   "id": "f663b007",
   "metadata": {},
   "outputs": [
    {
     "data": {
      "text/plain": [
       "False"
      ]
     },
     "execution_count": 57,
     "metadata": {},
     "output_type": "execute_result"
    }
   ],
   "source": [
    "s.isupper()"
   ]
  },
  {
   "cell_type": "code",
   "execution_count": 65,
   "id": "f65af993",
   "metadata": {},
   "outputs": [
    {
     "data": {
      "text/plain": [
       "False"
      ]
     },
     "execution_count": 65,
     "metadata": {},
     "output_type": "execute_result"
    }
   ],
   "source": [
    "s.endswith('!')"
   ]
  },
  {
   "cell_type": "code",
   "execution_count": 66,
   "id": "a3b6ef65",
   "metadata": {},
   "outputs": [],
   "source": [
    "# não é o número 1000, é uma string com 1000\n",
    "s = '1000'"
   ]
  },
  {
   "cell_type": "code",
   "execution_count": 67,
   "id": "a840fb41",
   "metadata": {},
   "outputs": [
    {
     "data": {
      "text/plain": [
       "'1000'"
      ]
     },
     "execution_count": 67,
     "metadata": {},
     "output_type": "execute_result"
    }
   ],
   "source": [
    "s"
   ]
  },
  {
   "cell_type": "code",
   "execution_count": 68,
   "id": "545e9199",
   "metadata": {},
   "outputs": [
    {
     "data": {
      "text/plain": [
       "str"
      ]
     },
     "execution_count": 68,
     "metadata": {},
     "output_type": "execute_result"
    }
   ],
   "source": [
    "type(s)"
   ]
  },
  {
   "cell_type": "markdown",
   "id": "a7d34a42",
   "metadata": {},
   "source": [
    "## Comparando strings"
   ]
  },
  {
   "cell_type": "code",
   "execution_count": 69,
   "id": "0b88acec",
   "metadata": {},
   "outputs": [
    {
     "name": "stdout",
     "output_type": "stream",
     "text": [
      "False\n"
     ]
    }
   ],
   "source": [
    "print('Python' == 'x')"
   ]
  },
  {
   "cell_type": "code",
   "execution_count": 70,
   "id": "d8c19ce8",
   "metadata": {},
   "outputs": [
    {
     "name": "stdout",
     "output_type": "stream",
     "text": [
      "True\n"
     ]
    }
   ],
   "source": [
    "print('Python' == 'Python')"
   ]
  }
 ],
 "metadata": {
  "kernelspec": {
   "display_name": "Python 3 (ipykernel)",
   "language": "python",
   "name": "python3"
  },
  "language_info": {
   "codemirror_mode": {
    "name": "ipython",
    "version": 3
   },
   "file_extension": ".py",
   "mimetype": "text/x-python",
   "name": "python",
   "nbconvert_exporter": "python",
   "pygments_lexer": "ipython3",
   "version": "3.9.13"
  }
 },
 "nbformat": 4,
 "nbformat_minor": 5
}
