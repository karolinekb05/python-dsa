{
 "cells": [
  {
   "cell_type": "markdown",
   "id": "3f172e4b",
   "metadata": {},
   "source": [
    "[] é o formato de uma lista\n",
    "Lista é uma estrutura de dados para armazenar diferentes elementos"
   ]
  },
  {
   "cell_type": "code",
   "execution_count": 7,
   "id": "ad26aaf5",
   "metadata": {},
   "outputs": [],
   "source": [
    "# Criando lista com uma string\n",
    "lista1 = ['arroz, feijão, frango']"
   ]
  },
  {
   "cell_type": "code",
   "execution_count": 2,
   "id": "c4780add",
   "metadata": {},
   "outputs": [
    {
     "data": {
      "text/plain": [
       "list"
      ]
     },
     "execution_count": 2,
     "metadata": {},
     "output_type": "execute_result"
    }
   ],
   "source": [
    "type(lista1)"
   ]
  },
  {
   "cell_type": "code",
   "execution_count": 8,
   "id": "dcfe4e28",
   "metadata": {},
   "outputs": [
    {
     "name": "stdout",
     "output_type": "stream",
     "text": [
      "['arroz, feijão, frango']\n"
     ]
    }
   ],
   "source": [
    "print(lista1)"
   ]
  },
  {
   "cell_type": "code",
   "execution_count": 3,
   "id": "dc5e3803",
   "metadata": {},
   "outputs": [],
   "source": [
    "# Criando lista de várias strings\n",
    "lista2 = ['caju', 'pêra', 'laranja']"
   ]
  },
  {
   "cell_type": "code",
   "execution_count": 4,
   "id": "8c593f49",
   "metadata": {},
   "outputs": [
    {
     "data": {
      "text/plain": [
       "list"
      ]
     },
     "execution_count": 4,
     "metadata": {},
     "output_type": "execute_result"
    }
   ],
   "source": [
    "type(lista2)"
   ]
  },
  {
   "cell_type": "code",
   "execution_count": 6,
   "id": "e178317e",
   "metadata": {},
   "outputs": [
    {
     "name": "stdout",
     "output_type": "stream",
     "text": [
      "['caju', 'pêra', 'laranja']\n"
     ]
    }
   ],
   "source": [
    "print(lista2)"
   ]
  },
  {
   "cell_type": "code",
   "execution_count": 9,
   "id": "0b09413a",
   "metadata": {},
   "outputs": [],
   "source": [
    "# Criando lista com números e strings\n",
    "lista3 = [30, 41, 'Python']"
   ]
  },
  {
   "cell_type": "code",
   "execution_count": 10,
   "id": "fc7cbb34",
   "metadata": {},
   "outputs": [
    {
     "data": {
      "text/plain": [
       "list"
      ]
     },
     "execution_count": 10,
     "metadata": {},
     "output_type": "execute_result"
    }
   ],
   "source": [
    "type(lista3)"
   ]
  },
  {
   "cell_type": "code",
   "execution_count": 11,
   "id": "2baec1bc",
   "metadata": {},
   "outputs": [
    {
     "name": "stdout",
     "output_type": "stream",
     "text": [
      "[30, 41, 'Python']\n"
     ]
    }
   ],
   "source": [
    "print(lista3)"
   ]
  },
  {
   "cell_type": "code",
   "execution_count": 12,
   "id": "361a7f4e",
   "metadata": {},
   "outputs": [],
   "source": [
    "# Pegando cada elemento da lista e armazenando em uma variável diferente, acessando a lista3 através da indexação\n",
    "# Buscando cada item da lista pelo seu respectivo índice\n",
    "item1 = lista3[0]\n",
    "item2 = lista3[1]\n",
    "item3 = lista3[2]"
   ]
  },
  {
   "cell_type": "code",
   "execution_count": 13,
   "id": "eeaaf80c",
   "metadata": {},
   "outputs": [
    {
     "name": "stdout",
     "output_type": "stream",
     "text": [
      "30 41 Python\n"
     ]
    }
   ],
   "source": [
    "print(item1, item2, item3)"
   ]
  },
  {
   "cell_type": "markdown",
   "id": "245a0a78",
   "metadata": {},
   "source": [
    "## Atualizando um item da lista"
   ]
  },
  {
   "cell_type": "code",
   "execution_count": 14,
   "id": "5ad7fa21",
   "metadata": {},
   "outputs": [
    {
     "data": {
      "text/plain": [
       "['caju', 'pêra', 'laranja']"
      ]
     },
     "execution_count": 14,
     "metadata": {},
     "output_type": "execute_result"
    }
   ],
   "source": [
    "lista2"
   ]
  },
  {
   "cell_type": "code",
   "execution_count": 15,
   "id": "60fa1ca5",
   "metadata": {},
   "outputs": [
    {
     "data": {
      "text/plain": [
       "'pêra'"
      ]
     },
     "execution_count": 15,
     "metadata": {},
     "output_type": "execute_result"
    }
   ],
   "source": [
    "# Imprimindo um item da lista\n",
    "lista2[1]"
   ]
  },
  {
   "cell_type": "code",
   "execution_count": 16,
   "id": "e3b64258",
   "metadata": {},
   "outputs": [],
   "source": [
    "# Atualizando o item da lista\n",
    "lista2[1] = 'mirtilo'"
   ]
  },
  {
   "cell_type": "code",
   "execution_count": 17,
   "id": "990be987",
   "metadata": {},
   "outputs": [
    {
     "data": {
      "text/plain": [
       "['caju', 'mirtilo', 'laranja']"
      ]
     },
     "execution_count": 17,
     "metadata": {},
     "output_type": "execute_result"
    }
   ],
   "source": [
    "lista2"
   ]
  },
  {
   "cell_type": "markdown",
   "id": "59f925c0",
   "metadata": {},
   "source": [
    "## Deletando um item da lista"
   ]
  },
  {
   "cell_type": "code",
   "execution_count": 18,
   "id": "74eac0a1",
   "metadata": {},
   "outputs": [
    {
     "ename": "IndexError",
     "evalue": "list assignment index out of range",
     "output_type": "error",
     "traceback": [
      "\u001b[0;31m---------------------------------------------------------------------------\u001b[0m",
      "\u001b[0;31mIndexError\u001b[0m                                Traceback (most recent call last)",
      "\u001b[0;32m/tmp/ipykernel_19469/2251561918.py\u001b[0m in \u001b[0;36m<module>\u001b[0;34m\u001b[0m\n\u001b[1;32m      1\u001b[0m \u001b[0;31m# Não é possível deletar um item que não existe na lista\u001b[0m\u001b[0;34m\u001b[0m\u001b[0;34m\u001b[0m\u001b[0m\n\u001b[0;32m----> 2\u001b[0;31m \u001b[0;32mdel\u001b[0m \u001b[0mlista2\u001b[0m\u001b[0;34m[\u001b[0m\u001b[0;36m4\u001b[0m\u001b[0;34m]\u001b[0m\u001b[0;34m\u001b[0m\u001b[0;34m\u001b[0m\u001b[0m\n\u001b[0m",
      "\u001b[0;31mIndexError\u001b[0m: list assignment index out of range"
     ]
    }
   ],
   "source": [
    "# Não é possível deletar um item que não existe na lista, dá o erro index out of range\n",
    "del lista2[4]"
   ]
  },
  {
   "cell_type": "code",
   "execution_count": 19,
   "id": "f2d73a96",
   "metadata": {},
   "outputs": [],
   "source": [
    "# Deletando um item específico da lista, ou seja, deletando o que está no índice 0\n",
    "del lista2[0]"
   ]
  },
  {
   "cell_type": "code",
   "execution_count": 20,
   "id": "258ddb90",
   "metadata": {},
   "outputs": [
    {
     "data": {
      "text/plain": [
       "['mirtilo', 'laranja']"
      ]
     },
     "execution_count": 20,
     "metadata": {},
     "output_type": "execute_result"
    }
   ],
   "source": [
    "lista2"
   ]
  },
  {
   "cell_type": "code",
   "execution_count": 21,
   "id": "e63db01e",
   "metadata": {},
   "outputs": [],
   "source": [
    "# Atualizando o índice 0 da lista\n",
    "lista2[0] = 'abacate'"
   ]
  },
  {
   "cell_type": "code",
   "execution_count": 22,
   "id": "b0466849",
   "metadata": {},
   "outputs": [
    {
     "data": {
      "text/plain": [
       "['abacate', 'laranja']"
      ]
     },
     "execution_count": 22,
     "metadata": {},
     "output_type": "execute_result"
    }
   ],
   "source": [
    "lista2"
   ]
  },
  {
   "cell_type": "markdown",
   "id": "478e1df7",
   "metadata": {},
   "source": [
    "## Listas de listas\n",
    "são matrizes em Python, também pode ser feita usando numpy e pandas"
   ]
  },
  {
   "cell_type": "code",
   "execution_count": 25,
   "id": "18bfb44b",
   "metadata": {},
   "outputs": [],
   "source": [
    "# Criando uma lista de listas\n",
    "listas = [[1,2,3], [0,2.4,15], [100, 1.2, 1.8]]"
   ]
  },
  {
   "cell_type": "code",
   "execution_count": 26,
   "id": "50f54f03",
   "metadata": {},
   "outputs": [
    {
     "data": {
      "text/plain": [
       "[[1, 2, 3], [0, 2.4, 15], [100, 1.2, 1.8]]"
      ]
     },
     "execution_count": 26,
     "metadata": {},
     "output_type": "execute_result"
    }
   ],
   "source": [
    "listas"
   ]
  },
  {
   "cell_type": "code",
   "execution_count": 27,
   "id": "06afbc46",
   "metadata": {},
   "outputs": [],
   "source": [
    "x = listas[0]"
   ]
  },
  {
   "cell_type": "code",
   "execution_count": 28,
   "id": "9175d3cd",
   "metadata": {},
   "outputs": [
    {
     "data": {
      "text/plain": [
       "[1, 2, 3]"
      ]
     },
     "execution_count": 28,
     "metadata": {},
     "output_type": "execute_result"
    }
   ],
   "source": [
    "x"
   ]
  },
  {
   "cell_type": "code",
   "execution_count": 29,
   "id": "3119ec67",
   "metadata": {},
   "outputs": [],
   "source": [
    "y = x[0]"
   ]
  },
  {
   "cell_type": "code",
   "execution_count": 30,
   "id": "dafb1f5f",
   "metadata": {},
   "outputs": [
    {
     "data": {
      "text/plain": [
       "1"
      ]
     },
     "execution_count": 30,
     "metadata": {},
     "output_type": "execute_result"
    }
   ],
   "source": [
    "y"
   ]
  },
  {
   "cell_type": "code",
   "execution_count": 31,
   "id": "abb4f705",
   "metadata": {},
   "outputs": [],
   "source": [
    "a = listas[1]"
   ]
  },
  {
   "cell_type": "code",
   "execution_count": 32,
   "id": "968835b4",
   "metadata": {},
   "outputs": [
    {
     "data": {
      "text/plain": [
       "[0, 2.4, 15]"
      ]
     },
     "execution_count": 32,
     "metadata": {},
     "output_type": "execute_result"
    }
   ],
   "source": [
    "a"
   ]
  },
  {
   "cell_type": "code",
   "execution_count": 33,
   "id": "7a6c9539",
   "metadata": {},
   "outputs": [],
   "source": [
    "b = a[1]"
   ]
  },
  {
   "cell_type": "code",
   "execution_count": 34,
   "id": "32367949",
   "metadata": {},
   "outputs": [
    {
     "data": {
      "text/plain": [
       "2.4"
      ]
     },
     "execution_count": 34,
     "metadata": {},
     "output_type": "execute_result"
    }
   ],
   "source": [
    "b"
   ]
  },
  {
   "cell_type": "code",
   "execution_count": 35,
   "id": "f90d1884",
   "metadata": {},
   "outputs": [],
   "source": [
    "b = a[2]"
   ]
  },
  {
   "cell_type": "code",
   "execution_count": 36,
   "id": "faadb2cb",
   "metadata": {},
   "outputs": [
    {
     "data": {
      "text/plain": [
       "15"
      ]
     },
     "execution_count": 36,
     "metadata": {},
     "output_type": "execute_result"
    }
   ],
   "source": [
    "b"
   ]
  },
  {
   "cell_type": "code",
   "execution_count": 37,
   "id": "c6f07b99",
   "metadata": {},
   "outputs": [],
   "source": [
    "lista2 = listas[2]"
   ]
  },
  {
   "cell_type": "code",
   "execution_count": 38,
   "id": "79a33925",
   "metadata": {},
   "outputs": [
    {
     "data": {
      "text/plain": [
       "[100, 1.2, 1.8]"
      ]
     },
     "execution_count": 38,
     "metadata": {},
     "output_type": "execute_result"
    }
   ],
   "source": [
    "lista2"
   ]
  },
  {
   "cell_type": "code",
   "execution_count": 40,
   "id": "a2494bac",
   "metadata": {},
   "outputs": [],
   "source": [
    "x = lista2[2]"
   ]
  },
  {
   "cell_type": "code",
   "execution_count": 41,
   "id": "e7935a3c",
   "metadata": {},
   "outputs": [
    {
     "data": {
      "text/plain": [
       "1.8"
      ]
     },
     "execution_count": 41,
     "metadata": {},
     "output_type": "execute_result"
    }
   ],
   "source": [
    "x"
   ]
  },
  {
   "cell_type": "markdown",
   "id": "95f4c554",
   "metadata": {},
   "source": [
    "## Operações com listas"
   ]
  },
  {
   "cell_type": "code",
   "execution_count": 42,
   "id": "8f5b0f06",
   "metadata": {},
   "outputs": [],
   "source": [
    "listas2 = [[1, 3, 5], [2,4,6], [1.0, 1.3, 1.6]]"
   ]
  },
  {
   "cell_type": "code",
   "execution_count": 43,
   "id": "3bf5a9a1",
   "metadata": {},
   "outputs": [
    {
     "data": {
      "text/plain": [
       "[[1, 3, 5], [2, 4, 6], [1.0, 1.3, 1.6]]"
      ]
     },
     "execution_count": 43,
     "metadata": {},
     "output_type": "execute_result"
    }
   ],
   "source": [
    "listas2"
   ]
  },
  {
   "cell_type": "code",
   "execution_count": 44,
   "id": "57343cee",
   "metadata": {},
   "outputs": [],
   "source": [
    "# Atribuindo à variável x o valor no índice 1 da lista no índice 0\n",
    "x = listas2[0][1]"
   ]
  },
  {
   "cell_type": "code",
   "execution_count": 45,
   "id": "eadcd2c1",
   "metadata": {},
   "outputs": [
    {
     "data": {
      "text/plain": [
       "3"
      ]
     },
     "execution_count": 45,
     "metadata": {},
     "output_type": "execute_result"
    }
   ],
   "source": [
    "x"
   ]
  },
  {
   "cell_type": "code",
   "execution_count": 46,
   "id": "b9a3b652",
   "metadata": {},
   "outputs": [],
   "source": [
    "y = listas2[2][0]"
   ]
  },
  {
   "cell_type": "code",
   "execution_count": 47,
   "id": "ab9455ed",
   "metadata": {},
   "outputs": [
    {
     "data": {
      "text/plain": [
       "1.0"
      ]
     },
     "execution_count": 47,
     "metadata": {},
     "output_type": "execute_result"
    }
   ],
   "source": [
    "y"
   ]
  },
  {
   "cell_type": "code",
   "execution_count": 48,
   "id": "69070e3e",
   "metadata": {},
   "outputs": [
    {
     "data": {
      "text/plain": [
       "float"
      ]
     },
     "execution_count": 48,
     "metadata": {},
     "output_type": "execute_result"
    }
   ],
   "source": [
    "type(y)"
   ]
  },
  {
   "cell_type": "code",
   "execution_count": 49,
   "id": "46e0c666",
   "metadata": {},
   "outputs": [
    {
     "data": {
      "text/plain": [
       "int"
      ]
     },
     "execution_count": 49,
     "metadata": {},
     "output_type": "execute_result"
    }
   ],
   "source": [
    "type(x)"
   ]
  },
  {
   "cell_type": "code",
   "execution_count": 50,
   "id": "3c22ab82",
   "metadata": {},
   "outputs": [],
   "source": [
    "resultado = y + 10"
   ]
  },
  {
   "cell_type": "code",
   "execution_count": 51,
   "id": "ab83de2b",
   "metadata": {},
   "outputs": [
    {
     "data": {
      "text/plain": [
       "11.0"
      ]
     },
     "execution_count": 51,
     "metadata": {},
     "output_type": "execute_result"
    }
   ],
   "source": [
    "resultado"
   ]
  },
  {
   "cell_type": "code",
   "execution_count": 52,
   "id": "6103a375",
   "metadata": {},
   "outputs": [],
   "source": [
    "d = 4"
   ]
  },
  {
   "cell_type": "code",
   "execution_count": 53,
   "id": "f2787118",
   "metadata": {},
   "outputs": [
    {
     "data": {
      "text/plain": [
       "12"
      ]
     },
     "execution_count": 53,
     "metadata": {},
     "output_type": "execute_result"
    }
   ],
   "source": [
    "x * d"
   ]
  },
  {
   "cell_type": "code",
   "execution_count": 54,
   "id": "9f89ceef",
   "metadata": {},
   "outputs": [],
   "source": [
    "e = d - listas2[0][1]"
   ]
  },
  {
   "cell_type": "code",
   "execution_count": 55,
   "id": "203bb774",
   "metadata": {},
   "outputs": [
    {
     "data": {
      "text/plain": [
       "1"
      ]
     },
     "execution_count": 55,
     "metadata": {},
     "output_type": "execute_result"
    }
   ],
   "source": [
    "e"
   ]
  },
  {
   "cell_type": "markdown",
   "id": "eef9d350",
   "metadata": {},
   "source": [
    "## Concatenando listas"
   ]
  },
  {
   "cell_type": "code",
   "execution_count": 56,
   "id": "21f70b0c",
   "metadata": {},
   "outputs": [],
   "source": [
    "lista1 = [2, 4, 6]"
   ]
  },
  {
   "cell_type": "code",
   "execution_count": 57,
   "id": "84ca1a9a",
   "metadata": {},
   "outputs": [
    {
     "data": {
      "text/plain": [
       "[2, 4, 6]"
      ]
     },
     "execution_count": 57,
     "metadata": {},
     "output_type": "execute_result"
    }
   ],
   "source": [
    "lista1"
   ]
  },
  {
   "cell_type": "code",
   "execution_count": 58,
   "id": "8e643ded",
   "metadata": {},
   "outputs": [],
   "source": [
    "lista2 = [3, 6, 9]"
   ]
  },
  {
   "cell_type": "code",
   "execution_count": 59,
   "id": "4055af27",
   "metadata": {},
   "outputs": [
    {
     "data": {
      "text/plain": [
       "[3, 6, 9]"
      ]
     },
     "execution_count": 59,
     "metadata": {},
     "output_type": "execute_result"
    }
   ],
   "source": [
    "lista2"
   ]
  },
  {
   "cell_type": "code",
   "execution_count": 60,
   "id": "dc9ec776",
   "metadata": {},
   "outputs": [],
   "source": [
    "# Concatenando listas, por serem do tipo lista, o + funciona como concatenação\n",
    "conc_listas = lista1 + lista2"
   ]
  },
  {
   "cell_type": "code",
   "execution_count": 61,
   "id": "838b68a1",
   "metadata": {},
   "outputs": [
    {
     "data": {
      "text/plain": [
       "[2, 4, 6, 3, 6, 9]"
      ]
     },
     "execution_count": 61,
     "metadata": {},
     "output_type": "execute_result"
    }
   ],
   "source": [
    "conc_listas"
   ]
  },
  {
   "cell_type": "code",
   "execution_count": 62,
   "id": "584e9d0d",
   "metadata": {},
   "outputs": [
    {
     "data": {
      "text/plain": [
       "list"
      ]
     },
     "execution_count": 62,
     "metadata": {},
     "output_type": "execute_result"
    }
   ],
   "source": [
    "type(lista1)"
   ]
  },
  {
   "cell_type": "markdown",
   "id": "128edbbb",
   "metadata": {},
   "source": [
    "Dica: os operadores tem sobrecarga de funções, então eles só fazem cálculo se o tipo da variável for int, float"
   ]
  },
  {
   "cell_type": "markdown",
   "id": "ea00c557",
   "metadata": {},
   "source": [
    "## Operador in"
   ]
  },
  {
   "cell_type": "code",
   "execution_count": 66,
   "id": "05628427",
   "metadata": {},
   "outputs": [],
   "source": [
    "# Criando uma lista\n",
    "op = [10, 9, 8, -4, 1.6]"
   ]
  },
  {
   "cell_type": "code",
   "execution_count": 64,
   "id": "e711f395",
   "metadata": {},
   "outputs": [
    {
     "name": "stdout",
     "output_type": "stream",
     "text": [
      "True\n"
     ]
    }
   ],
   "source": [
    "# Verificando se o valor 9 pertence a lista na variável op\n",
    "print(9 in op)"
   ]
  },
  {
   "cell_type": "code",
   "execution_count": 65,
   "id": "601d24f0",
   "metadata": {},
   "outputs": [
    {
     "name": "stdout",
     "output_type": "stream",
     "text": [
      "False\n"
     ]
    }
   ],
   "source": [
    "# Verificando se o valor 1 pertence a lista na variável op\n",
    "print(1 in op)"
   ]
  },
  {
   "cell_type": "code",
   "execution_count": 67,
   "id": "0c320213",
   "metadata": {},
   "outputs": [
    {
     "name": "stdout",
     "output_type": "stream",
     "text": [
      "True\n"
     ]
    }
   ],
   "source": [
    "print(-4 in op)"
   ]
  },
  {
   "cell_type": "markdown",
   "id": "f603e8f5",
   "metadata": {},
   "source": [
    "## Funções Built-In"
   ]
  },
  {
   "cell_type": "code",
   "execution_count": 69,
   "id": "59e1b327",
   "metadata": {},
   "outputs": [],
   "source": [
    "# Criando uma lista\n",
    "nums = [10, -2, 158, 1.4]"
   ]
  },
  {
   "cell_type": "code",
   "execution_count": 70,
   "id": "b93eb01f",
   "metadata": {},
   "outputs": [
    {
     "data": {
      "text/plain": [
       "4"
      ]
     },
     "execution_count": 70,
     "metadata": {},
     "output_type": "execute_result"
    }
   ],
   "source": [
    "# Função len() retorna a quantidade de itens da lista, ou seja, o tamanho\n",
    "len(nums)"
   ]
  },
  {
   "cell_type": "code",
   "execution_count": 71,
   "id": "47cc8ea9",
   "metadata": {},
   "outputs": [
    {
     "data": {
      "text/plain": [
       "158"
      ]
     },
     "execution_count": 71,
     "metadata": {},
     "output_type": "execute_result"
    }
   ],
   "source": [
    "# Função max() retorna o maior valor da lista\n",
    "max(nums)"
   ]
  },
  {
   "cell_type": "code",
   "execution_count": 72,
   "id": "38d03b86",
   "metadata": {},
   "outputs": [
    {
     "data": {
      "text/plain": [
       "-2"
      ]
     },
     "execution_count": 72,
     "metadata": {},
     "output_type": "execute_result"
    }
   ],
   "source": [
    "# Função min() retorna o menor valor da lista\n",
    "min(nums)"
   ]
  },
  {
   "cell_type": "code",
   "execution_count": 73,
   "id": "1efdd39d",
   "metadata": {},
   "outputs": [],
   "source": [
    "# Criando uma lista\n",
    "cargos = ['Analista de Dados', 'Cientista de Dados', 'Engenheiro(a) de dados']"
   ]
  },
  {
   "cell_type": "code",
   "execution_count": 74,
   "id": "ae81734d",
   "metadata": {},
   "outputs": [
    {
     "data": {
      "text/plain": [
       "['Analista de Dados', 'Cientista de Dados', 'Engenheiro(a) de dados']"
      ]
     },
     "execution_count": 74,
     "metadata": {},
     "output_type": "execute_result"
    }
   ],
   "source": [
    "cargos"
   ]
  },
  {
   "cell_type": "code",
   "execution_count": 75,
   "id": "3504b115",
   "metadata": {},
   "outputs": [],
   "source": [
    "# Adicionando um item à lista cargos\n",
    "cargos.append('Arquiteto de Dados')"
   ]
  },
  {
   "cell_type": "code",
   "execution_count": 76,
   "id": "d8fcbba6",
   "metadata": {},
   "outputs": [
    {
     "data": {
      "text/plain": [
       "['Analista de Dados',\n",
       " 'Cientista de Dados',\n",
       " 'Engenheiro(a) de dados',\n",
       " 'Arquiteto de Dados']"
      ]
     },
     "execution_count": 76,
     "metadata": {},
     "output_type": "execute_result"
    }
   ],
   "source": [
    "cargos"
   ]
  },
  {
   "cell_type": "code",
   "execution_count": 77,
   "id": "09ad85ff",
   "metadata": {},
   "outputs": [],
   "source": [
    "cargos.append('Analista de Dados')"
   ]
  },
  {
   "cell_type": "code",
   "execution_count": 78,
   "id": "315326a2",
   "metadata": {},
   "outputs": [
    {
     "data": {
      "text/plain": [
       "['Analista de Dados',\n",
       " 'Cientista de Dados',\n",
       " 'Engenheiro(a) de dados',\n",
       " 'Arquiteto de Dados',\n",
       " 'Analista de Dados']"
      ]
     },
     "execution_count": 78,
     "metadata": {},
     "output_type": "execute_result"
    }
   ],
   "source": [
    "cargos"
   ]
  },
  {
   "cell_type": "markdown",
   "id": "45a0d49a",
   "metadata": {},
   "source": [
    "O método append não verifica se o item está se repetindo porque cada item tem um índice diferente, então é possível adicionar o mesmo item infinitamente"
   ]
  },
  {
   "cell_type": "code",
   "execution_count": 81,
   "id": "bf7e0a20",
   "metadata": {},
   "outputs": [
    {
     "data": {
      "text/plain": [
       "2"
      ]
     },
     "execution_count": 81,
     "metadata": {},
     "output_type": "execute_result"
    }
   ],
   "source": [
    "cargos.count('Analista de Dados')"
   ]
  },
  {
   "cell_type": "code",
   "execution_count": 82,
   "id": "e9619428",
   "metadata": {},
   "outputs": [],
   "source": [
    "# Criando uma lista vazia\n",
    "x = []"
   ]
  },
  {
   "cell_type": "code",
   "execution_count": 83,
   "id": "804442c0",
   "metadata": {},
   "outputs": [
    {
     "data": {
      "text/plain": [
       "[]"
      ]
     },
     "execution_count": 83,
     "metadata": {},
     "output_type": "execute_result"
    }
   ],
   "source": [
    "x"
   ]
  },
  {
   "cell_type": "code",
   "execution_count": 88,
   "id": "662ebd63",
   "metadata": {},
   "outputs": [
    {
     "data": {
      "text/plain": [
       "list"
      ]
     },
     "execution_count": 88,
     "metadata": {},
     "output_type": "execute_result"
    }
   ],
   "source": [
    "type(x)"
   ]
  },
  {
   "cell_type": "code",
   "execution_count": 84,
   "id": "38ad9dec",
   "metadata": {},
   "outputs": [],
   "source": [
    "# Adicionando item à lista vazia\n",
    "x.append(10)"
   ]
  },
  {
   "cell_type": "code",
   "execution_count": 85,
   "id": "faa97c0c",
   "metadata": {},
   "outputs": [
    {
     "data": {
      "text/plain": [
       "[10]"
      ]
     },
     "execution_count": 85,
     "metadata": {},
     "output_type": "execute_result"
    }
   ],
   "source": [
    "x"
   ]
  },
  {
   "cell_type": "code",
   "execution_count": 86,
   "id": "cafd86e3",
   "metadata": {},
   "outputs": [],
   "source": [
    "# Adicionando mais um item à lista vazia\n",
    "x.append(20)"
   ]
  },
  {
   "cell_type": "code",
   "execution_count": 87,
   "id": "2d4fda0d",
   "metadata": {},
   "outputs": [
    {
     "data": {
      "text/plain": [
       "[10, 20]"
      ]
     },
     "execution_count": 87,
     "metadata": {},
     "output_type": "execute_result"
    }
   ],
   "source": [
    "x"
   ]
  },
  {
   "cell_type": "code",
   "execution_count": 89,
   "id": "fdeab37a",
   "metadata": {},
   "outputs": [],
   "source": [
    "old_list = [5, 10, -15, 2.0]"
   ]
  },
  {
   "cell_type": "code",
   "execution_count": 90,
   "id": "dbdeec6f",
   "metadata": {},
   "outputs": [],
   "source": [
    "new_list = []"
   ]
  },
  {
   "cell_type": "code",
   "execution_count": 91,
   "id": "b14690e7",
   "metadata": {},
   "outputs": [],
   "source": [
    "# Para cada item dentro da lista antiga\n",
    "for item in old_list:\n",
    "    # Pegue aquele item e adicione à lista nova\n",
    "    new_list.append(item)"
   ]
  },
  {
   "cell_type": "code",
   "execution_count": 92,
   "id": "006f51d1",
   "metadata": {},
   "outputs": [
    {
     "data": {
      "text/plain": [
       "[5, 10, -15, 2.0]"
      ]
     },
     "execution_count": 92,
     "metadata": {},
     "output_type": "execute_result"
    }
   ],
   "source": [
    "new_list"
   ]
  },
  {
   "cell_type": "code",
   "execution_count": 93,
   "id": "2ec11c9b",
   "metadata": {},
   "outputs": [
    {
     "data": {
      "text/plain": [
       "[5, 10, -15, 2.0]"
      ]
     },
     "execution_count": 93,
     "metadata": {},
     "output_type": "execute_result"
    }
   ],
   "source": [
    "old_list"
   ]
  },
  {
   "cell_type": "code",
   "execution_count": 98,
   "id": "0035ec8a",
   "metadata": {},
   "outputs": [],
   "source": [
    "estados = ['Bahia', 'Goiás', 'Pará']"
   ]
  },
  {
   "cell_type": "code",
   "execution_count": 103,
   "id": "d87b7580",
   "metadata": {},
   "outputs": [],
   "source": [
    "# Acrescentando o item na lista\n",
    "estados.extend(['Minas Gerais'])"
   ]
  },
  {
   "cell_type": "code",
   "execution_count": 104,
   "id": "2340a725",
   "metadata": {},
   "outputs": [
    {
     "data": {
      "text/plain": [
       "['Bahia', 'Goiás', 'Pará', 'Minas Gerais', 'Minas Gerais']"
      ]
     },
     "execution_count": 104,
     "metadata": {},
     "output_type": "execute_result"
    }
   ],
   "source": [
    "estados"
   ]
  },
  {
   "cell_type": "code",
   "execution_count": 105,
   "id": "82a3a890",
   "metadata": {},
   "outputs": [
    {
     "data": {
      "text/plain": [
       "3"
      ]
     },
     "execution_count": 105,
     "metadata": {},
     "output_type": "execute_result"
    }
   ],
   "source": [
    "# Retorna o índice do item na lista\n",
    "estados.index('Minas Gerais')"
   ]
  },
  {
   "cell_type": "code",
   "execution_count": 107,
   "id": "b9e0ffdf",
   "metadata": {},
   "outputs": [],
   "source": [
    "# Inserindo no índice 2 o item 1000\n",
    "estados.insert(2, 1000)"
   ]
  },
  {
   "cell_type": "code",
   "execution_count": 108,
   "id": "bb186dcd",
   "metadata": {},
   "outputs": [
    {
     "data": {
      "text/plain": [
       "['Bahia', 'Goiás', 1000, 'Pará', 'Minas Gerais', 'Minas Gerais']"
      ]
     },
     "execution_count": 108,
     "metadata": {},
     "output_type": "execute_result"
    }
   ],
   "source": [
    "estados"
   ]
  },
  {
   "cell_type": "code",
   "execution_count": 109,
   "id": "9b3dbc1b",
   "metadata": {},
   "outputs": [],
   "source": [
    "# Removendo o item da lista\n",
    "estados.remove(1000)"
   ]
  },
  {
   "cell_type": "code",
   "execution_count": 110,
   "id": "005f18bc",
   "metadata": {},
   "outputs": [
    {
     "data": {
      "text/plain": [
       "['Bahia', 'Goiás', 'Pará', 'Minas Gerais', 'Minas Gerais']"
      ]
     },
     "execution_count": 110,
     "metadata": {},
     "output_type": "execute_result"
    }
   ],
   "source": [
    "estados"
   ]
  },
  {
   "cell_type": "markdown",
   "id": "cdb8b43d",
   "metadata": {},
   "source": [
    "Dica: a lista sempre se ajusta conforme os itens, nunca fica um índice vazio, sem valor"
   ]
  },
  {
   "cell_type": "code",
   "execution_count": 111,
   "id": "50e12726",
   "metadata": {},
   "outputs": [],
   "source": [
    "# Invertendo a ordem da lista\n",
    "estados.reverse()"
   ]
  },
  {
   "cell_type": "code",
   "execution_count": 112,
   "id": "e0821b10",
   "metadata": {},
   "outputs": [
    {
     "data": {
      "text/plain": [
       "['Minas Gerais', 'Minas Gerais', 'Pará', 'Goiás', 'Bahia']"
      ]
     },
     "execution_count": 112,
     "metadata": {},
     "output_type": "execute_result"
    }
   ],
   "source": [
    "estados"
   ]
  },
  {
   "cell_type": "code",
   "execution_count": 113,
   "id": "60867762",
   "metadata": {},
   "outputs": [],
   "source": [
    "estados.remove('Minas Gerais')"
   ]
  },
  {
   "cell_type": "code",
   "execution_count": 114,
   "id": "ac18d78b",
   "metadata": {},
   "outputs": [
    {
     "data": {
      "text/plain": [
       "['Minas Gerais', 'Pará', 'Goiás', 'Bahia']"
      ]
     },
     "execution_count": 114,
     "metadata": {},
     "output_type": "execute_result"
    }
   ],
   "source": [
    "estados"
   ]
  },
  {
   "cell_type": "code",
   "execution_count": 115,
   "id": "8a276d96",
   "metadata": {},
   "outputs": [],
   "source": [
    "# Ordena a lista\n",
    "estados.sort()"
   ]
  },
  {
   "cell_type": "code",
   "execution_count": 116,
   "id": "41bb19b8",
   "metadata": {},
   "outputs": [
    {
     "data": {
      "text/plain": [
       "['Bahia', 'Goiás', 'Minas Gerais', 'Pará']"
      ]
     },
     "execution_count": 116,
     "metadata": {},
     "output_type": "execute_result"
    }
   ],
   "source": [
    "estados"
   ]
  },
  {
   "cell_type": "code",
   "execution_count": 117,
   "id": "2e81f352",
   "metadata": {},
   "outputs": [],
   "source": [
    "x = [3, 8, 4, 2]"
   ]
  },
  {
   "cell_type": "code",
   "execution_count": 118,
   "id": "32187dbd",
   "metadata": {},
   "outputs": [
    {
     "data": {
      "text/plain": [
       "[3, 8, 4, 2]"
      ]
     },
     "execution_count": 118,
     "metadata": {},
     "output_type": "execute_result"
    }
   ],
   "source": [
    "x"
   ]
  },
  {
   "cell_type": "code",
   "execution_count": 119,
   "id": "aa86911e",
   "metadata": {},
   "outputs": [],
   "source": [
    "x.sort()"
   ]
  },
  {
   "cell_type": "code",
   "execution_count": 120,
   "id": "8680bf51",
   "metadata": {},
   "outputs": [
    {
     "data": {
      "text/plain": [
       "[2, 3, 4, 8]"
      ]
     },
     "execution_count": 120,
     "metadata": {},
     "output_type": "execute_result"
    }
   ],
   "source": [
    "x"
   ]
  }
 ],
 "metadata": {
  "kernelspec": {
   "display_name": "Python 3 (ipykernel)",
   "language": "python",
   "name": "python3"
  },
  "language_info": {
   "codemirror_mode": {
    "name": "ipython",
    "version": 3
   },
   "file_extension": ".py",
   "mimetype": "text/x-python",
   "name": "python",
   "nbconvert_exporter": "python",
   "pygments_lexer": "ipython3",
   "version": "3.9.13"
  }
 },
 "nbformat": 4,
 "nbformat_minor": 5
}
