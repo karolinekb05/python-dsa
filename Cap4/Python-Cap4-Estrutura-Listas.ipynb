{
 "cells": [
  {
   "cell_type": "markdown",
   "id": "88f7c854",
   "metadata": {},
   "source": [
    "[] é o formato de uma lista\n",
    "Lista é uma estrutura de dados para armazenar diferentes elementos"
   ]
  },
  {
   "cell_type": "code",
   "execution_count": 7,
   "id": "8d282f1f",
   "metadata": {},
   "outputs": [],
   "source": [
    "# Criando lista com uma string\n",
    "lista1 = ['arroz, feijão, frango']"
   ]
  },
  {
   "cell_type": "code",
   "execution_count": 2,
   "id": "e6cb1306",
   "metadata": {},
   "outputs": [
    {
     "data": {
      "text/plain": [
       "list"
      ]
     },
     "execution_count": 2,
     "metadata": {},
     "output_type": "execute_result"
    }
   ],
   "source": [
    "type(lista1)"
   ]
  },
  {
   "cell_type": "code",
   "execution_count": 8,
   "id": "ea3a8b72",
   "metadata": {},
   "outputs": [
    {
     "name": "stdout",
     "output_type": "stream",
     "text": [
      "['arroz, feijão, frango']\n"
     ]
    }
   ],
   "source": [
    "print(lista1)"
   ]
  },
  {
   "cell_type": "code",
   "execution_count": 3,
   "id": "9ff0032c",
   "metadata": {},
   "outputs": [],
   "source": [
    "# Criando lista de várias strings\n",
    "lista2 = ['caju', 'pêra', 'laranja']"
   ]
  },
  {
   "cell_type": "code",
   "execution_count": 4,
   "id": "33607f51",
   "metadata": {},
   "outputs": [
    {
     "data": {
      "text/plain": [
       "list"
      ]
     },
     "execution_count": 4,
     "metadata": {},
     "output_type": "execute_result"
    }
   ],
   "source": [
    "type(lista2)"
   ]
  },
  {
   "cell_type": "code",
   "execution_count": 6,
   "id": "70ce7c6e",
   "metadata": {},
   "outputs": [
    {
     "name": "stdout",
     "output_type": "stream",
     "text": [
      "['caju', 'pêra', 'laranja']\n"
     ]
    }
   ],
   "source": [
    "print(lista2)"
   ]
  },
  {
   "cell_type": "code",
   "execution_count": 9,
   "id": "5122c39c",
   "metadata": {},
   "outputs": [],
   "source": [
    "# Criando lista com números e strings\n",
    "lista3 = [30, 41, 'Python']"
   ]
  },
  {
   "cell_type": "code",
   "execution_count": 10,
   "id": "47c96e47",
   "metadata": {},
   "outputs": [
    {
     "data": {
      "text/plain": [
       "list"
      ]
     },
     "execution_count": 10,
     "metadata": {},
     "output_type": "execute_result"
    }
   ],
   "source": [
    "type(lista3)"
   ]
  },
  {
   "cell_type": "code",
   "execution_count": 11,
   "id": "2a10a06f",
   "metadata": {},
   "outputs": [
    {
     "name": "stdout",
     "output_type": "stream",
     "text": [
      "[30, 41, 'Python']\n"
     ]
    }
   ],
   "source": [
    "print(lista3)"
   ]
  },
  {
   "cell_type": "code",
   "execution_count": 12,
   "id": "b774e1e7",
   "metadata": {},
   "outputs": [],
   "source": [
    "# Pegando cada elemento da lista e armazenando em uma variável diferente, acessando a lista3 através da indexação\n",
    "# Buscando cada item da lista pelo seu respectivo índice\n",
    "item1 = lista3[0]\n",
    "item2 = lista3[1]\n",
    "item3 = lista3[2]"
   ]
  },
  {
   "cell_type": "code",
   "execution_count": 13,
   "id": "e2f14128",
   "metadata": {},
   "outputs": [
    {
     "name": "stdout",
     "output_type": "stream",
     "text": [
      "30 41 Python\n"
     ]
    }
   ],
   "source": [
    "print(item1, item2, item3)"
   ]
  },
  {
   "cell_type": "markdown",
   "id": "a3670250",
   "metadata": {},
   "source": [
    "## Atualizando um item da lista"
   ]
  },
  {
   "cell_type": "code",
   "execution_count": 14,
   "id": "0f9fb1ed",
   "metadata": {},
   "outputs": [
    {
     "data": {
      "text/plain": [
       "['caju', 'pêra', 'laranja']"
      ]
     },
     "execution_count": 14,
     "metadata": {},
     "output_type": "execute_result"
    }
   ],
   "source": [
    "lista2"
   ]
  },
  {
   "cell_type": "code",
   "execution_count": 15,
   "id": "f8c374be",
   "metadata": {},
   "outputs": [
    {
     "data": {
      "text/plain": [
       "'pêra'"
      ]
     },
     "execution_count": 15,
     "metadata": {},
     "output_type": "execute_result"
    }
   ],
   "source": [
    "# Imprimindo um item da lista\n",
    "lista2[1]"
   ]
  },
  {
   "cell_type": "code",
   "execution_count": 16,
   "id": "4a021dae",
   "metadata": {},
   "outputs": [],
   "source": [
    "# Atualizando o item da lista\n",
    "lista2[1] = 'mirtilo'"
   ]
  },
  {
   "cell_type": "code",
   "execution_count": 17,
   "id": "e4dc9e82",
   "metadata": {},
   "outputs": [
    {
     "data": {
      "text/plain": [
       "['caju', 'mirtilo', 'laranja']"
      ]
     },
     "execution_count": 17,
     "metadata": {},
     "output_type": "execute_result"
    }
   ],
   "source": [
    "lista2"
   ]
  },
  {
   "cell_type": "markdown",
   "id": "1a7d0e48",
   "metadata": {},
   "source": [
    "## Deletando um item da lista"
   ]
  },
  {
   "cell_type": "code",
   "execution_count": 18,
   "id": "dc950827",
   "metadata": {},
   "outputs": [
    {
     "ename": "IndexError",
     "evalue": "list assignment index out of range",
     "output_type": "error",
     "traceback": [
      "\u001b[0;31m---------------------------------------------------------------------------\u001b[0m",
      "\u001b[0;31mIndexError\u001b[0m                                Traceback (most recent call last)",
      "\u001b[0;32m/tmp/ipykernel_19469/2251561918.py\u001b[0m in \u001b[0;36m<module>\u001b[0;34m\u001b[0m\n\u001b[1;32m      1\u001b[0m \u001b[0;31m# Não é possível deletar um item que não existe na lista\u001b[0m\u001b[0;34m\u001b[0m\u001b[0;34m\u001b[0m\u001b[0m\n\u001b[0;32m----> 2\u001b[0;31m \u001b[0;32mdel\u001b[0m \u001b[0mlista2\u001b[0m\u001b[0;34m[\u001b[0m\u001b[0;36m4\u001b[0m\u001b[0;34m]\u001b[0m\u001b[0;34m\u001b[0m\u001b[0;34m\u001b[0m\u001b[0m\n\u001b[0m",
      "\u001b[0;31mIndexError\u001b[0m: list assignment index out of range"
     ]
    }
   ],
   "source": [
    "# Não é possível deletar um item que não existe na lista, dá o erro index out of range\n",
    "del lista2[4]"
   ]
  },
  {
   "cell_type": "code",
   "execution_count": 19,
   "id": "2d31de54",
   "metadata": {},
   "outputs": [],
   "source": [
    "# Deletando um item específico da lista, ou seja, deletando o que está no índice 0\n",
    "del lista2[0]"
   ]
  },
  {
   "cell_type": "code",
   "execution_count": 20,
   "id": "38f4e10d",
   "metadata": {},
   "outputs": [
    {
     "data": {
      "text/plain": [
       "['mirtilo', 'laranja']"
      ]
     },
     "execution_count": 20,
     "metadata": {},
     "output_type": "execute_result"
    }
   ],
   "source": [
    "lista2"
   ]
  },
  {
   "cell_type": "code",
   "execution_count": 21,
   "id": "7986af93",
   "metadata": {},
   "outputs": [],
   "source": [
    "# Atualizando o índice 0 da lista\n",
    "lista2[0] = 'abacate'"
   ]
  },
  {
   "cell_type": "code",
   "execution_count": 22,
   "id": "7584829c",
   "metadata": {},
   "outputs": [
    {
     "data": {
      "text/plain": [
       "['abacate', 'laranja']"
      ]
     },
     "execution_count": 22,
     "metadata": {},
     "output_type": "execute_result"
    }
   ],
   "source": [
    "lista2"
   ]
  },
  {
   "cell_type": "markdown",
   "id": "8d38e930",
   "metadata": {},
   "source": [
    "## Listas de listas\n",
    "são matrizes em Python, também pode ser feita usando numpy e pandas"
   ]
  },
  {
   "cell_type": "code",
   "execution_count": 25,
   "id": "5a5bb51e",
   "metadata": {},
   "outputs": [],
   "source": [
    "# Criando uma lista de listas\n",
    "listas = [[1,2,3], [0,2.4,15], [100, 1.2, 1.8]]"
   ]
  },
  {
   "cell_type": "code",
   "execution_count": 26,
   "id": "4650e50f",
   "metadata": {},
   "outputs": [
    {
     "data": {
      "text/plain": [
       "[[1, 2, 3], [0, 2.4, 15], [100, 1.2, 1.8]]"
      ]
     },
     "execution_count": 26,
     "metadata": {},
     "output_type": "execute_result"
    }
   ],
   "source": [
    "listas"
   ]
  },
  {
   "cell_type": "code",
   "execution_count": 27,
   "id": "2a7791f5",
   "metadata": {},
   "outputs": [],
   "source": [
    "x = listas[0]"
   ]
  },
  {
   "cell_type": "code",
   "execution_count": 28,
   "id": "8ee4f50c",
   "metadata": {},
   "outputs": [
    {
     "data": {
      "text/plain": [
       "[1, 2, 3]"
      ]
     },
     "execution_count": 28,
     "metadata": {},
     "output_type": "execute_result"
    }
   ],
   "source": [
    "x"
   ]
  },
  {
   "cell_type": "code",
   "execution_count": 29,
   "id": "784498b4",
   "metadata": {},
   "outputs": [],
   "source": [
    "y = x[0]"
   ]
  },
  {
   "cell_type": "code",
   "execution_count": 30,
   "id": "b99eb87e",
   "metadata": {},
   "outputs": [
    {
     "data": {
      "text/plain": [
       "1"
      ]
     },
     "execution_count": 30,
     "metadata": {},
     "output_type": "execute_result"
    }
   ],
   "source": [
    "y"
   ]
  },
  {
   "cell_type": "code",
   "execution_count": 31,
   "id": "122b5d52",
   "metadata": {},
   "outputs": [],
   "source": [
    "a = listas[1]"
   ]
  },
  {
   "cell_type": "code",
   "execution_count": 32,
   "id": "2ce8ddc4",
   "metadata": {},
   "outputs": [
    {
     "data": {
      "text/plain": [
       "[0, 2.4, 15]"
      ]
     },
     "execution_count": 32,
     "metadata": {},
     "output_type": "execute_result"
    }
   ],
   "source": [
    "a"
   ]
  },
  {
   "cell_type": "code",
   "execution_count": 33,
   "id": "29fd408e",
   "metadata": {},
   "outputs": [],
   "source": [
    "b = a[1]"
   ]
  },
  {
   "cell_type": "code",
   "execution_count": 34,
   "id": "4a970a0a",
   "metadata": {},
   "outputs": [
    {
     "data": {
      "text/plain": [
       "2.4"
      ]
     },
     "execution_count": 34,
     "metadata": {},
     "output_type": "execute_result"
    }
   ],
   "source": [
    "b"
   ]
  },
  {
   "cell_type": "code",
   "execution_count": 35,
   "id": "95d864da",
   "metadata": {},
   "outputs": [],
   "source": [
    "b = a[2]"
   ]
  },
  {
   "cell_type": "code",
   "execution_count": 36,
   "id": "5e984ecc",
   "metadata": {},
   "outputs": [
    {
     "data": {
      "text/plain": [
       "15"
      ]
     },
     "execution_count": 36,
     "metadata": {},
     "output_type": "execute_result"
    }
   ],
   "source": [
    "b"
   ]
  },
  {
   "cell_type": "code",
   "execution_count": 37,
   "id": "ee6372f4",
   "metadata": {},
   "outputs": [],
   "source": [
    "lista2 = listas[2]"
   ]
  },
  {
   "cell_type": "code",
   "execution_count": 38,
   "id": "b2fa26e3",
   "metadata": {},
   "outputs": [
    {
     "data": {
      "text/plain": [
       "[100, 1.2, 1.8]"
      ]
     },
     "execution_count": 38,
     "metadata": {},
     "output_type": "execute_result"
    }
   ],
   "source": [
    "lista2"
   ]
  },
  {
   "cell_type": "code",
   "execution_count": 40,
   "id": "de91af48",
   "metadata": {},
   "outputs": [],
   "source": [
    "x = lista2[2]"
   ]
  },
  {
   "cell_type": "code",
   "execution_count": 41,
   "id": "db02a81e",
   "metadata": {},
   "outputs": [
    {
     "data": {
      "text/plain": [
       "1.8"
      ]
     },
     "execution_count": 41,
     "metadata": {},
     "output_type": "execute_result"
    }
   ],
   "source": [
    "x"
   ]
  },
  {
   "cell_type": "markdown",
   "id": "0df32cc6",
   "metadata": {},
   "source": [
    "## Operações com listas"
   ]
  },
  {
   "cell_type": "code",
   "execution_count": 42,
   "id": "7ecdbd66",
   "metadata": {},
   "outputs": [],
   "source": [
    "listas2 = [[1, 3, 5], [2,4,6], [1.0, 1.3, 1.6]]"
   ]
  },
  {
   "cell_type": "code",
   "execution_count": 43,
   "id": "a3a18b04",
   "metadata": {},
   "outputs": [
    {
     "data": {
      "text/plain": [
       "[[1, 3, 5], [2, 4, 6], [1.0, 1.3, 1.6]]"
      ]
     },
     "execution_count": 43,
     "metadata": {},
     "output_type": "execute_result"
    }
   ],
   "source": [
    "listas2"
   ]
  },
  {
   "cell_type": "code",
   "execution_count": 44,
   "id": "8bb7a716",
   "metadata": {},
   "outputs": [],
   "source": [
    "# Atribuindo à variável x o valor no índice 1 da lista no índice 0\n",
    "x = listas2[0][1]"
   ]
  },
  {
   "cell_type": "code",
   "execution_count": 45,
   "id": "acb77dcf",
   "metadata": {},
   "outputs": [
    {
     "data": {
      "text/plain": [
       "3"
      ]
     },
     "execution_count": 45,
     "metadata": {},
     "output_type": "execute_result"
    }
   ],
   "source": [
    "x"
   ]
  },
  {
   "cell_type": "code",
   "execution_count": 46,
   "id": "ba1e3451",
   "metadata": {},
   "outputs": [],
   "source": [
    "y = listas2[2][0]"
   ]
  },
  {
   "cell_type": "code",
   "execution_count": 47,
   "id": "f6a92bea",
   "metadata": {},
   "outputs": [
    {
     "data": {
      "text/plain": [
       "1.0"
      ]
     },
     "execution_count": 47,
     "metadata": {},
     "output_type": "execute_result"
    }
   ],
   "source": [
    "y"
   ]
  },
  {
   "cell_type": "code",
   "execution_count": 48,
   "id": "1b481bf8",
   "metadata": {},
   "outputs": [
    {
     "data": {
      "text/plain": [
       "float"
      ]
     },
     "execution_count": 48,
     "metadata": {},
     "output_type": "execute_result"
    }
   ],
   "source": [
    "type(y)"
   ]
  },
  {
   "cell_type": "code",
   "execution_count": 49,
   "id": "4009cbf6",
   "metadata": {},
   "outputs": [
    {
     "data": {
      "text/plain": [
       "int"
      ]
     },
     "execution_count": 49,
     "metadata": {},
     "output_type": "execute_result"
    }
   ],
   "source": [
    "type(x)"
   ]
  },
  {
   "cell_type": "code",
   "execution_count": 50,
   "id": "4742e685",
   "metadata": {},
   "outputs": [],
   "source": [
    "resultado = y + 10"
   ]
  },
  {
   "cell_type": "code",
   "execution_count": 51,
   "id": "3de9dc5e",
   "metadata": {},
   "outputs": [
    {
     "data": {
      "text/plain": [
       "11.0"
      ]
     },
     "execution_count": 51,
     "metadata": {},
     "output_type": "execute_result"
    }
   ],
   "source": [
    "resultado"
   ]
  },
  {
   "cell_type": "code",
   "execution_count": 52,
   "id": "6828e772",
   "metadata": {},
   "outputs": [],
   "source": [
    "d = 4"
   ]
  },
  {
   "cell_type": "code",
   "execution_count": 53,
   "id": "d371ab17",
   "metadata": {},
   "outputs": [
    {
     "data": {
      "text/plain": [
       "12"
      ]
     },
     "execution_count": 53,
     "metadata": {},
     "output_type": "execute_result"
    }
   ],
   "source": [
    "x * d"
   ]
  },
  {
   "cell_type": "code",
   "execution_count": 54,
   "id": "94529a5a",
   "metadata": {},
   "outputs": [],
   "source": [
    "e = d - listas2[0][1]"
   ]
  },
  {
   "cell_type": "code",
   "execution_count": 55,
   "id": "b21ea53e",
   "metadata": {},
   "outputs": [
    {
     "data": {
      "text/plain": [
       "1"
      ]
     },
     "execution_count": 55,
     "metadata": {},
     "output_type": "execute_result"
    }
   ],
   "source": [
    "e"
   ]
  },
  {
   "cell_type": "markdown",
   "id": "6d6c30c8",
   "metadata": {},
   "source": [
    "## Concatenando listas"
   ]
  },
  {
   "cell_type": "code",
   "execution_count": 56,
   "id": "8cb27ff0",
   "metadata": {},
   "outputs": [],
   "source": [
    "lista1 = [2, 4, 6]"
   ]
  },
  {
   "cell_type": "code",
   "execution_count": 57,
   "id": "180bbb56",
   "metadata": {},
   "outputs": [
    {
     "data": {
      "text/plain": [
       "[2, 4, 6]"
      ]
     },
     "execution_count": 57,
     "metadata": {},
     "output_type": "execute_result"
    }
   ],
   "source": [
    "lista1"
   ]
  },
  {
   "cell_type": "code",
   "execution_count": 58,
   "id": "cadd52a6",
   "metadata": {},
   "outputs": [],
   "source": [
    "lista2 = [3, 6, 9]"
   ]
  },
  {
   "cell_type": "code",
   "execution_count": 59,
   "id": "fcff9990",
   "metadata": {},
   "outputs": [
    {
     "data": {
      "text/plain": [
       "[3, 6, 9]"
      ]
     },
     "execution_count": 59,
     "metadata": {},
     "output_type": "execute_result"
    }
   ],
   "source": [
    "lista2"
   ]
  },
  {
   "cell_type": "code",
   "execution_count": 60,
   "id": "5cd11df8",
   "metadata": {},
   "outputs": [],
   "source": [
    "# Concatenando listas, por serem do tipo lista, o + funciona como concatenação\n",
    "conc_listas = lista1 + lista2"
   ]
  },
  {
   "cell_type": "code",
   "execution_count": 61,
   "id": "8923cff7",
   "metadata": {},
   "outputs": [
    {
     "data": {
      "text/plain": [
       "[2, 4, 6, 3, 6, 9]"
      ]
     },
     "execution_count": 61,
     "metadata": {},
     "output_type": "execute_result"
    }
   ],
   "source": [
    "conc_listas"
   ]
  },
  {
   "cell_type": "code",
   "execution_count": 62,
   "id": "4279ec71",
   "metadata": {},
   "outputs": [
    {
     "data": {
      "text/plain": [
       "list"
      ]
     },
     "execution_count": 62,
     "metadata": {},
     "output_type": "execute_result"
    }
   ],
   "source": [
    "type(lista1)"
   ]
  },
  {
   "cell_type": "markdown",
   "id": "543f1031",
   "metadata": {},
   "source": [
    "Dica: os operadores tem sobrecarga de funções, então eles só fazem cálculo se o tipo da variável for int, float"
   ]
  },
  {
   "cell_type": "markdown",
   "id": "748227cd",
   "metadata": {},
   "source": [
    "## Operador in"
   ]
  },
  {
   "cell_type": "code",
   "execution_count": 66,
   "id": "1c66118e",
   "metadata": {},
   "outputs": [],
   "source": [
    "# Criando uma lista\n",
    "op = [10, 9, 8, -4, 1.6]"
   ]
  },
  {
   "cell_type": "code",
   "execution_count": 64,
   "id": "c3e4d54e",
   "metadata": {},
   "outputs": [
    {
     "name": "stdout",
     "output_type": "stream",
     "text": [
      "True\n"
     ]
    }
   ],
   "source": [
    "# Verificando se o valor 9 pertence a lista na variável op\n",
    "print(9 in op)"
   ]
  },
  {
   "cell_type": "code",
   "execution_count": 65,
   "id": "a8abb531",
   "metadata": {},
   "outputs": [
    {
     "name": "stdout",
     "output_type": "stream",
     "text": [
      "False\n"
     ]
    }
   ],
   "source": [
    "# Verificando se o valor 1 pertence a lista na variável op\n",
    "print(1 in op)"
   ]
  },
  {
   "cell_type": "code",
   "execution_count": 67,
   "id": "ac07c773",
   "metadata": {},
   "outputs": [
    {
     "name": "stdout",
     "output_type": "stream",
     "text": [
      "True\n"
     ]
    }
   ],
   "source": [
    "print(-4 in op)"
   ]
  },
  {
   "cell_type": "markdown",
   "id": "543bcf7e",
   "metadata": {},
   "source": [
    "## Funções Built-In"
   ]
  },
  {
   "cell_type": "code",
   "execution_count": 69,
   "id": "cac4eece",
   "metadata": {},
   "outputs": [],
   "source": [
    "# Criando uma lista\n",
    "nums = [10, -2, 158, 1.4]"
   ]
  },
  {
   "cell_type": "code",
   "execution_count": 70,
   "id": "8d9edd32",
   "metadata": {},
   "outputs": [
    {
     "data": {
      "text/plain": [
       "4"
      ]
     },
     "execution_count": 70,
     "metadata": {},
     "output_type": "execute_result"
    }
   ],
   "source": [
    "# Função len() retorna a quantidade de itens da lista, ou seja, o tamanho\n",
    "len(nums)"
   ]
  },
  {
   "cell_type": "code",
   "execution_count": 71,
   "id": "973c3c21",
   "metadata": {},
   "outputs": [
    {
     "data": {
      "text/plain": [
       "158"
      ]
     },
     "execution_count": 71,
     "metadata": {},
     "output_type": "execute_result"
    }
   ],
   "source": [
    "# Função max() retorna o maior valor da lista\n",
    "max(nums)"
   ]
  },
  {
   "cell_type": "code",
   "execution_count": 72,
   "id": "5872cf62",
   "metadata": {},
   "outputs": [
    {
     "data": {
      "text/plain": [
       "-2"
      ]
     },
     "execution_count": 72,
     "metadata": {},
     "output_type": "execute_result"
    }
   ],
   "source": [
    "# Função min() retorna o menor valor da lista\n",
    "min(nums)"
   ]
  },
  {
   "cell_type": "code",
   "execution_count": 73,
   "id": "fe39de4b",
   "metadata": {},
   "outputs": [],
   "source": [
    "# Criando uma lista\n",
    "cargos = ['Analista de Dados', 'Cientista de Dados', 'Engenheiro(a) de dados']"
   ]
  },
  {
   "cell_type": "code",
   "execution_count": 74,
   "id": "a3046a8a",
   "metadata": {},
   "outputs": [
    {
     "data": {
      "text/plain": [
       "['Analista de Dados', 'Cientista de Dados', 'Engenheiro(a) de dados']"
      ]
     },
     "execution_count": 74,
     "metadata": {},
     "output_type": "execute_result"
    }
   ],
   "source": [
    "cargos"
   ]
  },
  {
   "cell_type": "code",
   "execution_count": 75,
   "id": "9bdd9d0e",
   "metadata": {},
   "outputs": [],
   "source": [
    "# Adicionando um item à lista cargos\n",
    "cargos.append('Arquiteto de Dados')"
   ]
  },
  {
   "cell_type": "code",
   "execution_count": 76,
   "id": "246882ff",
   "metadata": {},
   "outputs": [
    {
     "data": {
      "text/plain": [
       "['Analista de Dados',\n",
       " 'Cientista de Dados',\n",
       " 'Engenheiro(a) de dados',\n",
       " 'Arquiteto de Dados']"
      ]
     },
     "execution_count": 76,
     "metadata": {},
     "output_type": "execute_result"
    }
   ],
   "source": [
    "cargos"
   ]
  },
  {
   "cell_type": "code",
   "execution_count": 77,
   "id": "75a6f28d",
   "metadata": {},
   "outputs": [],
   "source": [
    "cargos.append('Analista de Dados')"
   ]
  },
  {
   "cell_type": "code",
   "execution_count": 78,
   "id": "f3b3a867",
   "metadata": {},
   "outputs": [
    {
     "data": {
      "text/plain": [
       "['Analista de Dados',\n",
       " 'Cientista de Dados',\n",
       " 'Engenheiro(a) de dados',\n",
       " 'Arquiteto de Dados',\n",
       " 'Analista de Dados']"
      ]
     },
     "execution_count": 78,
     "metadata": {},
     "output_type": "execute_result"
    }
   ],
   "source": [
    "cargos"
   ]
  },
  {
   "cell_type": "markdown",
   "id": "d7d07f3f",
   "metadata": {},
   "source": [
    "O método append não verifica se o item está se repetindo porque cada item tem um índice diferente, então é possível adicionar o mesmo item infinitamente"
   ]
  },
  {
   "cell_type": "code",
   "execution_count": 81,
   "id": "eaba9350",
   "metadata": {},
   "outputs": [
    {
     "data": {
      "text/plain": [
       "2"
      ]
     },
     "execution_count": 81,
     "metadata": {},
     "output_type": "execute_result"
    }
   ],
   "source": [
    "cargos.count('Analista de Dados')"
   ]
  },
  {
   "cell_type": "code",
   "execution_count": 82,
   "id": "a0984cd3",
   "metadata": {},
   "outputs": [],
   "source": [
    "# Criando uma lista vazia\n",
    "x = []"
   ]
  },
  {
   "cell_type": "code",
   "execution_count": 83,
   "id": "772ae3e9",
   "metadata": {},
   "outputs": [
    {
     "data": {
      "text/plain": [
       "[]"
      ]
     },
     "execution_count": 83,
     "metadata": {},
     "output_type": "execute_result"
    }
   ],
   "source": [
    "x"
   ]
  },
  {
   "cell_type": "code",
   "execution_count": 88,
   "id": "1015f7a1",
   "metadata": {},
   "outputs": [
    {
     "data": {
      "text/plain": [
       "list"
      ]
     },
     "execution_count": 88,
     "metadata": {},
     "output_type": "execute_result"
    }
   ],
   "source": [
    "type(x)"
   ]
  },
  {
   "cell_type": "code",
   "execution_count": 84,
   "id": "45a48cca",
   "metadata": {},
   "outputs": [],
   "source": [
    "# Adicionando item à lista vazia\n",
    "x.append(10)"
   ]
  },
  {
   "cell_type": "code",
   "execution_count": 85,
   "id": "1277f0d4",
   "metadata": {},
   "outputs": [
    {
     "data": {
      "text/plain": [
       "[10]"
      ]
     },
     "execution_count": 85,
     "metadata": {},
     "output_type": "execute_result"
    }
   ],
   "source": [
    "x"
   ]
  },
  {
   "cell_type": "code",
   "execution_count": 86,
   "id": "9a62e82f",
   "metadata": {},
   "outputs": [],
   "source": [
    "# Adicionando mais um item à lista vazia\n",
    "x.append(20)"
   ]
  },
  {
   "cell_type": "code",
   "execution_count": 87,
   "id": "1f1258d0",
   "metadata": {},
   "outputs": [
    {
     "data": {
      "text/plain": [
       "[10, 20]"
      ]
     },
     "execution_count": 87,
     "metadata": {},
     "output_type": "execute_result"
    }
   ],
   "source": [
    "x"
   ]
  },
  {
   "cell_type": "code",
   "execution_count": 89,
   "id": "ee7a24bc",
   "metadata": {},
   "outputs": [],
   "source": [
    "old_list = [5, 10, -15, 2.0]"
   ]
  },
  {
   "cell_type": "code",
   "execution_count": 90,
   "id": "961ac40e",
   "metadata": {},
   "outputs": [],
   "source": [
    "new_list = []"
   ]
  },
  {
   "cell_type": "code",
   "execution_count": 91,
   "id": "f2e5638f",
   "metadata": {},
   "outputs": [],
   "source": [
    "# Para cada item dentro da lista antiga\n",
    "for item in old_list:\n",
    "    # Pegue aquele item e adicione à lista nova\n",
    "    new_list.append(item)"
   ]
  },
  {
   "cell_type": "code",
   "execution_count": 92,
   "id": "43bde7f0",
   "metadata": {},
   "outputs": [
    {
     "data": {
      "text/plain": [
       "[5, 10, -15, 2.0]"
      ]
     },
     "execution_count": 92,
     "metadata": {},
     "output_type": "execute_result"
    }
   ],
   "source": [
    "new_list"
   ]
  },
  {
   "cell_type": "code",
   "execution_count": 93,
   "id": "b7f2f5ca",
   "metadata": {},
   "outputs": [
    {
     "data": {
      "text/plain": [
       "[5, 10, -15, 2.0]"
      ]
     },
     "execution_count": 93,
     "metadata": {},
     "output_type": "execute_result"
    }
   ],
   "source": [
    "old_list"
   ]
  },
  {
   "cell_type": "code",
   "execution_count": 98,
   "id": "eeb49a39",
   "metadata": {},
   "outputs": [],
   "source": [
    "estados = ['Bahia', 'Goiás', 'Pará']"
   ]
  },
  {
   "cell_type": "code",
   "execution_count": 103,
   "id": "c04656a7",
   "metadata": {},
   "outputs": [],
   "source": [
    "# Acrescentando o item na lista\n",
    "estados.extend(['Minas Gerais'])"
   ]
  },
  {
   "cell_type": "code",
   "execution_count": 104,
   "id": "5c44c9b7",
   "metadata": {},
   "outputs": [
    {
     "data": {
      "text/plain": [
       "['Bahia', 'Goiás', 'Pará', 'Minas Gerais', 'Minas Gerais']"
      ]
     },
     "execution_count": 104,
     "metadata": {},
     "output_type": "execute_result"
    }
   ],
   "source": [
    "estados"
   ]
  },
  {
   "cell_type": "code",
   "execution_count": 105,
   "id": "833ec2ea",
   "metadata": {},
   "outputs": [
    {
     "data": {
      "text/plain": [
       "3"
      ]
     },
     "execution_count": 105,
     "metadata": {},
     "output_type": "execute_result"
    }
   ],
   "source": [
    "# Retorna o índice do item na lista\n",
    "estados.index('Minas Gerais')"
   ]
  },
  {
   "cell_type": "code",
   "execution_count": 107,
   "id": "6fbe2d4a",
   "metadata": {},
   "outputs": [],
   "source": [
    "# Inserindo no índice 2 o item 1000\n",
    "estados.insert(2, 1000)"
   ]
  },
  {
   "cell_type": "code",
   "execution_count": 108,
   "id": "8f885369",
   "metadata": {},
   "outputs": [
    {
     "data": {
      "text/plain": [
       "['Bahia', 'Goiás', 1000, 'Pará', 'Minas Gerais', 'Minas Gerais']"
      ]
     },
     "execution_count": 108,
     "metadata": {},
     "output_type": "execute_result"
    }
   ],
   "source": [
    "estados"
   ]
  },
  {
   "cell_type": "code",
   "execution_count": 109,
   "id": "8810b217",
   "metadata": {},
   "outputs": [],
   "source": [
    "# Removendo o item da lista\n",
    "estados.remove(1000)"
   ]
  },
  {
   "cell_type": "code",
   "execution_count": 110,
   "id": "df32818f",
   "metadata": {},
   "outputs": [
    {
     "data": {
      "text/plain": [
       "['Bahia', 'Goiás', 'Pará', 'Minas Gerais', 'Minas Gerais']"
      ]
     },
     "execution_count": 110,
     "metadata": {},
     "output_type": "execute_result"
    }
   ],
   "source": [
    "estados"
   ]
  },
  {
   "cell_type": "markdown",
   "id": "cdbb9e8a",
   "metadata": {},
   "source": [
    "Dica: a lista sempre se ajusta conforme os itens, nunca fica um índice vazio, sem valor"
   ]
  },
  {
   "cell_type": "code",
   "execution_count": 111,
   "id": "4b6bdd9e",
   "metadata": {},
   "outputs": [],
   "source": [
    "# Invertendo a ordem da lista\n",
    "estados.reverse()"
   ]
  },
  {
   "cell_type": "code",
   "execution_count": 112,
   "id": "0fe80919",
   "metadata": {},
   "outputs": [
    {
     "data": {
      "text/plain": [
       "['Minas Gerais', 'Minas Gerais', 'Pará', 'Goiás', 'Bahia']"
      ]
     },
     "execution_count": 112,
     "metadata": {},
     "output_type": "execute_result"
    }
   ],
   "source": [
    "estados"
   ]
  },
  {
   "cell_type": "code",
   "execution_count": 113,
   "id": "df0f554a",
   "metadata": {},
   "outputs": [],
   "source": [
    "estados.remove('Minas Gerais')"
   ]
  },
  {
   "cell_type": "code",
   "execution_count": 114,
   "id": "fc730cc2",
   "metadata": {},
   "outputs": [
    {
     "data": {
      "text/plain": [
       "['Minas Gerais', 'Pará', 'Goiás', 'Bahia']"
      ]
     },
     "execution_count": 114,
     "metadata": {},
     "output_type": "execute_result"
    }
   ],
   "source": [
    "estados"
   ]
  },
  {
   "cell_type": "code",
   "execution_count": 115,
   "id": "76ac1b5e",
   "metadata": {},
   "outputs": [],
   "source": [
    "# Ordena a lista\n",
    "estados.sort()"
   ]
  },
  {
   "cell_type": "code",
   "execution_count": 116,
   "id": "6c037dad",
   "metadata": {},
   "outputs": [
    {
     "data": {
      "text/plain": [
       "['Bahia', 'Goiás', 'Minas Gerais', 'Pará']"
      ]
     },
     "execution_count": 116,
     "metadata": {},
     "output_type": "execute_result"
    }
   ],
   "source": [
    "estados"
   ]
  },
  {
   "cell_type": "code",
   "execution_count": 117,
   "id": "3e263d23",
   "metadata": {},
   "outputs": [],
   "source": [
    "x = [3, 8, 4, 2]"
   ]
  },
  {
   "cell_type": "code",
   "execution_count": 118,
   "id": "2e92dc53",
   "metadata": {},
   "outputs": [
    {
     "data": {
      "text/plain": [
       "[3, 8, 4, 2]"
      ]
     },
     "execution_count": 118,
     "metadata": {},
     "output_type": "execute_result"
    }
   ],
   "source": [
    "x"
   ]
  },
  {
   "cell_type": "code",
   "execution_count": 119,
   "id": "05ed183c",
   "metadata": {},
   "outputs": [],
   "source": [
    "x.sort()"
   ]
  },
  {
   "cell_type": "code",
   "execution_count": 120,
   "id": "fd382aee",
   "metadata": {},
   "outputs": [
    {
     "data": {
      "text/plain": [
       "[2, 3, 4, 8]"
      ]
     },
     "execution_count": 120,
     "metadata": {},
     "output_type": "execute_result"
    }
   ],
   "source": [
    "x"
   ]
  },
  {
   "cell_type": "code",
   "execution_count": null,
   "id": "5ef37dfe",
   "metadata": {},
   "outputs": [],
   "source": []
  }
 ],
 "metadata": {
  "kernelspec": {
   "display_name": "Python 3 (ipykernel)",
   "language": "python",
   "name": "python3"
  },
  "language_info": {
   "codemirror_mode": {
    "name": "ipython",
    "version": 3
   },
   "file_extension": ".py",
   "mimetype": "text/x-python",
   "name": "python",
   "nbconvert_exporter": "python",
   "pygments_lexer": "ipython3",
   "version": "3.9.13"
  }
 },
 "nbformat": 4,
 "nbformat_minor": 5
}
