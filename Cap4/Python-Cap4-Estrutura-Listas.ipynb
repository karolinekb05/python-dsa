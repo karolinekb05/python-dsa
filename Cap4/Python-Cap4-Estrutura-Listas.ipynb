{
  "cells": [
    {
      "cell_type": "markdown",
      "id": "3f172e4b",
      "metadata": {
        "id": "3f172e4b"
      },
      "source": [
        "[ ] (colchetes) é o formato de uma lista\n",
        "\n",
        "Lista é uma estrutura de dados para armazenar diferentes elementos"
      ]
    },
    {
      "cell_type": "code",
      "execution_count": null,
      "id": "ad26aaf5",
      "metadata": {
        "id": "ad26aaf5"
      },
      "outputs": [],
      "source": [
        "# Criando lista com uma string e valores com vírgula dentro da string\n",
        "lista1 = ['arroz, feijão, frango']"
      ]
    },
    {
      "cell_type": "code",
      "execution_count": null,
      "id": "c4780add",
      "metadata": {
        "id": "c4780add",
        "outputId": "e1f8281a-1608-4db8-d772-47c868d73d9d"
      },
      "outputs": [
        {
          "data": {
            "text/plain": [
              "list"
            ]
          },
          "execution_count": 2,
          "metadata": {},
          "output_type": "execute_result"
        }
      ],
      "source": [
        "type(lista1)"
      ]
    },
    {
      "cell_type": "code",
      "execution_count": null,
      "id": "dcfe4e28",
      "metadata": {
        "id": "dcfe4e28",
        "outputId": "f598e84f-600e-4fe7-ea6b-d4e1c34bf831"
      },
      "outputs": [
        {
          "name": "stdout",
          "output_type": "stream",
          "text": [
            "['arroz, feijão, frango']\n"
          ]
        }
      ],
      "source": [
        "print(lista1)"
      ]
    },
    {
      "cell_type": "code",
      "execution_count": null,
      "id": "dc5e3803",
      "metadata": {
        "id": "dc5e3803"
      },
      "outputs": [],
      "source": [
        "# Criando lista de várias strings independentes\n",
        "lista2 = ['caju', 'pêra', 'laranja']"
      ]
    },
    {
      "cell_type": "code",
      "execution_count": null,
      "id": "8c593f49",
      "metadata": {
        "id": "8c593f49",
        "outputId": "e5cd33b3-6fbb-44b7-bfd0-0dd476f430fc"
      },
      "outputs": [
        {
          "data": {
            "text/plain": [
              "list"
            ]
          },
          "execution_count": 4,
          "metadata": {},
          "output_type": "execute_result"
        }
      ],
      "source": [
        "type(lista2)"
      ]
    },
    {
      "cell_type": "code",
      "execution_count": null,
      "id": "e178317e",
      "metadata": {
        "id": "e178317e",
        "outputId": "1ea5f8fd-5e2d-4a4c-9766-f8a171676812"
      },
      "outputs": [
        {
          "name": "stdout",
          "output_type": "stream",
          "text": [
            "['caju', 'pêra', 'laranja']\n"
          ]
        }
      ],
      "source": [
        "print(lista2)"
      ]
    },
    {
      "cell_type": "code",
      "execution_count": null,
      "id": "0b09413a",
      "metadata": {
        "id": "0b09413a"
      },
      "outputs": [],
      "source": [
        "# Criando lista com números e strings\n",
        "lista3 = [30, 41, 'Python']"
      ]
    },
    {
      "cell_type": "code",
      "execution_count": null,
      "id": "fc7cbb34",
      "metadata": {
        "id": "fc7cbb34",
        "outputId": "ec5ccf39-9153-4d2d-a6cf-e85ff784a18e"
      },
      "outputs": [
        {
          "data": {
            "text/plain": [
              "list"
            ]
          },
          "execution_count": 10,
          "metadata": {},
          "output_type": "execute_result"
        }
      ],
      "source": [
        "type(lista3)"
      ]
    },
    {
      "cell_type": "code",
      "execution_count": null,
      "id": "2baec1bc",
      "metadata": {
        "id": "2baec1bc",
        "outputId": "2eb7ed1f-cc2a-44c7-8124-b2e44459939e"
      },
      "outputs": [
        {
          "name": "stdout",
          "output_type": "stream",
          "text": [
            "[30, 41, 'Python']\n"
          ]
        }
      ],
      "source": [
        "print(lista3)"
      ]
    },
    {
      "cell_type": "code",
      "execution_count": null,
      "id": "361a7f4e",
      "metadata": {
        "id": "361a7f4e"
      },
      "outputs": [],
      "source": [
        "# Pegando cada elemento da lista e armazenando em uma variável diferente, acessando a lista3 através da indexação\n",
        "# Buscando cada item da lista pelo seu respectivo índice\n",
        "# Slicing\n",
        "item1 = lista3[0]\n",
        "item2 = lista3[1]\n",
        "item3 = lista3[2]"
      ]
    },
    {
      "cell_type": "code",
      "execution_count": null,
      "id": "eeaaf80c",
      "metadata": {
        "id": "eeaaf80c",
        "outputId": "51374423-f50e-4d33-ebf6-d1af68fa707f"
      },
      "outputs": [
        {
          "name": "stdout",
          "output_type": "stream",
          "text": [
            "30 41 Python\n"
          ]
        }
      ],
      "source": [
        "print(item1, item2, item3)"
      ]
    },
    {
      "cell_type": "markdown",
      "id": "245a0a78",
      "metadata": {
        "id": "245a0a78"
      },
      "source": [
        "## Atualizando um item da lista"
      ]
    },
    {
      "cell_type": "code",
      "execution_count": null,
      "id": "5ad7fa21",
      "metadata": {
        "id": "5ad7fa21",
        "outputId": "9fa5dc75-cb94-42d2-99c4-71e664611ed7"
      },
      "outputs": [
        {
          "data": {
            "text/plain": [
              "['caju', 'pêra', 'laranja']"
            ]
          },
          "execution_count": 14,
          "metadata": {},
          "output_type": "execute_result"
        }
      ],
      "source": [
        "lista2"
      ]
    },
    {
      "cell_type": "code",
      "execution_count": null,
      "id": "60fa1ca5",
      "metadata": {
        "id": "60fa1ca5",
        "outputId": "5b6f0d03-e0e8-4dab-e040-1a2c7ddd6732"
      },
      "outputs": [
        {
          "data": {
            "text/plain": [
              "'pêra'"
            ]
          },
          "execution_count": 15,
          "metadata": {},
          "output_type": "execute_result"
        }
      ],
      "source": [
        "# Imprimindo um item da lista\n",
        "lista2[1]"
      ]
    },
    {
      "cell_type": "code",
      "execution_count": null,
      "id": "e3b64258",
      "metadata": {
        "id": "e3b64258"
      },
      "outputs": [],
      "source": [
        "# Atualizando o item da lista\n",
        "lista2[1] = 'mirtilo'"
      ]
    },
    {
      "cell_type": "code",
      "execution_count": null,
      "id": "990be987",
      "metadata": {
        "id": "990be987",
        "outputId": "d9624975-9b65-48af-e824-b733893b7f94"
      },
      "outputs": [
        {
          "data": {
            "text/plain": [
              "['caju', 'mirtilo', 'laranja']"
            ]
          },
          "execution_count": 17,
          "metadata": {},
          "output_type": "execute_result"
        }
      ],
      "source": [
        "lista2"
      ]
    },
    {
      "cell_type": "markdown",
      "id": "59f925c0",
      "metadata": {
        "id": "59f925c0"
      },
      "source": [
        "## Deletando um item da lista"
      ]
    },
    {
      "cell_type": "code",
      "execution_count": null,
      "id": "74eac0a1",
      "metadata": {
        "id": "74eac0a1",
        "outputId": "de11c6c8-a86a-464b-a149-aa9cfc8a8bcb"
      },
      "outputs": [
        {
          "ename": "IndexError",
          "evalue": "list assignment index out of range",
          "output_type": "error",
          "traceback": [
            "\u001b[0;31m---------------------------------------------------------------------------\u001b[0m",
            "\u001b[0;31mIndexError\u001b[0m                                Traceback (most recent call last)",
            "\u001b[0;32m/tmp/ipykernel_19469/2251561918.py\u001b[0m in \u001b[0;36m<module>\u001b[0;34m\u001b[0m\n\u001b[1;32m      1\u001b[0m \u001b[0;31m# Não é possível deletar um item que não existe na lista\u001b[0m\u001b[0;34m\u001b[0m\u001b[0;34m\u001b[0m\u001b[0m\n\u001b[0;32m----> 2\u001b[0;31m \u001b[0;32mdel\u001b[0m \u001b[0mlista2\u001b[0m\u001b[0;34m[\u001b[0m\u001b[0;36m4\u001b[0m\u001b[0;34m]\u001b[0m\u001b[0;34m\u001b[0m\u001b[0;34m\u001b[0m\u001b[0m\n\u001b[0m",
            "\u001b[0;31mIndexError\u001b[0m: list assignment index out of range"
          ]
        }
      ],
      "source": [
        "# Não é possível deletar um item que não existe na lista, dá o erro index out of range\n",
        "del lista2[4]"
      ]
    },
    {
      "cell_type": "code",
      "execution_count": null,
      "id": "f2d73a96",
      "metadata": {
        "id": "f2d73a96"
      },
      "outputs": [],
      "source": [
        "# Deletando um item específico da lista, ou seja, deletando o que está no índice 0\n",
        "del lista2[0]"
      ]
    },
    {
      "cell_type": "code",
      "execution_count": null,
      "id": "258ddb90",
      "metadata": {
        "id": "258ddb90",
        "outputId": "00512d78-55ff-4177-a19c-70b0d435b7e7"
      },
      "outputs": [
        {
          "data": {
            "text/plain": [
              "['mirtilo', 'laranja']"
            ]
          },
          "execution_count": 20,
          "metadata": {},
          "output_type": "execute_result"
        }
      ],
      "source": [
        "lista2"
      ]
    },
    {
      "cell_type": "code",
      "execution_count": null,
      "id": "e63db01e",
      "metadata": {
        "id": "e63db01e"
      },
      "outputs": [],
      "source": [
        "# Atualizando o índice 0 da lista\n",
        "lista2[0] = 'abacate'"
      ]
    },
    {
      "cell_type": "code",
      "execution_count": null,
      "id": "b0466849",
      "metadata": {
        "id": "b0466849",
        "outputId": "831af78e-f176-4d4e-a716-35c5f05cdeb1"
      },
      "outputs": [
        {
          "data": {
            "text/plain": [
              "['abacate', 'laranja']"
            ]
          },
          "execution_count": 22,
          "metadata": {},
          "output_type": "execute_result"
        }
      ],
      "source": [
        "lista2"
      ]
    },
    {
      "cell_type": "markdown",
      "id": "478e1df7",
      "metadata": {
        "id": "478e1df7"
      },
      "source": [
        "## Listas de listas (Listas Aninhadas)\n",
        "\n",
        "são matrizes em Python, também pode ser feita usando matriz (numpy) e dataframe (pandas)"
      ]
    },
    {
      "cell_type": "code",
      "execution_count": null,
      "id": "18bfb44b",
      "metadata": {
        "id": "18bfb44b"
      },
      "outputs": [],
      "source": [
        "# Criando uma lista de listas\n",
        "listas = [ [1,2,3], [0,2.4,15], [100,1.2,1.8] ]"
      ]
    },
    {
      "cell_type": "code",
      "execution_count": null,
      "id": "50f54f03",
      "metadata": {
        "id": "50f54f03",
        "outputId": "45b822e9-1928-455e-f551-ee8301f222bd"
      },
      "outputs": [
        {
          "data": {
            "text/plain": [
              "[[1, 2, 3], [0, 2.4, 15], [100, 1.2, 1.8]]"
            ]
          },
          "execution_count": 26,
          "metadata": {},
          "output_type": "execute_result"
        }
      ],
      "source": [
        "listas"
      ]
    },
    {
      "cell_type": "code",
      "execution_count": null,
      "id": "06afbc46",
      "metadata": {
        "id": "06afbc46"
      },
      "outputs": [],
      "source": [
        "# Slicing: Atribuindo um item (índice 0) da lista à uma variável (x)\n",
        "x = listas[0]"
      ]
    },
    {
      "cell_type": "code",
      "execution_count": null,
      "id": "9175d3cd",
      "metadata": {
        "id": "9175d3cd",
        "outputId": "60c332d9-0206-4f41-dfb9-6573c2e9938a"
      },
      "outputs": [
        {
          "data": {
            "text/plain": [
              "[1, 2, 3]"
            ]
          },
          "execution_count": 28,
          "metadata": {},
          "output_type": "execute_result"
        }
      ],
      "source": [
        "x"
      ]
    },
    {
      "cell_type": "code",
      "execution_count": null,
      "id": "3119ec67",
      "metadata": {
        "id": "3119ec67"
      },
      "outputs": [],
      "source": [
        "# Slicing: Atribuindo o índice 0 da lista x à variável y\n",
        "y = x[0]"
      ]
    },
    {
      "cell_type": "code",
      "execution_count": null,
      "id": "dafb1f5f",
      "metadata": {
        "id": "dafb1f5f",
        "outputId": "2dc6e76c-b09f-4376-a77f-0b7a37941199"
      },
      "outputs": [
        {
          "data": {
            "text/plain": [
              "1"
            ]
          },
          "execution_count": 30,
          "metadata": {},
          "output_type": "execute_result"
        }
      ],
      "source": [
        "y"
      ]
    },
    {
      "cell_type": "code",
      "execution_count": null,
      "id": "abb4f705",
      "metadata": {
        "id": "abb4f705"
      },
      "outputs": [],
      "source": [
        "a = listas[1]"
      ]
    },
    {
      "cell_type": "code",
      "execution_count": null,
      "id": "968835b4",
      "metadata": {
        "id": "968835b4",
        "outputId": "8cb996e0-d5ed-4250-d175-73becbf567c1"
      },
      "outputs": [
        {
          "data": {
            "text/plain": [
              "[0, 2.4, 15]"
            ]
          },
          "execution_count": 32,
          "metadata": {},
          "output_type": "execute_result"
        }
      ],
      "source": [
        "a"
      ]
    },
    {
      "cell_type": "code",
      "execution_count": null,
      "id": "7a6c9539",
      "metadata": {
        "id": "7a6c9539"
      },
      "outputs": [],
      "source": [
        "b = a[1]"
      ]
    },
    {
      "cell_type": "code",
      "execution_count": null,
      "id": "32367949",
      "metadata": {
        "id": "32367949",
        "outputId": "019fe9a0-3050-4662-d777-0dd79e0d3f7b"
      },
      "outputs": [
        {
          "data": {
            "text/plain": [
              "2.4"
            ]
          },
          "execution_count": 34,
          "metadata": {},
          "output_type": "execute_result"
        }
      ],
      "source": [
        "b"
      ]
    },
    {
      "cell_type": "code",
      "execution_count": null,
      "id": "f90d1884",
      "metadata": {
        "id": "f90d1884"
      },
      "outputs": [],
      "source": [
        "b = a[2]"
      ]
    },
    {
      "cell_type": "code",
      "execution_count": null,
      "id": "faadb2cb",
      "metadata": {
        "id": "faadb2cb",
        "outputId": "6ff44448-0d29-44df-9aa3-e6e509a70495"
      },
      "outputs": [
        {
          "data": {
            "text/plain": [
              "15"
            ]
          },
          "execution_count": 36,
          "metadata": {},
          "output_type": "execute_result"
        }
      ],
      "source": [
        "b"
      ]
    },
    {
      "cell_type": "code",
      "execution_count": null,
      "id": "c6f07b99",
      "metadata": {
        "id": "c6f07b99"
      },
      "outputs": [],
      "source": [
        "lista2 = listas[2]"
      ]
    },
    {
      "cell_type": "code",
      "execution_count": null,
      "id": "79a33925",
      "metadata": {
        "id": "79a33925",
        "outputId": "b311adf2-b269-42a5-dd4d-a64409d4ad8c"
      },
      "outputs": [
        {
          "data": {
            "text/plain": [
              "[100, 1.2, 1.8]"
            ]
          },
          "execution_count": 38,
          "metadata": {},
          "output_type": "execute_result"
        }
      ],
      "source": [
        "lista2"
      ]
    },
    {
      "cell_type": "code",
      "execution_count": null,
      "id": "a2494bac",
      "metadata": {
        "id": "a2494bac"
      },
      "outputs": [],
      "source": [
        "x = lista2[2]"
      ]
    },
    {
      "cell_type": "code",
      "execution_count": null,
      "id": "e7935a3c",
      "metadata": {
        "id": "e7935a3c",
        "outputId": "162d9cb2-5c34-49a9-d01f-2b4828d1c6e6"
      },
      "outputs": [
        {
          "data": {
            "text/plain": [
              "1.8"
            ]
          },
          "execution_count": 41,
          "metadata": {},
          "output_type": "execute_result"
        }
      ],
      "source": [
        "x"
      ]
    },
    {
      "cell_type": "markdown",
      "id": "95f4c554",
      "metadata": {
        "id": "95f4c554"
      },
      "source": [
        "## Operações com listas\n",
        "\n",
        "Slicing e operações"
      ]
    },
    {
      "cell_type": "code",
      "execution_count": 2,
      "id": "8f5b0f06",
      "metadata": {
        "id": "8f5b0f06"
      },
      "outputs": [],
      "source": [
        "listas2 = [[1, 3, 5], [2,4,6], [1.0, 1.3, 1.6]]"
      ]
    },
    {
      "cell_type": "code",
      "execution_count": null,
      "id": "3bf5a9a1",
      "metadata": {
        "id": "3bf5a9a1",
        "outputId": "5b071fbe-a767-4fde-cfb5-250bd681e802"
      },
      "outputs": [
        {
          "data": {
            "text/plain": [
              "[[1, 3, 5], [2, 4, 6], [1.0, 1.3, 1.6]]"
            ]
          },
          "execution_count": 43,
          "metadata": {},
          "output_type": "execute_result"
        }
      ],
      "source": [
        "listas2"
      ]
    },
    {
      "cell_type": "code",
      "execution_count": 4,
      "id": "57343cee",
      "metadata": {
        "id": "57343cee"
      },
      "outputs": [],
      "source": [
        "# Atribuindo à variável x, o valor do índice 0 da lista mãe com o índice 1 da lista filha (notação direta)\n",
        "#[0] índice 0 da lista mãe\n",
        "#[1] índice 1 da lista filha\n",
        "x = listas2[0][1]"
      ]
    },
    {
      "cell_type": "code",
      "execution_count": 5,
      "id": "eadcd2c1",
      "metadata": {
        "id": "eadcd2c1",
        "outputId": "7701c471-4da0-45c8-a5eb-4c40ccfe1df8",
        "colab": {
          "base_uri": "https://localhost:8080/"
        }
      },
      "outputs": [
        {
          "output_type": "execute_result",
          "data": {
            "text/plain": [
              "3"
            ]
          },
          "metadata": {},
          "execution_count": 5
        }
      ],
      "source": [
        "x"
      ]
    },
    {
      "cell_type": "code",
      "execution_count": 3,
      "id": "b9a3b652",
      "metadata": {
        "id": "b9a3b652"
      },
      "outputs": [],
      "source": [
        "y = listas2[2][0] + 10"
      ]
    },
    {
      "cell_type": "code",
      "execution_count": 6,
      "id": "ab9455ed",
      "metadata": {
        "id": "ab9455ed",
        "outputId": "0a7d31cf-abec-422f-acfe-f363ac0d03e7",
        "colab": {
          "base_uri": "https://localhost:8080/"
        }
      },
      "outputs": [
        {
          "output_type": "execute_result",
          "data": {
            "text/plain": [
              "11.0"
            ]
          },
          "metadata": {},
          "execution_count": 6
        }
      ],
      "source": [
        "y"
      ]
    },
    {
      "cell_type": "code",
      "execution_count": null,
      "id": "69070e3e",
      "metadata": {
        "id": "69070e3e",
        "outputId": "b3790469-b788-488e-f4e4-0011cc9b121c"
      },
      "outputs": [
        {
          "data": {
            "text/plain": [
              "float"
            ]
          },
          "execution_count": 48,
          "metadata": {},
          "output_type": "execute_result"
        }
      ],
      "source": [
        "type(y)"
      ]
    },
    {
      "cell_type": "code",
      "execution_count": null,
      "id": "46e0c666",
      "metadata": {
        "id": "46e0c666",
        "outputId": "03068eca-d1e0-44b4-a66e-79fa1ef64feb"
      },
      "outputs": [
        {
          "data": {
            "text/plain": [
              "int"
            ]
          },
          "execution_count": 49,
          "metadata": {},
          "output_type": "execute_result"
        }
      ],
      "source": [
        "type(x)"
      ]
    },
    {
      "cell_type": "code",
      "execution_count": null,
      "id": "3c22ab82",
      "metadata": {
        "id": "3c22ab82"
      },
      "outputs": [],
      "source": [
        "resultado = y + 10"
      ]
    },
    {
      "cell_type": "code",
      "execution_count": null,
      "id": "ab83de2b",
      "metadata": {
        "id": "ab83de2b",
        "outputId": "fa6768c9-dd08-4585-ec8f-9dd9134ccc41"
      },
      "outputs": [
        {
          "data": {
            "text/plain": [
              "11.0"
            ]
          },
          "execution_count": 51,
          "metadata": {},
          "output_type": "execute_result"
        }
      ],
      "source": [
        "resultado"
      ]
    },
    {
      "cell_type": "code",
      "execution_count": null,
      "id": "6103a375",
      "metadata": {
        "id": "6103a375"
      },
      "outputs": [],
      "source": [
        "d = 4"
      ]
    },
    {
      "cell_type": "code",
      "execution_count": null,
      "id": "f2787118",
      "metadata": {
        "id": "f2787118",
        "outputId": "397ca273-09ff-422d-881b-384503c0902b"
      },
      "outputs": [
        {
          "data": {
            "text/plain": [
              "12"
            ]
          },
          "execution_count": 53,
          "metadata": {},
          "output_type": "execute_result"
        }
      ],
      "source": [
        "x * d"
      ]
    },
    {
      "cell_type": "code",
      "execution_count": null,
      "id": "9f89ceef",
      "metadata": {
        "id": "9f89ceef"
      },
      "outputs": [],
      "source": [
        "e = d - listas2[0][1]"
      ]
    },
    {
      "cell_type": "code",
      "execution_count": null,
      "id": "203bb774",
      "metadata": {
        "id": "203bb774",
        "outputId": "5d2e410d-2957-450b-dcb1-c2ee0fbadef3"
      },
      "outputs": [
        {
          "data": {
            "text/plain": [
              "1"
            ]
          },
          "execution_count": 55,
          "metadata": {},
          "output_type": "execute_result"
        }
      ],
      "source": [
        "e"
      ]
    },
    {
      "cell_type": "markdown",
      "id": "eef9d350",
      "metadata": {
        "id": "eef9d350"
      },
      "source": [
        "## Concatenando listas\n",
        "\n",
        "Sobrecarga de operadores, ou seja, operadores em Python tem mais de uma função, por exemplo o +, faz a soma e também concatenação"
      ]
    },
    {
      "cell_type": "code",
      "execution_count": null,
      "id": "21f70b0c",
      "metadata": {
        "id": "21f70b0c"
      },
      "outputs": [],
      "source": [
        "lista1 = [2, 4, 6]"
      ]
    },
    {
      "cell_type": "code",
      "execution_count": null,
      "id": "84ca1a9a",
      "metadata": {
        "id": "84ca1a9a",
        "outputId": "3026a5a6-474f-4fc5-89d7-2970286fef50"
      },
      "outputs": [
        {
          "data": {
            "text/plain": [
              "[2, 4, 6]"
            ]
          },
          "execution_count": 57,
          "metadata": {},
          "output_type": "execute_result"
        }
      ],
      "source": [
        "lista1"
      ]
    },
    {
      "cell_type": "code",
      "execution_count": null,
      "id": "8e643ded",
      "metadata": {
        "id": "8e643ded"
      },
      "outputs": [],
      "source": [
        "lista2 = [3, 6, 9]"
      ]
    },
    {
      "cell_type": "code",
      "execution_count": null,
      "id": "4055af27",
      "metadata": {
        "id": "4055af27",
        "outputId": "45fc2080-2d7c-4ccf-97d6-d0711eb237ba"
      },
      "outputs": [
        {
          "data": {
            "text/plain": [
              "[3, 6, 9]"
            ]
          },
          "execution_count": 59,
          "metadata": {},
          "output_type": "execute_result"
        }
      ],
      "source": [
        "lista2"
      ]
    },
    {
      "cell_type": "code",
      "execution_count": null,
      "id": "dc9ec776",
      "metadata": {
        "id": "dc9ec776"
      },
      "outputs": [],
      "source": [
        "# Concatenando listas, por serem do tipo lista, o + funciona como concatenação\n",
        "conc_listas = lista1 + lista2"
      ]
    },
    {
      "cell_type": "code",
      "execution_count": null,
      "id": "838b68a1",
      "metadata": {
        "id": "838b68a1",
        "outputId": "00335d13-d67d-4f7c-d8ba-95c19ff8b34d"
      },
      "outputs": [
        {
          "data": {
            "text/plain": [
              "[2, 4, 6, 3, 6, 9]"
            ]
          },
          "execution_count": 61,
          "metadata": {},
          "output_type": "execute_result"
        }
      ],
      "source": [
        "conc_listas"
      ]
    },
    {
      "cell_type": "code",
      "execution_count": null,
      "id": "584e9d0d",
      "metadata": {
        "id": "584e9d0d",
        "outputId": "6a35366d-b98b-4639-f409-dbdef7f7c74a"
      },
      "outputs": [
        {
          "data": {
            "text/plain": [
              "list"
            ]
          },
          "execution_count": 62,
          "metadata": {},
          "output_type": "execute_result"
        }
      ],
      "source": [
        "type(lista1)"
      ]
    },
    {
      "cell_type": "markdown",
      "id": "128edbbb",
      "metadata": {
        "id": "128edbbb"
      },
      "source": [
        "Dica: os operadores tem sobrecarga de funções, então eles só fazem cálculo se o tipo da variável for int, float"
      ]
    },
    {
      "cell_type": "markdown",
      "id": "ea00c557",
      "metadata": {
        "id": "ea00c557"
      },
      "source": [
        "## Operador in"
      ]
    },
    {
      "cell_type": "code",
      "execution_count": null,
      "id": "05628427",
      "metadata": {
        "id": "05628427"
      },
      "outputs": [],
      "source": [
        "# Criando uma lista\n",
        "op = [10, 9, 8, -4, 1.6]"
      ]
    },
    {
      "cell_type": "code",
      "execution_count": null,
      "id": "e711f395",
      "metadata": {
        "id": "e711f395",
        "outputId": "535ef552-0d1b-490f-fd8d-32eeed12f992"
      },
      "outputs": [
        {
          "name": "stdout",
          "output_type": "stream",
          "text": [
            "True\n"
          ]
        }
      ],
      "source": [
        "# Verificando se o valor 9 pertence a lista na variável op e retorna um booleano\n",
        "print(9 in op)"
      ]
    },
    {
      "cell_type": "code",
      "execution_count": null,
      "id": "601d24f0",
      "metadata": {
        "id": "601d24f0",
        "outputId": "6e9f39ef-b4c3-4da1-cad5-c2b38e073dfc"
      },
      "outputs": [
        {
          "name": "stdout",
          "output_type": "stream",
          "text": [
            "False\n"
          ]
        }
      ],
      "source": [
        "# Verificando se o valor 1 pertence a lista na variável op e retorna um booleano\n",
        "print(1 in op)"
      ]
    },
    {
      "cell_type": "code",
      "execution_count": null,
      "id": "0c320213",
      "metadata": {
        "id": "0c320213",
        "outputId": "41616d0e-cd2a-41b9-ffc6-138353ec77e0"
      },
      "outputs": [
        {
          "name": "stdout",
          "output_type": "stream",
          "text": [
            "True\n"
          ]
        }
      ],
      "source": [
        "# Verificando se o valor -4 pertence a lista na variável op e retorna um booleano\n",
        "print(-4 in op)"
      ]
    },
    {
      "cell_type": "markdown",
      "id": "f603e8f5",
      "metadata": {
        "id": "f603e8f5"
      },
      "source": [
        "## Funções Built-In"
      ]
    },
    {
      "cell_type": "code",
      "execution_count": null,
      "id": "59e1b327",
      "metadata": {
        "id": "59e1b327"
      },
      "outputs": [],
      "source": [
        "# Criando uma lista\n",
        "nums = [10, -2, 158, 1.4]"
      ]
    },
    {
      "cell_type": "code",
      "execution_count": null,
      "id": "b93eb01f",
      "metadata": {
        "id": "b93eb01f",
        "outputId": "d8b6c3a4-f011-46d6-a088-9664ba0ad5a9"
      },
      "outputs": [
        {
          "data": {
            "text/plain": [
              "4"
            ]
          },
          "execution_count": 70,
          "metadata": {},
          "output_type": "execute_result"
        }
      ],
      "source": [
        "# Função len() retorna a quantidade de itens da lista, ou seja, o tamanho da lista\n",
        "len(nums)"
      ]
    },
    {
      "cell_type": "code",
      "execution_count": null,
      "id": "47cc8ea9",
      "metadata": {
        "id": "47cc8ea9",
        "outputId": "87786842-5cf6-4e11-9c21-591409331906"
      },
      "outputs": [
        {
          "data": {
            "text/plain": [
              "158"
            ]
          },
          "execution_count": 71,
          "metadata": {},
          "output_type": "execute_result"
        }
      ],
      "source": [
        "# Função max() retorna o maior valor da lista\n",
        "max(nums)"
      ]
    },
    {
      "cell_type": "code",
      "execution_count": null,
      "id": "38d03b86",
      "metadata": {
        "id": "38d03b86",
        "outputId": "b0a85114-66dd-48a1-bc32-15dd70d716d0"
      },
      "outputs": [
        {
          "data": {
            "text/plain": [
              "-2"
            ]
          },
          "execution_count": 72,
          "metadata": {},
          "output_type": "execute_result"
        }
      ],
      "source": [
        "# Função min() retorna o menor valor da lista\n",
        "min(nums)"
      ]
    },
    {
      "cell_type": "code",
      "execution_count": null,
      "id": "1efdd39d",
      "metadata": {
        "id": "1efdd39d"
      },
      "outputs": [],
      "source": [
        "# Criando uma lista\n",
        "cargos = ['Analista de Dados', 'Cientista de Dados', 'Engenheiro(a) de dados']"
      ]
    },
    {
      "cell_type": "code",
      "execution_count": null,
      "id": "ae81734d",
      "metadata": {
        "id": "ae81734d",
        "outputId": "7b418130-2bf6-404d-a068-becbee2cefe9"
      },
      "outputs": [
        {
          "data": {
            "text/plain": [
              "['Analista de Dados', 'Cientista de Dados', 'Engenheiro(a) de dados']"
            ]
          },
          "execution_count": 74,
          "metadata": {},
          "output_type": "execute_result"
        }
      ],
      "source": [
        "cargos"
      ]
    },
    {
      "cell_type": "code",
      "execution_count": null,
      "id": "3504b115",
      "metadata": {
        "id": "3504b115"
      },
      "outputs": [],
      "source": [
        "# Adicionando um item à lista cargos\n",
        "cargos.append('Arquiteto de Dados')"
      ]
    },
    {
      "cell_type": "code",
      "execution_count": null,
      "id": "d8fcbba6",
      "metadata": {
        "id": "d8fcbba6",
        "outputId": "90276e08-4a78-44b8-92ce-d35c782a6fb1"
      },
      "outputs": [
        {
          "data": {
            "text/plain": [
              "['Analista de Dados',\n",
              " 'Cientista de Dados',\n",
              " 'Engenheiro(a) de dados',\n",
              " 'Arquiteto de Dados']"
            ]
          },
          "execution_count": 76,
          "metadata": {},
          "output_type": "execute_result"
        }
      ],
      "source": [
        "cargos"
      ]
    },
    {
      "cell_type": "code",
      "execution_count": null,
      "id": "09ad85ff",
      "metadata": {
        "id": "09ad85ff"
      },
      "outputs": [],
      "source": [
        "cargos.append('Analista de Dados')"
      ]
    },
    {
      "cell_type": "code",
      "execution_count": null,
      "id": "315326a2",
      "metadata": {
        "id": "315326a2",
        "outputId": "251880c2-1462-4cf0-bf4b-3d63096d9c90"
      },
      "outputs": [
        {
          "data": {
            "text/plain": [
              "['Analista de Dados',\n",
              " 'Cientista de Dados',\n",
              " 'Engenheiro(a) de dados',\n",
              " 'Arquiteto de Dados',\n",
              " 'Analista de Dados']"
            ]
          },
          "execution_count": 78,
          "metadata": {},
          "output_type": "execute_result"
        }
      ],
      "source": [
        "cargos"
      ]
    },
    {
      "cell_type": "markdown",
      "id": "45a0d49a",
      "metadata": {
        "id": "45a0d49a"
      },
      "source": [
        "O método append não verifica se o item está se repetindo porque cada item tem um índice diferente, então é possível adicionar o mesmo item infinitamente"
      ]
    },
    {
      "cell_type": "code",
      "execution_count": null,
      "id": "bf7e0a20",
      "metadata": {
        "id": "bf7e0a20",
        "outputId": "b1afc497-61d8-4f91-ca88-327bd6e890b7"
      },
      "outputs": [
        {
          "data": {
            "text/plain": [
              "2"
            ]
          },
          "execution_count": 81,
          "metadata": {},
          "output_type": "execute_result"
        }
      ],
      "source": [
        "cargos.count('Analista de Dados')"
      ]
    },
    {
      "cell_type": "code",
      "execution_count": null,
      "id": "e9619428",
      "metadata": {
        "id": "e9619428"
      },
      "outputs": [],
      "source": [
        "# Criando uma lista vazia\n",
        "x = []"
      ]
    },
    {
      "cell_type": "code",
      "execution_count": null,
      "id": "804442c0",
      "metadata": {
        "id": "804442c0",
        "outputId": "badd6eb8-a170-491c-a3c7-68c6515d974b"
      },
      "outputs": [
        {
          "data": {
            "text/plain": [
              "[]"
            ]
          },
          "execution_count": 83,
          "metadata": {},
          "output_type": "execute_result"
        }
      ],
      "source": [
        "x"
      ]
    },
    {
      "cell_type": "code",
      "execution_count": null,
      "id": "662ebd63",
      "metadata": {
        "id": "662ebd63",
        "outputId": "a419d8d3-f5dc-47e3-9958-0a2a5fc458dd"
      },
      "outputs": [
        {
          "data": {
            "text/plain": [
              "list"
            ]
          },
          "execution_count": 88,
          "metadata": {},
          "output_type": "execute_result"
        }
      ],
      "source": [
        "type(x)"
      ]
    },
    {
      "cell_type": "code",
      "execution_count": null,
      "id": "38ad9dec",
      "metadata": {
        "id": "38ad9dec"
      },
      "outputs": [],
      "source": [
        "# Adicionando item à lista vazia\n",
        "x.append(10)"
      ]
    },
    {
      "cell_type": "code",
      "execution_count": null,
      "id": "faa97c0c",
      "metadata": {
        "id": "faa97c0c",
        "outputId": "2e1ee369-675a-42e6-9312-3cd9be1051c5"
      },
      "outputs": [
        {
          "data": {
            "text/plain": [
              "[10]"
            ]
          },
          "execution_count": 85,
          "metadata": {},
          "output_type": "execute_result"
        }
      ],
      "source": [
        "x"
      ]
    },
    {
      "cell_type": "code",
      "execution_count": null,
      "id": "cafd86e3",
      "metadata": {
        "id": "cafd86e3"
      },
      "outputs": [],
      "source": [
        "# Adicionando mais um item à lista vazia\n",
        "x.append(20)"
      ]
    },
    {
      "cell_type": "code",
      "execution_count": null,
      "id": "2d4fda0d",
      "metadata": {
        "id": "2d4fda0d",
        "outputId": "9a6fefec-55df-45a2-9179-e33fb63e0e56"
      },
      "outputs": [
        {
          "data": {
            "text/plain": [
              "[10, 20]"
            ]
          },
          "execution_count": 87,
          "metadata": {},
          "output_type": "execute_result"
        }
      ],
      "source": [
        "x"
      ]
    },
    {
      "cell_type": "code",
      "execution_count": null,
      "id": "fdeab37a",
      "metadata": {
        "id": "fdeab37a"
      },
      "outputs": [],
      "source": [
        "old_list = [5, 10, -15, 2.0]"
      ]
    },
    {
      "cell_type": "code",
      "execution_count": null,
      "id": "dbdeec6f",
      "metadata": {
        "id": "dbdeec6f"
      },
      "outputs": [],
      "source": [
        "new_list = []"
      ]
    },
    {
      "cell_type": "code",
      "execution_count": null,
      "id": "b14690e7",
      "metadata": {
        "id": "b14690e7"
      },
      "outputs": [],
      "source": [
        "# Para cada item dentro da lista antiga\n",
        "for item in old_list:\n",
        "    # Pegue aquele item e adicione à lista nova\n",
        "    new_list.append(item)"
      ]
    },
    {
      "cell_type": "code",
      "execution_count": null,
      "id": "006f51d1",
      "metadata": {
        "id": "006f51d1",
        "outputId": "c653f272-28f3-43da-8b50-9d1616c69f4f"
      },
      "outputs": [
        {
          "data": {
            "text/plain": [
              "[5, 10, -15, 2.0]"
            ]
          },
          "execution_count": 92,
          "metadata": {},
          "output_type": "execute_result"
        }
      ],
      "source": [
        "new_list"
      ]
    },
    {
      "cell_type": "code",
      "execution_count": null,
      "id": "2ec11c9b",
      "metadata": {
        "id": "2ec11c9b",
        "outputId": "847de028-b53e-4fd4-dca7-786fbbb9bb72"
      },
      "outputs": [
        {
          "data": {
            "text/plain": [
              "[5, 10, -15, 2.0]"
            ]
          },
          "execution_count": 93,
          "metadata": {},
          "output_type": "execute_result"
        }
      ],
      "source": [
        "old_list"
      ]
    },
    {
      "cell_type": "code",
      "execution_count": null,
      "id": "0035ec8a",
      "metadata": {
        "id": "0035ec8a"
      },
      "outputs": [],
      "source": [
        "estados = ['Bahia', 'Goiás', 'Pará']"
      ]
    },
    {
      "cell_type": "code",
      "execution_count": null,
      "id": "d87b7580",
      "metadata": {
        "id": "d87b7580"
      },
      "outputs": [],
      "source": [
        "# Acrescentando o item na lista\n",
        "estados.extend(['Minas Gerais'])"
      ]
    },
    {
      "cell_type": "code",
      "execution_count": null,
      "id": "2340a725",
      "metadata": {
        "id": "2340a725",
        "outputId": "d2f2338b-cc6b-4645-db28-ce39ab5f0408"
      },
      "outputs": [
        {
          "data": {
            "text/plain": [
              "['Bahia', 'Goiás', 'Pará', 'Minas Gerais', 'Minas Gerais']"
            ]
          },
          "execution_count": 104,
          "metadata": {},
          "output_type": "execute_result"
        }
      ],
      "source": [
        "estados"
      ]
    },
    {
      "cell_type": "code",
      "execution_count": null,
      "id": "82a3a890",
      "metadata": {
        "id": "82a3a890",
        "outputId": "44ebc1c3-fe20-4a98-e7d2-c9a4b6336af2"
      },
      "outputs": [
        {
          "data": {
            "text/plain": [
              "3"
            ]
          },
          "execution_count": 105,
          "metadata": {},
          "output_type": "execute_result"
        }
      ],
      "source": [
        "# Retorna o índice do item na lista\n",
        "estados.index('Minas Gerais')"
      ]
    },
    {
      "cell_type": "code",
      "execution_count": null,
      "id": "b9e0ffdf",
      "metadata": {
        "id": "b9e0ffdf"
      },
      "outputs": [],
      "source": [
        "# Inserindo no índice 2 o item 1000\n",
        "estados.insert(2, 1000)"
      ]
    },
    {
      "cell_type": "code",
      "execution_count": null,
      "id": "bb186dcd",
      "metadata": {
        "id": "bb186dcd",
        "outputId": "1aaeb246-c607-4b22-96f2-04dfcb18da7a"
      },
      "outputs": [
        {
          "data": {
            "text/plain": [
              "['Bahia', 'Goiás', 1000, 'Pará', 'Minas Gerais', 'Minas Gerais']"
            ]
          },
          "execution_count": 108,
          "metadata": {},
          "output_type": "execute_result"
        }
      ],
      "source": [
        "estados"
      ]
    },
    {
      "cell_type": "code",
      "execution_count": null,
      "id": "9b3dbc1b",
      "metadata": {
        "id": "9b3dbc1b"
      },
      "outputs": [],
      "source": [
        "# Removendo o item da lista\n",
        "estados.remove(1000)"
      ]
    },
    {
      "cell_type": "code",
      "execution_count": null,
      "id": "005f18bc",
      "metadata": {
        "id": "005f18bc",
        "outputId": "16bc1ee9-84e4-46a2-b0e3-2380be9feca9"
      },
      "outputs": [
        {
          "data": {
            "text/plain": [
              "['Bahia', 'Goiás', 'Pará', 'Minas Gerais', 'Minas Gerais']"
            ]
          },
          "execution_count": 110,
          "metadata": {},
          "output_type": "execute_result"
        }
      ],
      "source": [
        "estados"
      ]
    },
    {
      "cell_type": "markdown",
      "id": "cdb8b43d",
      "metadata": {
        "id": "cdb8b43d"
      },
      "source": [
        "Dica: a lista sempre se ajusta conforme os itens, nunca fica um índice vazio, sem valor"
      ]
    },
    {
      "cell_type": "code",
      "execution_count": null,
      "id": "50e12726",
      "metadata": {
        "id": "50e12726"
      },
      "outputs": [],
      "source": [
        "# Invertendo a ordem da lista\n",
        "estados.reverse()"
      ]
    },
    {
      "cell_type": "code",
      "execution_count": null,
      "id": "e0821b10",
      "metadata": {
        "id": "e0821b10",
        "outputId": "081f0db5-a402-4140-c2ad-4161f3aa027a"
      },
      "outputs": [
        {
          "data": {
            "text/plain": [
              "['Minas Gerais', 'Minas Gerais', 'Pará', 'Goiás', 'Bahia']"
            ]
          },
          "execution_count": 112,
          "metadata": {},
          "output_type": "execute_result"
        }
      ],
      "source": [
        "estados"
      ]
    },
    {
      "cell_type": "code",
      "execution_count": null,
      "id": "60867762",
      "metadata": {
        "id": "60867762"
      },
      "outputs": [],
      "source": [
        "estados.remove('Minas Gerais')"
      ]
    },
    {
      "cell_type": "code",
      "execution_count": null,
      "id": "ac18d78b",
      "metadata": {
        "id": "ac18d78b",
        "outputId": "da8f5169-e63d-49c3-866e-7ef8fe2c2107"
      },
      "outputs": [
        {
          "data": {
            "text/plain": [
              "['Minas Gerais', 'Pará', 'Goiás', 'Bahia']"
            ]
          },
          "execution_count": 114,
          "metadata": {},
          "output_type": "execute_result"
        }
      ],
      "source": [
        "estados"
      ]
    },
    {
      "cell_type": "code",
      "execution_count": null,
      "id": "8a276d96",
      "metadata": {
        "id": "8a276d96"
      },
      "outputs": [],
      "source": [
        "# Ordena a lista\n",
        "estados.sort()"
      ]
    },
    {
      "cell_type": "code",
      "execution_count": null,
      "id": "41bb19b8",
      "metadata": {
        "id": "41bb19b8",
        "outputId": "3670d536-fc10-4649-bc2e-e8d60c320f5d"
      },
      "outputs": [
        {
          "data": {
            "text/plain": [
              "['Bahia', 'Goiás', 'Minas Gerais', 'Pará']"
            ]
          },
          "execution_count": 116,
          "metadata": {},
          "output_type": "execute_result"
        }
      ],
      "source": [
        "estados"
      ]
    },
    {
      "cell_type": "code",
      "execution_count": null,
      "id": "2e81f352",
      "metadata": {
        "id": "2e81f352"
      },
      "outputs": [],
      "source": [
        "x = [3, 8, 4, 2]"
      ]
    },
    {
      "cell_type": "code",
      "execution_count": null,
      "id": "32187dbd",
      "metadata": {
        "id": "32187dbd",
        "outputId": "08877583-d9d7-473c-869f-b55fdaf289b0"
      },
      "outputs": [
        {
          "data": {
            "text/plain": [
              "[3, 8, 4, 2]"
            ]
          },
          "execution_count": 118,
          "metadata": {},
          "output_type": "execute_result"
        }
      ],
      "source": [
        "x"
      ]
    },
    {
      "cell_type": "code",
      "execution_count": null,
      "id": "aa86911e",
      "metadata": {
        "id": "aa86911e"
      },
      "outputs": [],
      "source": [
        "x.sort()"
      ]
    },
    {
      "cell_type": "code",
      "execution_count": null,
      "id": "8680bf51",
      "metadata": {
        "id": "8680bf51",
        "outputId": "ff98bb36-525b-4ce5-e46e-8443ca9d7171"
      },
      "outputs": [
        {
          "data": {
            "text/plain": [
              "[2, 3, 4, 8]"
            ]
          },
          "execution_count": 120,
          "metadata": {},
          "output_type": "execute_result"
        }
      ],
      "source": [
        "x"
      ]
    }
  ],
  "metadata": {
    "kernelspec": {
      "display_name": "Python 3 (ipykernel)",
      "language": "python",
      "name": "python3"
    },
    "language_info": {
      "codemirror_mode": {
        "name": "ipython",
        "version": 3
      },
      "file_extension": ".py",
      "mimetype": "text/x-python",
      "name": "python",
      "nbconvert_exporter": "python",
      "pygments_lexer": "ipython3",
      "version": "3.9.13"
    },
    "colab": {
      "provenance": []
    }
  },
  "nbformat": 4,
  "nbformat_minor": 5
}