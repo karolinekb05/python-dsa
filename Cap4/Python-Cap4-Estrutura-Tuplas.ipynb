{
  "cells": [
    {
      "cell_type": "markdown",
      "id": "d7a5b58e",
      "metadata": {
        "id": "d7a5b58e"
      },
      "source": [
        "## Trabalhando com Tuplas"
      ]
    },
    {
      "cell_type": "markdown",
      "id": "d045e8c9",
      "metadata": {
        "id": "d045e8c9"
      },
      "source": [
        "As tuplas são mais usadas como saída de resultado, é uma estrutura imutável, é a menos utilizada por conta das suas limitações.\n",
        "\n",
        "Caso haja uma lista de elementos que não podem ser modificados, crie em tupla, caso contrário, é necessário criar em lista [] ou dicionário {}.\n",
        "\n",
        "Parênteses ( ) é a estrutura da tupla."
      ]
    },
    {
      "cell_type": "code",
      "execution_count": null,
      "id": "740535d1",
      "metadata": {
        "id": "740535d1"
      },
      "outputs": [],
      "source": [
        "# Criando a tupla\n",
        "tupla1 = ('Python', 5.5, 'teste', 60)"
      ]
    },
    {
      "cell_type": "code",
      "execution_count": null,
      "id": "2a1850bd",
      "metadata": {
        "id": "2a1850bd",
        "outputId": "78e79eb4-eb9a-418b-a1a7-3dc30edd6ed0"
      },
      "outputs": [
        {
          "data": {
            "text/plain": [
              "('Python', 5.5, 'teste', 60)"
            ]
          },
          "execution_count": 2,
          "metadata": {},
          "output_type": "execute_result"
        }
      ],
      "source": [
        "tupla1"
      ]
    },
    {
      "cell_type": "code",
      "execution_count": null,
      "id": "bd109dda",
      "metadata": {
        "id": "bd109dda",
        "outputId": "456e2b75-bfc4-43ff-85ce-508894604f9a"
      },
      "outputs": [
        {
          "data": {
            "text/plain": [
              "tuple"
            ]
          },
          "execution_count": 3,
          "metadata": {},
          "output_type": "execute_result"
        }
      ],
      "source": [
        "type(tupla1)"
      ]
    },
    {
      "cell_type": "code",
      "execution_count": null,
      "id": "4adb2bfe",
      "metadata": {
        "id": "4adb2bfe",
        "outputId": "8698ef06-867c-4215-8fde-54c1f4539ad8"
      },
      "outputs": [
        {
          "ename": "AttributeError",
          "evalue": "'tuple' object has no attribute 'append'",
          "output_type": "error",
          "traceback": [
            "\u001b[0;31m---------------------------------------------------------------------------\u001b[0m",
            "\u001b[0;31mAttributeError\u001b[0m                            Traceback (most recent call last)",
            "\u001b[0;32m/tmp/ipykernel_73970/4235332432.py\u001b[0m in \u001b[0;36m<module>\u001b[0;34m\u001b[0m\n\u001b[1;32m      1\u001b[0m \u001b[0;31m# Tuplas não suportam append\u001b[0m\u001b[0;34m\u001b[0m\u001b[0;34m\u001b[0m\u001b[0m\n\u001b[0;32m----> 2\u001b[0;31m \u001b[0mtupla1\u001b[0m\u001b[0;34m.\u001b[0m\u001b[0mappend\u001b[0m\u001b[0;34m(\u001b[0m\u001b[0;34m'Laranja'\u001b[0m\u001b[0;34m)\u001b[0m\u001b[0;34m\u001b[0m\u001b[0;34m\u001b[0m\u001b[0m\n\u001b[0m",
            "\u001b[0;31mAttributeError\u001b[0m: 'tuple' object has no attribute 'append'"
          ]
        }
      ],
      "source": [
        "# Tuplas não suportam append, ou seja, não aceita acrescentar\n",
        "tupla1.append('Laranja')"
      ]
    },
    {
      "cell_type": "code",
      "execution_count": null,
      "id": "878d5304",
      "metadata": {
        "id": "878d5304",
        "outputId": "96d752b5-f542-41b2-a3dc-80106c460538"
      },
      "outputs": [
        {
          "ename": "TypeError",
          "evalue": "'tuple' object does not support item deletion",
          "output_type": "error",
          "traceback": [
            "\u001b[0;31m---------------------------------------------------------------------------\u001b[0m",
            "\u001b[0;31mTypeError\u001b[0m                                 Traceback (most recent call last)",
            "\u001b[0;32m/tmp/ipykernel_73970/2002008868.py\u001b[0m in \u001b[0;36m<module>\u001b[0;34m\u001b[0m\n\u001b[1;32m      1\u001b[0m \u001b[0;31m# Tupla não permite a exclusão de um elemento\u001b[0m\u001b[0;34m\u001b[0m\u001b[0;34m\u001b[0m\u001b[0m\n\u001b[0;32m----> 2\u001b[0;31m \u001b[0;32mdel\u001b[0m \u001b[0mtupla1\u001b[0m\u001b[0;34m[\u001b[0m\u001b[0;34m'5.5'\u001b[0m\u001b[0;34m]\u001b[0m\u001b[0;34m\u001b[0m\u001b[0;34m\u001b[0m\u001b[0m\n\u001b[0m",
            "\u001b[0;31mTypeError\u001b[0m: 'tuple' object does not support item deletion"
          ]
        }
      ],
      "source": [
        "# Tupla não permite a exclusão de um elemento\n",
        "del tupla1['5.5']"
      ]
    },
    {
      "cell_type": "code",
      "execution_count": 2,
      "id": "3511fe17",
      "metadata": {
        "id": "3511fe17"
      },
      "outputs": [],
      "source": [
        "# Tupla pode ter um único item\n",
        "tupla1 = ('Chocolate')"
      ]
    },
    {
      "cell_type": "code",
      "execution_count": null,
      "id": "f4f68752",
      "metadata": {
        "id": "f4f68752",
        "outputId": "ea765b01-dff6-4a42-e315-e7183bcebb70"
      },
      "outputs": [
        {
          "data": {
            "text/plain": [
              "'Chocolate'"
            ]
          },
          "execution_count": 7,
          "metadata": {},
          "output_type": "execute_result"
        }
      ],
      "source": [
        "tupla1"
      ]
    },
    {
      "cell_type": "code",
      "execution_count": 3,
      "id": "d84c0040",
      "metadata": {
        "id": "d84c0040"
      },
      "outputs": [],
      "source": [
        "tupla1 = ('Chocolate', 'Aveia', 'Ovos', 'Castanha')"
      ]
    },
    {
      "cell_type": "code",
      "execution_count": 4,
      "id": "2f97b6bf",
      "metadata": {
        "id": "2f97b6bf",
        "outputId": "8adbf30b-4ed7-4b66-b81e-5fbb4f073238",
        "colab": {
          "base_uri": "https://localhost:8080/",
          "height": 35
        }
      },
      "outputs": [
        {
          "output_type": "execute_result",
          "data": {
            "text/plain": [
              "'Ovos'"
            ],
            "application/vnd.google.colaboratory.intrinsic+json": {
              "type": "string"
            }
          },
          "metadata": {},
          "execution_count": 4
        }
      ],
      "source": [
        "# Indexação\n",
        "tupla1[2]"
      ]
    },
    {
      "cell_type": "code",
      "execution_count": null,
      "id": "4ff95aa7",
      "metadata": {
        "id": "4ff95aa7",
        "outputId": "68af6a04-dce8-4a4a-8e1b-e7807daa8339"
      },
      "outputs": [
        {
          "data": {
            "text/plain": [
              "4"
            ]
          },
          "execution_count": 10,
          "metadata": {},
          "output_type": "execute_result"
        }
      ],
      "source": [
        "# Comprimento da tupla\n",
        "len(tupla1)"
      ]
    },
    {
      "cell_type": "code",
      "execution_count": null,
      "id": "00fa6a34",
      "metadata": {
        "id": "00fa6a34",
        "outputId": "6914866c-fc3a-480f-a12f-cc13a4e8a4ca"
      },
      "outputs": [
        {
          "data": {
            "text/plain": [
              "('Aveia', 'Ovos', 'Castanha')"
            ]
          },
          "execution_count": 11,
          "metadata": {},
          "output_type": "execute_result"
        }
      ],
      "source": [
        "# Slicing\n",
        "tupla1[1:]"
      ]
    },
    {
      "cell_type": "code",
      "execution_count": 5,
      "id": "1f95c9d1",
      "metadata": {
        "id": "1f95c9d1",
        "outputId": "5d3a257a-1e01-4af9-8b5c-85a7d5fa6262",
        "colab": {
          "base_uri": "https://localhost:8080/"
        }
      },
      "outputs": [
        {
          "output_type": "execute_result",
          "data": {
            "text/plain": [
              "('Chocolate',)"
            ]
          },
          "metadata": {},
          "execution_count": 5
        }
      ],
      "source": [
        "tupla1[:1]"
      ]
    },
    {
      "cell_type": "code",
      "execution_count": null,
      "id": "a3b4acae",
      "metadata": {
        "id": "a3b4acae",
        "outputId": "fc9c532f-f136-4f94-b864-f7dc525230ac"
      },
      "outputs": [
        {
          "data": {
            "text/plain": [
              "2"
            ]
          },
          "execution_count": 13,
          "metadata": {},
          "output_type": "execute_result"
        }
      ],
      "source": [
        "# Valida índice\n",
        "tupla1.index('Ovos')"
      ]
    },
    {
      "cell_type": "code",
      "execution_count": null,
      "id": "cd6f6fef",
      "metadata": {
        "id": "cd6f6fef",
        "outputId": "f008f5c9-4c30-4d4a-d1de-1a791211da2d"
      },
      "outputs": [
        {
          "ename": "TypeError",
          "evalue": "'tuple' object does not support item assignment",
          "output_type": "error",
          "traceback": [
            "\u001b[0;31m---------------------------------------------------------------------------\u001b[0m",
            "\u001b[0;31mTypeError\u001b[0m                                 Traceback (most recent call last)",
            "\u001b[0;32m/tmp/ipykernel_73970/3221775266.py\u001b[0m in \u001b[0;36m<module>\u001b[0;34m\u001b[0m\n\u001b[1;32m      1\u001b[0m \u001b[0;31m# Tuplas não suportam atribuição de itens\u001b[0m\u001b[0;34m\u001b[0m\u001b[0;34m\u001b[0m\u001b[0m\n\u001b[0;32m----> 2\u001b[0;31m \u001b[0mtupla1\u001b[0m\u001b[0;34m[\u001b[0m\u001b[0;36m1\u001b[0m\u001b[0;34m]\u001b[0m \u001b[0;34m=\u001b[0m \u001b[0;34m'Óleo'\u001b[0m\u001b[0;34m\u001b[0m\u001b[0;34m\u001b[0m\u001b[0m\n\u001b[0m",
            "\u001b[0;31mTypeError\u001b[0m: 'tuple' object does not support item assignment"
          ]
        }
      ],
      "source": [
        "# Tuplas não suportam atribuição de itens\n",
        "tupla1[1] = 'Óleo'"
      ]
    },
    {
      "cell_type": "code",
      "execution_count": null,
      "id": "af30bb2f",
      "metadata": {
        "id": "af30bb2f"
      },
      "outputs": [],
      "source": [
        "del tupla1"
      ]
    },
    {
      "cell_type": "code",
      "execution_count": null,
      "id": "af80ae16",
      "metadata": {
        "id": "af80ae16",
        "outputId": "b80a6877-856a-4658-c303-77ebeec9653c"
      },
      "outputs": [
        {
          "ename": "NameError",
          "evalue": "name 'tupla1' is not defined",
          "output_type": "error",
          "traceback": [
            "\u001b[0;31m---------------------------------------------------------------------------\u001b[0m",
            "\u001b[0;31mNameError\u001b[0m                                 Traceback (most recent call last)",
            "\u001b[0;32m/tmp/ipykernel_73970/3141490790.py\u001b[0m in \u001b[0;36m<module>\u001b[0;34m\u001b[0m\n\u001b[0;32m----> 1\u001b[0;31m \u001b[0mtupla1\u001b[0m\u001b[0;34m\u001b[0m\u001b[0;34m\u001b[0m\u001b[0m\n\u001b[0m",
            "\u001b[0;31mNameError\u001b[0m: name 'tupla1' is not defined"
          ]
        }
      ],
      "source": [
        "tupla1"
      ]
    },
    {
      "cell_type": "code",
      "execution_count": 7,
      "id": "b681e281",
      "metadata": {
        "id": "b681e281"
      },
      "outputs": [],
      "source": [
        "# Criando uma tupla\n",
        "t2 = ('A', 'E', 'I', 'O')"
      ]
    },
    {
      "cell_type": "code",
      "execution_count": null,
      "id": "0f085271",
      "metadata": {
        "id": "0f085271",
        "outputId": "487a541f-bedf-46e1-de72-477b1759a23a"
      },
      "outputs": [
        {
          "data": {
            "text/plain": [
              "('A', 'E', 'I', 'O')"
            ]
          },
          "execution_count": 21,
          "metadata": {},
          "output_type": "execute_result"
        }
      ],
      "source": [
        "t2"
      ]
    },
    {
      "cell_type": "code",
      "source": [
        "t2[2] = 'D'"
      ],
      "metadata": {
        "id": "REj6R6L5YJk9",
        "outputId": "f6387827-f672-456d-8ae1-9242f3bd492b",
        "colab": {
          "base_uri": "https://localhost:8080/",
          "height": 141
        }
      },
      "id": "REj6R6L5YJk9",
      "execution_count": 8,
      "outputs": [
        {
          "output_type": "error",
          "ename": "TypeError",
          "evalue": "'tuple' object does not support item assignment",
          "traceback": [
            "\u001b[0;31m---------------------------------------------------------------------------\u001b[0m",
            "\u001b[0;31mTypeError\u001b[0m                                 Traceback (most recent call last)",
            "\u001b[0;32m<ipython-input-8-d8133d0ba135>\u001b[0m in \u001b[0;36m<cell line: 1>\u001b[0;34m()\u001b[0m\n\u001b[0;32m----> 1\u001b[0;31m \u001b[0mt2\u001b[0m\u001b[0;34m[\u001b[0m\u001b[0;36m2\u001b[0m\u001b[0;34m]\u001b[0m \u001b[0;34m=\u001b[0m \u001b[0;34m'D'\u001b[0m\u001b[0;34m\u001b[0m\u001b[0;34m\u001b[0m\u001b[0m\n\u001b[0m",
            "\u001b[0;31mTypeError\u001b[0m: 'tuple' object does not support item assignment"
          ]
        }
      ]
    },
    {
      "cell_type": "code",
      "execution_count": null,
      "id": "ccf7a951",
      "metadata": {
        "id": "ccf7a951",
        "outputId": "d93b438e-76a0-4c54-c248-f99b61936361"
      },
      "outputs": [
        {
          "data": {
            "text/plain": [
              "tuple"
            ]
          },
          "execution_count": 22,
          "metadata": {},
          "output_type": "execute_result"
        }
      ],
      "source": [
        "type(t2)"
      ]
    },
    {
      "cell_type": "code",
      "execution_count": null,
      "id": "82c6eeed",
      "metadata": {
        "id": "82c6eeed"
      },
      "outputs": [],
      "source": [
        "# Usando a função list() para converter a tupla para lista\n",
        "listat2 = list(t2)"
      ]
    },
    {
      "cell_type": "code",
      "execution_count": null,
      "id": "43754936",
      "metadata": {
        "id": "43754936",
        "outputId": "5b3d3480-903f-40c0-ae76-619e1cd9868d"
      },
      "outputs": [
        {
          "data": {
            "text/plain": [
              "list"
            ]
          },
          "execution_count": 24,
          "metadata": {},
          "output_type": "execute_result"
        }
      ],
      "source": [
        "type(listat2)"
      ]
    },
    {
      "cell_type": "code",
      "execution_count": null,
      "id": "fa7a945d",
      "metadata": {
        "id": "fa7a945d",
        "outputId": "22af5798-ab22-4cf8-fe48-04084616055b"
      },
      "outputs": [
        {
          "data": {
            "text/plain": [
              "['A', 'E', 'I', 'O']"
            ]
          },
          "execution_count": 25,
          "metadata": {},
          "output_type": "execute_result"
        }
      ],
      "source": [
        "listat2"
      ]
    },
    {
      "cell_type": "code",
      "execution_count": null,
      "id": "44365b60",
      "metadata": {
        "id": "44365b60"
      },
      "outputs": [],
      "source": [
        "listat2.append('U')"
      ]
    },
    {
      "cell_type": "code",
      "execution_count": null,
      "id": "129d771e",
      "metadata": {
        "id": "129d771e",
        "outputId": "0c4f97f4-8ab4-4492-fd84-2232b35be43d"
      },
      "outputs": [
        {
          "data": {
            "text/plain": [
              "['A', 'E', 'I', 'O', 'U']"
            ]
          },
          "execution_count": 27,
          "metadata": {},
          "output_type": "execute_result"
        }
      ],
      "source": [
        "listat2"
      ]
    },
    {
      "cell_type": "code",
      "execution_count": null,
      "id": "2916e749",
      "metadata": {
        "id": "2916e749"
      },
      "outputs": [],
      "source": [
        "# Usando a função tuple() para converter a lista para tupla\n",
        "tupla2 = tuple(listat2)"
      ]
    },
    {
      "cell_type": "code",
      "execution_count": null,
      "id": "1646bf5f",
      "metadata": {
        "id": "1646bf5f",
        "outputId": "2a85ab93-8893-4caa-ea01-2482bfe1cf66"
      },
      "outputs": [
        {
          "data": {
            "text/plain": [
              "tuple"
            ]
          },
          "execution_count": 29,
          "metadata": {},
          "output_type": "execute_result"
        }
      ],
      "source": [
        "type(tupla2)"
      ]
    },
    {
      "cell_type": "code",
      "execution_count": null,
      "id": "b1566468",
      "metadata": {
        "id": "b1566468",
        "outputId": "0b703ccb-0cbd-4729-bda5-9d8bde79934b"
      },
      "outputs": [
        {
          "data": {
            "text/plain": [
              "('A', 'E', 'I', 'O', 'U')"
            ]
          },
          "execution_count": 30,
          "metadata": {},
          "output_type": "execute_result"
        }
      ],
      "source": [
        "tupla2"
      ]
    }
  ],
  "metadata": {
    "kernelspec": {
      "display_name": "Python 3 (ipykernel)",
      "language": "python",
      "name": "python3"
    },
    "language_info": {
      "codemirror_mode": {
        "name": "ipython",
        "version": 3
      },
      "file_extension": ".py",
      "mimetype": "text/x-python",
      "name": "python",
      "nbconvert_exporter": "python",
      "pygments_lexer": "ipython3",
      "version": "3.9.13"
    },
    "colab": {
      "provenance": []
    }
  },
  "nbformat": 4,
  "nbformat_minor": 5
}