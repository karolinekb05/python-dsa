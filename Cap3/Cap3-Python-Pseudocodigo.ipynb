{
  "cells": [
    {
      "cell_type": "markdown",
      "id": "6f77c04f",
      "metadata": {
        "id": "6f77c04f"
      },
      "source": [
        "Pressione as teclas shift e enter para executar o código ou pressione o botão RUN no menu superior."
      ]
    },
    {
      "cell_type": "markdown",
      "id": "036baf16",
      "metadata": {
        "id": "036baf16"
      },
      "source": [
        "## Pseudocódigo 1 - Calcular a área de um paralelograma"
      ]
    },
    {
      "cell_type": "markdown",
      "id": "a3b6c77b",
      "metadata": {
        "id": "a3b6c77b"
      },
      "source": [
        "Nota: um paralelograma é um quadrilátero com lados opostos (e portanto ângulos opostos iguais). Um quadrilátero com lados iguais é chamado de losango e um paralelogramo cujos ângulos são todos retos é chamado de retângulo."
      ]
    },
    {
      "cell_type": "markdown",
      "id": "604d78db",
      "metadata": {
        "id": "604d78db"
      },
      "source": [
        "Inicie\n",
        "    Exiba \"Bem-vindo ao calculador de área de paralelogramo\"\n",
        "    Peça para o usuário inserir o comprimento da base\n",
        "    Armazene o comprimento da base em uma variável\n",
        "    Peça para o usuário inserir a altura\n",
        "    Armazene a altura em uma variável\n",
        "    Calcule a área do paralelogramo: base * altura\n",
        "    Armazene o resultado em uma variável\n",
        "    Exiba o resultado\n",
        "Fim"
      ]
    },
    {
      "cell_type": "markdown",
      "id": "a16e8fa0",
      "metadata": {
        "id": "a16e8fa0"
      },
      "source": [
        "## Convertendo o pseudocódigo 1 em programa Python"
      ]
    },
    {
      "cell_type": "code",
      "execution_count": null,
      "id": "04ff23d8",
      "metadata": {
        "id": "04ff23d8",
        "outputId": "e5231fbe-043d-428a-9078-69e5088d8454"
      },
      "outputs": [
        {
          "name": "stdout",
          "output_type": "stream",
          "text": [
            "Bem-vindo ao calculador de área de paralelogramo\n",
            "Insira o comprimento da base:4\n",
            "Insira a altura:6\n",
            "A área do paralelogramo é:  24.0\n"
          ]
        }
      ],
      "source": [
        "print('Bem-vindo ao calculador de área de paralelogramo')\n",
        "base = float(input('Insira o comprimento da base:'))\n",
        "altura = float(input('Insira a altura:'))\n",
        "area = base * altura\n",
        "print('A área do paralelogramo é: ', area)"
      ]
    },
    {
      "cell_type": "markdown",
      "id": "3af99cdf",
      "metadata": {
        "id": "3af99cdf"
      },
      "source": [
        "## Pseudocódigo 2 - Calculadora simples"
      ]
    },
    {
      "cell_type": "markdown",
      "id": "a0018ca8",
      "metadata": {
        "id": "a0018ca8"
      },
      "source": [
        "Inicie\n",
        "    Exiba o título \"Bem-vindo(a) à Calculadora simples\"\n",
        "    Peça ao usuário para inserir o primeiro valor\n",
        "    Armazene o primeiro valor em uma variável\n",
        "    Peça ao usuário para inserir o caractere correspondente à uma das operações (+,-,* ou /)\n",
        "    Armazene a escolha do usuário em uma variável\n",
        "    Peça ao usuário para inserir o segundo valor\n",
        "    Armazene o segundo valor em uma variável\n",
        "    Fazer o cálculo do primero valor com o segundo valor através da escolha das operações\n",
        "    Armazenar o resultado em uma variável\n",
        "    Exiba o valor do cálculo\n",
        "Fim"
      ]
    },
    {
      "cell_type": "markdown",
      "id": "3ab07914",
      "metadata": {
        "id": "3ab07914"
      },
      "source": [
        "### Convertendo o pseudocódigo em programa python"
      ]
    },
    {
      "cell_type": "code",
      "execution_count": 1,
      "id": "1b53bdea",
      "metadata": {
        "colab": {
          "base_uri": "https://localhost:8080/"
        },
        "id": "1b53bdea",
        "outputId": "e23187ff-101a-4902-e101-1bdc488ffa1c"
      },
      "outputs": [
        {
          "output_type": "stream",
          "name": "stdout",
          "text": [
            "Bem-vindo(a) à Calculadora Simples\n",
            "Insira o primeiro valor: 2\n",
            "Insira uma operação (+, -, * ou /): +\n",
            "Insira o segundo valor: 2\n",
            "O resultado é:  4.0\n"
          ]
        }
      ],
      "source": [
        "print('Bem-vindo(a) à Calculadora Simples')\n",
        "p_valor = float(input('Insira o primeiro valor: '))\n",
        "operador = input('Insira uma operação (+, -, * ou /): ')\n",
        "s_valor = float(input('Insira o segundo valor: '))\n",
        "\n",
        "if operador == '+':\n",
        "    resultado = p_valor + s_valor\n",
        "    print('O resultado é: ', resultado)\n",
        "\n",
        "elif operador == '-':\n",
        "    resultado = p_valor - s_valor\n",
        "    print('O resultado é: ', resultado)\n",
        "\n",
        "elif operador == '*':\n",
        "    resultado = p_valor * s_valor\n",
        "    print('O resultado é: ', resultado)\n",
        "\n",
        "elif operador == '/':\n",
        "    resultado = p_valor / s_valor\n",
        "    print('O resultado é: ', resultado)\n",
        "\n",
        "else:\n",
        "    print('Operador inválido! Tente novamente')"
      ]
    },
    {
      "cell_type": "markdown",
      "id": "81c6aee9",
      "metadata": {
        "id": "81c6aee9"
      },
      "source": [
        "### Pseudocódigo 3 - Algoritmo Bubble Sort"
      ]
    },
    {
      "cell_type": "markdown",
      "id": "52fc3f14",
      "metadata": {
        "id": "52fc3f14"
      },
      "source": [
        "Bubble Sort é um algoritmo de ordenação simples que funciona comparando cada elemento com o próximo e trocando-os de lugar se eles estiverem em ordem incorreta. O algoritmo repete esse processo várias vezes, até que todos os elementos estejam ordenados. A cada passagem, o maior elemento \"flutua\" para o final do array, como uma bolha, dando origem ao nome do algoritmo."
      ]
    },
    {
      "cell_type": "markdown",
      "id": "ee9edc3e",
      "metadata": {
        "id": "ee9edc3e"
      },
      "source": [
        "Inicio\n",
        "    Peça ao usuário para inserir 5 valores de 1 à 10\n",
        "    Armazene os valores em uma variável\n",
        "    Compare os valores\n",
        "    Ordene os números caso estejam desordenados\n",
        "    Exiba a reordenação\n",
        "Fim"
      ]
    },
    {
      "cell_type": "markdown",
      "id": "ad840c14",
      "metadata": {
        "id": "ad840c14"
      },
      "source": [
        "Inicie\n",
        "    Para cada elemento i no array de tamanho n\n",
        "        Para cada elemento j no array de tamanho n - 1\n",
        "            Se elemento i for maior que elemento j\n",
        "                Troque os elementos i e j\n",
        "    Exiba o array ordenado\n",
        "Fim"
      ]
    },
    {
      "cell_type": "markdown",
      "source": [
        "Exemplo a seguir de como ficaria a execução do bubble sort"
      ],
      "metadata": {
        "id": "ttnkrkf_278k"
      },
      "id": "ttnkrkf_278k"
    },
    {
      "cell_type": "code",
      "source": [
        "# Considere esta lista como exemplo para ordenação com o Bubble Sort\n",
        "lista = [2, 1, 15, 5]"
      ],
      "metadata": {
        "id": "Zxl3xmdd25Q_"
      },
      "id": "Zxl3xmdd25Q_",
      "execution_count": null,
      "outputs": []
    },
    {
      "cell_type": "code",
      "source": [
        "# Primeira execução do algoritmo (elemento 1 troca de posição com o elemento 2)\n",
        "lista = [1, 2, 15, 5]"
      ],
      "metadata": {
        "id": "vNgTbRhS25LA"
      },
      "id": "vNgTbRhS25LA",
      "execution_count": null,
      "outputs": []
    },
    {
      "cell_type": "code",
      "source": [
        "# Segunda execução do algoritmo (não ocorre troca porque 15 não é menor que 2)\n",
        "lista = [1, 2, 15, 5]"
      ],
      "metadata": {
        "id": "EEaLNW5j25DZ"
      },
      "id": "EEaLNW5j25DZ",
      "execution_count": null,
      "outputs": []
    },
    {
      "cell_type": "code",
      "source": [
        "# Terceira execução do algoritmo (elemento 15 troca de posição com elemento 5)\n",
        "lista = [1, 2, 5, 15]"
      ],
      "metadata": {
        "id": "qlSmliKz242P"
      },
      "id": "qlSmliKz242P",
      "execution_count": null,
      "outputs": []
    },
    {
      "cell_type": "markdown",
      "source": [
        "Implementação real abaixo:"
      ],
      "metadata": {
        "id": "Jdfc7bIJ33eX"
      },
      "id": "Jdfc7bIJ33eX"
    },
    {
      "cell_type": "code",
      "execution_count": null,
      "id": "58d52b07",
      "metadata": {
        "id": "58d52b07"
      },
      "outputs": [],
      "source": [
        "lista1 = [6, 4, 8, 1, 12, 11, 18, 20, 29, 33, 10, 5]"
      ]
    },
    {
      "cell_type": "code",
      "execution_count": null,
      "id": "13389b04",
      "metadata": {
        "id": "13389b04"
      },
      "outputs": [],
      "source": [
        "#Função é def\n",
        "#arr é onde será substituído pelo nome da lista (ex: bubble_sort(lista1))\n",
        "# Verifica e compara os elementos em pares\n",
        "def bubble_sort(arr):\n",
        "\n",
        "    #len: função para saber o tamanho do array\n",
        "    n = len(arr)\n",
        "\n",
        "    #range: função para gerar sequência de números\n",
        "    #Para cada elemento i dentro do array\n",
        "    for i in range(n):\n",
        "\n",
        "        #Para cada elemento j dentro do array\n",
        "        #range: lista de valores\n",
        "        #0: a lista inicia com o índice 0\n",
        "        #n: tamanho do array\n",
        "        #i: primeiro elemento da lista\n",
        "        #-1: obtem o valor do próximo elemento da lista\n",
        "        for j in range(0, n-i-1):\n",
        "\n",
        "            #Se elemento j for maior que elemento j+1\n",
        "            if arr[j] > arr[j+1]:\n",
        "\n",
        "                # O que estava em j vai para posição de j+1\n",
        "                # O que estava em j+1 vai para posição de j\n",
        "                arr[j], arr[j+1] = arr[j+1], arr[j]\n",
        "\n",
        "    # Retorna o array com os elementos ordenados\n",
        "    return arr"
      ]
    },
    {
      "cell_type": "code",
      "execution_count": null,
      "id": "8ccd85c5",
      "metadata": {
        "id": "8ccd85c5",
        "outputId": "a95abfb2-ece9-41e0-e094-5904a48bf2e1"
      },
      "outputs": [
        {
          "name": "stdout",
          "output_type": "stream",
          "text": [
            "[1, 4, 5, 6, 8, 10, 11, 12, 18, 20, 29, 33]\n"
          ]
        }
      ],
      "source": [
        "print(bubble_sort(lista1))"
      ]
    }
  ],
  "metadata": {
    "kernelspec": {
      "display_name": "Python 3 (ipykernel)",
      "language": "python",
      "name": "python3"
    },
    "language_info": {
      "codemirror_mode": {
        "name": "ipython",
        "version": 3
      },
      "file_extension": ".py",
      "mimetype": "text/x-python",
      "name": "python",
      "nbconvert_exporter": "python",
      "pygments_lexer": "ipython3",
      "version": "3.9.13"
    },
    "colab": {
      "provenance": []
    }
  },
  "nbformat": 4,
  "nbformat_minor": 5
}